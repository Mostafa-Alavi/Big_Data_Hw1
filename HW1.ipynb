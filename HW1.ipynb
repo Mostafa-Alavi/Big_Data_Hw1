{
  "cells": [
    {
      "cell_type": "markdown",
      "metadata": {
        "id": "5wIe_NNFTYs_"
      },
      "source": [
        "# Data Mining Course Spark Exercise\n",
        "## Sharif University of Technology\n",
        "\n",
        "In this notebook we are going to analyze farsi wikipedia. \n",
        "Outline of the exercise:\n",
        "* Dataset preparation\n",
        "* Preprocessing (25 Points) \n",
        "* Exploration (20 Points) \n",
        "* TF-IDF + Search (55 Points)\n",
        "\n",
        "You should replace the `TODO` parts with your implementation. Remeber that each `TODO` may take multiple lines and you shouldn't limit your self to one-line codes.\n",
        "\n",
        "## Prerequisites\n",
        "You should be faimilar with [tf-idf](https://en.wikipedia.org/wiki/Tf%E2%80%93idf). In this notebook you should use the following formula for tf-idf:\n",
        "$$f_{t,d}/len(d) \\times log(1 + \\frac{N}{n_t})$$\n",
        "\n",
        "## Warning: RDD api only\n",
        "You **can not** use Dataframe, Dataset, mllib, ml, ... apis of spark in this exercise. You should only use the [RDD api](http://spark.apache.org/docs/2.1.0/api/python/pyspark.html#pyspark.RDD)."
      ]
    },
    {
      "cell_type": "markdown",
      "metadata": {
        "id": "mPC8u67dTYtA"
      },
      "source": [
        "# Section 0: Please enter your name below\n",
        "# Name: SEYED MOSTAFA ALAVI\n",
        "# Student Number: 401211363\n",
        "\n"
      ]
    },
    {
      "cell_type": "markdown",
      "metadata": {
        "id": "fjLWtOdITYtB"
      },
      "source": [
        "# Section 1: Dataset preparation\n",
        "\n",
        "This section of notebook contains only shell commands. You don't need to completely understand each command or change anything.\n",
        "\n",
        "Please run all the paragraphs sequentially."
      ]
    },
    {
      "cell_type": "code",
      "execution_count": 1,
      "metadata": {
        "colab": {
          "base_uri": "https://localhost:8080/"
        },
        "id": "Ezi5dS6YTYtC",
        "outputId": "1a1c063f-173b-42aa-9ba3-d89d428467d5"
      },
      "outputs": [
        {
          "name": "stdout",
          "output_type": "stream",
          "text": [
            "Reading package lists... Done\n",
            "Building dependency tree       \n",
            "Reading state information... Done\n",
            "git is already the newest version (1:2.17.1-1ubuntu0.13).\n",
            "wget is already the newest version (1.19.4-1ubuntu2.2).\n",
            "The following package was automatically installed and is no longer required:\n",
            "  libnvidia-common-460\n",
            "Use 'sudo apt autoremove' to remove it.\n",
            "0 upgraded, 0 newly installed, 0 to remove and 5 not upgraded.\n"
          ]
        }
      ],
      "source": [
        "! sudo apt-get -y install wget git"
      ]
    },
    {
      "cell_type": "markdown",
      "metadata": {
        "id": "eBbtThFKTYtD"
      },
      "source": [
        "## Download the dump"
      ]
    },
    {
      "cell_type": "code",
      "execution_count": 1,
      "metadata": {
        "colab": {
          "base_uri": "https://localhost:8080/"
        },
        "id": "_W08JzklTYtE",
        "outputId": "873fcfaf-e6c4-4596-d38a-ac837dde4bdd"
      },
      "outputs": [
        {
          "name": "stdout",
          "output_type": "stream",
          "text": [
            "--2022-11-17 23:26:24--  https://dumps.wikimedia.org/fawiki/latest/fawiki-latest-pages-articles-multistream.xml.bz2\n",
            "Resolving dumps.wikimedia.org (dumps.wikimedia.org)... 208.80.154.142, 2620:0:861:2:208:80:154:142\n",
            "Connecting to dumps.wikimedia.org (dumps.wikimedia.org)|208.80.154.142|:443... connected.\n",
            "HTTP request sent, awaiting response... 200 OK\n",
            "Length: 1114458404 (1.0G) [application/octet-stream]\n",
            "Saving to: ‘./fawiki-latest-pages-articles-multistream.xml.bz2’\n",
            "\n",
            "fawiki-latest-pages 100%[===================>]   1.04G  3.65MB/s    in 4m 23s  \n",
            "\n",
            "2022-11-17 23:30:49 (4.04 MB/s) - ‘./fawiki-latest-pages-articles-multistream.xml.bz2’ saved [1114458404/1114458404]\n",
            "\n"
          ]
        }
      ],
      "source": [
        "! wget --no-check-certificate -P . https://dumps.wikimedia.org/fawiki/latest/fawiki-latest-pages-articles-multistream.xml.bz2"
      ]
    },
    {
      "cell_type": "markdown",
      "metadata": {
        "id": "hP6Q0z6uTYtE"
      },
      "source": [
        "## Extract the dump (this may take a few minutes)"
      ]
    },
    {
      "cell_type": "code",
      "execution_count": 2,
      "metadata": {
        "id": "ZUlUk28VTYtF"
      },
      "outputs": [],
      "source": [
        "! bzip2 -d fawiki-latest-pages-articles-multistream.xml.bz2"
      ]
    },
    {
      "cell_type": "markdown",
      "metadata": {
        "id": "u4DCV5w5TYtF"
      },
      "source": [
        "## Clone git project for converting wikipedia xml dump to json"
      ]
    },
    {
      "cell_type": "code",
      "execution_count": 7,
      "metadata": {
        "id": "2fl4Fm5dTYtF"
      },
      "outputs": [
        {
          "name": "stdout",
          "output_type": "stream",
          "text": [
            "Defaulting to user installation because normal site-packages is not writeable\n",
            "Requirement already satisfied: wikiextractor in /home/mostafa/.local/lib/python3.10/site-packages (3.0.6)\n"
          ]
        }
      ],
      "source": [
        "! pip install wikiextractor"
      ]
    },
    {
      "cell_type": "markdown",
      "metadata": {
        "id": "l0jlwlM9TYtG"
      },
      "source": [
        "## Run the script to convert xml to json (this might take around 30 minutes)"
      ]
    },
    {
      "cell_type": "code",
      "execution_count": 9,
      "metadata": {
        "id": "_PspJR_ATYtG"
      },
      "outputs": [
        {
          "name": "stdout",
          "output_type": "stream",
          "text": [
            "INFO: Preprocessing 'fawiki-latest-pages-articles-multistream.xml' to collect template definitions: this may take some time.\n",
            "INFO: Preprocessed 100000 pages\n",
            "INFO: Preprocessed 200000 pages\n",
            "INFO: Preprocessed 300000 pages\n",
            "INFO: Preprocessed 400000 pages\n",
            "INFO: Preprocessed 500000 pages\n",
            "INFO: Preprocessed 600000 pages\n",
            "INFO: Preprocessed 700000 pages\n",
            "INFO: Preprocessed 800000 pages\n",
            "INFO: Preprocessed 900000 pages\n",
            "INFO: Preprocessed 1000000 pages\n",
            "INFO: Preprocessed 1100000 pages\n",
            "INFO: Preprocessed 1200000 pages\n",
            "INFO: Preprocessed 1300000 pages\n",
            "INFO: Preprocessed 1400000 pages\n",
            "INFO: Preprocessed 1500000 pages\n",
            "INFO: Preprocessed 1600000 pages\n",
            "INFO: Preprocessed 1700000 pages\n",
            "INFO: Preprocessed 1800000 pages\n",
            "INFO: Preprocessed 1900000 pages\n",
            "INFO: Preprocessed 2000000 pages\n",
            "INFO: Preprocessed 2100000 pages\n",
            "INFO: Preprocessed 2200000 pages\n",
            "INFO: Preprocessed 2300000 pages\n",
            "INFO: Preprocessed 2400000 pages\n",
            "INFO: Preprocessed 2500000 pages\n",
            "INFO: Preprocessed 2600000 pages\n",
            "INFO: Preprocessed 2700000 pages\n",
            "INFO: Preprocessed 2800000 pages\n",
            "INFO: Preprocessed 2900000 pages\n",
            "INFO: Preprocessed 3000000 pages\n",
            "INFO: Preprocessed 3100000 pages\n",
            "INFO: Preprocessed 3200000 pages\n",
            "INFO: Preprocessed 3300000 pages\n",
            "INFO: Preprocessed 3400000 pages\n",
            "INFO: Preprocessed 3500000 pages\n",
            "INFO: Preprocessed 3600000 pages\n",
            "INFO: Preprocessed 3700000 pages\n",
            "INFO: Loaded 165870 templates in 131.0s\n",
            "INFO: Starting page extraction from fawiki-latest-pages-articles-multistream.xml.\n",
            "INFO: Using 3 extract processes.\n",
            "INFO: Extracted 100000 articles (1987.7 art/s)\n",
            "INFO: Extracted 200000 articles (2764.3 art/s)\n",
            "INFO: Extracted 300000 articles (4568.7 art/s)\n",
            "INFO: Extracted 400000 articles (3632.0 art/s)\n",
            "INFO: Extracted 500000 articles (4161.9 art/s)\n",
            "INFO: Extracted 600000 articles (4973.7 art/s)\n",
            "INFO: Extracted 700000 articles (5319.4 art/s)\n",
            "INFO: Extracted 800000 articles (6196.0 art/s)\n",
            "INFO: Extracted 900000 articles (4191.7 art/s)\n",
            "INFO: Extracted 1000000 articles (5217.5 art/s)\n",
            "INFO: Extracted 1100000 articles (4239.3 art/s)\n",
            "INFO: Extracted 1200000 articles (5422.3 art/s)\n",
            "INFO: Extracted 1300000 articles (4806.1 art/s)\n",
            "INFO: Extracted 1400000 articles (4823.9 art/s)\n",
            "INFO: Extracted 1500000 articles (4067.3 art/s)\n",
            "INFO: Extracted 1600000 articles (5257.2 art/s)\n",
            "INFO: Extracted 1700000 articles (3666.9 art/s)\n",
            "INFO: Extracted 1800000 articles (4060.3 art/s)\n",
            "INFO: Extracted 1900000 articles (3851.8 art/s)\n",
            "INFO: Extracted 2000000 articles (3842.2 art/s)\n",
            "INFO: Extracted 2100000 articles (3188.3 art/s)\n",
            "INFO: Extracted 2200000 articles (3827.9 art/s)\n",
            "INFO: Extracted 2300000 articles (3998.4 art/s)\n",
            "INFO: Extracted 2400000 articles (3571.9 art/s)\n",
            "INFO: Extracted 2500000 articles (3537.1 art/s)\n",
            "INFO: Extracted 2600000 articles (3695.1 art/s)\n",
            "INFO: Extracted 2700000 articles (3584.2 art/s)\n",
            "INFO: Finished 3-process extraction of 2795591 articles in 714.1s (3914.8 art/s)\n"
          ]
        }
      ],
      "source": [
        "! python3 -m wikiextractor.WikiExtractor --json fawiki-latest-pages-articles-multistream.xml"
      ]
    },
    {
      "cell_type": "markdown",
      "metadata": {
        "id": "_NkdMpq4TYtH"
      },
      "source": [
        "## Ensure output files exist"
      ]
    },
    {
      "cell_type": "code",
      "execution_count": 10,
      "metadata": {
        "id": "ONN2PqvlTYtH"
      },
      "outputs": [
        {
          "name": "stdout",
          "output_type": "stream",
          "text": [
            "text/AA/wiki_00  text/AI/wiki_60  text/AR/wiki_20  text/AZ/wiki_80\n",
            "text/AA/wiki_01  text/AI/wiki_61  text/AR/wiki_21  text/AZ/wiki_81\n",
            "text/AA/wiki_02  text/AI/wiki_62  text/AR/wiki_22  text/AZ/wiki_82\n",
            "text/AA/wiki_03  text/AI/wiki_63  text/AR/wiki_23  text/AZ/wiki_83\n",
            "text/AA/wiki_04  text/AI/wiki_64  text/AR/wiki_24  text/AZ/wiki_84\n",
            "text/AA/wiki_05  text/AI/wiki_65  text/AR/wiki_25  text/AZ/wiki_85\n",
            "text/AA/wiki_06  text/AI/wiki_66  text/AR/wiki_26  text/AZ/wiki_86\n",
            "text/AA/wiki_07  text/AI/wiki_67  text/AR/wiki_27  text/AZ/wiki_87\n",
            "text/AA/wiki_08  text/AI/wiki_68  text/AR/wiki_28  text/AZ/wiki_88\n",
            "text/AA/wiki_09  text/AI/wiki_69  text/AR/wiki_29  text/AZ/wiki_89\n",
            "text/AA/wiki_10  text/AI/wiki_70  text/AR/wiki_30  text/AZ/wiki_90\n",
            "text/AA/wiki_11  text/AI/wiki_71  text/AR/wiki_31  text/AZ/wiki_91\n",
            "text/AA/wiki_12  text/AI/wiki_72  text/AR/wiki_32  text/AZ/wiki_92\n",
            "text/AA/wiki_13  text/AI/wiki_73  text/AR/wiki_33  text/AZ/wiki_93\n",
            "text/AA/wiki_14  text/AI/wiki_74  text/AR/wiki_34  text/AZ/wiki_94\n",
            "text/AA/wiki_15  text/AI/wiki_75  text/AR/wiki_35  text/AZ/wiki_95\n",
            "text/AA/wiki_16  text/AI/wiki_76  text/AR/wiki_36  text/AZ/wiki_96\n",
            "text/AA/wiki_17  text/AI/wiki_77  text/AR/wiki_37  text/AZ/wiki_97\n",
            "text/AA/wiki_18  text/AI/wiki_78  text/AR/wiki_38  text/AZ/wiki_98\n",
            "text/AA/wiki_19  text/AI/wiki_79  text/AR/wiki_39  text/AZ/wiki_99\n",
            "text/AA/wiki_20  text/AI/wiki_80  text/AR/wiki_40  text/BA/wiki_00\n",
            "text/AA/wiki_21  text/AI/wiki_81  text/AR/wiki_41  text/BA/wiki_01\n",
            "text/AA/wiki_22  text/AI/wiki_82  text/AR/wiki_42  text/BA/wiki_02\n",
            "text/AA/wiki_23  text/AI/wiki_83  text/AR/wiki_43  text/BA/wiki_03\n",
            "text/AA/wiki_24  text/AI/wiki_84  text/AR/wiki_44  text/BA/wiki_04\n",
            "text/AA/wiki_25  text/AI/wiki_85  text/AR/wiki_45  text/BA/wiki_05\n",
            "text/AA/wiki_26  text/AI/wiki_86  text/AR/wiki_46  text/BA/wiki_06\n",
            "text/AA/wiki_27  text/AI/wiki_87  text/AR/wiki_47  text/BA/wiki_07\n",
            "text/AA/wiki_28  text/AI/wiki_88  text/AR/wiki_48  text/BA/wiki_08\n",
            "text/AA/wiki_29  text/AI/wiki_89  text/AR/wiki_49  text/BA/wiki_09\n",
            "text/AA/wiki_30  text/AI/wiki_90  text/AR/wiki_50  text/BA/wiki_10\n",
            "text/AA/wiki_31  text/AI/wiki_91  text/AR/wiki_51  text/BA/wiki_11\n",
            "text/AA/wiki_32  text/AI/wiki_92  text/AR/wiki_52  text/BA/wiki_12\n",
            "text/AA/wiki_33  text/AI/wiki_93  text/AR/wiki_53  text/BA/wiki_13\n",
            "text/AA/wiki_34  text/AI/wiki_94  text/AR/wiki_54  text/BA/wiki_14\n",
            "text/AA/wiki_35  text/AI/wiki_95  text/AR/wiki_55  text/BA/wiki_15\n",
            "text/AA/wiki_36  text/AI/wiki_96  text/AR/wiki_56  text/BA/wiki_16\n",
            "text/AA/wiki_37  text/AI/wiki_97  text/AR/wiki_57  text/BA/wiki_17\n",
            "text/AA/wiki_38  text/AI/wiki_98  text/AR/wiki_58  text/BA/wiki_18\n",
            "text/AA/wiki_39  text/AI/wiki_99  text/AR/wiki_59  text/BA/wiki_19\n",
            "text/AA/wiki_40  text/AJ/wiki_00  text/AR/wiki_60  text/BA/wiki_20\n",
            "text/AA/wiki_41  text/AJ/wiki_01  text/AR/wiki_61  text/BA/wiki_21\n",
            "text/AA/wiki_42  text/AJ/wiki_02  text/AR/wiki_62  text/BA/wiki_22\n",
            "text/AA/wiki_43  text/AJ/wiki_03  text/AR/wiki_63  text/BA/wiki_23\n",
            "text/AA/wiki_44  text/AJ/wiki_04  text/AR/wiki_64  text/BA/wiki_24\n",
            "text/AA/wiki_45  text/AJ/wiki_05  text/AR/wiki_65  text/BA/wiki_25\n",
            "text/AA/wiki_46  text/AJ/wiki_06  text/AR/wiki_66  text/BA/wiki_26\n",
            "text/AA/wiki_47  text/AJ/wiki_07  text/AR/wiki_67  text/BA/wiki_27\n",
            "text/AA/wiki_48  text/AJ/wiki_08  text/AR/wiki_68  text/BA/wiki_28\n",
            "text/AA/wiki_49  text/AJ/wiki_09  text/AR/wiki_69  text/BA/wiki_29\n",
            "text/AA/wiki_50  text/AJ/wiki_10  text/AR/wiki_70  text/BA/wiki_30\n",
            "text/AA/wiki_51  text/AJ/wiki_11  text/AR/wiki_71  text/BA/wiki_31\n",
            "text/AA/wiki_52  text/AJ/wiki_12  text/AR/wiki_72  text/BA/wiki_32\n",
            "text/AA/wiki_53  text/AJ/wiki_13  text/AR/wiki_73  text/BA/wiki_33\n",
            "text/AA/wiki_54  text/AJ/wiki_14  text/AR/wiki_74  text/BA/wiki_34\n",
            "text/AA/wiki_55  text/AJ/wiki_15  text/AR/wiki_75  text/BA/wiki_35\n",
            "text/AA/wiki_56  text/AJ/wiki_16  text/AR/wiki_76  text/BA/wiki_36\n",
            "text/AA/wiki_57  text/AJ/wiki_17  text/AR/wiki_77  text/BA/wiki_37\n",
            "text/AA/wiki_58  text/AJ/wiki_18  text/AR/wiki_78  text/BA/wiki_38\n",
            "text/AA/wiki_59  text/AJ/wiki_19  text/AR/wiki_79  text/BA/wiki_39\n",
            "text/AA/wiki_60  text/AJ/wiki_20  text/AR/wiki_80  text/BA/wiki_40\n",
            "text/AA/wiki_61  text/AJ/wiki_21  text/AR/wiki_81  text/BA/wiki_41\n",
            "text/AA/wiki_62  text/AJ/wiki_22  text/AR/wiki_82  text/BA/wiki_42\n",
            "text/AA/wiki_63  text/AJ/wiki_23  text/AR/wiki_83  text/BA/wiki_43\n",
            "text/AA/wiki_64  text/AJ/wiki_24  text/AR/wiki_84  text/BA/wiki_44\n",
            "text/AA/wiki_65  text/AJ/wiki_25  text/AR/wiki_85  text/BA/wiki_45\n",
            "text/AA/wiki_66  text/AJ/wiki_26  text/AR/wiki_86  text/BA/wiki_46\n",
            "text/AA/wiki_67  text/AJ/wiki_27  text/AR/wiki_87  text/BA/wiki_47\n",
            "text/AA/wiki_68  text/AJ/wiki_28  text/AR/wiki_88  text/BA/wiki_48\n",
            "text/AA/wiki_69  text/AJ/wiki_29  text/AR/wiki_89  text/BA/wiki_49\n",
            "text/AA/wiki_70  text/AJ/wiki_30  text/AR/wiki_90  text/BA/wiki_50\n",
            "text/AA/wiki_71  text/AJ/wiki_31  text/AR/wiki_91  text/BA/wiki_51\n",
            "text/AA/wiki_72  text/AJ/wiki_32  text/AR/wiki_92  text/BA/wiki_52\n",
            "text/AA/wiki_73  text/AJ/wiki_33  text/AR/wiki_93  text/BA/wiki_53\n",
            "text/AA/wiki_74  text/AJ/wiki_34  text/AR/wiki_94  text/BA/wiki_54\n",
            "text/AA/wiki_75  text/AJ/wiki_35  text/AR/wiki_95  text/BA/wiki_55\n",
            "text/AA/wiki_76  text/AJ/wiki_36  text/AR/wiki_96  text/BA/wiki_56\n",
            "text/AA/wiki_77  text/AJ/wiki_37  text/AR/wiki_97  text/BA/wiki_57\n",
            "text/AA/wiki_78  text/AJ/wiki_38  text/AR/wiki_98  text/BA/wiki_58\n",
            "text/AA/wiki_79  text/AJ/wiki_39  text/AR/wiki_99  text/BA/wiki_59\n",
            "text/AA/wiki_80  text/AJ/wiki_40  text/AS/wiki_00  text/BA/wiki_60\n",
            "text/AA/wiki_81  text/AJ/wiki_41  text/AS/wiki_01  text/BA/wiki_61\n",
            "text/AA/wiki_82  text/AJ/wiki_42  text/AS/wiki_02  text/BA/wiki_62\n",
            "text/AA/wiki_83  text/AJ/wiki_43  text/AS/wiki_03  text/BA/wiki_63\n",
            "text/AA/wiki_84  text/AJ/wiki_44  text/AS/wiki_04  text/BA/wiki_64\n",
            "text/AA/wiki_85  text/AJ/wiki_45  text/AS/wiki_05  text/BA/wiki_65\n",
            "text/AA/wiki_86  text/AJ/wiki_46  text/AS/wiki_06  text/BA/wiki_66\n",
            "text/AA/wiki_87  text/AJ/wiki_47  text/AS/wiki_07  text/BA/wiki_67\n",
            "text/AA/wiki_88  text/AJ/wiki_48  text/AS/wiki_08  text/BA/wiki_68\n",
            "text/AA/wiki_89  text/AJ/wiki_49  text/AS/wiki_09  text/BA/wiki_69\n",
            "text/AA/wiki_90  text/AJ/wiki_50  text/AS/wiki_10  text/BA/wiki_70\n",
            "text/AA/wiki_91  text/AJ/wiki_51  text/AS/wiki_11  text/BA/wiki_71\n",
            "text/AA/wiki_92  text/AJ/wiki_52  text/AS/wiki_12  text/BA/wiki_72\n",
            "text/AA/wiki_93  text/AJ/wiki_53  text/AS/wiki_13  text/BA/wiki_73\n",
            "text/AA/wiki_94  text/AJ/wiki_54  text/AS/wiki_14  text/BA/wiki_74\n",
            "text/AA/wiki_95  text/AJ/wiki_55  text/AS/wiki_15  text/BA/wiki_75\n",
            "text/AA/wiki_96  text/AJ/wiki_56  text/AS/wiki_16  text/BA/wiki_76\n",
            "text/AA/wiki_97  text/AJ/wiki_57  text/AS/wiki_17  text/BA/wiki_77\n",
            "text/AA/wiki_98  text/AJ/wiki_58  text/AS/wiki_18  text/BA/wiki_78\n",
            "text/AA/wiki_99  text/AJ/wiki_59  text/AS/wiki_19  text/BA/wiki_79\n",
            "text/AB/wiki_00  text/AJ/wiki_60  text/AS/wiki_20  text/BA/wiki_80\n",
            "text/AB/wiki_01  text/AJ/wiki_61  text/AS/wiki_21  text/BA/wiki_81\n",
            "text/AB/wiki_02  text/AJ/wiki_62  text/AS/wiki_22  text/BA/wiki_82\n",
            "text/AB/wiki_03  text/AJ/wiki_63  text/AS/wiki_23  text/BA/wiki_83\n",
            "text/AB/wiki_04  text/AJ/wiki_64  text/AS/wiki_24  text/BA/wiki_84\n",
            "text/AB/wiki_05  text/AJ/wiki_65  text/AS/wiki_25  text/BA/wiki_85\n",
            "text/AB/wiki_06  text/AJ/wiki_66  text/AS/wiki_26  text/BA/wiki_86\n",
            "text/AB/wiki_07  text/AJ/wiki_67  text/AS/wiki_27  text/BA/wiki_87\n",
            "text/AB/wiki_08  text/AJ/wiki_68  text/AS/wiki_28  text/BA/wiki_88\n",
            "text/AB/wiki_09  text/AJ/wiki_69  text/AS/wiki_29  text/BA/wiki_89\n",
            "text/AB/wiki_10  text/AJ/wiki_70  text/AS/wiki_30  text/BA/wiki_90\n",
            "text/AB/wiki_11  text/AJ/wiki_71  text/AS/wiki_31  text/BA/wiki_91\n",
            "text/AB/wiki_12  text/AJ/wiki_72  text/AS/wiki_32  text/BA/wiki_92\n",
            "text/AB/wiki_13  text/AJ/wiki_73  text/AS/wiki_33  text/BA/wiki_93\n",
            "text/AB/wiki_14  text/AJ/wiki_74  text/AS/wiki_34  text/BA/wiki_94\n",
            "text/AB/wiki_15  text/AJ/wiki_75  text/AS/wiki_35  text/BA/wiki_95\n",
            "text/AB/wiki_16  text/AJ/wiki_76  text/AS/wiki_36  text/BA/wiki_96\n",
            "text/AB/wiki_17  text/AJ/wiki_77  text/AS/wiki_37  text/BA/wiki_97\n",
            "text/AB/wiki_18  text/AJ/wiki_78  text/AS/wiki_38  text/BA/wiki_98\n",
            "text/AB/wiki_19  text/AJ/wiki_79  text/AS/wiki_39  text/BA/wiki_99\n",
            "text/AB/wiki_20  text/AJ/wiki_80  text/AS/wiki_40  text/BB/wiki_00\n",
            "text/AB/wiki_21  text/AJ/wiki_81  text/AS/wiki_41  text/BB/wiki_01\n",
            "text/AB/wiki_22  text/AJ/wiki_82  text/AS/wiki_42  text/BB/wiki_02\n",
            "text/AB/wiki_23  text/AJ/wiki_83  text/AS/wiki_43  text/BB/wiki_03\n",
            "text/AB/wiki_24  text/AJ/wiki_84  text/AS/wiki_44  text/BB/wiki_04\n",
            "text/AB/wiki_25  text/AJ/wiki_85  text/AS/wiki_45  text/BB/wiki_05\n",
            "text/AB/wiki_26  text/AJ/wiki_86  text/AS/wiki_46  text/BB/wiki_06\n",
            "text/AB/wiki_27  text/AJ/wiki_87  text/AS/wiki_47  text/BB/wiki_07\n",
            "text/AB/wiki_28  text/AJ/wiki_88  text/AS/wiki_48  text/BB/wiki_08\n",
            "text/AB/wiki_29  text/AJ/wiki_89  text/AS/wiki_49  text/BB/wiki_09\n",
            "text/AB/wiki_30  text/AJ/wiki_90  text/AS/wiki_50  text/BB/wiki_10\n",
            "text/AB/wiki_31  text/AJ/wiki_91  text/AS/wiki_51  text/BB/wiki_11\n",
            "text/AB/wiki_32  text/AJ/wiki_92  text/AS/wiki_52  text/BB/wiki_12\n",
            "text/AB/wiki_33  text/AJ/wiki_93  text/AS/wiki_53  text/BB/wiki_13\n",
            "text/AB/wiki_34  text/AJ/wiki_94  text/AS/wiki_54  text/BB/wiki_14\n",
            "text/AB/wiki_35  text/AJ/wiki_95  text/AS/wiki_55  text/BB/wiki_15\n",
            "text/AB/wiki_36  text/AJ/wiki_96  text/AS/wiki_56  text/BB/wiki_16\n",
            "text/AB/wiki_37  text/AJ/wiki_97  text/AS/wiki_57  text/BB/wiki_17\n",
            "text/AB/wiki_38  text/AJ/wiki_98  text/AS/wiki_58  text/BB/wiki_18\n",
            "text/AB/wiki_39  text/AJ/wiki_99  text/AS/wiki_59  text/BB/wiki_19\n",
            "text/AB/wiki_40  text/AK/wiki_00  text/AS/wiki_60  text/BB/wiki_20\n",
            "text/AB/wiki_41  text/AK/wiki_01  text/AS/wiki_61  text/BB/wiki_21\n",
            "text/AB/wiki_42  text/AK/wiki_02  text/AS/wiki_62  text/BB/wiki_22\n",
            "text/AB/wiki_43  text/AK/wiki_03  text/AS/wiki_63  text/BB/wiki_23\n",
            "text/AB/wiki_44  text/AK/wiki_04  text/AS/wiki_64  text/BB/wiki_24\n",
            "text/AB/wiki_45  text/AK/wiki_05  text/AS/wiki_65  text/BB/wiki_25\n",
            "text/AB/wiki_46  text/AK/wiki_06  text/AS/wiki_66  text/BB/wiki_26\n",
            "text/AB/wiki_47  text/AK/wiki_07  text/AS/wiki_67  text/BB/wiki_27\n",
            "text/AB/wiki_48  text/AK/wiki_08  text/AS/wiki_68  text/BB/wiki_28\n",
            "text/AB/wiki_49  text/AK/wiki_09  text/AS/wiki_69  text/BB/wiki_29\n",
            "text/AB/wiki_50  text/AK/wiki_10  text/AS/wiki_70  text/BB/wiki_30\n",
            "text/AB/wiki_51  text/AK/wiki_11  text/AS/wiki_71  text/BB/wiki_31\n",
            "text/AB/wiki_52  text/AK/wiki_12  text/AS/wiki_72  text/BB/wiki_32\n",
            "text/AB/wiki_53  text/AK/wiki_13  text/AS/wiki_73  text/BB/wiki_33\n",
            "text/AB/wiki_54  text/AK/wiki_14  text/AS/wiki_74  text/BB/wiki_34\n",
            "text/AB/wiki_55  text/AK/wiki_15  text/AS/wiki_75  text/BB/wiki_35\n",
            "text/AB/wiki_56  text/AK/wiki_16  text/AS/wiki_76  text/BB/wiki_36\n",
            "text/AB/wiki_57  text/AK/wiki_17  text/AS/wiki_77  text/BB/wiki_37\n",
            "text/AB/wiki_58  text/AK/wiki_18  text/AS/wiki_78  text/BB/wiki_38\n",
            "text/AB/wiki_59  text/AK/wiki_19  text/AS/wiki_79  text/BB/wiki_39\n",
            "text/AB/wiki_60  text/AK/wiki_20  text/AS/wiki_80  text/BB/wiki_40\n",
            "text/AB/wiki_61  text/AK/wiki_21  text/AS/wiki_81  text/BB/wiki_41\n",
            "text/AB/wiki_62  text/AK/wiki_22  text/AS/wiki_82  text/BB/wiki_42\n",
            "text/AB/wiki_63  text/AK/wiki_23  text/AS/wiki_83  text/BB/wiki_43\n",
            "text/AB/wiki_64  text/AK/wiki_24  text/AS/wiki_84  text/BB/wiki_44\n",
            "text/AB/wiki_65  text/AK/wiki_25  text/AS/wiki_85  text/BB/wiki_45\n",
            "text/AB/wiki_66  text/AK/wiki_26  text/AS/wiki_86  text/BB/wiki_46\n",
            "text/AB/wiki_67  text/AK/wiki_27  text/AS/wiki_87  text/BB/wiki_47\n",
            "text/AB/wiki_68  text/AK/wiki_28  text/AS/wiki_88  text/BB/wiki_48\n",
            "text/AB/wiki_69  text/AK/wiki_29  text/AS/wiki_89  text/BB/wiki_49\n",
            "text/AB/wiki_70  text/AK/wiki_30  text/AS/wiki_90  text/BB/wiki_50\n",
            "text/AB/wiki_71  text/AK/wiki_31  text/AS/wiki_91  text/BB/wiki_51\n",
            "text/AB/wiki_72  text/AK/wiki_32  text/AS/wiki_92  text/BB/wiki_52\n",
            "text/AB/wiki_73  text/AK/wiki_33  text/AS/wiki_93  text/BB/wiki_53\n",
            "text/AB/wiki_74  text/AK/wiki_34  text/AS/wiki_94  text/BB/wiki_54\n",
            "text/AB/wiki_75  text/AK/wiki_35  text/AS/wiki_95  text/BB/wiki_55\n",
            "text/AB/wiki_76  text/AK/wiki_36  text/AS/wiki_96  text/BB/wiki_56\n",
            "text/AB/wiki_77  text/AK/wiki_37  text/AS/wiki_97  text/BB/wiki_57\n",
            "text/AB/wiki_78  text/AK/wiki_38  text/AS/wiki_98  text/BB/wiki_58\n",
            "text/AB/wiki_79  text/AK/wiki_39  text/AS/wiki_99  text/BB/wiki_59\n",
            "text/AB/wiki_80  text/AK/wiki_40  text/AT/wiki_00  text/BB/wiki_60\n",
            "text/AB/wiki_81  text/AK/wiki_41  text/AT/wiki_01  text/BB/wiki_61\n",
            "text/AB/wiki_82  text/AK/wiki_42  text/AT/wiki_02  text/BB/wiki_62\n",
            "text/AB/wiki_83  text/AK/wiki_43  text/AT/wiki_03  text/BB/wiki_63\n",
            "text/AB/wiki_84  text/AK/wiki_44  text/AT/wiki_04  text/BB/wiki_64\n",
            "text/AB/wiki_85  text/AK/wiki_45  text/AT/wiki_05  text/BB/wiki_65\n",
            "text/AB/wiki_86  text/AK/wiki_46  text/AT/wiki_06  text/BB/wiki_66\n",
            "text/AB/wiki_87  text/AK/wiki_47  text/AT/wiki_07  text/BB/wiki_67\n",
            "text/AB/wiki_88  text/AK/wiki_48  text/AT/wiki_08  text/BB/wiki_68\n",
            "text/AB/wiki_89  text/AK/wiki_49  text/AT/wiki_09  text/BB/wiki_69\n",
            "text/AB/wiki_90  text/AK/wiki_50  text/AT/wiki_10  text/BB/wiki_70\n",
            "text/AB/wiki_91  text/AK/wiki_51  text/AT/wiki_11  text/BB/wiki_71\n",
            "text/AB/wiki_92  text/AK/wiki_52  text/AT/wiki_12  text/BB/wiki_72\n",
            "text/AB/wiki_93  text/AK/wiki_53  text/AT/wiki_13  text/BB/wiki_73\n",
            "text/AB/wiki_94  text/AK/wiki_54  text/AT/wiki_14  text/BB/wiki_74\n",
            "text/AB/wiki_95  text/AK/wiki_55  text/AT/wiki_15  text/BB/wiki_75\n",
            "text/AB/wiki_96  text/AK/wiki_56  text/AT/wiki_16  text/BB/wiki_76\n",
            "text/AB/wiki_97  text/AK/wiki_57  text/AT/wiki_17  text/BB/wiki_77\n",
            "text/AB/wiki_98  text/AK/wiki_58  text/AT/wiki_18  text/BB/wiki_78\n",
            "text/AB/wiki_99  text/AK/wiki_59  text/AT/wiki_19  text/BB/wiki_79\n",
            "text/AC/wiki_00  text/AK/wiki_60  text/AT/wiki_20  text/BB/wiki_80\n",
            "text/AC/wiki_01  text/AK/wiki_61  text/AT/wiki_21  text/BB/wiki_81\n",
            "text/AC/wiki_02  text/AK/wiki_62  text/AT/wiki_22  text/BB/wiki_82\n",
            "text/AC/wiki_03  text/AK/wiki_63  text/AT/wiki_23  text/BB/wiki_83\n",
            "text/AC/wiki_04  text/AK/wiki_64  text/AT/wiki_24  text/BB/wiki_84\n",
            "text/AC/wiki_05  text/AK/wiki_65  text/AT/wiki_25  text/BB/wiki_85\n",
            "text/AC/wiki_06  text/AK/wiki_66  text/AT/wiki_26  text/BB/wiki_86\n",
            "text/AC/wiki_07  text/AK/wiki_67  text/AT/wiki_27  text/BB/wiki_87\n",
            "text/AC/wiki_08  text/AK/wiki_68  text/AT/wiki_28  text/BB/wiki_88\n",
            "text/AC/wiki_09  text/AK/wiki_69  text/AT/wiki_29  text/BB/wiki_89\n",
            "text/AC/wiki_10  text/AK/wiki_70  text/AT/wiki_30  text/BB/wiki_90\n",
            "text/AC/wiki_11  text/AK/wiki_71  text/AT/wiki_31  text/BB/wiki_91\n",
            "text/AC/wiki_12  text/AK/wiki_72  text/AT/wiki_32  text/BB/wiki_92\n",
            "text/AC/wiki_13  text/AK/wiki_73  text/AT/wiki_33  text/BB/wiki_93\n",
            "text/AC/wiki_14  text/AK/wiki_74  text/AT/wiki_34  text/BB/wiki_94\n",
            "text/AC/wiki_15  text/AK/wiki_75  text/AT/wiki_35  text/BB/wiki_95\n",
            "text/AC/wiki_16  text/AK/wiki_76  text/AT/wiki_36  text/BB/wiki_96\n",
            "text/AC/wiki_17  text/AK/wiki_77  text/AT/wiki_37  text/BB/wiki_97\n",
            "text/AC/wiki_18  text/AK/wiki_78  text/AT/wiki_38  text/BB/wiki_98\n",
            "text/AC/wiki_19  text/AK/wiki_79  text/AT/wiki_39  text/BB/wiki_99\n",
            "text/AC/wiki_20  text/AK/wiki_80  text/AT/wiki_40  text/BC/wiki_00\n",
            "text/AC/wiki_21  text/AK/wiki_81  text/AT/wiki_41  text/BC/wiki_01\n",
            "text/AC/wiki_22  text/AK/wiki_82  text/AT/wiki_42  text/BC/wiki_02\n",
            "text/AC/wiki_23  text/AK/wiki_83  text/AT/wiki_43  text/BC/wiki_03\n",
            "text/AC/wiki_24  text/AK/wiki_84  text/AT/wiki_44  text/BC/wiki_04\n",
            "text/AC/wiki_25  text/AK/wiki_85  text/AT/wiki_45  text/BC/wiki_05\n",
            "text/AC/wiki_26  text/AK/wiki_86  text/AT/wiki_46  text/BC/wiki_06\n",
            "text/AC/wiki_27  text/AK/wiki_87  text/AT/wiki_47  text/BC/wiki_07\n",
            "text/AC/wiki_28  text/AK/wiki_88  text/AT/wiki_48  text/BC/wiki_08\n",
            "text/AC/wiki_29  text/AK/wiki_89  text/AT/wiki_49  text/BC/wiki_09\n",
            "text/AC/wiki_30  text/AK/wiki_90  text/AT/wiki_50  text/BC/wiki_10\n",
            "text/AC/wiki_31  text/AK/wiki_91  text/AT/wiki_51  text/BC/wiki_11\n",
            "text/AC/wiki_32  text/AK/wiki_92  text/AT/wiki_52  text/BC/wiki_12\n",
            "text/AC/wiki_33  text/AK/wiki_93  text/AT/wiki_53  text/BC/wiki_13\n",
            "text/AC/wiki_34  text/AK/wiki_94  text/AT/wiki_54  text/BC/wiki_14\n",
            "text/AC/wiki_35  text/AK/wiki_95  text/AT/wiki_55  text/BC/wiki_15\n",
            "text/AC/wiki_36  text/AK/wiki_96  text/AT/wiki_56  text/BC/wiki_16\n",
            "text/AC/wiki_37  text/AK/wiki_97  text/AT/wiki_57  text/BC/wiki_17\n",
            "text/AC/wiki_38  text/AK/wiki_98  text/AT/wiki_58  text/BC/wiki_18\n",
            "text/AC/wiki_39  text/AK/wiki_99  text/AT/wiki_59  text/BC/wiki_19\n",
            "text/AC/wiki_40  text/AL/wiki_00  text/AT/wiki_60  text/BC/wiki_20\n",
            "text/AC/wiki_41  text/AL/wiki_01  text/AT/wiki_61  text/BC/wiki_21\n",
            "text/AC/wiki_42  text/AL/wiki_02  text/AT/wiki_62  text/BC/wiki_22\n",
            "text/AC/wiki_43  text/AL/wiki_03  text/AT/wiki_63  text/BC/wiki_23\n",
            "text/AC/wiki_44  text/AL/wiki_04  text/AT/wiki_64  text/BC/wiki_24\n",
            "text/AC/wiki_45  text/AL/wiki_05  text/AT/wiki_65  text/BC/wiki_25\n",
            "text/AC/wiki_46  text/AL/wiki_06  text/AT/wiki_66  text/BC/wiki_26\n",
            "text/AC/wiki_47  text/AL/wiki_07  text/AT/wiki_67  text/BC/wiki_27\n",
            "text/AC/wiki_48  text/AL/wiki_08  text/AT/wiki_68  text/BC/wiki_28\n",
            "text/AC/wiki_49  text/AL/wiki_09  text/AT/wiki_69  text/BC/wiki_29\n",
            "text/AC/wiki_50  text/AL/wiki_10  text/AT/wiki_70  text/BC/wiki_30\n",
            "text/AC/wiki_51  text/AL/wiki_11  text/AT/wiki_71  text/BC/wiki_31\n",
            "text/AC/wiki_52  text/AL/wiki_12  text/AT/wiki_72  text/BC/wiki_32\n",
            "text/AC/wiki_53  text/AL/wiki_13  text/AT/wiki_73  text/BC/wiki_33\n",
            "text/AC/wiki_54  text/AL/wiki_14  text/AT/wiki_74  text/BC/wiki_34\n",
            "text/AC/wiki_55  text/AL/wiki_15  text/AT/wiki_75  text/BC/wiki_35\n",
            "text/AC/wiki_56  text/AL/wiki_16  text/AT/wiki_76  text/BC/wiki_36\n",
            "text/AC/wiki_57  text/AL/wiki_17  text/AT/wiki_77  text/BC/wiki_37\n",
            "text/AC/wiki_58  text/AL/wiki_18  text/AT/wiki_78  text/BC/wiki_38\n",
            "text/AC/wiki_59  text/AL/wiki_19  text/AT/wiki_79  text/BC/wiki_39\n",
            "text/AC/wiki_60  text/AL/wiki_20  text/AT/wiki_80  text/BC/wiki_40\n",
            "text/AC/wiki_61  text/AL/wiki_21  text/AT/wiki_81  text/BC/wiki_41\n",
            "text/AC/wiki_62  text/AL/wiki_22  text/AT/wiki_82  text/BC/wiki_42\n",
            "text/AC/wiki_63  text/AL/wiki_23  text/AT/wiki_83  text/BC/wiki_43\n",
            "text/AC/wiki_64  text/AL/wiki_24  text/AT/wiki_84  text/BC/wiki_44\n",
            "text/AC/wiki_65  text/AL/wiki_25  text/AT/wiki_85  text/BC/wiki_45\n",
            "text/AC/wiki_66  text/AL/wiki_26  text/AT/wiki_86  text/BC/wiki_46\n",
            "text/AC/wiki_67  text/AL/wiki_27  text/AT/wiki_87  text/BC/wiki_47\n",
            "text/AC/wiki_68  text/AL/wiki_28  text/AT/wiki_88  text/BC/wiki_48\n",
            "text/AC/wiki_69  text/AL/wiki_29  text/AT/wiki_89  text/BC/wiki_49\n",
            "text/AC/wiki_70  text/AL/wiki_30  text/AT/wiki_90  text/BC/wiki_50\n",
            "text/AC/wiki_71  text/AL/wiki_31  text/AT/wiki_91  text/BC/wiki_51\n",
            "text/AC/wiki_72  text/AL/wiki_32  text/AT/wiki_92  text/BC/wiki_52\n",
            "text/AC/wiki_73  text/AL/wiki_33  text/AT/wiki_93  text/BC/wiki_53\n",
            "text/AC/wiki_74  text/AL/wiki_34  text/AT/wiki_94  text/BC/wiki_54\n",
            "text/AC/wiki_75  text/AL/wiki_35  text/AT/wiki_95  text/BC/wiki_55\n",
            "text/AC/wiki_76  text/AL/wiki_36  text/AT/wiki_96  text/BC/wiki_56\n",
            "text/AC/wiki_77  text/AL/wiki_37  text/AT/wiki_97  text/BC/wiki_57\n",
            "text/AC/wiki_78  text/AL/wiki_38  text/AT/wiki_98  text/BC/wiki_58\n",
            "text/AC/wiki_79  text/AL/wiki_39  text/AT/wiki_99  text/BC/wiki_59\n",
            "text/AC/wiki_80  text/AL/wiki_40  text/AU/wiki_00  text/BC/wiki_60\n",
            "text/AC/wiki_81  text/AL/wiki_41  text/AU/wiki_01  text/BC/wiki_61\n",
            "text/AC/wiki_82  text/AL/wiki_42  text/AU/wiki_02  text/BC/wiki_62\n",
            "text/AC/wiki_83  text/AL/wiki_43  text/AU/wiki_03  text/BC/wiki_63\n",
            "text/AC/wiki_84  text/AL/wiki_44  text/AU/wiki_04  text/BC/wiki_64\n",
            "text/AC/wiki_85  text/AL/wiki_45  text/AU/wiki_05  text/BC/wiki_65\n",
            "text/AC/wiki_86  text/AL/wiki_46  text/AU/wiki_06  text/BC/wiki_66\n",
            "text/AC/wiki_87  text/AL/wiki_47  text/AU/wiki_07  text/BC/wiki_67\n",
            "text/AC/wiki_88  text/AL/wiki_48  text/AU/wiki_08  text/BC/wiki_68\n",
            "text/AC/wiki_89  text/AL/wiki_49  text/AU/wiki_09  text/BC/wiki_69\n",
            "text/AC/wiki_90  text/AL/wiki_50  text/AU/wiki_10  text/BC/wiki_70\n",
            "text/AC/wiki_91  text/AL/wiki_51  text/AU/wiki_11  text/BC/wiki_71\n",
            "text/AC/wiki_92  text/AL/wiki_52  text/AU/wiki_12  text/BC/wiki_72\n",
            "text/AC/wiki_93  text/AL/wiki_53  text/AU/wiki_13  text/BC/wiki_73\n",
            "text/AC/wiki_94  text/AL/wiki_54  text/AU/wiki_14  text/BC/wiki_74\n",
            "text/AC/wiki_95  text/AL/wiki_55  text/AU/wiki_15  text/BC/wiki_75\n",
            "text/AC/wiki_96  text/AL/wiki_56  text/AU/wiki_16  text/BC/wiki_76\n",
            "text/AC/wiki_97  text/AL/wiki_57  text/AU/wiki_17  text/BC/wiki_77\n",
            "text/AC/wiki_98  text/AL/wiki_58  text/AU/wiki_18  text/BC/wiki_78\n",
            "text/AC/wiki_99  text/AL/wiki_59  text/AU/wiki_19  text/BC/wiki_79\n",
            "text/AD/wiki_00  text/AL/wiki_60  text/AU/wiki_20  text/BC/wiki_80\n",
            "text/AD/wiki_01  text/AL/wiki_61  text/AU/wiki_21  text/BC/wiki_81\n",
            "text/AD/wiki_02  text/AL/wiki_62  text/AU/wiki_22  text/BC/wiki_82\n",
            "text/AD/wiki_03  text/AL/wiki_63  text/AU/wiki_23  text/BC/wiki_83\n",
            "text/AD/wiki_04  text/AL/wiki_64  text/AU/wiki_24  text/BC/wiki_84\n",
            "text/AD/wiki_05  text/AL/wiki_65  text/AU/wiki_25  text/BC/wiki_85\n",
            "text/AD/wiki_06  text/AL/wiki_66  text/AU/wiki_26  text/BC/wiki_86\n",
            "text/AD/wiki_07  text/AL/wiki_67  text/AU/wiki_27  text/BC/wiki_87\n",
            "text/AD/wiki_08  text/AL/wiki_68  text/AU/wiki_28  text/BC/wiki_88\n",
            "text/AD/wiki_09  text/AL/wiki_69  text/AU/wiki_29  text/BC/wiki_89\n",
            "text/AD/wiki_10  text/AL/wiki_70  text/AU/wiki_30  text/BC/wiki_90\n",
            "text/AD/wiki_11  text/AL/wiki_71  text/AU/wiki_31  text/BC/wiki_91\n",
            "text/AD/wiki_12  text/AL/wiki_72  text/AU/wiki_32  text/BC/wiki_92\n",
            "text/AD/wiki_13  text/AL/wiki_73  text/AU/wiki_33  text/BC/wiki_93\n",
            "text/AD/wiki_14  text/AL/wiki_74  text/AU/wiki_34  text/BC/wiki_94\n",
            "text/AD/wiki_15  text/AL/wiki_75  text/AU/wiki_35  text/BC/wiki_95\n",
            "text/AD/wiki_16  text/AL/wiki_76  text/AU/wiki_36  text/BC/wiki_96\n",
            "text/AD/wiki_17  text/AL/wiki_77  text/AU/wiki_37  text/BC/wiki_97\n",
            "text/AD/wiki_18  text/AL/wiki_78  text/AU/wiki_38  text/BC/wiki_98\n",
            "text/AD/wiki_19  text/AL/wiki_79  text/AU/wiki_39  text/BC/wiki_99\n",
            "text/AD/wiki_20  text/AL/wiki_80  text/AU/wiki_40  text/BD/wiki_00\n",
            "text/AD/wiki_21  text/AL/wiki_81  text/AU/wiki_41  text/BD/wiki_01\n",
            "text/AD/wiki_22  text/AL/wiki_82  text/AU/wiki_42  text/BD/wiki_02\n",
            "text/AD/wiki_23  text/AL/wiki_83  text/AU/wiki_43  text/BD/wiki_03\n",
            "text/AD/wiki_24  text/AL/wiki_84  text/AU/wiki_44  text/BD/wiki_04\n",
            "text/AD/wiki_25  text/AL/wiki_85  text/AU/wiki_45  text/BD/wiki_05\n",
            "text/AD/wiki_26  text/AL/wiki_86  text/AU/wiki_46  text/BD/wiki_06\n",
            "text/AD/wiki_27  text/AL/wiki_87  text/AU/wiki_47  text/BD/wiki_07\n",
            "text/AD/wiki_28  text/AL/wiki_88  text/AU/wiki_48  text/BD/wiki_08\n",
            "text/AD/wiki_29  text/AL/wiki_89  text/AU/wiki_49  text/BD/wiki_09\n",
            "text/AD/wiki_30  text/AL/wiki_90  text/AU/wiki_50  text/BD/wiki_10\n",
            "text/AD/wiki_31  text/AL/wiki_91  text/AU/wiki_51  text/BD/wiki_11\n",
            "text/AD/wiki_32  text/AL/wiki_92  text/AU/wiki_52  text/BD/wiki_12\n",
            "text/AD/wiki_33  text/AL/wiki_93  text/AU/wiki_53  text/BD/wiki_13\n",
            "text/AD/wiki_34  text/AL/wiki_94  text/AU/wiki_54  text/BD/wiki_14\n",
            "text/AD/wiki_35  text/AL/wiki_95  text/AU/wiki_55  text/BD/wiki_15\n",
            "text/AD/wiki_36  text/AL/wiki_96  text/AU/wiki_56  text/BD/wiki_16\n",
            "text/AD/wiki_37  text/AL/wiki_97  text/AU/wiki_57  text/BD/wiki_17\n",
            "text/AD/wiki_38  text/AL/wiki_98  text/AU/wiki_58  text/BD/wiki_18\n",
            "text/AD/wiki_39  text/AL/wiki_99  text/AU/wiki_59  text/BD/wiki_19\n",
            "text/AD/wiki_40  text/AM/wiki_00  text/AU/wiki_60  text/BD/wiki_20\n",
            "text/AD/wiki_41  text/AM/wiki_01  text/AU/wiki_61  text/BD/wiki_21\n",
            "text/AD/wiki_42  text/AM/wiki_02  text/AU/wiki_62  text/BD/wiki_22\n",
            "text/AD/wiki_43  text/AM/wiki_03  text/AU/wiki_63  text/BD/wiki_23\n",
            "text/AD/wiki_44  text/AM/wiki_04  text/AU/wiki_64  text/BD/wiki_24\n",
            "text/AD/wiki_45  text/AM/wiki_05  text/AU/wiki_65  text/BD/wiki_25\n",
            "text/AD/wiki_46  text/AM/wiki_06  text/AU/wiki_66  text/BD/wiki_26\n",
            "text/AD/wiki_47  text/AM/wiki_07  text/AU/wiki_67  text/BD/wiki_27\n",
            "text/AD/wiki_48  text/AM/wiki_08  text/AU/wiki_68  text/BD/wiki_28\n",
            "text/AD/wiki_49  text/AM/wiki_09  text/AU/wiki_69  text/BD/wiki_29\n",
            "text/AD/wiki_50  text/AM/wiki_10  text/AU/wiki_70  text/BD/wiki_30\n",
            "text/AD/wiki_51  text/AM/wiki_11  text/AU/wiki_71  text/BD/wiki_31\n",
            "text/AD/wiki_52  text/AM/wiki_12  text/AU/wiki_72  text/BD/wiki_32\n",
            "text/AD/wiki_53  text/AM/wiki_13  text/AU/wiki_73  text/BD/wiki_33\n",
            "text/AD/wiki_54  text/AM/wiki_14  text/AU/wiki_74  text/BD/wiki_34\n",
            "text/AD/wiki_55  text/AM/wiki_15  text/AU/wiki_75  text/BD/wiki_35\n",
            "text/AD/wiki_56  text/AM/wiki_16  text/AU/wiki_76  text/BD/wiki_36\n",
            "text/AD/wiki_57  text/AM/wiki_17  text/AU/wiki_77  text/BD/wiki_37\n",
            "text/AD/wiki_58  text/AM/wiki_18  text/AU/wiki_78  text/BD/wiki_38\n",
            "text/AD/wiki_59  text/AM/wiki_19  text/AU/wiki_79  text/BD/wiki_39\n",
            "text/AD/wiki_60  text/AM/wiki_20  text/AU/wiki_80  text/BD/wiki_40\n",
            "text/AD/wiki_61  text/AM/wiki_21  text/AU/wiki_81  text/BD/wiki_41\n",
            "text/AD/wiki_62  text/AM/wiki_22  text/AU/wiki_82  text/BD/wiki_42\n",
            "text/AD/wiki_63  text/AM/wiki_23  text/AU/wiki_83  text/BD/wiki_43\n",
            "text/AD/wiki_64  text/AM/wiki_24  text/AU/wiki_84  text/BD/wiki_44\n",
            "text/AD/wiki_65  text/AM/wiki_25  text/AU/wiki_85  text/BD/wiki_45\n",
            "text/AD/wiki_66  text/AM/wiki_26  text/AU/wiki_86  text/BD/wiki_46\n",
            "text/AD/wiki_67  text/AM/wiki_27  text/AU/wiki_87  text/BD/wiki_47\n",
            "text/AD/wiki_68  text/AM/wiki_28  text/AU/wiki_88  text/BD/wiki_48\n",
            "text/AD/wiki_69  text/AM/wiki_29  text/AU/wiki_89  text/BD/wiki_49\n",
            "text/AD/wiki_70  text/AM/wiki_30  text/AU/wiki_90  text/BD/wiki_50\n",
            "text/AD/wiki_71  text/AM/wiki_31  text/AU/wiki_91  text/BD/wiki_51\n",
            "text/AD/wiki_72  text/AM/wiki_32  text/AU/wiki_92  text/BD/wiki_52\n",
            "text/AD/wiki_73  text/AM/wiki_33  text/AU/wiki_93  text/BD/wiki_53\n",
            "text/AD/wiki_74  text/AM/wiki_34  text/AU/wiki_94  text/BD/wiki_54\n",
            "text/AD/wiki_75  text/AM/wiki_35  text/AU/wiki_95  text/BD/wiki_55\n",
            "text/AD/wiki_76  text/AM/wiki_36  text/AU/wiki_96  text/BD/wiki_56\n",
            "text/AD/wiki_77  text/AM/wiki_37  text/AU/wiki_97  text/BD/wiki_57\n",
            "text/AD/wiki_78  text/AM/wiki_38  text/AU/wiki_98  text/BD/wiki_58\n",
            "text/AD/wiki_79  text/AM/wiki_39  text/AU/wiki_99  text/BD/wiki_59\n",
            "text/AD/wiki_80  text/AM/wiki_40  text/AV/wiki_00  text/BD/wiki_60\n",
            "text/AD/wiki_81  text/AM/wiki_41  text/AV/wiki_01  text/BD/wiki_61\n",
            "text/AD/wiki_82  text/AM/wiki_42  text/AV/wiki_02  text/BD/wiki_62\n",
            "text/AD/wiki_83  text/AM/wiki_43  text/AV/wiki_03  text/BD/wiki_63\n",
            "text/AD/wiki_84  text/AM/wiki_44  text/AV/wiki_04  text/BD/wiki_64\n",
            "text/AD/wiki_85  text/AM/wiki_45  text/AV/wiki_05  text/BD/wiki_65\n",
            "text/AD/wiki_86  text/AM/wiki_46  text/AV/wiki_06  text/BD/wiki_66\n",
            "text/AD/wiki_87  text/AM/wiki_47  text/AV/wiki_07  text/BD/wiki_67\n",
            "text/AD/wiki_88  text/AM/wiki_48  text/AV/wiki_08  text/BD/wiki_68\n",
            "text/AD/wiki_89  text/AM/wiki_49  text/AV/wiki_09  text/BD/wiki_69\n",
            "text/AD/wiki_90  text/AM/wiki_50  text/AV/wiki_10  text/BD/wiki_70\n",
            "text/AD/wiki_91  text/AM/wiki_51  text/AV/wiki_11  text/BD/wiki_71\n",
            "text/AD/wiki_92  text/AM/wiki_52  text/AV/wiki_12  text/BD/wiki_72\n",
            "text/AD/wiki_93  text/AM/wiki_53  text/AV/wiki_13  text/BD/wiki_73\n",
            "text/AD/wiki_94  text/AM/wiki_54  text/AV/wiki_14  text/BD/wiki_74\n",
            "text/AD/wiki_95  text/AM/wiki_55  text/AV/wiki_15  text/BD/wiki_75\n",
            "text/AD/wiki_96  text/AM/wiki_56  text/AV/wiki_16  text/BD/wiki_76\n",
            "text/AD/wiki_97  text/AM/wiki_57  text/AV/wiki_17  text/BD/wiki_77\n",
            "text/AD/wiki_98  text/AM/wiki_58  text/AV/wiki_18  text/BD/wiki_78\n",
            "text/AD/wiki_99  text/AM/wiki_59  text/AV/wiki_19  text/BD/wiki_79\n",
            "text/AE/wiki_00  text/AM/wiki_60  text/AV/wiki_20  text/BD/wiki_80\n",
            "text/AE/wiki_01  text/AM/wiki_61  text/AV/wiki_21  text/BD/wiki_81\n",
            "text/AE/wiki_02  text/AM/wiki_62  text/AV/wiki_22  text/BD/wiki_82\n",
            "text/AE/wiki_03  text/AM/wiki_63  text/AV/wiki_23  text/BD/wiki_83\n",
            "text/AE/wiki_04  text/AM/wiki_64  text/AV/wiki_24  text/BD/wiki_84\n",
            "text/AE/wiki_05  text/AM/wiki_65  text/AV/wiki_25  text/BD/wiki_85\n",
            "text/AE/wiki_06  text/AM/wiki_66  text/AV/wiki_26  text/BD/wiki_86\n",
            "text/AE/wiki_07  text/AM/wiki_67  text/AV/wiki_27  text/BD/wiki_87\n",
            "text/AE/wiki_08  text/AM/wiki_68  text/AV/wiki_28  text/BD/wiki_88\n",
            "text/AE/wiki_09  text/AM/wiki_69  text/AV/wiki_29  text/BD/wiki_89\n",
            "text/AE/wiki_10  text/AM/wiki_70  text/AV/wiki_30  text/BD/wiki_90\n",
            "text/AE/wiki_11  text/AM/wiki_71  text/AV/wiki_31  text/BD/wiki_91\n",
            "text/AE/wiki_12  text/AM/wiki_72  text/AV/wiki_32  text/BD/wiki_92\n",
            "text/AE/wiki_13  text/AM/wiki_73  text/AV/wiki_33  text/BD/wiki_93\n",
            "text/AE/wiki_14  text/AM/wiki_74  text/AV/wiki_34  text/BD/wiki_94\n",
            "text/AE/wiki_15  text/AM/wiki_75  text/AV/wiki_35  text/BD/wiki_95\n",
            "text/AE/wiki_16  text/AM/wiki_76  text/AV/wiki_36  text/BD/wiki_96\n",
            "text/AE/wiki_17  text/AM/wiki_77  text/AV/wiki_37  text/BD/wiki_97\n",
            "text/AE/wiki_18  text/AM/wiki_78  text/AV/wiki_38  text/BD/wiki_98\n",
            "text/AE/wiki_19  text/AM/wiki_79  text/AV/wiki_39  text/BD/wiki_99\n",
            "text/AE/wiki_20  text/AM/wiki_80  text/AV/wiki_40  text/BE/wiki_00\n",
            "text/AE/wiki_21  text/AM/wiki_81  text/AV/wiki_41  text/BE/wiki_01\n",
            "text/AE/wiki_22  text/AM/wiki_82  text/AV/wiki_42  text/BE/wiki_02\n",
            "text/AE/wiki_23  text/AM/wiki_83  text/AV/wiki_43  text/BE/wiki_03\n",
            "text/AE/wiki_24  text/AM/wiki_84  text/AV/wiki_44  text/BE/wiki_04\n",
            "text/AE/wiki_25  text/AM/wiki_85  text/AV/wiki_45  text/BE/wiki_05\n",
            "text/AE/wiki_26  text/AM/wiki_86  text/AV/wiki_46  text/BE/wiki_06\n",
            "text/AE/wiki_27  text/AM/wiki_87  text/AV/wiki_47  text/BE/wiki_07\n",
            "text/AE/wiki_28  text/AM/wiki_88  text/AV/wiki_48  text/BE/wiki_08\n",
            "text/AE/wiki_29  text/AM/wiki_89  text/AV/wiki_49  text/BE/wiki_09\n",
            "text/AE/wiki_30  text/AM/wiki_90  text/AV/wiki_50  text/BE/wiki_10\n",
            "text/AE/wiki_31  text/AM/wiki_91  text/AV/wiki_51  text/BE/wiki_11\n",
            "text/AE/wiki_32  text/AM/wiki_92  text/AV/wiki_52  text/BE/wiki_12\n",
            "text/AE/wiki_33  text/AM/wiki_93  text/AV/wiki_53  text/BE/wiki_13\n",
            "text/AE/wiki_34  text/AM/wiki_94  text/AV/wiki_54  text/BE/wiki_14\n",
            "text/AE/wiki_35  text/AM/wiki_95  text/AV/wiki_55  text/BE/wiki_15\n",
            "text/AE/wiki_36  text/AM/wiki_96  text/AV/wiki_56  text/BE/wiki_16\n",
            "text/AE/wiki_37  text/AM/wiki_97  text/AV/wiki_57  text/BE/wiki_17\n",
            "text/AE/wiki_38  text/AM/wiki_98  text/AV/wiki_58  text/BE/wiki_18\n",
            "text/AE/wiki_39  text/AM/wiki_99  text/AV/wiki_59  text/BE/wiki_19\n",
            "text/AE/wiki_40  text/AN/wiki_00  text/AV/wiki_60  text/BE/wiki_20\n",
            "text/AE/wiki_41  text/AN/wiki_01  text/AV/wiki_61  text/BE/wiki_21\n",
            "text/AE/wiki_42  text/AN/wiki_02  text/AV/wiki_62  text/BE/wiki_22\n",
            "text/AE/wiki_43  text/AN/wiki_03  text/AV/wiki_63  text/BE/wiki_23\n",
            "text/AE/wiki_44  text/AN/wiki_04  text/AV/wiki_64  text/BE/wiki_24\n",
            "text/AE/wiki_45  text/AN/wiki_05  text/AV/wiki_65  text/BE/wiki_25\n",
            "text/AE/wiki_46  text/AN/wiki_06  text/AV/wiki_66  text/BE/wiki_26\n",
            "text/AE/wiki_47  text/AN/wiki_07  text/AV/wiki_67  text/BE/wiki_27\n",
            "text/AE/wiki_48  text/AN/wiki_08  text/AV/wiki_68  text/BE/wiki_28\n",
            "text/AE/wiki_49  text/AN/wiki_09  text/AV/wiki_69  text/BE/wiki_29\n",
            "text/AE/wiki_50  text/AN/wiki_10  text/AV/wiki_70  text/BE/wiki_30\n",
            "text/AE/wiki_51  text/AN/wiki_11  text/AV/wiki_71  text/BE/wiki_31\n",
            "text/AE/wiki_52  text/AN/wiki_12  text/AV/wiki_72  text/BE/wiki_32\n",
            "text/AE/wiki_53  text/AN/wiki_13  text/AV/wiki_73  text/BE/wiki_33\n",
            "text/AE/wiki_54  text/AN/wiki_14  text/AV/wiki_74  text/BE/wiki_34\n",
            "text/AE/wiki_55  text/AN/wiki_15  text/AV/wiki_75  text/BE/wiki_35\n",
            "text/AE/wiki_56  text/AN/wiki_16  text/AV/wiki_76  text/BE/wiki_36\n",
            "text/AE/wiki_57  text/AN/wiki_17  text/AV/wiki_77  text/BE/wiki_37\n",
            "text/AE/wiki_58  text/AN/wiki_18  text/AV/wiki_78  text/BE/wiki_38\n",
            "text/AE/wiki_59  text/AN/wiki_19  text/AV/wiki_79  text/BE/wiki_39\n",
            "text/AE/wiki_60  text/AN/wiki_20  text/AV/wiki_80  text/BE/wiki_40\n",
            "text/AE/wiki_61  text/AN/wiki_21  text/AV/wiki_81  text/BE/wiki_41\n",
            "text/AE/wiki_62  text/AN/wiki_22  text/AV/wiki_82  text/BE/wiki_42\n",
            "text/AE/wiki_63  text/AN/wiki_23  text/AV/wiki_83  text/BE/wiki_43\n",
            "text/AE/wiki_64  text/AN/wiki_24  text/AV/wiki_84  text/BE/wiki_44\n",
            "text/AE/wiki_65  text/AN/wiki_25  text/AV/wiki_85  text/BE/wiki_45\n",
            "text/AE/wiki_66  text/AN/wiki_26  text/AV/wiki_86  text/BE/wiki_46\n",
            "text/AE/wiki_67  text/AN/wiki_27  text/AV/wiki_87  text/BE/wiki_47\n",
            "text/AE/wiki_68  text/AN/wiki_28  text/AV/wiki_88  text/BE/wiki_48\n",
            "text/AE/wiki_69  text/AN/wiki_29  text/AV/wiki_89  text/BE/wiki_49\n",
            "text/AE/wiki_70  text/AN/wiki_30  text/AV/wiki_90  text/BE/wiki_50\n",
            "text/AE/wiki_71  text/AN/wiki_31  text/AV/wiki_91  text/BE/wiki_51\n",
            "text/AE/wiki_72  text/AN/wiki_32  text/AV/wiki_92  text/BE/wiki_52\n",
            "text/AE/wiki_73  text/AN/wiki_33  text/AV/wiki_93  text/BE/wiki_53\n",
            "text/AE/wiki_74  text/AN/wiki_34  text/AV/wiki_94  text/BE/wiki_54\n",
            "text/AE/wiki_75  text/AN/wiki_35  text/AV/wiki_95  text/BE/wiki_55\n",
            "text/AE/wiki_76  text/AN/wiki_36  text/AV/wiki_96  text/BE/wiki_56\n",
            "text/AE/wiki_77  text/AN/wiki_37  text/AV/wiki_97  text/BE/wiki_57\n",
            "text/AE/wiki_78  text/AN/wiki_38  text/AV/wiki_98  text/BE/wiki_58\n",
            "text/AE/wiki_79  text/AN/wiki_39  text/AV/wiki_99  text/BE/wiki_59\n",
            "text/AE/wiki_80  text/AN/wiki_40  text/AW/wiki_00  text/BE/wiki_60\n",
            "text/AE/wiki_81  text/AN/wiki_41  text/AW/wiki_01  text/BE/wiki_61\n",
            "text/AE/wiki_82  text/AN/wiki_42  text/AW/wiki_02  text/BE/wiki_62\n",
            "text/AE/wiki_83  text/AN/wiki_43  text/AW/wiki_03  text/BE/wiki_63\n",
            "text/AE/wiki_84  text/AN/wiki_44  text/AW/wiki_04  text/BE/wiki_64\n",
            "text/AE/wiki_85  text/AN/wiki_45  text/AW/wiki_05  text/BE/wiki_65\n",
            "text/AE/wiki_86  text/AN/wiki_46  text/AW/wiki_06  text/BE/wiki_66\n",
            "text/AE/wiki_87  text/AN/wiki_47  text/AW/wiki_07  text/BE/wiki_67\n",
            "text/AE/wiki_88  text/AN/wiki_48  text/AW/wiki_08  text/BE/wiki_68\n",
            "text/AE/wiki_89  text/AN/wiki_49  text/AW/wiki_09  text/BE/wiki_69\n",
            "text/AE/wiki_90  text/AN/wiki_50  text/AW/wiki_10  text/BE/wiki_70\n",
            "text/AE/wiki_91  text/AN/wiki_51  text/AW/wiki_11  text/BE/wiki_71\n",
            "text/AE/wiki_92  text/AN/wiki_52  text/AW/wiki_12  text/BE/wiki_72\n",
            "text/AE/wiki_93  text/AN/wiki_53  text/AW/wiki_13  text/BE/wiki_73\n",
            "text/AE/wiki_94  text/AN/wiki_54  text/AW/wiki_14  text/BE/wiki_74\n",
            "text/AE/wiki_95  text/AN/wiki_55  text/AW/wiki_15  text/BE/wiki_75\n",
            "text/AE/wiki_96  text/AN/wiki_56  text/AW/wiki_16  text/BE/wiki_76\n",
            "text/AE/wiki_97  text/AN/wiki_57  text/AW/wiki_17  text/BE/wiki_77\n",
            "text/AE/wiki_98  text/AN/wiki_58  text/AW/wiki_18  text/BE/wiki_78\n",
            "text/AE/wiki_99  text/AN/wiki_59  text/AW/wiki_19  text/BE/wiki_79\n",
            "text/AF/wiki_00  text/AN/wiki_60  text/AW/wiki_20  text/BE/wiki_80\n",
            "text/AF/wiki_01  text/AN/wiki_61  text/AW/wiki_21  text/BE/wiki_81\n",
            "text/AF/wiki_02  text/AN/wiki_62  text/AW/wiki_22  text/BE/wiki_82\n",
            "text/AF/wiki_03  text/AN/wiki_63  text/AW/wiki_23  text/BE/wiki_83\n",
            "text/AF/wiki_04  text/AN/wiki_64  text/AW/wiki_24  text/BE/wiki_84\n",
            "text/AF/wiki_05  text/AN/wiki_65  text/AW/wiki_25  text/BE/wiki_85\n",
            "text/AF/wiki_06  text/AN/wiki_66  text/AW/wiki_26  text/BE/wiki_86\n",
            "text/AF/wiki_07  text/AN/wiki_67  text/AW/wiki_27  text/BE/wiki_87\n",
            "text/AF/wiki_08  text/AN/wiki_68  text/AW/wiki_28  text/BE/wiki_88\n",
            "text/AF/wiki_09  text/AN/wiki_69  text/AW/wiki_29  text/BE/wiki_89\n",
            "text/AF/wiki_10  text/AN/wiki_70  text/AW/wiki_30  text/BE/wiki_90\n",
            "text/AF/wiki_11  text/AN/wiki_71  text/AW/wiki_31  text/BE/wiki_91\n",
            "text/AF/wiki_12  text/AN/wiki_72  text/AW/wiki_32  text/BE/wiki_92\n",
            "text/AF/wiki_13  text/AN/wiki_73  text/AW/wiki_33  text/BE/wiki_93\n",
            "text/AF/wiki_14  text/AN/wiki_74  text/AW/wiki_34  text/BE/wiki_94\n",
            "text/AF/wiki_15  text/AN/wiki_75  text/AW/wiki_35  text/BE/wiki_95\n",
            "text/AF/wiki_16  text/AN/wiki_76  text/AW/wiki_36  text/BE/wiki_96\n",
            "text/AF/wiki_17  text/AN/wiki_77  text/AW/wiki_37  text/BE/wiki_97\n",
            "text/AF/wiki_18  text/AN/wiki_78  text/AW/wiki_38  text/BE/wiki_98\n",
            "text/AF/wiki_19  text/AN/wiki_79  text/AW/wiki_39  text/BE/wiki_99\n",
            "text/AF/wiki_20  text/AN/wiki_80  text/AW/wiki_40  text/BF/wiki_00\n",
            "text/AF/wiki_21  text/AN/wiki_81  text/AW/wiki_41  text/BF/wiki_01\n",
            "text/AF/wiki_22  text/AN/wiki_82  text/AW/wiki_42  text/BF/wiki_02\n",
            "text/AF/wiki_23  text/AN/wiki_83  text/AW/wiki_43  text/BF/wiki_03\n",
            "text/AF/wiki_24  text/AN/wiki_84  text/AW/wiki_44  text/BF/wiki_04\n",
            "text/AF/wiki_25  text/AN/wiki_85  text/AW/wiki_45  text/BF/wiki_05\n",
            "text/AF/wiki_26  text/AN/wiki_86  text/AW/wiki_46  text/BF/wiki_06\n",
            "text/AF/wiki_27  text/AN/wiki_87  text/AW/wiki_47  text/BF/wiki_07\n",
            "text/AF/wiki_28  text/AN/wiki_88  text/AW/wiki_48  text/BF/wiki_08\n",
            "text/AF/wiki_29  text/AN/wiki_89  text/AW/wiki_49  text/BF/wiki_09\n",
            "text/AF/wiki_30  text/AN/wiki_90  text/AW/wiki_50  text/BF/wiki_10\n",
            "text/AF/wiki_31  text/AN/wiki_91  text/AW/wiki_51  text/BF/wiki_11\n",
            "text/AF/wiki_32  text/AN/wiki_92  text/AW/wiki_52  text/BF/wiki_12\n",
            "text/AF/wiki_33  text/AN/wiki_93  text/AW/wiki_53  text/BF/wiki_13\n",
            "text/AF/wiki_34  text/AN/wiki_94  text/AW/wiki_54  text/BF/wiki_14\n",
            "text/AF/wiki_35  text/AN/wiki_95  text/AW/wiki_55  text/BF/wiki_15\n",
            "text/AF/wiki_36  text/AN/wiki_96  text/AW/wiki_56  text/BF/wiki_16\n",
            "text/AF/wiki_37  text/AN/wiki_97  text/AW/wiki_57  text/BF/wiki_17\n",
            "text/AF/wiki_38  text/AN/wiki_98  text/AW/wiki_58  text/BF/wiki_18\n",
            "text/AF/wiki_39  text/AN/wiki_99  text/AW/wiki_59  text/BF/wiki_19\n",
            "text/AF/wiki_40  text/AO/wiki_00  text/AW/wiki_60  text/BF/wiki_20\n",
            "text/AF/wiki_41  text/AO/wiki_01  text/AW/wiki_61  text/BF/wiki_21\n",
            "text/AF/wiki_42  text/AO/wiki_02  text/AW/wiki_62  text/BF/wiki_22\n",
            "text/AF/wiki_43  text/AO/wiki_03  text/AW/wiki_63  text/BF/wiki_23\n",
            "text/AF/wiki_44  text/AO/wiki_04  text/AW/wiki_64  text/BF/wiki_24\n",
            "text/AF/wiki_45  text/AO/wiki_05  text/AW/wiki_65  text/BF/wiki_25\n",
            "text/AF/wiki_46  text/AO/wiki_06  text/AW/wiki_66  text/BF/wiki_26\n",
            "text/AF/wiki_47  text/AO/wiki_07  text/AW/wiki_67  text/BF/wiki_27\n",
            "text/AF/wiki_48  text/AO/wiki_08  text/AW/wiki_68  text/BF/wiki_28\n",
            "text/AF/wiki_49  text/AO/wiki_09  text/AW/wiki_69  text/BF/wiki_29\n",
            "text/AF/wiki_50  text/AO/wiki_10  text/AW/wiki_70  text/BF/wiki_30\n",
            "text/AF/wiki_51  text/AO/wiki_11  text/AW/wiki_71  text/BF/wiki_31\n",
            "text/AF/wiki_52  text/AO/wiki_12  text/AW/wiki_72  text/BF/wiki_32\n",
            "text/AF/wiki_53  text/AO/wiki_13  text/AW/wiki_73  text/BF/wiki_33\n",
            "text/AF/wiki_54  text/AO/wiki_14  text/AW/wiki_74  text/BF/wiki_34\n",
            "text/AF/wiki_55  text/AO/wiki_15  text/AW/wiki_75  text/BF/wiki_35\n",
            "text/AF/wiki_56  text/AO/wiki_16  text/AW/wiki_76  text/BF/wiki_36\n",
            "text/AF/wiki_57  text/AO/wiki_17  text/AW/wiki_77  text/BF/wiki_37\n",
            "text/AF/wiki_58  text/AO/wiki_18  text/AW/wiki_78  text/BF/wiki_38\n",
            "text/AF/wiki_59  text/AO/wiki_19  text/AW/wiki_79  text/BF/wiki_39\n",
            "text/AF/wiki_60  text/AO/wiki_20  text/AW/wiki_80  text/BF/wiki_40\n",
            "text/AF/wiki_61  text/AO/wiki_21  text/AW/wiki_81  text/BF/wiki_41\n",
            "text/AF/wiki_62  text/AO/wiki_22  text/AW/wiki_82  text/BF/wiki_42\n",
            "text/AF/wiki_63  text/AO/wiki_23  text/AW/wiki_83  text/BF/wiki_43\n",
            "text/AF/wiki_64  text/AO/wiki_24  text/AW/wiki_84  text/BF/wiki_44\n",
            "text/AF/wiki_65  text/AO/wiki_25  text/AW/wiki_85  text/BF/wiki_45\n",
            "text/AF/wiki_66  text/AO/wiki_26  text/AW/wiki_86  text/BF/wiki_46\n",
            "text/AF/wiki_67  text/AO/wiki_27  text/AW/wiki_87  text/BF/wiki_47\n",
            "text/AF/wiki_68  text/AO/wiki_28  text/AW/wiki_88  text/BF/wiki_48\n",
            "text/AF/wiki_69  text/AO/wiki_29  text/AW/wiki_89  text/BF/wiki_49\n",
            "text/AF/wiki_70  text/AO/wiki_30  text/AW/wiki_90  text/BF/wiki_50\n",
            "text/AF/wiki_71  text/AO/wiki_31  text/AW/wiki_91  text/BF/wiki_51\n",
            "text/AF/wiki_72  text/AO/wiki_32  text/AW/wiki_92  text/BF/wiki_52\n",
            "text/AF/wiki_73  text/AO/wiki_33  text/AW/wiki_93  text/BF/wiki_53\n",
            "text/AF/wiki_74  text/AO/wiki_34  text/AW/wiki_94  text/BF/wiki_54\n",
            "text/AF/wiki_75  text/AO/wiki_35  text/AW/wiki_95  text/BF/wiki_55\n",
            "text/AF/wiki_76  text/AO/wiki_36  text/AW/wiki_96  text/BF/wiki_56\n",
            "text/AF/wiki_77  text/AO/wiki_37  text/AW/wiki_97  text/BF/wiki_57\n",
            "text/AF/wiki_78  text/AO/wiki_38  text/AW/wiki_98  text/BF/wiki_58\n",
            "text/AF/wiki_79  text/AO/wiki_39  text/AW/wiki_99  text/BF/wiki_59\n",
            "text/AF/wiki_80  text/AO/wiki_40  text/AX/wiki_00  text/BF/wiki_60\n",
            "text/AF/wiki_81  text/AO/wiki_41  text/AX/wiki_01  text/BF/wiki_61\n",
            "text/AF/wiki_82  text/AO/wiki_42  text/AX/wiki_02  text/BF/wiki_62\n",
            "text/AF/wiki_83  text/AO/wiki_43  text/AX/wiki_03  text/BF/wiki_63\n",
            "text/AF/wiki_84  text/AO/wiki_44  text/AX/wiki_04  text/BF/wiki_64\n",
            "text/AF/wiki_85  text/AO/wiki_45  text/AX/wiki_05  text/BF/wiki_65\n",
            "text/AF/wiki_86  text/AO/wiki_46  text/AX/wiki_06  text/BF/wiki_66\n",
            "text/AF/wiki_87  text/AO/wiki_47  text/AX/wiki_07  text/BF/wiki_67\n",
            "text/AF/wiki_88  text/AO/wiki_48  text/AX/wiki_08  text/BF/wiki_68\n",
            "text/AF/wiki_89  text/AO/wiki_49  text/AX/wiki_09  text/BF/wiki_69\n",
            "text/AF/wiki_90  text/AO/wiki_50  text/AX/wiki_10  text/BF/wiki_70\n",
            "text/AF/wiki_91  text/AO/wiki_51  text/AX/wiki_11  text/BF/wiki_71\n",
            "text/AF/wiki_92  text/AO/wiki_52  text/AX/wiki_12  text/BF/wiki_72\n",
            "text/AF/wiki_93  text/AO/wiki_53  text/AX/wiki_13  text/BF/wiki_73\n",
            "text/AF/wiki_94  text/AO/wiki_54  text/AX/wiki_14  text/BF/wiki_74\n",
            "text/AF/wiki_95  text/AO/wiki_55  text/AX/wiki_15  text/BF/wiki_75\n",
            "text/AF/wiki_96  text/AO/wiki_56  text/AX/wiki_16  text/BF/wiki_76\n",
            "text/AF/wiki_97  text/AO/wiki_57  text/AX/wiki_17  text/BF/wiki_77\n",
            "text/AF/wiki_98  text/AO/wiki_58  text/AX/wiki_18  text/BF/wiki_78\n",
            "text/AF/wiki_99  text/AO/wiki_59  text/AX/wiki_19  text/BF/wiki_79\n",
            "text/AG/wiki_00  text/AO/wiki_60  text/AX/wiki_20  text/BF/wiki_80\n",
            "text/AG/wiki_01  text/AO/wiki_61  text/AX/wiki_21  text/BF/wiki_81\n",
            "text/AG/wiki_02  text/AO/wiki_62  text/AX/wiki_22  text/BF/wiki_82\n",
            "text/AG/wiki_03  text/AO/wiki_63  text/AX/wiki_23  text/BF/wiki_83\n",
            "text/AG/wiki_04  text/AO/wiki_64  text/AX/wiki_24  text/BF/wiki_84\n",
            "text/AG/wiki_05  text/AO/wiki_65  text/AX/wiki_25  text/BF/wiki_85\n",
            "text/AG/wiki_06  text/AO/wiki_66  text/AX/wiki_26  text/BF/wiki_86\n",
            "text/AG/wiki_07  text/AO/wiki_67  text/AX/wiki_27  text/BF/wiki_87\n",
            "text/AG/wiki_08  text/AO/wiki_68  text/AX/wiki_28  text/BF/wiki_88\n",
            "text/AG/wiki_09  text/AO/wiki_69  text/AX/wiki_29  text/BF/wiki_89\n",
            "text/AG/wiki_10  text/AO/wiki_70  text/AX/wiki_30  text/BF/wiki_90\n",
            "text/AG/wiki_11  text/AO/wiki_71  text/AX/wiki_31  text/BF/wiki_91\n",
            "text/AG/wiki_12  text/AO/wiki_72  text/AX/wiki_32  text/BF/wiki_92\n",
            "text/AG/wiki_13  text/AO/wiki_73  text/AX/wiki_33  text/BF/wiki_93\n",
            "text/AG/wiki_14  text/AO/wiki_74  text/AX/wiki_34  text/BF/wiki_94\n",
            "text/AG/wiki_15  text/AO/wiki_75  text/AX/wiki_35  text/BF/wiki_95\n",
            "text/AG/wiki_16  text/AO/wiki_76  text/AX/wiki_36  text/BF/wiki_96\n",
            "text/AG/wiki_17  text/AO/wiki_77  text/AX/wiki_37  text/BF/wiki_97\n",
            "text/AG/wiki_18  text/AO/wiki_78  text/AX/wiki_38  text/BF/wiki_98\n",
            "text/AG/wiki_19  text/AO/wiki_79  text/AX/wiki_39  text/BF/wiki_99\n",
            "text/AG/wiki_20  text/AO/wiki_80  text/AX/wiki_40  text/BG/wiki_00\n",
            "text/AG/wiki_21  text/AO/wiki_81  text/AX/wiki_41  text/BG/wiki_01\n",
            "text/AG/wiki_22  text/AO/wiki_82  text/AX/wiki_42  text/BG/wiki_02\n",
            "text/AG/wiki_23  text/AO/wiki_83  text/AX/wiki_43  text/BG/wiki_03\n",
            "text/AG/wiki_24  text/AO/wiki_84  text/AX/wiki_44  text/BG/wiki_04\n",
            "text/AG/wiki_25  text/AO/wiki_85  text/AX/wiki_45  text/BG/wiki_05\n",
            "text/AG/wiki_26  text/AO/wiki_86  text/AX/wiki_46  text/BG/wiki_06\n",
            "text/AG/wiki_27  text/AO/wiki_87  text/AX/wiki_47  text/BG/wiki_07\n",
            "text/AG/wiki_28  text/AO/wiki_88  text/AX/wiki_48  text/BG/wiki_08\n",
            "text/AG/wiki_29  text/AO/wiki_89  text/AX/wiki_49  text/BG/wiki_09\n",
            "text/AG/wiki_30  text/AO/wiki_90  text/AX/wiki_50  text/BG/wiki_10\n",
            "text/AG/wiki_31  text/AO/wiki_91  text/AX/wiki_51  text/BG/wiki_11\n",
            "text/AG/wiki_32  text/AO/wiki_92  text/AX/wiki_52  text/BG/wiki_12\n",
            "text/AG/wiki_33  text/AO/wiki_93  text/AX/wiki_53  text/BG/wiki_13\n",
            "text/AG/wiki_34  text/AO/wiki_94  text/AX/wiki_54  text/BG/wiki_14\n",
            "text/AG/wiki_35  text/AO/wiki_95  text/AX/wiki_55  text/BG/wiki_15\n",
            "text/AG/wiki_36  text/AO/wiki_96  text/AX/wiki_56  text/BG/wiki_16\n",
            "text/AG/wiki_37  text/AO/wiki_97  text/AX/wiki_57  text/BG/wiki_17\n",
            "text/AG/wiki_38  text/AO/wiki_98  text/AX/wiki_58  text/BG/wiki_18\n",
            "text/AG/wiki_39  text/AO/wiki_99  text/AX/wiki_59  text/BG/wiki_19\n",
            "text/AG/wiki_40  text/AP/wiki_00  text/AX/wiki_60  text/BG/wiki_20\n",
            "text/AG/wiki_41  text/AP/wiki_01  text/AX/wiki_61  text/BG/wiki_21\n",
            "text/AG/wiki_42  text/AP/wiki_02  text/AX/wiki_62  text/BG/wiki_22\n",
            "text/AG/wiki_43  text/AP/wiki_03  text/AX/wiki_63  text/BG/wiki_23\n",
            "text/AG/wiki_44  text/AP/wiki_04  text/AX/wiki_64  text/BG/wiki_24\n",
            "text/AG/wiki_45  text/AP/wiki_05  text/AX/wiki_65  text/BG/wiki_25\n",
            "text/AG/wiki_46  text/AP/wiki_06  text/AX/wiki_66  text/BG/wiki_26\n",
            "text/AG/wiki_47  text/AP/wiki_07  text/AX/wiki_67  text/BG/wiki_27\n",
            "text/AG/wiki_48  text/AP/wiki_08  text/AX/wiki_68  text/BG/wiki_28\n",
            "text/AG/wiki_49  text/AP/wiki_09  text/AX/wiki_69  text/BG/wiki_29\n",
            "text/AG/wiki_50  text/AP/wiki_10  text/AX/wiki_70  text/BG/wiki_30\n",
            "text/AG/wiki_51  text/AP/wiki_11  text/AX/wiki_71  text/BG/wiki_31\n",
            "text/AG/wiki_52  text/AP/wiki_12  text/AX/wiki_72  text/BG/wiki_32\n",
            "text/AG/wiki_53  text/AP/wiki_13  text/AX/wiki_73  text/BG/wiki_33\n",
            "text/AG/wiki_54  text/AP/wiki_14  text/AX/wiki_74  text/BG/wiki_34\n",
            "text/AG/wiki_55  text/AP/wiki_15  text/AX/wiki_75  text/BG/wiki_35\n",
            "text/AG/wiki_56  text/AP/wiki_16  text/AX/wiki_76  text/BG/wiki_36\n",
            "text/AG/wiki_57  text/AP/wiki_17  text/AX/wiki_77  text/BG/wiki_37\n",
            "text/AG/wiki_58  text/AP/wiki_18  text/AX/wiki_78  text/BG/wiki_38\n",
            "text/AG/wiki_59  text/AP/wiki_19  text/AX/wiki_79  text/BG/wiki_39\n",
            "text/AG/wiki_60  text/AP/wiki_20  text/AX/wiki_80  text/BG/wiki_40\n",
            "text/AG/wiki_61  text/AP/wiki_21  text/AX/wiki_81  text/BG/wiki_41\n",
            "text/AG/wiki_62  text/AP/wiki_22  text/AX/wiki_82  text/BG/wiki_42\n",
            "text/AG/wiki_63  text/AP/wiki_23  text/AX/wiki_83  text/BG/wiki_43\n",
            "text/AG/wiki_64  text/AP/wiki_24  text/AX/wiki_84  text/BG/wiki_44\n",
            "text/AG/wiki_65  text/AP/wiki_25  text/AX/wiki_85  text/BG/wiki_45\n",
            "text/AG/wiki_66  text/AP/wiki_26  text/AX/wiki_86  text/BG/wiki_46\n",
            "text/AG/wiki_67  text/AP/wiki_27  text/AX/wiki_87  text/BG/wiki_47\n",
            "text/AG/wiki_68  text/AP/wiki_28  text/AX/wiki_88  text/BG/wiki_48\n",
            "text/AG/wiki_69  text/AP/wiki_29  text/AX/wiki_89  text/BG/wiki_49\n",
            "text/AG/wiki_70  text/AP/wiki_30  text/AX/wiki_90  text/BG/wiki_50\n",
            "text/AG/wiki_71  text/AP/wiki_31  text/AX/wiki_91  text/BG/wiki_51\n",
            "text/AG/wiki_72  text/AP/wiki_32  text/AX/wiki_92  text/BG/wiki_52\n",
            "text/AG/wiki_73  text/AP/wiki_33  text/AX/wiki_93  text/BG/wiki_53\n",
            "text/AG/wiki_74  text/AP/wiki_34  text/AX/wiki_94  text/BG/wiki_54\n",
            "text/AG/wiki_75  text/AP/wiki_35  text/AX/wiki_95  text/BG/wiki_55\n",
            "text/AG/wiki_76  text/AP/wiki_36  text/AX/wiki_96  text/BG/wiki_56\n",
            "text/AG/wiki_77  text/AP/wiki_37  text/AX/wiki_97  text/BG/wiki_57\n",
            "text/AG/wiki_78  text/AP/wiki_38  text/AX/wiki_98  text/BG/wiki_58\n",
            "text/AG/wiki_79  text/AP/wiki_39  text/AX/wiki_99  text/BG/wiki_59\n",
            "text/AG/wiki_80  text/AP/wiki_40  text/AY/wiki_00  text/BG/wiki_60\n",
            "text/AG/wiki_81  text/AP/wiki_41  text/AY/wiki_01  text/BG/wiki_61\n",
            "text/AG/wiki_82  text/AP/wiki_42  text/AY/wiki_02  text/BG/wiki_62\n",
            "text/AG/wiki_83  text/AP/wiki_43  text/AY/wiki_03  text/BG/wiki_63\n",
            "text/AG/wiki_84  text/AP/wiki_44  text/AY/wiki_04  text/BG/wiki_64\n",
            "text/AG/wiki_85  text/AP/wiki_45  text/AY/wiki_05  text/BG/wiki_65\n",
            "text/AG/wiki_86  text/AP/wiki_46  text/AY/wiki_06  text/BG/wiki_66\n",
            "text/AG/wiki_87  text/AP/wiki_47  text/AY/wiki_07  text/BG/wiki_67\n",
            "text/AG/wiki_88  text/AP/wiki_48  text/AY/wiki_08  text/BG/wiki_68\n",
            "text/AG/wiki_89  text/AP/wiki_49  text/AY/wiki_09  text/BG/wiki_69\n",
            "text/AG/wiki_90  text/AP/wiki_50  text/AY/wiki_10  text/BG/wiki_70\n",
            "text/AG/wiki_91  text/AP/wiki_51  text/AY/wiki_11  text/BG/wiki_71\n",
            "text/AG/wiki_92  text/AP/wiki_52  text/AY/wiki_12  text/BG/wiki_72\n",
            "text/AG/wiki_93  text/AP/wiki_53  text/AY/wiki_13  text/BG/wiki_73\n",
            "text/AG/wiki_94  text/AP/wiki_54  text/AY/wiki_14  text/BG/wiki_74\n",
            "text/AG/wiki_95  text/AP/wiki_55  text/AY/wiki_15  text/BG/wiki_75\n",
            "text/AG/wiki_96  text/AP/wiki_56  text/AY/wiki_16  text/BG/wiki_76\n",
            "text/AG/wiki_97  text/AP/wiki_57  text/AY/wiki_17  text/BG/wiki_77\n",
            "text/AG/wiki_98  text/AP/wiki_58  text/AY/wiki_18  text/BG/wiki_78\n",
            "text/AG/wiki_99  text/AP/wiki_59  text/AY/wiki_19  text/BG/wiki_79\n",
            "text/AH/wiki_00  text/AP/wiki_60  text/AY/wiki_20  text/BG/wiki_80\n",
            "text/AH/wiki_01  text/AP/wiki_61  text/AY/wiki_21  text/BG/wiki_81\n",
            "text/AH/wiki_02  text/AP/wiki_62  text/AY/wiki_22  text/BG/wiki_82\n",
            "text/AH/wiki_03  text/AP/wiki_63  text/AY/wiki_23  text/BG/wiki_83\n",
            "text/AH/wiki_04  text/AP/wiki_64  text/AY/wiki_24  text/BG/wiki_84\n",
            "text/AH/wiki_05  text/AP/wiki_65  text/AY/wiki_25  text/BG/wiki_85\n",
            "text/AH/wiki_06  text/AP/wiki_66  text/AY/wiki_26  text/BG/wiki_86\n",
            "text/AH/wiki_07  text/AP/wiki_67  text/AY/wiki_27  text/BG/wiki_87\n",
            "text/AH/wiki_08  text/AP/wiki_68  text/AY/wiki_28  text/BG/wiki_88\n",
            "text/AH/wiki_09  text/AP/wiki_69  text/AY/wiki_29  text/BG/wiki_89\n",
            "text/AH/wiki_10  text/AP/wiki_70  text/AY/wiki_30  text/BG/wiki_90\n",
            "text/AH/wiki_11  text/AP/wiki_71  text/AY/wiki_31  text/BG/wiki_91\n",
            "text/AH/wiki_12  text/AP/wiki_72  text/AY/wiki_32  text/BG/wiki_92\n",
            "text/AH/wiki_13  text/AP/wiki_73  text/AY/wiki_33  text/BG/wiki_93\n",
            "text/AH/wiki_14  text/AP/wiki_74  text/AY/wiki_34  text/BG/wiki_94\n",
            "text/AH/wiki_15  text/AP/wiki_75  text/AY/wiki_35  text/BG/wiki_95\n",
            "text/AH/wiki_16  text/AP/wiki_76  text/AY/wiki_36  text/BG/wiki_96\n",
            "text/AH/wiki_17  text/AP/wiki_77  text/AY/wiki_37  text/BG/wiki_97\n",
            "text/AH/wiki_18  text/AP/wiki_78  text/AY/wiki_38  text/BG/wiki_98\n",
            "text/AH/wiki_19  text/AP/wiki_79  text/AY/wiki_39  text/BG/wiki_99\n",
            "text/AH/wiki_20  text/AP/wiki_80  text/AY/wiki_40  text/BH/wiki_00\n",
            "text/AH/wiki_21  text/AP/wiki_81  text/AY/wiki_41  text/BH/wiki_01\n",
            "text/AH/wiki_22  text/AP/wiki_82  text/AY/wiki_42  text/BH/wiki_02\n",
            "text/AH/wiki_23  text/AP/wiki_83  text/AY/wiki_43  text/BH/wiki_03\n",
            "text/AH/wiki_24  text/AP/wiki_84  text/AY/wiki_44  text/BH/wiki_04\n",
            "text/AH/wiki_25  text/AP/wiki_85  text/AY/wiki_45  text/BH/wiki_05\n",
            "text/AH/wiki_26  text/AP/wiki_86  text/AY/wiki_46  text/BH/wiki_06\n",
            "text/AH/wiki_27  text/AP/wiki_87  text/AY/wiki_47  text/BH/wiki_07\n",
            "text/AH/wiki_28  text/AP/wiki_88  text/AY/wiki_48  text/BH/wiki_08\n",
            "text/AH/wiki_29  text/AP/wiki_89  text/AY/wiki_49  text/BH/wiki_09\n",
            "text/AH/wiki_30  text/AP/wiki_90  text/AY/wiki_50  text/BH/wiki_10\n",
            "text/AH/wiki_31  text/AP/wiki_91  text/AY/wiki_51  text/BH/wiki_11\n",
            "text/AH/wiki_32  text/AP/wiki_92  text/AY/wiki_52  text/BH/wiki_12\n",
            "text/AH/wiki_33  text/AP/wiki_93  text/AY/wiki_53  text/BH/wiki_13\n",
            "text/AH/wiki_34  text/AP/wiki_94  text/AY/wiki_54  text/BH/wiki_14\n",
            "text/AH/wiki_35  text/AP/wiki_95  text/AY/wiki_55  text/BH/wiki_15\n",
            "text/AH/wiki_36  text/AP/wiki_96  text/AY/wiki_56  text/BH/wiki_16\n",
            "text/AH/wiki_37  text/AP/wiki_97  text/AY/wiki_57  text/BH/wiki_17\n",
            "text/AH/wiki_38  text/AP/wiki_98  text/AY/wiki_58  text/BH/wiki_18\n",
            "text/AH/wiki_39  text/AP/wiki_99  text/AY/wiki_59  text/BH/wiki_19\n",
            "text/AH/wiki_40  text/AQ/wiki_00  text/AY/wiki_60  text/BH/wiki_20\n",
            "text/AH/wiki_41  text/AQ/wiki_01  text/AY/wiki_61  text/BH/wiki_21\n",
            "text/AH/wiki_42  text/AQ/wiki_02  text/AY/wiki_62  text/BH/wiki_22\n",
            "text/AH/wiki_43  text/AQ/wiki_03  text/AY/wiki_63  text/BH/wiki_23\n",
            "text/AH/wiki_44  text/AQ/wiki_04  text/AY/wiki_64  text/BH/wiki_24\n",
            "text/AH/wiki_45  text/AQ/wiki_05  text/AY/wiki_65  text/BH/wiki_25\n",
            "text/AH/wiki_46  text/AQ/wiki_06  text/AY/wiki_66  text/BH/wiki_26\n",
            "text/AH/wiki_47  text/AQ/wiki_07  text/AY/wiki_67  text/BH/wiki_27\n",
            "text/AH/wiki_48  text/AQ/wiki_08  text/AY/wiki_68  text/BH/wiki_28\n",
            "text/AH/wiki_49  text/AQ/wiki_09  text/AY/wiki_69  text/BH/wiki_29\n",
            "text/AH/wiki_50  text/AQ/wiki_10  text/AY/wiki_70  text/BH/wiki_30\n",
            "text/AH/wiki_51  text/AQ/wiki_11  text/AY/wiki_71  text/BH/wiki_31\n",
            "text/AH/wiki_52  text/AQ/wiki_12  text/AY/wiki_72  text/BH/wiki_32\n",
            "text/AH/wiki_53  text/AQ/wiki_13  text/AY/wiki_73  text/BH/wiki_33\n",
            "text/AH/wiki_54  text/AQ/wiki_14  text/AY/wiki_74  text/BH/wiki_34\n",
            "text/AH/wiki_55  text/AQ/wiki_15  text/AY/wiki_75  text/BH/wiki_35\n",
            "text/AH/wiki_56  text/AQ/wiki_16  text/AY/wiki_76  text/BH/wiki_36\n",
            "text/AH/wiki_57  text/AQ/wiki_17  text/AY/wiki_77  text/BH/wiki_37\n",
            "text/AH/wiki_58  text/AQ/wiki_18  text/AY/wiki_78  text/BH/wiki_38\n",
            "text/AH/wiki_59  text/AQ/wiki_19  text/AY/wiki_79  text/BH/wiki_39\n",
            "text/AH/wiki_60  text/AQ/wiki_20  text/AY/wiki_80  text/BH/wiki_40\n",
            "text/AH/wiki_61  text/AQ/wiki_21  text/AY/wiki_81  text/BH/wiki_41\n",
            "text/AH/wiki_62  text/AQ/wiki_22  text/AY/wiki_82  text/BH/wiki_42\n",
            "text/AH/wiki_63  text/AQ/wiki_23  text/AY/wiki_83  text/BH/wiki_43\n",
            "text/AH/wiki_64  text/AQ/wiki_24  text/AY/wiki_84  text/BH/wiki_44\n",
            "text/AH/wiki_65  text/AQ/wiki_25  text/AY/wiki_85  text/BH/wiki_45\n",
            "text/AH/wiki_66  text/AQ/wiki_26  text/AY/wiki_86  text/BH/wiki_46\n",
            "text/AH/wiki_67  text/AQ/wiki_27  text/AY/wiki_87  text/BH/wiki_47\n",
            "text/AH/wiki_68  text/AQ/wiki_28  text/AY/wiki_88  text/BH/wiki_48\n",
            "text/AH/wiki_69  text/AQ/wiki_29  text/AY/wiki_89  text/BH/wiki_49\n",
            "text/AH/wiki_70  text/AQ/wiki_30  text/AY/wiki_90  text/BH/wiki_50\n",
            "text/AH/wiki_71  text/AQ/wiki_31  text/AY/wiki_91  text/BH/wiki_51\n",
            "text/AH/wiki_72  text/AQ/wiki_32  text/AY/wiki_92  text/BH/wiki_52\n",
            "text/AH/wiki_73  text/AQ/wiki_33  text/AY/wiki_93  text/BH/wiki_53\n",
            "text/AH/wiki_74  text/AQ/wiki_34  text/AY/wiki_94  text/BH/wiki_54\n",
            "text/AH/wiki_75  text/AQ/wiki_35  text/AY/wiki_95  text/BH/wiki_55\n",
            "text/AH/wiki_76  text/AQ/wiki_36  text/AY/wiki_96  text/BH/wiki_56\n",
            "text/AH/wiki_77  text/AQ/wiki_37  text/AY/wiki_97  text/BH/wiki_57\n",
            "text/AH/wiki_78  text/AQ/wiki_38  text/AY/wiki_98  text/BH/wiki_58\n",
            "text/AH/wiki_79  text/AQ/wiki_39  text/AY/wiki_99  text/BH/wiki_59\n",
            "text/AH/wiki_80  text/AQ/wiki_40  text/AZ/wiki_00  text/BH/wiki_60\n",
            "text/AH/wiki_81  text/AQ/wiki_41  text/AZ/wiki_01  text/BH/wiki_61\n",
            "text/AH/wiki_82  text/AQ/wiki_42  text/AZ/wiki_02  text/BH/wiki_62\n",
            "text/AH/wiki_83  text/AQ/wiki_43  text/AZ/wiki_03  text/BH/wiki_63\n",
            "text/AH/wiki_84  text/AQ/wiki_44  text/AZ/wiki_04  text/BH/wiki_64\n",
            "text/AH/wiki_85  text/AQ/wiki_45  text/AZ/wiki_05  text/BH/wiki_65\n",
            "text/AH/wiki_86  text/AQ/wiki_46  text/AZ/wiki_06  text/BH/wiki_66\n",
            "text/AH/wiki_87  text/AQ/wiki_47  text/AZ/wiki_07  text/BH/wiki_67\n",
            "text/AH/wiki_88  text/AQ/wiki_48  text/AZ/wiki_08  text/BH/wiki_68\n",
            "text/AH/wiki_89  text/AQ/wiki_49  text/AZ/wiki_09  text/BH/wiki_69\n",
            "text/AH/wiki_90  text/AQ/wiki_50  text/AZ/wiki_10  text/BH/wiki_70\n",
            "text/AH/wiki_91  text/AQ/wiki_51  text/AZ/wiki_11  text/BH/wiki_71\n",
            "text/AH/wiki_92  text/AQ/wiki_52  text/AZ/wiki_12  text/BH/wiki_72\n",
            "text/AH/wiki_93  text/AQ/wiki_53  text/AZ/wiki_13  text/BH/wiki_73\n",
            "text/AH/wiki_94  text/AQ/wiki_54  text/AZ/wiki_14  text/BH/wiki_74\n",
            "text/AH/wiki_95  text/AQ/wiki_55  text/AZ/wiki_15  text/BH/wiki_75\n",
            "text/AH/wiki_96  text/AQ/wiki_56  text/AZ/wiki_16  text/BH/wiki_76\n",
            "text/AH/wiki_97  text/AQ/wiki_57  text/AZ/wiki_17  text/BH/wiki_77\n",
            "text/AH/wiki_98  text/AQ/wiki_58  text/AZ/wiki_18  text/BH/wiki_78\n",
            "text/AH/wiki_99  text/AQ/wiki_59  text/AZ/wiki_19  text/BH/wiki_79\n",
            "text/AI/wiki_00  text/AQ/wiki_60  text/AZ/wiki_20  text/BH/wiki_80\n",
            "text/AI/wiki_01  text/AQ/wiki_61  text/AZ/wiki_21  text/BH/wiki_81\n",
            "text/AI/wiki_02  text/AQ/wiki_62  text/AZ/wiki_22  text/BH/wiki_82\n",
            "text/AI/wiki_03  text/AQ/wiki_63  text/AZ/wiki_23  text/BH/wiki_83\n",
            "text/AI/wiki_04  text/AQ/wiki_64  text/AZ/wiki_24  text/BH/wiki_84\n",
            "text/AI/wiki_05  text/AQ/wiki_65  text/AZ/wiki_25  text/BH/wiki_85\n",
            "text/AI/wiki_06  text/AQ/wiki_66  text/AZ/wiki_26  text/BH/wiki_86\n",
            "text/AI/wiki_07  text/AQ/wiki_67  text/AZ/wiki_27  text/BH/wiki_87\n",
            "text/AI/wiki_08  text/AQ/wiki_68  text/AZ/wiki_28  text/BH/wiki_88\n",
            "text/AI/wiki_09  text/AQ/wiki_69  text/AZ/wiki_29  text/BH/wiki_89\n",
            "text/AI/wiki_10  text/AQ/wiki_70  text/AZ/wiki_30  text/BH/wiki_90\n",
            "text/AI/wiki_11  text/AQ/wiki_71  text/AZ/wiki_31  text/BH/wiki_91\n",
            "text/AI/wiki_12  text/AQ/wiki_72  text/AZ/wiki_32  text/BH/wiki_92\n",
            "text/AI/wiki_13  text/AQ/wiki_73  text/AZ/wiki_33  text/BH/wiki_93\n",
            "text/AI/wiki_14  text/AQ/wiki_74  text/AZ/wiki_34  text/BH/wiki_94\n",
            "text/AI/wiki_15  text/AQ/wiki_75  text/AZ/wiki_35  text/BH/wiki_95\n",
            "text/AI/wiki_16  text/AQ/wiki_76  text/AZ/wiki_36  text/BH/wiki_96\n",
            "text/AI/wiki_17  text/AQ/wiki_77  text/AZ/wiki_37  text/BH/wiki_97\n",
            "text/AI/wiki_18  text/AQ/wiki_78  text/AZ/wiki_38  text/BH/wiki_98\n",
            "text/AI/wiki_19  text/AQ/wiki_79  text/AZ/wiki_39  text/BH/wiki_99\n",
            "text/AI/wiki_20  text/AQ/wiki_80  text/AZ/wiki_40  text/BI/wiki_00\n",
            "text/AI/wiki_21  text/AQ/wiki_81  text/AZ/wiki_41  text/BI/wiki_01\n",
            "text/AI/wiki_22  text/AQ/wiki_82  text/AZ/wiki_42  text/BI/wiki_02\n",
            "text/AI/wiki_23  text/AQ/wiki_83  text/AZ/wiki_43  text/BI/wiki_03\n",
            "text/AI/wiki_24  text/AQ/wiki_84  text/AZ/wiki_44  text/BI/wiki_04\n",
            "text/AI/wiki_25  text/AQ/wiki_85  text/AZ/wiki_45  text/BI/wiki_05\n",
            "text/AI/wiki_26  text/AQ/wiki_86  text/AZ/wiki_46  text/BI/wiki_06\n",
            "text/AI/wiki_27  text/AQ/wiki_87  text/AZ/wiki_47  text/BI/wiki_07\n",
            "text/AI/wiki_28  text/AQ/wiki_88  text/AZ/wiki_48  text/BI/wiki_08\n",
            "text/AI/wiki_29  text/AQ/wiki_89  text/AZ/wiki_49  text/BI/wiki_09\n",
            "text/AI/wiki_30  text/AQ/wiki_90  text/AZ/wiki_50  text/BI/wiki_10\n",
            "text/AI/wiki_31  text/AQ/wiki_91  text/AZ/wiki_51  text/BI/wiki_11\n",
            "text/AI/wiki_32  text/AQ/wiki_92  text/AZ/wiki_52  text/BI/wiki_12\n",
            "text/AI/wiki_33  text/AQ/wiki_93  text/AZ/wiki_53  text/BI/wiki_13\n",
            "text/AI/wiki_34  text/AQ/wiki_94  text/AZ/wiki_54  text/BI/wiki_14\n",
            "text/AI/wiki_35  text/AQ/wiki_95  text/AZ/wiki_55  text/BI/wiki_15\n",
            "text/AI/wiki_36  text/AQ/wiki_96  text/AZ/wiki_56  text/BI/wiki_16\n",
            "text/AI/wiki_37  text/AQ/wiki_97  text/AZ/wiki_57  text/BI/wiki_17\n",
            "text/AI/wiki_38  text/AQ/wiki_98  text/AZ/wiki_58  text/BI/wiki_18\n",
            "text/AI/wiki_39  text/AQ/wiki_99  text/AZ/wiki_59  text/BI/wiki_19\n",
            "text/AI/wiki_40  text/AR/wiki_00  text/AZ/wiki_60  text/BI/wiki_20\n",
            "text/AI/wiki_41  text/AR/wiki_01  text/AZ/wiki_61  text/BI/wiki_21\n",
            "text/AI/wiki_42  text/AR/wiki_02  text/AZ/wiki_62  text/BI/wiki_22\n",
            "text/AI/wiki_43  text/AR/wiki_03  text/AZ/wiki_63  text/BI/wiki_23\n",
            "text/AI/wiki_44  text/AR/wiki_04  text/AZ/wiki_64  text/BI/wiki_24\n",
            "text/AI/wiki_45  text/AR/wiki_05  text/AZ/wiki_65  text/BI/wiki_25\n",
            "text/AI/wiki_46  text/AR/wiki_06  text/AZ/wiki_66  text/BI/wiki_26\n",
            "text/AI/wiki_47  text/AR/wiki_07  text/AZ/wiki_67  text/BI/wiki_27\n",
            "text/AI/wiki_48  text/AR/wiki_08  text/AZ/wiki_68  text/BI/wiki_28\n",
            "text/AI/wiki_49  text/AR/wiki_09  text/AZ/wiki_69  text/BI/wiki_29\n",
            "text/AI/wiki_50  text/AR/wiki_10  text/AZ/wiki_70  text/BI/wiki_30\n",
            "text/AI/wiki_51  text/AR/wiki_11  text/AZ/wiki_71  text/BI/wiki_31\n",
            "text/AI/wiki_52  text/AR/wiki_12  text/AZ/wiki_72  text/BI/wiki_32\n",
            "text/AI/wiki_53  text/AR/wiki_13  text/AZ/wiki_73  text/BI/wiki_33\n",
            "text/AI/wiki_54  text/AR/wiki_14  text/AZ/wiki_74  text/BI/wiki_34\n",
            "text/AI/wiki_55  text/AR/wiki_15  text/AZ/wiki_75  text/BI/wiki_35\n",
            "text/AI/wiki_56  text/AR/wiki_16  text/AZ/wiki_76  text/BI/wiki_36\n",
            "text/AI/wiki_57  text/AR/wiki_17  text/AZ/wiki_77\n",
            "text/AI/wiki_58  text/AR/wiki_18  text/AZ/wiki_78\n",
            "text/AI/wiki_59  text/AR/wiki_19  text/AZ/wiki_79\n"
          ]
        }
      ],
      "source": [
        "! ls text/*/*"
      ]
    },
    {
      "cell_type": "markdown",
      "metadata": {
        "id": "PCPaEaL7TYtH"
      },
      "source": [
        "## Install Pypark & Initialization\n",
        "Uncomment this section if you use google colab or local pc"
      ]
    },
    {
      "cell_type": "code",
      "execution_count": null,
      "metadata": {
        "id": "isNdHD1HTYtH"
      },
      "outputs": [],
      "source": [
        "#! pip install pyspark"
      ]
    },
    {
      "cell_type": "code",
      "execution_count": 1,
      "metadata": {
        "id": "2WQVNsWITYtI"
      },
      "outputs": [
        {
          "name": "stdout",
          "output_type": "stream",
          "text": [
            "22/12/06 07:00:06 WARN Utils: Your hostname, mostafa-UX410UQK resolves to a loopback address: 127.0.1.1; using 192.168.0.100 instead (on interface wlp2s0)\n",
            "22/12/06 07:00:06 WARN Utils: Set SPARK_LOCAL_IP if you need to bind to another address\n"
          ]
        },
        {
          "name": "stderr",
          "output_type": "stream",
          "text": [
            "Setting default log level to \"WARN\".\n",
            "To adjust logging level use sc.setLogLevel(newLevel). For SparkR, use setLogLevel(newLevel).\n"
          ]
        },
        {
          "name": "stdout",
          "output_type": "stream",
          "text": [
            "22/12/06 07:00:07 WARN NativeCodeLoader: Unable to load native-hadoop library for your platform... using builtin-java classes where applicable\n"
          ]
        }
      ],
      "source": [
        "from pyspark.sql import SparkSession\n",
        "spark = SparkSession \\\n",
        "    .builder \\\n",
        "    .appName(\"MDA_2021\") \\\n",
        "    .master(\"local[*]\") \\\n",
        "    .getOrCreate()\n",
        "\n",
        "sc=spark.sparkContext"
      ]
    },
    {
      "cell_type": "markdown",
      "metadata": {
        "id": "ywInWa6mTYtI"
      },
      "source": [
        "## Reading the data"
      ]
    },
    {
      "cell_type": "code",
      "execution_count": 2,
      "metadata": {
        "id": "w-4vcBCBTYtI"
      },
      "outputs": [],
      "source": [
        "articles_rdd = sc.textFile(\"text/*/*\") # Now you have a RDD with wikipedia posts\n",
        "\n",
        "## RDD elements = {'title' : .., . 'url': ... , 'text' : ...}\n",
        "\n",
        "# json_str = articles_rdd.take(1)[0]\n",
        "\n"
      ]
    },
    {
      "cell_type": "code",
      "execution_count": 3,
      "metadata": {},
      "outputs": [
        {
          "name": "stderr",
          "output_type": "stream",
          "text": [
            "                                                                                \r"
          ]
        }
      ],
      "source": [
        "num_articles = articles_rdd.count()\n",
        "num_articles_b = sc.broadcast(num_articles)"
      ]
    },
    {
      "cell_type": "code",
      "execution_count": 137,
      "metadata": {},
      "outputs": [
        {
          "name": "stdout",
          "output_type": "stream",
          "text": [
            "3437\n",
            "Serialized 1x Replicated\n"
          ]
        }
      ],
      "source": [
        "print(articles_rdd.getNumPartitions())\n",
        "print(articles_rdd.getStorageLevel())"
      ]
    },
    {
      "cell_type": "markdown",
      "metadata": {
        "id": "8jcfYLmOTYtJ"
      },
      "source": [
        "# Section 2: Preprocessing (25 Points)\n",
        "\n",
        "In this section we will remove useless part (for example /n and /u200c and ...) also find and remove stop words and remove the words with a low count in the corpus"
      ]
    },
    {
      "cell_type": "markdown",
      "metadata": {},
      "source": [
        "## 1)"
      ]
    },
    {
      "cell_type": "code",
      "execution_count": 4,
      "metadata": {},
      "outputs": [],
      "source": [
        "import json\n",
        "\n",
        "\n",
        "parsed_articles_rdd = articles_rdd.map(json.loads)\n",
        "\n",
        "# parsed_articles_rdd.take(1)\n",
        "\n"
      ]
    },
    {
      "cell_type": "markdown",
      "metadata": {},
      "source": [
        "## 2)"
      ]
    },
    {
      "cell_type": "code",
      "execution_count": 5,
      "metadata": {},
      "outputs": [],
      "source": [
        "import string\n",
        "import re"
      ]
    },
    {
      "cell_type": "code",
      "execution_count": 64,
      "metadata": {},
      "outputs": [],
      "source": [
        "\n",
        "\n",
        "\n",
        "def clean_text(json_dic_element):\n",
        "\n",
        "\n",
        "    json_dic_element['title'] = re.sub('[\\n\\u200f\\u200c؛.،×٪﷼٬!÷؟ـ:«ًٌٍَُِّْٰٓ‌ٔ»{}]'.format(string.punctuation ), '', json_dic_element['title'])\n",
        "    json_dic_element['text'] = re.sub('[\\n\\u200f\\u200c؛.،×٪﷼٬!÷؟ـ:«ًٌٍَُِّْٰٓ‌ٔ»{}]'.format(string.punctuation), '', json_dic_element['text'])\n",
        "\n",
        "    json_dic_element['title'] = json_dic_element['title'].strip()\n",
        "    json_dic_element['text'] =json_dic_element['text'].strip()\n",
        "\n",
        "    new_dic_element = {'url': json_dic_element['url'] , 'title':json_dic_element['title'] , 'text': json_dic_element['text']}\n",
        "\n",
        "\n",
        "    return new_dic_element\n",
        "        \n",
        "\n",
        "cleansed_articles_rdd = parsed_articles_rdd.map(clean_text)\n",
        "# cleansed_articles_rdd.take(2)"
      ]
    },
    {
      "cell_type": "markdown",
      "metadata": {},
      "source": [
        "## 3)"
      ]
    },
    {
      "cell_type": "code",
      "execution_count": 7,
      "metadata": {},
      "outputs": [
        {
          "name": "stderr",
          "output_type": "stream",
          "text": [
            "                                                                                \r"
          ]
        }
      ],
      "source": [
        "indexed_article_rdd = cleansed_articles_rdd.zipWithIndex().map(lambda x:(x[1], x[0]))\n",
        "## (key = doc_index , value = cleaned_dic)\n",
        "\n",
        "indexed_title_and_url_article_rdd = indexed_article_rdd.mapValues(lambda x: {'url' :x['url']  , 'title' : x['title']})\n",
        "## (key = doc_index , value = cleaned_dic (title&url) )\n",
        "\n",
        "indexed_text_article_rdd = indexed_article_rdd.mapValues(lambda x: {'text' : x['text'] })\n",
        "## (key = doc_index , value = cleaned_dic (text) )"
      ]
    },
    {
      "cell_type": "code",
      "execution_count": null,
      "metadata": {},
      "outputs": [],
      "source": [
        "indexed_article_rdd.take(30)"
      ]
    },
    {
      "cell_type": "code",
      "execution_count": 8,
      "metadata": {},
      "outputs": [],
      "source": [
        " \n",
        "words_rdd = indexed_text_article_rdd.map(lambda x:  x[1]['text'].split())\n",
        "# words_rdd.take(1)"
      ]
    },
    {
      "cell_type": "markdown",
      "metadata": {},
      "source": [
        "## 4)"
      ]
    },
    {
      "cell_type": "code",
      "execution_count": 9,
      "metadata": {},
      "outputs": [],
      "source": [
        "\n",
        "        \n",
        "words_count_rdd = words_rdd.flatMap(lambda x:[(word,1) for word in x]).reduceByKey(lambda x,y: x+y) #(key=wordk , value=countk)\n",
        "# words_count_rdd.take(10)"
      ]
    },
    {
      "cell_type": "markdown",
      "metadata": {},
      "source": [
        "## 5)"
      ]
    },
    {
      "cell_type": "code",
      "execution_count": 10,
      "metadata": {},
      "outputs": [
        {
          "name": "stderr",
          "output_type": "stream",
          "text": [
            "                                                                                \r"
          ]
        }
      ],
      "source": [
        "top_100 = words_count_rdd.top(100 , key = lambda x: x[1]) \n",
        "# top_100 = sorted(words_count_rdd.collect() ,key=lambda x:x[1], reverse=True)[0:100]"
      ]
    },
    {
      "cell_type": "code",
      "execution_count": 11,
      "metadata": {},
      "outputs": [
        {
          "data": {
            "text/plain": [
              "[('در', 4859308),\n",
              " ('و', 4518738),\n",
              " ('به', 3162958),\n",
              " ('از', 2815381),\n",
              " ('که', 2181347),\n",
              " ('است', 1481974),\n",
              " ('این', 1418963),\n",
              " ('را', 1418066),\n",
              " ('با', 1137311),\n",
              " ('یک', 960745),\n",
              " ('سال', 772780),\n",
              " ('آن', 729203),\n",
              " ('برای', 605514),\n",
              " ('بود', 528085),\n",
              " ('شد', 525902),\n",
              " ('او', 474496),\n",
              " ('کرد', 399936),\n",
              " ('دارد', 382897),\n",
              " ('شدهاست', 375350),\n",
              " ('خود', 366393),\n",
              " ('تا', 354456),\n",
              " ('بر', 344367),\n",
              " ('یا', 343100),\n",
              " ('شده', 336521),\n",
              " ('ایران', 320442),\n",
              " ('واقع', 317373),\n",
              " ('میشود', 303084),\n",
              " ('قرار', 271342),\n",
              " ('فوتبال', 261968),\n",
              " ('نیز', 259079),\n",
              " ('نام', 249495),\n",
              " ('عنوان', 246509),\n",
              " ('نفر', 235920),\n",
              " ('دو', 223708),\n",
              " ('وی', 218496),\n",
              " ('جمعیت', 211883),\n",
              " ('پس', 205195),\n",
              " ('آنها', 203557),\n",
              " ('توسط', 203267),\n",
              " ('استفاده', 201308),\n",
              " ('اهل', 199881),\n",
              " ('یکی', 197869),\n",
              " ('شهر', 190418),\n",
              " ('بازی', 177034),\n",
              " ('همچنین', 175543),\n",
              " ('زاده', 171507),\n",
              " ('میکند', 170224),\n",
              " ('شهرستان', 167549),\n",
              " ('منطقه', 164417),\n",
              " ('دیگر', 164204),\n",
              " ('اما', 159866),\n",
              " ('آمریکا', 158650),\n",
              " ('بخش', 156170),\n",
              " ('باشگاه', 155080),\n",
              " ('استان', 152322),\n",
              " ('میتوان', 150750),\n",
              " ('کشور', 150056),\n",
              " ('اشاره', 147681),\n",
              " ('هم', 147269),\n",
              " ('مورد', 143857),\n",
              " ('فیلم', 142342),\n",
              " ('ملی', 141869),\n",
              " ('هر', 140431),\n",
              " ('وجود', 135596),\n",
              " ('کار', 133868),\n",
              " ('متحده', 131800),\n",
              " ('ایالات', 131544),\n",
              " ('میلادی', 131537),\n",
              " ('شرکت', 125600),\n",
              " ('صورت', 123195),\n",
              " ('روی', 117322),\n",
              " ('زیر', 115343),\n",
              " ('هستند', 115182),\n",
              " ('تاریخ', 113297),\n",
              " ('باشد', 112532),\n",
              " ('زمان', 111566),\n",
              " ('بین', 109980),\n",
              " ('سطح', 109066),\n",
              " ('روستا', 107975),\n",
              " ('داشت', 107039),\n",
              " ('بودهاست', 105086),\n",
              " ('دست', 104866),\n",
              " ('کردهاست', 102931),\n",
              " ('کند', 102406),\n",
              " ('می', 101744),\n",
              " ('داد', 100829),\n",
              " ('انجام', 99327),\n",
              " ('دوره', 99071),\n",
              " ('تیم', 98222),\n",
              " ('میباشد', 94494),\n",
              " ('شود', 94377),\n",
              " ('بعد', 94247),\n",
              " ('دارای', 93100),\n",
              " ('مرکز', 92885),\n",
              " ('متر', 91874),\n",
              " ('مانند', 91031),\n",
              " ('مسکونی', 90611),\n",
              " ('نظر', 90170),\n",
              " ('دانشگاه', 89974),\n",
              " ('بازیکن', 88137)]"
            ]
          },
          "execution_count": 11,
          "metadata": {},
          "output_type": "execute_result"
        }
      ],
      "source": [
        "top_100"
      ]
    },
    {
      "cell_type": "markdown",
      "metadata": {},
      "source": [
        "## 6)"
      ]
    },
    {
      "cell_type": "code",
      "execution_count": 12,
      "metadata": {},
      "outputs": [],
      "source": [
        "stopwords = ['و', 'با' , 'در', 'به', 'از' , 'که' , 'است', 'را', 'این', 'آن', 'برای', 'بود', 'شد', 'او', 'کرد', 'شدهاست', 'خود', \n",
        "            'تا', 'بر', 'یا', 'شده', 'میشود', 'نیز', 'دو', 'وی', 'پس', 'توسط', 'آنها', 'استفاده', 'یکی', 'همچنین', 'میکند', 'دیگر', \n",
        "            'اما', 'میتوان', 'هم', 'مورد', 'هر',  'روی', 'زیر', 'هستند', 'بین', 'باشد', 'داشت', 'بودهاست', 'می', 'کند', \n",
        "            'کردهاست', 'داد', 'انجام', 'شود', 'میباشد', 'پیش', 'بعد']\n",
        "\n",
        "stopwords_b = sc.broadcast(stopwords)\n"
      ]
    },
    {
      "cell_type": "markdown",
      "metadata": {},
      "source": [
        "Note that all of words came in the top100 are not stopwords. the stopwords are common used words (including verbs,pronouns, relations,...) without any relational specific meaning in the final task. So we should filter out stopwords among the top100 words.\n",
        "It can be seperated in : verbal stopwords, non-verbal stopwords & specific task stopwords. \n",
        "In our task we do'nt need numbers; so we omitted them."
      ]
    },
    {
      "cell_type": "markdown",
      "metadata": {},
      "source": [
        "## 7 & 8)"
      ]
    },
    {
      "cell_type": "code",
      "execution_count": 13,
      "metadata": {},
      "outputs": [
        {
          "name": "stderr",
          "output_type": "stream",
          "text": [
            "                                                                                \r"
          ]
        }
      ],
      "source": [
        "MIN_COUNT = 20\n",
        "\n",
        "## filter the 100 most uncommon words \n",
        "\n",
        "\n",
        "uncommon_words_key_values = words_count_rdd.filter(lambda x: x[1]< MIN_COUNT).top(100 , key = lambda x:-1*x[1])\n",
        "# uncommon_words_key_values = words_count_rdd.filter(lambda x: x[1]< MIN_COUNT).collect()\n"
      ]
    },
    {
      "cell_type": "code",
      "execution_count": 14,
      "metadata": {},
      "outputs": [
        {
          "data": {
            "text/plain": [
              "['میداندمدحشدگان',\n",
              " 'فاتیان',\n",
              " 'زیستیآنزیمها',\n",
              " 'ZaGR',\n",
              " 'خودوده',\n",
              " 'P4مولکولها',\n",
              " 'دارندقلل',\n",
              " 'اسطورهمجموعه',\n",
              " 'Monacoنام',\n",
              " 'مخصوصچهار',\n",
              " 'الگوریتمیمحیطهای',\n",
              " 'داردپانویسEbbinghaus',\n",
              " 'میکنداقتصادتووالو',\n",
              " 'OMDB',\n",
              " 'Cantilene',\n",
              " 'لیموناتلینییتLighniteماتادور',\n",
              " 'شریفرضویان',\n",
              " 'نامهولادیمیر',\n",
              " 'تارعموما',\n",
              " 'کمینهگراترین',\n",
              " 'رفتهاستبیلبوردها',\n",
              " 'باجولوندایل',\n",
              " 'میباشندشاه',\n",
              " 'میگفتندابراهیم',\n",
              " 'Bathybagrus',\n",
              " 'سقوطبا',\n",
              " 'زدعلیاصغر',\n",
              " 'مینویسددیوان',\n",
              " 'lapponica',\n",
              " 'Евре́йская',\n",
              " 'دنبر',\n",
              " 'نیمگ',\n",
              " 'برمیانگیزدنودولس',\n",
              " 'کردریشهتقریبا',\n",
              " 'Lispواقعی',\n",
              " 'جغرافیاییتعریفهای',\n",
              " 'زایششیرها',\n",
              " 'نظامیهنگ',\n",
              " 'میگشتندنهایتا',\n",
              " 'چهارده–پانزده',\n",
              " 'کند←',\n",
              " 'بختیهای',\n",
              " 'معرفیکردهماکنون',\n",
              " 'شناوریارشمیدس',\n",
              " 'بهفعالیتهای',\n",
              " 'نرمالتوجه',\n",
              " 'اینترنتمانند',\n",
              " 'شداکسس',\n",
              " 'مانندMC3000',\n",
              " 'میگرداندحجم',\n",
              " 'کنیدinim',\n",
              " 'bhumidar',\n",
              " 'Deneys',\n",
              " 'پایرتروئید',\n",
              " 'آتولار',\n",
              " 'صادرشدهامکان',\n",
              " 'Maclean’s',\n",
              " 'وسط۳',\n",
              " 'mega32',\n",
              " 'IDEاین',\n",
              " 'حرفهایلوییس',\n",
              " 'انفرادیپس',\n",
              " 'پریتوس',\n",
              " 'بچرخم…',\n",
              " 'امنیتیبیشتر',\n",
              " 'میخواهدمنابعمحقق',\n",
              " 'زباناصطلاحات',\n",
              " 'شبکه۱۲',\n",
              " 'میگویدمشایخ',\n",
              " 'یمغان',\n",
              " 'ش\\u200dرق\\u200dی',\n",
              " 'حسیندرآخر',\n",
              " 'نداردیهودیتدر',\n",
              " 'رقیببه',\n",
              " 'بندلاک',\n",
              " 'مقداردرجه',\n",
              " 'اوستزندگینامهنابوکوف',\n",
              " 'باکارس',\n",
              " 'لشکرکشیهاست',\n",
              " 'خصوصیتمقدار',\n",
              " 'شد۰۵–۲۰۰۴ارغوانیها',\n",
              " 'میدهداعتقادات',\n",
              " 'داشتقایقران',\n",
              " 'μA',\n",
              " '201c',\n",
              " 'فلسفهرای',\n",
              " 'کاووستعداد',\n",
              " 'מימון',\n",
              " 'مشغولاندبخش',\n",
              " 'گرفتفشار',\n",
              " 'نمایدآغاز',\n",
              " 'ماندالمپیک',\n",
              " '۷۰٫۴۰۰',\n",
              " 'استآزمونی',\n",
              " 'کردبازخوردنقدها',\n",
              " '۰٫۹۹۹…۱این',\n",
              " 'چشمهموسسه',\n",
              " 'استformula25زیرماتریس',\n",
              " 'Darleen',\n",
              " 'OFER']"
            ]
          },
          "execution_count": 14,
          "metadata": {},
          "output_type": "execute_result"
        }
      ],
      "source": [
        "uncommon_words = [uncommon_word_key_value[0] for uncommon_word_key_value in  uncommon_words_key_values]\n",
        "uncommon_words_b = sc.broadcast(uncommon_words)\n",
        "uncommon_words"
      ]
    },
    {
      "cell_type": "markdown",
      "metadata": {},
      "source": [
        "#### filtering"
      ]
    },
    {
      "cell_type": "code",
      "execution_count": 15,
      "metadata": {},
      "outputs": [
        {
          "name": "stderr",
          "output_type": "stream",
          "text": [
            "                                                                                \r"
          ]
        }
      ],
      "source": [
        "\n",
        "\n",
        "indexed_text_article_without_stopwords_rdd = indexed_text_article_rdd.mapValues(lambda x:x['text'].split()).flatMap(lambda x:[(word,(x[0],i)) for i,word in enumerate(x[1])])\\\n",
        "    .filter(lambda x:(x[0] not in stopwords_b.value) and (x[0] not in uncommon_words_b.value) ).map(lambda x:(x[1][0],(x[0] , x[1][1]))).groupByKey().mapValues(lambda x: \" \".join([word_tuple[0] for word_tuple in sorted(list(x) , key=lambda x:x[1])]))#\n",
        "\n",
        "\n",
        "# output 0 & 1\n",
        "##(key = word , value= (doc_index , word_postion_in_doc) )\n",
        "# output 2\n",
        "##(key = doc_index , value= (word ,word_postion_in_doc))\n",
        "# output 3 & 4\n",
        "##(key = doc_index , value=[(word1 ,word1_postion_in_doc) ,...,(wordn ,wordn_postion_in_doc)])\n",
        "# output 5\n",
        "##[(key = doc_index1 ,\"text1\") , (key = doc_index2 ,\"text2\") ,...]\n",
        "\n",
        "\n",
        "\n",
        "indexed_articles_cleaned_rdd = indexed_title_and_url_article_rdd.join(indexed_text_article_without_stopwords_rdd).mapValues(lambda x: {'url' : x[0]['url'] ,\\\n",
        "    'title' : x[0]['title'] , 'text' : x[1]}).sortByKey()\n",
        "\n",
        "\n",
        "# output 0\n",
        "##[(key = doc_index1 ,(title&url_dic1 ,\"text1\") , (key = doc_index2 ,,(article_dic2 ,\"text2\")) ,...]\n",
        "# output 1\n",
        "##[(key = doc_index1 , article_without_stopwords_dic1 ) ,(key = doc_index2 , article_dic2 ) ,...]\n",
        "\n",
        "\n",
        "articles_cleaned_rdd = indexed_articles_cleaned_rdd.map(lambda x:x[1])\n",
        "\n",
        "# output \n",
        "##[article_cleaned_dic1 ,article_cleaned_dic2  ,...]\n",
        "\n"
      ]
    },
    {
      "cell_type": "markdown",
      "metadata": {},
      "source": [
        "## 8)"
      ]
    },
    {
      "cell_type": "markdown",
      "metadata": {},
      "source": [
        "Note that I merged section 7 & 8 & 9 for optimizing codes. because in both of them we must split texts and process words. so Why not merge them for optimizing?"
      ]
    },
    {
      "cell_type": "markdown",
      "metadata": {},
      "source": [
        "## 9)"
      ]
    },
    {
      "cell_type": "code",
      "execution_count": 16,
      "metadata": {},
      "outputs": [
        {
          "name": "stderr",
          "output_type": "stream",
          "text": [
            "                                                                                \r"
          ]
        },
        {
          "data": {
            "text/plain": [
              "[{'url': 'https://fa.wikipedia.org/wiki?curid=2',\n",
              "  'title': 'صفحه اصلی',\n",
              "  'text': 'lttemplatestyles srcصفحه اصلیstylescssgt امروز میلادی برابر هجری خورشیدی UTC – NOEDITSECTION'}]"
            ]
          },
          "execution_count": 16,
          "metadata": {},
          "output_type": "execute_result"
        }
      ],
      "source": [
        "\n",
        "articles_cleaned_rdd.take(1)\n"
      ]
    },
    {
      "cell_type": "code",
      "execution_count": null,
      "metadata": {
        "id": "be6tvT5RTYtJ"
      },
      "outputs": [],
      "source": [
        "\n",
        "\n",
        "# cleansed_articles_rdd= #TODO: cleansed text\n",
        "# words_rdd = #TODO: extract words from title and description\n",
        "# words_count_rdd = #TODO: make an rdd with the count of each word\n",
        "# top_100 = #TODO: find the 100 most common words\n",
        "# stopwords = ['و', 'با'] #TODO: complete the list of stopwords based on top 100 common words\n",
        "# articles_without_stopwords_rdd = #TODO: remove stopwords from the article title and text\n",
        "# MIN_COUNT = 20\n",
        "# uncommon_words = #TODO: list of the words that have occured less than MIN_COUNT in the whole corpus\n",
        "# articles_cleaned_rdd = #TODO: remove uncommon words from articles_without_stopwords_rdd\n",
        "# articles_cleaned_rdd.take(1) # This should output a dictionary with url,title and text keys. title and text should not have stopwords or uncommon."
      ]
    },
    {
      "cell_type": "markdown",
      "metadata": {
        "id": "79dgk7QHTYtK"
      },
      "source": [
        "# Section 3: Exploration (20 Points)\n",
        "Please answer the following questions regarding the dataset:\n",
        "* How many unique 3-Letter words remain after the cleaning procedure?\n",
        "* What are the top 20 most common English trigrams in the corpus?\n",
        "* Plot a distribution from document lengths using appropriate bin sizes with 100 bins\n",
        "* What are the titles and urls of the 5 longest articles? \n",
        "* How many and what percentage of articles contain these words? [History, Politics, Medicine, Law, Economics, Engineering]"
      ]
    },
    {
      "cell_type": "code",
      "execution_count": 65,
      "metadata": {},
      "outputs": [
        {
          "name": "stderr",
          "output_type": "stream",
          "text": [
            "                                                                                \r"
          ]
        }
      ],
      "source": [
        "\n",
        "indexed_article_cleaned_rdd =  articles_cleaned_rdd.zipWithIndex().map(lambda x:(x[1],x[0]))\n",
        "\n",
        "# ouput 0:\n",
        "## (key = article , value = doc_index )\n",
        "# ouput 1:\n",
        "## (key = doc_index , value = article )\n",
        "\n",
        "article_words_rdd = articles_cleaned_rdd.map(lambda x:x[1]['text'].split())\n",
        "\n",
        "indexed_article_words_rdd = indexed_article_cleaned_rdd.flatMap(lambda x:[((word , x[0]),1) for word in x[1]['text'].split()])\n",
        "\n",
        "\n",
        "\n",
        "# ouput :\n",
        "## (key = ('wordk' , doc_index) , value = 1 )"
      ]
    },
    {
      "cell_type": "code",
      "execution_count": 71,
      "metadata": {},
      "outputs": [
        {
          "data": {
            "text/plain": [
              "[(0,\n",
              "  {'url': 'https://fa.wikipedia.org/wiki?curid=2',\n",
              "   'title': 'صفحه اصلی',\n",
              "   'text': 'lttemplatestyles srcصفحه اصلیstylescssgt امروز میلادی برابر هجری خورشیدی UTC – NOEDITSECTION'})]"
            ]
          },
          "execution_count": 71,
          "metadata": {},
          "output_type": "execute_result"
        }
      ],
      "source": [
        "indexed_article_cleaned_rdd.take(1)"
      ]
    },
    {
      "cell_type": "markdown",
      "metadata": {},
      "source": [
        "## 1)"
      ]
    },
    {
      "cell_type": "code",
      "execution_count": 101,
      "metadata": {},
      "outputs": [],
      "source": [
        "\n",
        "three_letter_words = article_words_rdd.flatMap(lambda x:[(word , len(word)) for word in x]).reduceByKey( lambda x,y : x).filter(lambda x:x[1]==3).collect()"
      ]
    },
    {
      "cell_type": "markdown",
      "metadata": {},
      "source": [
        "number of three_letter_words : "
      ]
    },
    {
      "cell_type": "code",
      "execution_count": 100,
      "metadata": {},
      "outputs": [
        {
          "name": "stdout",
          "output_type": "stream",
          "text": [
            "[('۵–۶', 3), ('살인의', 3), ('ادک', 3), ('NB1', 3), ('اسچ', 3), ('همس', 3), ('kDa', 3), ('IN2', 3), ('نشخ', 3), ('Lck', 3), ('پی۹', 3), ('ﺁیا', 3), ('TCV', 3), ('گلا', 3), ('བོད', 3), ('کی۴', 3), ('ENP', 3), ('LMB', 3), ('Efé', 3), ('RRL', 3), ('QNA', 3), ('ص۸۷', 3), ('PPU', 3), ('AKO', 3), ('fu1', 3), ('Kks', 3), ('۴۹۸', 3), ('ns۲', 3), ('خزن', 3), ('Rom', 3), ('TAR', 3), ('سوش', 3), ('rss', 3), ('BKC', 3), ('کوآ', 3), ('ازر', 3), ('کلو', 3), ('TSH', 3), ('MBL', 3), ('IBO', 3), ('Eta', 3), ('STO', 3), ('이종석', 3), ('متا', 3), ('نوک', 3), ('شحص', 3), ('Өn2', 3), ('007', 3), ('WOI', 3), ('پ۳۷', 3)]\n"
          ]
        },
        {
          "data": {
            "text/plain": [
              "41728"
            ]
          },
          "execution_count": 100,
          "metadata": {},
          "output_type": "execute_result"
        }
      ],
      "source": [
        "print(three_letter_words[0:50])\n",
        "len(three_letter_words)"
      ]
    },
    {
      "cell_type": "markdown",
      "metadata": {},
      "source": [
        "## 2)"
      ]
    },
    {
      "cell_type": "code",
      "execution_count": 177,
      "metadata": {},
      "outputs": [
        {
          "name": "stderr",
          "output_type": "stream",
          "text": [
            "                                                                                \r"
          ]
        },
        {
          "data": {
            "text/plain": [
              "[('for', 47384),\n",
              " ('orm', 42877),\n",
              " ('ula', 41978),\n",
              " ('mul', 40167),\n",
              " ('rmu', 39420),\n",
              " ('ion', 30719),\n",
              " ('tio', 22093),\n",
              " ('ing', 20658),\n",
              " ('and', 18895),\n",
              " ('ati', 18649),\n",
              " ('ent', 16663),\n",
              " ('ter', 16197),\n",
              " ('tri', 15503),\n",
              " ('the', 13957),\n",
              " ('edi', 13935),\n",
              " ('dia', 13851),\n",
              " ('ist', 13635),\n",
              " ('la1', 12981),\n",
              " ('nde', 12151),\n",
              " ('all', 12012)]"
            ]
          },
          "execution_count": 177,
          "metadata": {},
          "output_type": "execute_result"
        }
      ],
      "source": [
        "non_english_exist = '[^a-zA-Z0-9]'\n",
        "\n",
        "\n",
        "\n",
        "article_words_rdd.flatMap(lambda x:[(word , len(word)) for word in x]).filter(lambda x:(x[1]>=3) and  (not bool(re.match(non_english_exist ,x[0]))))\\\n",
        "    .flatMap(lambda x : [(x[0][i:i+3] , 1)  for i in range(x[1]-2)]).reduceByKey( lambda x,y : x+y).top(20 , key=lambda x:x[1])\n",
        "\n",
        "# output 1\n",
        "##[(key = word , word_length ) ,(key = word , word_length ) ,...]\n",
        "\n",
        "# output 2\n",
        "##[(key = just_english_greater_than_3_length_word , word_length ) ,(key = just_english_greater_than_3_length_word , word_length ) ,...]\n",
        "\n",
        "# output 3\n",
        "##[(key = trigram , 1 ) ,(key = trigram , 1 )  ,...]\n",
        "\n",
        "# output 4\n",
        "##[(key = trigram , count ) ,(key = trigram , count)  ,...]\n",
        "\n",
        "\n",
        "\n",
        "# article_words_rdd.flatMap(extract_trigrams).reduceByKey(lambda x,y : x+y).sortBy(lambda x: x[1] , ascending=False).take(20)"
      ]
    },
    {
      "cell_type": "markdown",
      "metadata": {},
      "source": [
        "## 3)"
      ]
    },
    {
      "cell_type": "code",
      "execution_count": 36,
      "metadata": {},
      "outputs": [
        {
          "name": "stderr",
          "output_type": "stream",
          "text": [
            "                                                                                \r"
          ]
        }
      ],
      "source": [
        "def extract_document_lengths(cleaned_dic_element):\n",
        "    \n",
        "    num_words = len(cleaned_dic_element['text'].split())\n",
        "    new_dic = {'title' : cleaned_dic_element['title'] , 'url': cleaned_dic_element['url'], 'num_words':num_words}\n",
        "\n",
        "    return new_dic\n",
        "    \n",
        "documents_length_KV_sorted = sorted(articles_cleaned_rdd.map(extract_document_lengths).collect() , key=lambda x: x['num_words'] ,reverse=True)  #.sortBy(, ascending=False)\n",
        "\n",
        "\n",
        "# \n",
        "\n"
      ]
    },
    {
      "cell_type": "code",
      "execution_count": 37,
      "metadata": {},
      "outputs": [],
      "source": [
        "documents_length = [document_dic['num_words'] for document_dic in documents_length_KV_sorted]"
      ]
    },
    {
      "cell_type": "code",
      "execution_count": 46,
      "metadata": {},
      "outputs": [
        {
          "data": {
            "image/png": "[encoded data removed]",
            "text/plain": [
              "<Figure size 1200x800 with 1 Axes>"
            ]
          },
          "metadata": {},
          "output_type": "display_data"
        }
      ],
      "source": [
        "import matplotlib.pyplot as plt\n",
        "import numpy as np\n",
        "plt.figure(figsize=(15, 10), dpi=80)\n",
        "\n",
        "plt.title(\"histogram of documents length\")\n",
        "_  =plt.hist(documents_length , bins =list(np.linspace(0 , 2000 , 30)) + list(np.linspace(2000 , 6000 , 30)) +\n",
        "                                         list(np.linspace(6000 , 12000 , 30)) + list(np.linspace(12000 , 16000 , 10)),\n",
        "            log  =True )"
      ]
    },
    {
      "cell_type": "code",
      "execution_count": 43,
      "metadata": {},
      "outputs": [
        {
          "data": {
            "text/plain": [
              "[{'title': 'نادرشاه',\n",
              "  'url': 'https://fa.wikipedia.org/wiki?curid=10787',\n",
              "  'num_words': 15807},\n",
              " {'title': 'نبرد اسمولنسک',\n",
              "  'url': 'https://fa.wikipedia.org/wiki?curid=2322946',\n",
              "  'num_words': 14613},\n",
              " {'title': 'ایران',\n",
              "  'url': 'https://fa.wikipedia.org/wiki?curid=163930',\n",
              "  'num_words': 14417},\n",
              " {'title': 'نبرد مسکو',\n",
              "  'url': 'https://fa.wikipedia.org/wiki?curid=1501875',\n",
              "  'num_words': 13993},\n",
              " {'title': 'حافظ',\n",
              "  'url': 'https://fa.wikipedia.org/wiki?curid=44114',\n",
              "  'num_words': 13724}]"
            ]
          },
          "execution_count": 43,
          "metadata": {},
          "output_type": "execute_result"
        }
      ],
      "source": [
        "documents_length_KV_sorted[0:5]"
      ]
    },
    {
      "cell_type": "markdown",
      "metadata": {},
      "source": [
        "## 4)"
      ]
    },
    {
      "cell_type": "code",
      "execution_count": 181,
      "metadata": {},
      "outputs": [
        {
          "name": "stderr",
          "output_type": "stream",
          "text": [
            "                                                                                \r"
          ]
        }
      ],
      "source": [
        "\n",
        "# topic_words_persian = ['تاریخ' ,  'سیاست' , 'پزشکی' , 'قانون' , 'اقتصاد' , 'مهندسی']\n",
        "topic_words_english = ['history', 'politics', 'medicine', 'law', 'economics', 'engineering']\n",
        "\n",
        "topic_words_b = sc.broadcast(topic_words_english)\n",
        "\n",
        "\n",
        "\n",
        "topic_counters_kv = indexed_article_words_rdd.reduceByKey(lambda x,y:x).map(lambda x:(x[0][0] , 1))\\\n",
        "    .filter(lambda x:x[0].lower() in topic_words_english).reduceByKey(lambda x,y:x+y).collect()"
      ]
    },
    {
      "cell_type": "code",
      "execution_count": 182,
      "metadata": {},
      "outputs": [
        {
          "name": "stdout",
          "output_type": "stream",
          "text": [
            "num_articles :  2795590\n"
          ]
        },
        {
          "data": {
            "text/plain": [
              "[('Medicine', 60),\n",
              " ('Politics', 28),\n",
              " ('LAW', 3),\n",
              " ('law', 39),\n",
              " ('history', 35),\n",
              " ('HIStory', 2),\n",
              " ('Engineering', 112),\n",
              " ('Law', 96),\n",
              " ('Economics', 37),\n",
              " ('HISTORY', 2),\n",
              " ('economics', 12),\n",
              " ('medicine', 15),\n",
              " ('History', 160),\n",
              " ('politics', 8),\n",
              " ('engineering', 23)]"
            ]
          },
          "execution_count": 182,
          "metadata": {},
          "output_type": "execute_result"
        }
      ],
      "source": [
        "print(\"num_articles : \" , num_articles)\n",
        "topic_counters_kv"
      ]
    },
    {
      "cell_type": "code",
      "execution_count": 183,
      "metadata": {},
      "outputs": [
        {
          "name": "stdout",
          "output_type": "stream",
          "text": [
            "Medicine  is :  0.0021462374668674592 %\n",
            "Politics  is :  0.0010015774845381475 %\n",
            "LAW  is :  0.00010731187334337295 %\n",
            "law  is :  0.0013950543534638484 %\n",
            "history  is :  0.0012519718556726846 %\n",
            "HIStory  is :  7.154124889558197e-05 %\n",
            "Engineering  is :  0.00400630993815259 %\n",
            "Law  is :  0.0034339799469879344 %\n",
            "Economics  is :  0.0013235131045682665 %\n",
            "HISTORY  is :  7.154124889558197e-05 %\n",
            "economics  is :  0.0004292474933734918 %\n",
            "medicine  is :  0.0005365593667168648 %\n",
            "History  is :  0.005723299911646558 %\n",
            "politics  is :  0.0002861649955823279 %\n",
            "engineering  is :  0.0008227243622991926 %\n"
          ]
        }
      ],
      "source": [
        "for topic_word in topic_counters_kv:\n",
        "    print(topic_word[0], ' is : ' , topic_word[1]*100/num_articles , \"%\" )"
      ]
    },
    {
      "cell_type": "markdown",
      "metadata": {
        "id": "JS2K-g_4TYtK"
      },
      "source": [
        "# Section 4: TF-IDF + Searching (55 Points)"
      ]
    },
    {
      "cell_type": "code",
      "execution_count": 18,
      "metadata": {},
      "outputs": [],
      "source": [
        "import math "
      ]
    },
    {
      "cell_type": "markdown",
      "metadata": {},
      "source": [
        "#### tf"
      ]
    },
    {
      "cell_type": "code",
      "execution_count": 72,
      "metadata": {},
      "outputs": [],
      "source": [
        "\n",
        "word_tf_rdd = indexed_article_words_rdd.reduceByKey(lambda x,y:x+y)\n",
        "\n",
        "# input:\n",
        "## [(key = ('wordk' , doc_index) , value = 1 ) ,(key = ('wordk' , doc_index) , value = 1 )...]\n",
        "# ouput :\n",
        "## [(key = ('wordk' , doc_index) , value = tf ) , (key = ('wordk' , doc_index) , value = tf )...]\n",
        "\n"
      ]
    },
    {
      "cell_type": "code",
      "execution_count": 73,
      "metadata": {},
      "outputs": [],
      "source": [
        "word_tf_reordered_KV_rdd = word_tf_rdd.map(lambda x: (x[0][0] , (x[0][1], x[1]))) \n",
        "## (key = 'wordk' , value = (doc_index , tf))"
      ]
    },
    {
      "cell_type": "code",
      "execution_count": 68,
      "metadata": {},
      "outputs": [
        {
          "data": {
            "text/plain": [
              "[('تکواژها', (23, 2)), ('منبع', (32, 1)), ('کشید', (34, 1))]"
            ]
          },
          "execution_count": 68,
          "metadata": {},
          "output_type": "execute_result"
        }
      ],
      "source": [
        "word_tf_reordered_KV_rdd.take(3)"
      ]
    },
    {
      "cell_type": "markdown",
      "metadata": {},
      "source": [
        "#### df & idf"
      ]
    },
    {
      "cell_type": "code",
      "execution_count": 74,
      "metadata": {},
      "outputs": [],
      "source": [
        "word_df_rdd = word_tf_rdd.map(lambda x:(x[0][0] , 1)).reduceByKey(lambda x,y: x+y)\n",
        "\n",
        "# ouput 1:\n",
        "## (key = 'wordk'  , value = 1 )\n",
        "# ouput 2:\n",
        "## (key = 'wordk' ,  value = df )\n",
        "\n",
        "word_idf_rdd = word_df_rdd.mapValues(lambda x:math.log((1+num_articles_b.value)/(1+x)))\n",
        "\n",
        "# ouput :\n",
        "## [(key = wordk , value = idf ) , (key = wordk , value = idf )....]"
      ]
    },
    {
      "cell_type": "markdown",
      "metadata": {},
      "source": [
        "#### join tf tuples & idf tuples"
      ]
    },
    {
      "cell_type": "code",
      "execution_count": 75,
      "metadata": {},
      "outputs": [],
      "source": [
        "joined_words_and_docs_tf_idf_rdd = word_tf_reordered_KV_rdd.join(word_idf_rdd)\n",
        "## (key = 'word' , value = ((doc_index , tf) , idf)))\n",
        "\n",
        "tfidf_rdd = joined_words_and_docs_tf_idf_rdd.map(lambda x: (x[1][0][0] ,(x[0], x[1][0][1]*x[1][1])))\n",
        "## (key = doc_index , value = ('word' , tfidf))\n",
        "\n",
        "indexed_tfidf_rdd = tfidf_rdd.groupByKey().mapValues(lambda x:dict(list(x)))\n",
        "\n",
        "# ouput 1:\n",
        "## (key = doc_index , value = iterable(('word1' , tfidf1),('word2' , tfidf2), ....) )\n",
        "# ouput 2:\n",
        "## (key = doc_index , value = {'word1':tfidf1 , ...})"
      ]
    },
    {
      "cell_type": "markdown",
      "metadata": {},
      "source": [
        "#### Joining tfidf with the cleaned dic"
      ]
    },
    {
      "cell_type": "code",
      "execution_count": 76,
      "metadata": {},
      "outputs": [],
      "source": [
        "\n",
        "\n",
        "joined_articles_and_tfidf_rdd = indexed_article_cleaned_rdd.join(indexed_tfidf_rdd)\n",
        "# output :\n",
        "## (key = doc_index , value = (cleaned_dic ,{'word1':tfidf1 , ...} )\n",
        "\n",
        "articles_tf_idf_vectors = joined_articles_and_tfidf_rdd.map(lambda x:{'title': x[1][0]['title'] , 'url':x[1][0]['url'] ,'text':x[1][0]['text'] ,'vector':x[1][1]})\n",
        "\n",
        "# output :\n",
        "## articles_tf_idf_vectors = [ cleaned_dic1 with added 'vector' list ,cleaned_dic2 with added 'vector' list ,..]"
      ]
    },
    {
      "cell_type": "code",
      "execution_count": 80,
      "metadata": {},
      "outputs": [
        {
          "name": "stderr",
          "output_type": "stream",
          "text": [
            "                                                                                \r"
          ]
        },
        {
          "data": {
            "text/plain": [
              "[{'title': 'صفحه اصلی',\n",
              "  'url': 'https://fa.wikipedia.org/wiki?curid=2',\n",
              "  'text': 'lttemplatestyles srcصفحه اصلیstylescssgt امروز میلادی برابر هجری خورشیدی UTC – NOEDITSECTION',\n",
              "  'vector': {'خورشیدی': 5.672266446522762,\n",
              "   'srcصفحه': 14.150406910675299,\n",
              "   'میلادی': 3.494866679668701,\n",
              "   'lttemplatestyles': 10.199163192093872,\n",
              "   'اصلیstylescssgt': 14.150406910675299,\n",
              "   'برابر': 4.082210328662131,\n",
              "   '–': 3.8033078316745117,\n",
              "   'هجری': 5.657199082009573,\n",
              "   'NOEDITSECTION': 14.150406910675299,\n",
              "   'UTC': 9.496446560517775,\n",
              "   'امروز': 5.8628784875635365}},\n",
              " {'title': 'چیماماندا انگزی آدیچی',\n",
              "  'url': 'https://fa.wikipedia.org/wiki?curid=149294',\n",
              "  'text': 'چیماماندا انگزی ادیچی نویسنده نیجریایی استزندگیاو سال ۱۹۷۷ نیجریه دنیا آمد رمان نیمی یک خورشید زرد سال ۲۰۰۷ جایزه ادبیات داستانی زنان برد',\n",
              "  'vector': {'زنان': 5.141081737940325,\n",
              "   'استزندگیاو': 10.116166272522904,\n",
              "   '۲۰۰۷': 5.545935711152001,\n",
              "   'ادبیات': 5.668737275328108,\n",
              "   'جایزه': 4.8164339782538415,\n",
              "   'نیجریه': 7.578823913305377,\n",
              "   'زرد': 6.389300699592881,\n",
              "   'دنیا': 4.717403102621784,\n",
              "   'آمد': 4.805841636607885,\n",
              "   '۱۹۷۷': 6.515344599486512,\n",
              "   'نیجریایی': 12.5409689982412,\n",
              "   'سال': 4.326834642877122,\n",
              "   'نویسنده': 4.929373909160374,\n",
              "   'نیمی': 6.83319450231546,\n",
              "   'انگزی': 13.457259730115354,\n",
              "   'یک': 1.7872172748842678,\n",
              "   'چیماماندا': 13.234116178801145,\n",
              "   'خورشید': 6.3957109779538,\n",
              "   'ادیچی': 14.150406910675299,\n",
              "   'رمان': 6.1678198716904555,\n",
              "   'داستانی': 6.531664533004886,\n",
              "   'برد': 5.300462683439703}}]"
            ]
          },
          "execution_count": 80,
          "metadata": {},
          "output_type": "execute_result"
        }
      ],
      "source": [
        "\n",
        "articles_tf_idf_vectors.take(2)"
      ]
    },
    {
      "cell_type": "markdown",
      "metadata": {},
      "source": [
        "As we can see, TF-IDF can be a very handy metric for determining how important a term is in a document."
      ]
    },
    {
      "cell_type": "code",
      "execution_count": null,
      "metadata": {
        "id": "FsJEBmbrTYtK"
      },
      "outputs": [],
      "source": [
        "# word_df_rdd = #TODO: calculate document frequncy for each word\n",
        "# articles_tf_idf_vectors = #TODO: add `vector` key to articles_cleaned_rdd dictionary with the tf_idf dictionary"
      ]
    },
    {
      "cell_type": "markdown",
      "metadata": {
        "id": "UZn3_bnLTYtL"
      },
      "source": [
        "## Searching\n",
        "In this section you should find articles that are about the topics mentioned in the last part of the third section.\n",
        "Report the percentage of articles that are about the mentioned topics, for example, report what percentage of the articles were about history?\n",
        "For each topic, report two of the most relevant articles along with the title and the url.\n",
        "Check this part in **theory** before practical implementation (Hint: Use the concept of tf-idf).\n",
        "All innovative solutions are also welcome. Compare the obtained results with the third part."
      ]
    },
    {
      "cell_type": "code",
      "execution_count": 81,
      "metadata": {},
      "outputs": [],
      "source": [
        "def search_query(word):\n",
        "    query_word_rdd = sc.parallelize([(word,1)])\n",
        "\n",
        "    results_rdd = tfidf_rdd.map(lambda x:(x[1][0],(x[0], x[1][1]))).join(query_word_rdd).map(lambda x:(x[1][0][0] ,(x[0] , x[1][0][1]*x[1][1])))\\\n",
        "                .join(indexed_article_cleaned_rdd)\n",
        "    \n",
        "    results = results_rdd.collect()\n",
        "    print(\"number of results for '{}' : {}\".format(word,len(results)))\n",
        "    \n",
        "    results = sorted(results , key = lambda x: x[1][0][1])\n",
        "    print(\"two most relevant results : \\n\" ,results[0:2])\n",
        "\n",
        "    return results\n",
        "    # input\n",
        "    ## (key = doc_index , value = ('word' , tfidf))\n",
        "    # output 1\n",
        "    ## (key = 'word' , value = (doc_index , tfidf ))\n",
        "    # output 2\n",
        "    ## (key = 'word' , value = ((doc_index , tfidf),1))\n",
        "    # output 3\n",
        "    ## (key = doc_index , value = ('word' , cosine_similarity))\n",
        "    # output 4\n",
        "    ## (key = doc_index , value = (('word' , cosine_similarity) , article_dict)\n",
        "\n"
      ]
    },
    {
      "cell_type": "code",
      "execution_count": 82,
      "metadata": {},
      "outputs": [
        {
          "name": "stderr",
          "output_type": "stream",
          "text": [
            "[Stage 260:================================================>(20622 + 4) / 20626]\r"
          ]
        },
        {
          "name": "stdout",
          "output_type": "stream",
          "text": [
            "number of results for 'law' : 39\n",
            "two most relevant results : \n",
            " [(928241, (('law', 11.154674637121309), {'url': 'https://fa.wikipedia.org/wiki?curid=6116004', 'title': 'قانون توان تیلور', 'text': 'قانون توان تیلور قانون تیلور Taylors law یک قانون تجربی بومشناسی واریانس تعداد افراد یک گونه واحد سطح زیستگاه میانگین متناظر یک رابطه قانون توان مرتبط نام نام بومشناس اولین بار سال ۱۹۶۱ پیشنهاد لیونل تیلور ۱۹۲۴–۲۰۰۷ گرفته نام اصلی تیلور رابطه قانون میانگین نام قانون تیلور ساوت وود سال ۱۹۶۶ ابداع'})), (722057, (('law', 11.154674637121309), {'url': 'https://fa.wikipedia.org/wiki?curid=5271852', 'title': 'امکیووی', 'text': 'امکیووی MQV یک پیشنویس معتبر طرحهای DIFFLE HELMAN پایه توافقنامههای کلیدی میباشدمانند طرحهای معتبر diffie hellmanmqv برابر یک مهاجم فعال محافظا ایجاد نویس میتواند طوری اصلاح شودکه یک گروه قراردادی محدود بخصوص گروههای منحنیهای بیضوی کارکند نام ecmqv شناخته میشودmqvدر ابتدا Minghua Qu سال ۱۹۹۵ مطرح ودر سال ۱۹۹۸ law Solinaasبا وجود انواع یک بار بار سه بار تأیید اصلاح شدMQV استاندارد عمومی IEEE P1363 استاندارد SP80056A NIST کلید عمومی گنجانیده شدهاستبرخی انواع MQV حق ثبت اختراعات Certicom ادعا شدهاستECMQV مجموعه استاندارد B رمزنگاری آژانس امنیت ملی حذف شدهاستشرحalice یک جفت کلیدی دارد formula1 formula2 کلید عمومی formula3 کلید خصوصی باب جفت کلیدی دارد formula4 formula5 کلید عمومی formula6 کلید خصوصی اونشان داده میشوددر ادامه formula7 معنای دارد اگر formula8 یک نقطه یک منحنی بیضوی سپس formula9 جایی formula10 formula11 منظور نقطه تولید ژنراتور formula12 بنابراین formula7 اولین سری بیتهای L مختصات اول formula14 هستندتوجه ایمن بودن الگوریتم برخی بررسیها باید هنکرسون همکاران مراجعه کنیدصحتباب محاسبه formula15آلیس محاسبه formula16بنابراین مجهولات مشترک formula17 واقع یکسان formula18MQV مقابل HMQVپیش نویس اصلی MQV شامل هویت کاربرهای بخش ارتباط دهنده جریان مبادلات کلیدی شامل نمیشود هویت کاربرها فقط فرایند تأیید کلید صریح بعدی گنجانده وجود تأیید کلید صریح MQV اختیاری تصریح IEEE P1363 سال ۲۰۰۱ کالیسکی یک حمله ناشناس کلید مشترک ارائه هویت مفقود نویس کلید تبادل MQV سوء میکرد حمله مقابل MQV معتبرمجازا عمل کردکه تأیید صریح کلید ندارد حمله کاربریک کلید جلسه کاربر دیگری پایهریزی باورفریب میخورد کلید کاربر متفاوت دیگری اشتراک میگذارد سال ۲۰۰۶ Menezes Ustaoglu پیشنهاد کردند حمله درج هویت کاربرها عملکرد مشتق کلید پایان مبادله کلید MQV برطرف کنند فرایند تأیید کلید صریح همچنان اختیاری باقی میمانددر سال ۲۰۰۵ کراوسیک یک نوع هش MQV نام HMQV پیشنهاد نویس HMQV مقابله حمله کلایسکی بدون تأیید کلید صریح اهداف اضافی دستیابی امنیت قابل اثبات بهرهوری بهتر طراحی HMQV سه تغییر MQV ایجاد کردHMQV ادعا عملکرد MQV برتر زیرا عملیاتهای ۲ ۳ بالا معاف درحالیکه MQV اجباری مقاله HMQV مدارک امنیتی رسمی شامل اطمینان حاصل معاف شدن عملیات ایمن استدر سال ۲۰۰۵ منیز اولین بار حمله گروه کوچک علیه HMQV ارائه حمله فقدان دقیق اعتبارسنجی کلید عمومی ۲ ۳ بهره میبرد نشان میدهد هنگام درگیر شدن یک مهاجم فعال نویس HMQV اطلاعاتی کلید خصوصی طولانی مدت کاربر درز میدهد بسته تنظیمات گروه رمزنگاری زمینه ای ممکن کل کلید خصوصی مهاجم بازیابی منزز پیشنهاد حداقل تعیین اعتبار کلید عمومی ۲ ۳ حمله رسیدگی کنددر سال ۲۰۰۶ پاسخ حمله منیز کروشزیک HMQV ارسال IEEE P1363 تجدیدنظر شامل نویس IEEE P1363 D1pre حال جای اعتبار کلیدهای عمومی بلند مدت زودگذر ۲ ۳ ترتیب عنوان عملیات جداگانه Krawczyk پیشنهاد یک عملیات ترکیبی طی فرایند تبادل کلید اعتبار سنجی باعث صرفه جویی هزینه جایگذاری اعتبار کلید ترکیبی عمومی حمله منیز جلوگیری HMQV اصلاح هنوز میتواند ادعا MQV کارآمد تر استدر سال ۲۰۱۰ هائو حمله HMQV اصلاح ارائه همانطور نویس IEEE P1363 D1 پیشبینی اولین حمله واقعیت سوء HMQV اجازه میدهد رشته دادهای غیر ۰ ۱ عنوان یک کلید عمومی بلند مدت ثبت رو یک عنصر گروه کوچک مجاز عنوان کلید عمومی ثبت آگاهی کلید عمومی کاربر میتواند تمام مراحل تأیید صحت HMQV بگذراند پایان کاملا تأیید تضاد درک مشترک احراز هویت یک نویس معتبر مبادله کلید اساس اثبات دانش یک کلید خصوصی تعریف حالت کاربر تأیید اعتبار بدون داشتن کلید خصوصی واقع کلید خصوصی وجود ندارد مسئله MQV کاربرد ندارد حمله دوم حالت ارتباطی سوءاستفاده صریحا HMQV پشتیبانی کاربر اجازه دهد همان مجوز کلید عمومی ارتباط برقرار حالت HMQV برابر یک حمله ناشناخته کلید مشترک آسیبپذیر مقابله حمله اول هائو پیشنهاد اعتبار سنجی کلید عمومی ۲ ۳ جداگانه دهد همانطور ابتدا Menezes پیشنهاد حال تغییر مزایای بهرهوری HMQV نسبت MQV کاهش میدهد مقابله حمله دوم هائو پیشنهاد هویتهای دیگری تمایز کپی غیرفعال کردن حالت ارتباطی درج کنددو حمله هائو اعضای کارگروه IEEE P1363 سال ۲۰۱۰ بحث قرار گرفت حال هیچ اجماعی چگونگی تجدید نظر HMQV وجود ندارد نتیجه مشخصات HMQV نویس IEEE P1363 D1پیش بدون تغییر استانداردسازی HMQV IEEE P1363 زمان متوقف'}))]\n"
          ]
        },
        {
          "name": "stderr",
          "output_type": "stream",
          "text": [
            "                                                                                \r"
          ]
        }
      ],
      "source": [
        "law_infomation =search_query(\"law\")"
      ]
    },
    {
      "cell_type": "code",
      "execution_count": 83,
      "metadata": {},
      "outputs": [
        {
          "name": "stderr",
          "output_type": "stream",
          "text": [
            "[Stage 269:================================================>(20623 + 3) / 20626]\r"
          ]
        },
        {
          "name": "stdout",
          "output_type": "stream",
          "text": [
            "number of results for 'engineering' : 23\n",
            "two most relevant results : \n",
            " [(151, (('engineering', 11.665500260887299), {'url': 'https://fa.wikipedia.org/wiki?curid=1443', 'title': 'باغبانی', 'text': 'باغبانی دانش فن بررسی پژوهش میوهشناسی سبزیشناسی گلشناسی فضای سبز پارکها بوستانها محیط زیست محصولات باغبانی صنایع غذایی استباغبانی عبارت علم کاشت وپرورش گیاهان زینتی گیاهان دارویی ودرختان میوه طراحی فضای سبز فضای سبز همان Landscape engineering شاخهای علوم باغبانی کارشناسی ارشد باغبانی ارائه میگردد پیشرفت شهرنشینی توجه کاشت گیاهان زینتی شهرها عنوان زیبایی ضروری نظر میرسدباغبانی فعالیت هنر پیشه رویاندن گیاهان باغبانی پیرامون خانه مسکن افراد محلی نام باغ باغچه صورت میگیرد باغها بیشتر چسبیده نزدیکی مناطق مسکونی جای دارد پیرامون شهرها روستاها باغچهها حیاط خانهها کنار خیابانها ساخته میشوند ولی ممکن گاه بالای پشت بامها پیشسراها ایوانکها گلشنهها فلاورباکسها نورخانهها پاسیوها ساخته شوندوسایل باغبانیبه طور کلی وسایل باغبانی صورت حرفه ای آماتور موجود باغبانی دستکش بیل بیلچه شن کش آب پاش قیچی هرس فرقون شودهرس درختهرس درخت معنای بریدن برداشتن قسمت هایی یک درخت میوه کار منظور باروری بهتر حذف شاخه های مرده بیمار هرس درخت تکنیک های خاصی باغبانی گیردتفاوت باغبانی زراعتهر چند باغبانی زراعت بسیار شبیه اصول یکسان پیروی کنند تفاوت هایی یکدیگر دارند معمولا زراعت سطح بزرگتری هدف پرورش میوه گیاهان فروش واقع باغبانی یک سرگرمی فعالیت شخصی محسوب زراعت یک شغل حرفه کسب درآمد'})), (288964, (('engineering', 11.665500260887299), {'url': 'https://fa.wikipedia.org/wiki?curid=2017520', 'title': 'مهندسی نیازمندیها', 'text': 'اصطلاح مهندسی نیازمندیها اولین بار سال ۱۹۷۹ میلادی گزارش فنی منتشر گروه سال ۱۹۹۰ صورت عمومی قرار نگرفت عمومیسازی اصطلاح انتشار مجموعه آموزشی آغاز کار مجموعهای کنفرانسها حوزه صورت گرفتهاستمهندسی نیازمندیها انگلیسی Requirements engineering اشاره روند تدوین مستندسازی نگهداری نیازمندیهای نرمافزار اشاره رشته مهندسی نرمافزار رابطه فرایند دارد یک نقطه نظر مهندسی نیازمندیها شاخهای مهندسی سیستمها فرایندی استخراج تحلیل ساخت صحتسنجی اعتبارسنجی مدیریت تغییر نیازمندیهای یک سیستم هدف ردیابی سطوح پی پی انتزاع توجه داردفعالیتهای مهندسی نیازمندیهافعالیتهای درگیر مهندسی نیازمندیها بهطور گستردهای بسته نوع سیستم حال توسعه شیوههای خاص سازمان های مرتبط متفاوت ممکن شامل موارد باشدخصوصیات ابزارهای مهندسی نیازمندیهاابزارهای مهندسی نیازمندیها باید قابلیتهای فراهم نمایند'}))]\n"
          ]
        },
        {
          "name": "stderr",
          "output_type": "stream",
          "text": [
            "                                                                                \r"
          ]
        }
      ],
      "source": [
        "engineering_infomation =search_query(\"engineering\")"
      ]
    },
    {
      "cell_type": "code",
      "execution_count": 84,
      "metadata": {},
      "outputs": [
        {
          "name": "stderr",
          "output_type": "stream",
          "text": [
            "[Stage 278:================================================>(20614 + 5) / 20626]\r"
          ]
        },
        {
          "name": "stdout",
          "output_type": "stream",
          "text": [
            "number of results for 'politics' : 8\n",
            "two most relevant results : \n",
            " [(188064, (('politics', 12.646329513899024), {'url': 'https://fa.wikipedia.org/wiki?curid=1100409', 'title': 'کلکبازیها و شایعهها در ایران', 'text': 'شایعهها شوخیهای فریبآمیز دارای تاریخچهای ایران هستندشایعه دیده شدن تصویر سید روحالله خمینی ماه یک مهمترین آنهاست حافظه تاریخی ایرانیان ثبت چند بار انتشار شایعات مرگ سید علی خامنهای رهبر ایران شایعههای سیاسی قابل توجه موارد تاریخی سال ۱۲۶۴ قمری اشاره دستور امیرکبیر برنامه واکسیناسیون آبلهکوبی کودکان ایرانی میشد مردم ناآگاهی باور خرافات آبلهکوبی نمیدادند دلایلشان فالگیرها دعانویسها شایعه کرده بودند آبلهکوبی سبب جن خون وارد بچه جنزده شوددر نخستین سالهای پیروزی انقلاب ۱۳۵۷ ایران اینکه محمدرضا پهلوی شاه سابق ایران خارج کشور درگذشت شایعهای مبنی زنده بودن آماده شدنش دستگیری مجدد قدرت شکل گرفت چندان عمومی نشد صدا سیمای جمهوری اسلامی ایران مجموعهای تلویزیونی نام شاه دزد ساخته پخش مسئولان جمهوری اسلامی ایران پخش سریال کنار تمسخر شاه سابق پیام رساندند شایعه توطئهای نهفتهاست رویکرد موجب میشد فضای ملتهب انقلاب ابتکار جریانسازی مخالفان حکومت گرفته ابتکار عمل تنها دست حکومت قرار گیرددرباره شایعه تصویر خمینی ماه مسئولان حکومتی هیچگاه پیرامون منشأ اظهار نظر نکردهاند سالهای معجزههایی مانند رویت امام زمان جبهه تحت عنوان امدادهای غیبی بهطور رسمی تأیید میشددر میان شوخیهای فریبآمیز تبدیل شدن دروغ سیزدهم فروردین یک سنت سالانه روزنامههای اصلاح طلب شایعه کج شدن برج میلاد شایعه لوگوی پپسی ماه نام برداهمیت بررسی شایعهرواج شایعهها نشاندهنده زودباوری مردم ظرفیت تن دادن تلقین همراهی جمع استیکی دلایل اهمیت بررسی شایعهها چه کسی رواج شایعه سود میبرد امر درک منشأ شایعهها سودمند البته ممکن یک شایعه ناشی شوخی ساده فرد افرادی شایعه پراکنی بهطور اتفاقی فراگیر میشوددیگر اهمیت شایعهها رواج یک شایعه میتواند اطلاعاتی میزان زودباوری مردم جامعه نسبت خبری شکبرانگیز اثباتنشدهاست اختیار کارشناسان دستگاههای اطلاعاتی امنیتی یک کشور گذاشته زمان بحران چهارچوب جنگهای روانی رسانهای برایشان مفید باشدشایعههای سیاسی میتوانند گاه یک حکومت خطرناک باشند گاهی مفید گاهی بیآزار نمونههایی سه ایران وجود داشتهاست شایعه مرگ سید علی خامنهای رهبر ایران شایعه مرگ احمد جنتی موجب پیدایش لطیفههایی درباره سن شدهمچنین شوخیهای فریبآمیز میتوانند نشاندهنده ایدهآلهای نویسندگان باشند علاوه نظرات خوانندگان گونه اخبار دروغهای ۱۳ وبگاهها نشان میدهد خبرها آرزوهای خوانندگان مانند رفع توقیف روزنامههای هممیهن شرق خبرگزاری ایلنا خبر کنارهگیری حسین شریعتمداری روزنامهنگاریبه گفته بازتاب زودباوری مردم ایران علاقه شنیدن اخبار باورنکردنی مسئلهایست دیرباز ایرانیان دیده میشده ظهور فنآوری جدیتر شدهاستمهدی خرم دل روزنامهنگار شایعه لوگوی پپسی ماه فرصتی سنجش میزان تغییر آگاهی زودباوری ایرانیان دانسته ذکر اینکه دهها هزار نفر ایرانی شهرنشین چون خبر شکل وسیع شهرهای کوچک روستاها نرسید حتی طبقه الیت جامعه نخبه سادگی فریب خوردند نتیجه میگیرد ایران همچنان راه عوام فریبی سیاستهای عوامانه grassroots politics باز استباورهای شفاهی مردمیدر ایرانیان شایعات باورهایی حق هیچگونه منبع مستند کتبی ندارند ولی کم بیش کسی نیست شایعات مقطع سنی ویژه موضوع نشناسد عنوان مثال دهه ۴۰ خورشیدی اوج درخشش ورزشکار یعنی محمدعلی کلی بوکسور بیوک جدیکار فوتبالیست چپ پای تیم تاج تهران اولین فوتبالیست ایرانی خارج رفت آلمان رسما بازی شایعات فراوانی کوچه بازار وجود رابطه محمدعلی کلی میگفتند میگفتیم تمرین مشت زنی حال چند فیل مشت قوی اش کشته رابطه جدی کار گفته میشد ملکه انگلیس پای چپ ۱۰۰۰٫۰۰۰ پوند استرلینگ بیمه کرده خریده قرار پای چپ شوت نزند چون ممکن ضربه توپ عامل ناقص شدن کشته شدن طرف مقابل نقل قول مهلکترین ضربات پای چپ وارد میکرد ضربات پای چپ خریده بودند چپ شوت نزند ضربات میخورد خطر مرگ منبع مضاف همه ورزش دوستان بالای پنجاه سال شایعات خرافات شفاهی مردی رنگین کمان عبور تبدیل زن البته امر گذشته هجو بودنش بخاطر فیزیک اپتیکی اصلا امکان ندارد زیرا دیدن رنگین کمان یک فاصله وطری دید gt مثلث قائم الزاویه احتیاج داردیکی جالبترین شایعات شفاهی هجویات سالهای ۱۳۴۰ش رابطه گروه بیتلها گفته میشد بیتلها چندی همگی شهر لیورپول رفتگر سپور بودهاندشخصیتهای جعلیآرشیت دانادر هیچ منبع تاریخی رابطه شخصیت اندیشمندی نام آرشیت صحبت نشدهاست رضا مرادی غیاثآبادی آرشیت دانا شخصیتی دروغین ساختگی دانستهاست هیچ سند مدرکی دال وجود تاریخی دست نیستآرشیت دانا ۲ ژانویه ۴۷۶ میلاد کاشمر ۲۸ فوریه ۳۳۰ میلاد کاشمر یک شخصیت جعلی دروغین افرادی ناشناس فضای مجازی ساخته سازندگان شخصیت مدعی بودهاند فیلسوفی بوده ایران باستان میزیسته نخستین نظریهپرداز دموکراسی بودهاستاصالت منابعدر هیچ منبع تاریخی رابطه شخصیت اندیشمندی نام آرشیت صحبت نشدهاست رضا مرادی غیاثآبادی آرشیت دانا شخصیتی دروغین ساختگی دانستهاست هیچ سند مدرکی دال وجود تاریخی دست نیستشاگردی جعلی نام ورتاشخصیت ورتا فیلمنامه بیضاییبهرام بیضایی فیلمنامه پرده نئی ۱۳۶۵ شخصیتی نام ورتا خلق کرده زنی خردمند کتابخوان پاکدامن احسان زیورعالم سیدفضلالله میرقادری مقاله مشترک تحلیل فیلمنامه پرداختهاند معتقدند اگرچه هیچ منبع موثقی دال وجود شخصیتی واقعی نام ورتا وجود ندارد نظر میرسد بیضایی شخصیت ورتا فیلمنامه پرده نئی شخصیت اثباتنشده منسوب عصر هخامنشی الهام گرفتهباشد وجود توجه تاریخ نگارش فیلمنامه بیضایی سال ۱۳۶۵ نوشته نشر شایعات مربوط آرشیت ورتا فضای مجازی نیمه دهه ۱۳۹۰ نظر میرسد رابطه برعکس بوده واقع جاعلان شخصیتها فیلمنامه بیضایی ساختن شخصیتهای دروغین الهام گرفتهباشند'})), (23680, (('politics', 12.646329513899024), {'url': 'https://fa.wikipedia.org/wiki?curid=165178', 'title': 'سیاستهای سبز', 'text': 'سیاست سبز ایدئولوژی سبز انگلیسی Green politics ecopolitics اکوپولیتیک نامیده یک ایدئولوژی سیاسی اهمیت بسیاری محیط زیست قائل مدافعان سیاستهای سبز طرفداران جنبش سبز بسیاری کشورها عنوان حزب سبز دهههای هفتاد هشتاد میلادی فعالیت آغاز کردهاند نام سبز ایدئولوژی جهان غرب میراث حزب سبز آلمان نخستین حزب سبز موفق دهه هفتاد میلادی ایدئولوژی سبز ریشه محیطزیستگرایی پرهیز خشونت عدالت اجتماعی دموکراسی داردسبزها نمایندگان یک بخش جدید دنیای سیاست مسائل سیاسی اجتماعی طرزی نوین تحلیل میکنند بنابراین معیارهای تعیین چپ راست سیاسی کنونی نمیگنجند اگر چه تقسیمات سیاسی معمولا دست چپی نظر میگیرند ولی امکان دارد برخی اندیشهها تحلیلها اظهارنظرهای ایشان موضوعات متنوعی بیشتر احزاب دست راستی همخوانی داشته باشدقدمت ایدئولوژی سبز ایران نوشتههای زرتشت بازمیگردد زرتشتیان باورند جهان شکل امانت دست انسانهاست باید روز قیامت شکل اولیهاش اهورا مزدا بدهند رو آموختههای زرتشتی انسانها نگهداری محیط زیست عناصر چهارگانه فرا میخوانند زرتشتیان معتقدند پیامبر زرتشت درخت سرو بهشت زمین آورد درخت سروی اعتقاد زرتشتیان بدست پیامبر زرتشت کاشته حمله اعراب ایران بدستور متوکل عباسی قطع تنه شتر بغداد فرستاده مؤلف برهان قاطع عمر درخت زمان ۱۴۵۰ سال ذکر زمان ایرانیان شبانه آنجا امکان بذر شاخههای درخت جمع کرده نقاط مختلف ایران کاشتهاند اکنون سروهای کهنسالی اقصی نقاط ایران وجود دارد میتوانند طریقی درخت منشأ گرفته باشند'}))]\n"
          ]
        },
        {
          "name": "stderr",
          "output_type": "stream",
          "text": [
            "                                                                                \r"
          ]
        }
      ],
      "source": [
        "politics_infomation =search_query(\"politics\")"
      ]
    },
    {
      "cell_type": "code",
      "execution_count": 78,
      "metadata": {},
      "outputs": [
        {
          "name": "stderr",
          "output_type": "stream",
          "text": [
            "[Stage 233:================================================>(20620 + 4) / 20626]\r"
          ]
        },
        {
          "name": "stdout",
          "output_type": "stream",
          "text": [
            "number of results for 'medicine' : 15\n",
            "relevant results : \n",
            " [(82605, (('medicine', 12.070965368995463), {'url': 'https://fa.wikipedia.org/wiki?curid=406499', 'title': 'کاربرد فناوری اطلاعات در پزشکی', 'text': 'رشد روزافزون صنایع ارتباطی مخابراتی انفورماتیکی روز دنیا انقلابی جدید مواجه انقلاب فن آوری اطلاعات ارتباطات کلیه بخشهای اقتصادی اجتماعی سیاسی امنیتی کشورها تأثیراتی قابل توجه جای گذاشتهاست توسعه فن آوری بخش پزشکی دنبال تحول عظیمی نظام ارائه خدمات بهداشتی درمانی میباشیم مهمترین حوزههای کاربرد فن آوری اطلاعات حوزه بهداشت درمانی فن آوری اطلاعات روشهای متعددی میتواند حوزه کمک نماید سیستمهای ذخیره اطلاعات بیمار سیستمهای اطلاعات دارویی سیستمهای درمانی جراحی سیستمهای پیگیری درمان سیستمهای درمان راه دور سیستمهای راهبری پرستار رباتهای جراح سیستمهای پذیرش بیمار بسیاری پرده طراحی تمام اینها یک هدف مشترک وجود دارد تسهیل کار درمان سیستمها بیمار کمترین زمان بهترین خدمات دریافت پزشک تمام وقت جای دنیا بخواهد بیماران دسترسی دارد اطلاعات بیماران همه جا بهطور کامل دسترس دسترسی همگانی اطلاعات پزشکی بستر شبکههای الکترونیکی یک رؤیا نیست وضوح سازمانهای درمانی سیستمها نزدیک شدهاند مشاهده سامانههایی مانند ذخیره الکترونیکی اطلاعات سلامت HER میتواند اطلاعات بهداشتی درمانی سلامتی فرد تولد یعنی زمانی فرد دوران جنینی طی مرگ یعنی وقتی قید حیات نیست صورت اطلاعات جامعی یک فایل الکترونیکی ذخیرهسازی کرده یک شبکه اختصاصی دسترسی افراد مشخصی قرار دهد عنوان نمونه بارزی کارکردهای فناوری اطلاعات امر سلامت بهشمار میرودصنعت انفورماتیک پزشکی۰انفورماتیک پزشکی حوزه کاربردی فن آوری اطلاعات ارتباطات پزشکی تعریف تولید خدمات فن آوری اطلاعات حوزه خدمات بهداشتی درمانی صنعت انفورماتیک پزشکی اطلاق جهت توسعه صنعت داخل کشور نیازمند برنامهریزی اساس فرصتها تهدیدهای سر راه نقاط قوت ضعف هستیمصنعت انفورماتیک صورت عام دارای ویژگیهایی کشورهای دنیا ترغیب سرمایهگذاری بخش صنعت انفورماتیک پزشکی شامل سه بخش نرمافزار سخت افزار خدمات درحوزه پزشکی دراین میان قسمت نرمافزار جایگاه ویژهای جهت سرمایهگذاری دارد حوزههایی انفورماتیک پزشکی چون کاربرد هوش مصنوعی پزشکی خدمات پزشکی راه دور دلیل مرحله تحقیق بودن زمینه خوبی برنامهریزی سرمایهگذاری ارائه محصول بخش خواهند بودبا توجه نقش دولتها راستای توسعه بخش کاربردی تولید حوزه انفورماتیک موظف ایجاد موارد بنایی بنابراین شناخت جامع ساختهای بخش بدو برنامهریزی شکل حیاتی لازم ضروری ساختها عبارتند از۱ زیرساخت امنیتی۲ زیرساخت تجاری۳ زیرساخت حقوق۴ زیرساخت اجتماعی فرهنگی۵ زیرساخت استانداردسازی۶ زیرساخت فنیتجهیزات پزشکی کنار ابزارهای ارتباطی اطلاعاتی عصر زیرساخت فنی انفورماتیک پزشکی تأمین خواهد کردپیدایش ابزارهای الکترونیکی قابلیت ثبت اطلاعات اشخاص بدو تولد هنگام مرگ بستری ابزارهای توانمند پردازشی هوشمند فراهم خواهد آورد کارهای روزمره ماهیت غیرخلاقانه عهده ابزارها گذاشته شود۱ سیستمهای اطلاعات مدیریتی بیمارستانیاین سیستمها نوعی سیستمهای اطلاعات مدیریت MIS هستند۲ سیستمهای اطلاعات بالینی مراقبت پزشکیاین سیستمها دارای پایگاه دادههایی انواع اطلاعات بیمار صورت چند رسانهای شامل موارد مختلفی جمله پارامترهای حیاتی اشخاص تصاویر پزشکی وسیله قدرت تشخیص درمان پزشک وجود ابزارهای قدرتمند پردازش بهبود میبخشند۳سیستمهای اطلاعاتی بهداشتیمجموعه اجزای پیوستهای جمعآوری تحلیل دادهها تدوین اطلاعات کار میرود۴واقعیت مجازیاین بحث کلیه مفاهیم مادی اطراف ما میگیرد قابلیت دارد قسمت زیادی تعاملات دنیای مادی شبیهسازی واقعیت مجازی پزشکی کابردهای گستردهای دارد بهطور مثال شبیهسازی آناتومی فیزیولوژی بدن انسان عنوان یک نمونه آزمایشگاهی قابلیت گونه آزمایشهای تحقیقات پزشکی فراهم خواهد ساخت۵پرونده الکترونیک بیمارپرونده الکترونیک بیمار مدرکی عمدتا مراقبتهای دورهای ارائه وسیله مراکز درمانی توصیف بیمارستان سایر مراکز ارائه خدمات درمانی مثل واحدهای تخصصی مراکز بهداشت ذهنی ایجاد میشود۶ابزارهای فناوری اطلاعات پزشکیشبکه اینترنت جهت آموزش دسترسی اطلاعات پزشکی مشاوره ویدیو کنفرانس مشاورههای ویدئویی کامپیوترهای جیبی PDAها امدادگران پزشکان سایر افراد جهت ارسال اطلاعات لازم گرفتن مشاورههای فوری نقطه جهاناستفاده لباسهای هوشمند جهت ارسال وضعیت شخص تیم پزشکیپزشکی راه دوراز کلمه tele یک لغت یونانی معنی ارتباطات مسافت دور کلمه مدیسین medicine معنای درمان طب تشکیل علم تکنولوژی مدرن پزشکان امکان میدهد بیماران خانه بیمار راه دور طریق کامپیوتر شبکههای ارتباطی چون اینترنت ویزیت درمان کنند تصویر صدای بیمار علائم حیاتی حتی پارامترهای تخصصی لازم دریافت توصیههای لازم صادر کننددر نتیجه تأخیر درمان حداقل میرسد نیاز جابجایی بیمار برطرف هزینههای ناشی حمل ونقل بیمار صرفه جویی میگرددانواع پزشکی راه دور درمان راه دور همزمان زمان حقیقینیاز حضور همزمان طرف برقراری یک لینک ارتباطی real time جمله پر کاربردترین اینها تجهیزات کنفرانس ویدیوئی میباشددرمان راه دور غیر همزماندرمان راه دور طریق ذخیرهسازی ارسال اطلاعات مواردی زیاد فوریت ندارند زمانی ارسال اطلاعات دریافت منظور نمود اطلاعات منتقل میتواند تصویرهای دیجیتالی گرفته بخشی یک فیلم درنظرگرفته شودانواع خدمات پزشکی راه دور۱مشاوره راه دور۲ آموزش الکترونیکی آموزش الکترونیکی عبارتست بکارگیری ابزارهای فناوری اطلاعات امر آموزش تربیت نیروی انسانی۳پایش راه دور ارسال online offline تصاویر پزشکی سیگنالهای حیاتی بیمار صورت ویدئوکنفرانس روشهای عمده پایش راه دور است۴ ارائه خدمات پزشکی خانه بیش همه افراد مبتلا بیماریهای قلبی عروقی ناهنجاریهای تنفسی مزمن اینگونه مراقبتها نیاز دارند۵ جراحی راه دور جراحی پزشکی بدون تماس مستقیم پزشک بیمار طول عمل استاین جراحی میتواند موارد مختلف جمله کاربرد جراحی راه دور عمل قلب روشهای مختلفی میتواند روش رباتیک کاربرد بیشتری فناوری اطلاعات مشاهده کردراهکارها یی جهت پزشکی راه دور ایران آموزش گسترش سواد رسانهای مردم مناطق محروم جهت تکنولوژی گنجاندن تله مدیسن دوره تحصیلی دانشجویان پزشکی اقناع پزشکان جهت فضابرقراری یک کانال ارتباطی پزشکی کشورهای همسایه دلیل عدم وجود بعضی تخصصها ویا گران بودن هزینههای درمانی متخصصان مجرب ایران جهت کسب درآمدبرقراری شبکه تله مدیسین جانبازان معلولین جهت کاهش مشکلات حمل نقل افرادبرقراری شبکه تله مدیسین کشور درمناطق وسیع تراکم جمعیتی کم مناطق کوهستانی سختگذر خصوصا هنگام حوادث غیر مترقبهبرقراری سیستم مشاوره پزشکی راه دور دریا ونیز هواپیماها ارتباطات ماهوارهای موارد اورژانسمنابعhttpswebarchiveorgweb20160828043421httpwwwteisnhsukhttpswebarchiveorgweb20071014083223httpiranhealevscomhttpwwwtelehealthcomhttpwwwmcmastercahttpwwwmehmaneshcom httpswebarchiveorgweb20130307014745httplhncbcnlmnihgovlhcdocspublished2002pub2002049pdfhttpswebarchiveorgweb20140513023059httpforumit4youir'})), (4352, (('medicine', 12.070965368995463), {'url': 'https://fa.wikipedia.org/wiki?curid=14791', 'title': 'خونشناسی', 'text': 'خونشناسی هماتولوژی مطالعه یاختههای خونی انعقاد خون فرایند خونسازی درمان پیشگیری بیماریهای مرتبط خون میپردازد علم مقدار ساختمان عمل سلولهای خونی پیشسازهای سلولهای خونی مغز استخوان ساختارهای شیمیایی پلاسما عمل پلاکتها پروتئینهایی سیستم انعقادی دخالت دارند بررسی جمله بیماریهای هموفیلی آنمی لخته شدن خون سایر اختلالات خونریزی سرطانهای خون مانند لنفوم دسته قرار دارند آنالیز آزمایشگاهی خون اغلب پزشک کارشناس ارشد آزمایشگاه میشودهماتولوژی مطالعه اختلالات خونی خونی هماتولوژیست ها هماتوپاتولوژیست ها ارائه دهندگان مراقبت های بهداشتی بسیار آموزش دیده ای بیماری های خون اجزای خون تخصص دارند حالی بخش عمده ای زمان متخصص هماتولوژی صرف ارائه مراقبت های بالینی مستقیم بیماران کار تشخیصی آزمایشگاه بخش مهمی کار استهماتولوژی رشتههای مختلف پزشکی علوم پایه جمله ایمنیشناسی ژنتیک مولکولی ژنتیک پزشکی انسانی ارتباط نزدیک دارداین رشته ایران چندین روش قابل فراگیری یک مقطع کارشناسی ارشد دکترای هماتولوژی تاکید فرایندهای ارزیابی تشخیصی آزمایشگاه تحقیقات پیرامون مقطع فوق تخصص هماتولوژی آنکولوژی کسب تخصص داخلی تاکید تشخیص درمان بالینی بیمارانهمچنین طب سنتی پزشکی جایگزین alternative medicine نظریههایی دربارهی تاثیر گروه خونی مزاج فرد امکان تدوین برنامهی غذایی مبنای گروه خونی فرد وجود دارد البته نیاز بررسی بیشتر جهت تایید رد داردرژیم غذایی گروه خونیدنبال کردن رژیم غذایی گروه خون شما کمک کاملا سلامت باشید مواد غذایی مناسب گروه خون همخوان بیولوژیتان بدست آوریدگروه خون Oقدیمی ترین گروه خون پایه تمام گروه های خونی نمایانگر اوج تکامل زنجیره غذایی انسان سیستم ایمنی قوی استظهور حدود 42 هزار سال قبل آفریقاگروه خونی Aاولین مهاجران مجبور کوچ سازگاری تغذیه زندگی کشاورزی شدند شخصیتی همکار اجتماعی سازگار مکان های پر جمعیتظهور عصر نوسنگی حدود 17 27 هزار سال قبل آسیا خاورمیانهگروه خونی Bگروهی سازگاری اقلیم جدید وجود آمده اند نشانگر نیاز طبیعت توازن فکر سیستم ایمنی هستندظهور 12 17 هزار سال قبل ارتفاعات هیمالیاگروه خونی ABادغامی گروه خون A سازگار همکار گروه خون B خشن متوازن هستندظهور ادغام گروه خون A مغول های دارنده گروه خون B حدود 10 12 قرن'})), (335658, (('medicine', 12.070965368995463), {'url': 'https://fa.wikipedia.org/wiki?curid=2391894', 'title': 'رابرت ادواردز فیزیولوژیست', 'text': 'رابرت ادواردز زاده درگذشته یک دانشمند زمینه فیزیولوژی reproductive medicine اهل انگلستان'})), (7650, (('medicine', 12.070965368995463), {'url': 'https://fa.wikipedia.org/wiki?curid=25944', 'title': 'ضریب تأثیر', 'text': 'ضرایب تأثیر یک شاخص کمی ارزیابی مقایسه رتبهبندی نشریات علمی رشتههای مختلف سطح ملی مقایسه مجلهها سطح بینالمللی کار گرفته شاخص نشاندهنده فراوانی استنادهایی طول یک دوره زمانی مشخص یک مقاله چاپ یک نشریه داده ضریب تأثیر مجلهها نخستین بار دکتر یوجین گارفیلد آیروینگ شر دهه ۱۹۶۰ مؤسسه اطلاعات علمی ISI آمریکا ارائه انتخاب مجلههای علمی نمایه استنادی علوم کار گرفته شوداین عامل همه ساله مؤسسه اطلاعات علمی ISI مبنای ارجاعات یک مجلات علمی محاسبه نتیجه گزارشهای ارجاع مجله Journal Citation Reports منتشر ضریب نه مقاله نویسنده بلکه مجله محاسبه محاسبه مبنای یک دوره ساله صورت میگیرد عبارت سال معین ضریب تأثیر یک مجله متوسط تعداد ارجاعات داده همان سال معین مقاله منتشره ان مجله طی سال متوالی قبلی مثال اگر سال 96 جمعا ۴۰ ارجاع مقالههای سالهای 94 95 مجله صورت گرفته مجله سال 94 تعداد ۲۶ مقاله سال 95 تعداد ۲۴ مقاله چاپ ضریب ارجاع مجله تقسیم ۴۰ ۲۶۲۴۵۰ دست میآید ۰۸ یعنی بهطور متوسط مقاله نشریه ۰۸ مرتبه استناد مقالات قرار گرفتهاستبیشترین مقدار ضریب تأثیر ژورنالهای علمی مربوط مجله The New England journal of medicine مقدار نزدیک 60 59558 مجله Lancet قرار دارد چند رتبه بعدی اختیار مجلات بسیار معتبر Nature 2'})), (276139, (('medicine', 12.070965368995463), {'url': 'https://fa.wikipedia.org/wiki?curid=1771406', 'title': 'طب سنتی چین', 'text': 'پزشکی سنتی چینی چینی 中医学 پینیین Zhōngyī xué مجموعهای روشهای درمانی طول هزاران سال چین وجود آمدهاست پزشکی سنتی چینی روشهای پزشکی سنتی ژاپن کره دربردارد طب مملو شبهعلم توصیف اکثر درمانهایش فاقد مکانیسم عمل منطقی میباشددیدگاه روش مبتنی مسئله فرایندهای بدن انسان وابسته دائما محیط اطراف تعامل دارند بنابراین روش درمانی پیشگیری مبارزه درمان بیماریها دنبال ناهماهنگی بدن محیط اطراف میگرددهمچنین روش چند چارچوب فلسفی چون نظریه ژنگفو نظریه یینینگ پنج عنصر بنیادی بناشدهاست روش همیشه یک ساختار علمی فعالیت نمیکند ولی بعضی فعالان روشها تلاشهایی نمودهاند ساختاری دانش پزشکی شهودی جای دهندطب گیاهی چینیطب گیاهی چین جنبههای مهم طب سنتی چین تمرکز بازگرداندن توازن انرژی بدن روح روان حفظ سلامت جای درمان یک بیماری خاص شرایط طبی استاز آنجا داروهای گیاهی چینی استفادههای زیادی قرار میگیرند پزشکان استفادههای مختلف توصیه میشوند تفاسیر اظهار نظر کلی طب چینی کار مشکلی ست برخی گیاهان عصارهها هنگامی علاجهای اصلی ترکیب میشوند نقش مهمی پیشگیری سرطان درمان همچین درمان سایر بیماریها دارند حال تحقیق بیشتری لازم اثر بخشی مواد منحصربهفرد دادگیاهدرمانیطب گیاهی چینی اساس تفکر برخیها ریشه مفاهیم غربی ندارد بیماریهای انسان همگی ناشی پیشگیریهای پایهای پزشکان حال تلاش درمان جلوگیری عدم تعادل جمله بیماریهای سرطان بیماریها ترکیب پیچیدهای گیاهان داروئی مواد معدنی عصاره گیاهان طب گیاهی چینی گیاهانی نظیر قارچ گانودرما انگلیسی ganoderma آسترانگالوس انگلیسی astragalus جینکو انگلیسی ginkgo جنسنگ انگلیسی ginseng چای سبز الئوترو انگلیسی eleuthero عنوان سیبریان انگلیسی siberian شناخته ترکیبهای مختلف صدد بازگرداندن تعادل توازن بدن ترکیبات گیاهی پیشگیری درمان اختلالات هورمونی عفونتها اختلالات تنفسی تعداد زیادی بیماری مؤثر برخی پزشکان ادعا میکنند گیاهان قدرت پیشگیری درمان بسیاری انواع سرطان دارندبسیاری داروهای چینی ادعای درمان سرطان نمیکنند گیاهان دارویی درمان ریشههای اصلی مانند اشعه درمانی شیمی درمانی آنکولوژیست انگلیسی oncologists تجویز میشوند ادعا میکنند درمانهای گیاهی کاهش عوارض جانبی معالجه استاندارد سرطان کنترل درد بهبود کیفیت زندگی تقویت سیستم ایمنی بدن کمک برخی موارد باعث توقف رشد گسترش تومور میشودیکی اهداف جنبههای طب گیاهی چینی بازگرداندن تقویت ایمنی مقاومت بیماری درمانهای اسم نامیده میشوند فو ژنگ انگلیسی Fu Zheng فو ژن انگلیسی Fu Zhen عنوان مکمل درمانی نظر گرفته کاهش عوارض جانبی ریشههای اصلی معالجه سرطان قرار میگیردداروهای گیاهیدر چین بیش ۳۲۰۰ گیاه ۳۰۰ عصاره مواد معدنی حیوانی بیش ۴۰۰ فرمول مختلف قرار میگیرد فرمولهای گیاهی ممکن ۴ ۱۲ مواد مختلف مواد میتواند شکل چای پودر قرص تنتور عصارههای الکلی گیاهان شربت تهیه شوندطب گیاهی چینی معمولا تعدادی گیاه داروئی عصاره مواد معدنی حیوانی ساخته بهطور معمول ۱ ۲ گیاه شامل میشوند گفته بیشترین تأثیر مشکلات حین معالجه دارد سایر ترکیبات فرمول درمان جنبههای جزئی مشکل هدایت فرمول بخشهای خاصی بدن ساخته شدهاندبا افزایش محبوبیت طب گیاهی بسیاری گیاهان چینی حال حاضر صورت جداگانه فرمولها فروخته میشوند ایالات متحده گیاهان فرمولهای گیاهی چینی اغلب فروشگاههای مواد غذایی بهداشتی داروخانهها پزشکان طب گیاهی خریداری میشوندطبیب سنتی چینی قبل انتخاب مخلوطی گیاهان یک بیمار مبتلا بهطور معمول علائم پرس جو بررسی بیماری میپردازد کار اغلب تمرکز پوست مو زبان چشم نبض صدا منظور تشخیص عدم تعادل بدن میدهدتاریخچه گیاهدرمانی چینیفرهنگهای بومی سراسر جهان بهطور سنتی حفظ سلامت درمان بیماری طب گیاهی چینی بخشی فرهنگ چین ریشههای قبیلهای میگردد ۲۰۰ سال قبل میلاد طب سنتی چین بصورتی پایدار محکم تأسیس قرن اول میلادی یک لیست گیاهان دارویی فرمولاسیونهای گیاهی تهیه توسعه یافتکتاب چینی کلاسیک گیاهان دارویی دوران فرمانروایی مینگ سال ۱۱۵۲ ۱۵۷۸ لی شی ژن انگلیسی Li ShiZhen نوشته کتاب نزدیک ۲۰۰۰ گیاه عصاره ذکر آخرین چاپ کتاب فارماکوپیا انگلیسی Pharmacopoeia جمهوری خلق چین سال ۱۹۹۰ نام کاربرد بیش ۵۰۰ گیاه منفرد عصارهها نزدیک ۳۰۰ فرمولاسیون پیچیده آمدهاستهمانطور طب رایج غرب شرق گسترش یافتهاست برخی شیوههای پزشکی سنتی چین عنوان فرهنگ عامه نظر گرفته سال ۱۹۴۹ دولت چین سنت طب غربی حمایت طب گیاهی چینی اولین بار سال ۱۹۷۰ توجه گسترده ایالات متحده قرار گرفت امروزه دست کم ۴۰ کشور پزشکانش مجوز طب شرقی دارند حدود ۵۰ دانشکده طب شرقی ایالات متحده آمریکا تأسیس استمنابعWikipedia contributors Traditional Chinese medicine Wikipedia The Free Encyclopedia بازیابی ۲۰ ژوئیه ۲۰۰۶'})), (49588, (('medicine', 12.070965368995463), {'url': 'https://fa.wikipedia.org/wiki?curid=300848', 'title': 'آمپیسیلین', 'text': 'آمپیسیلین رده درمانی آنتیبیوتیکهای بتالاکتاماشکال دارویی کپسول شربت آمپولموارد مصرفآمپیسیلین داروهای خانواده پنی سیلینها دسته بتالاکتامها دارو همانند آموکسیسیلین رده آمینوپنیسیلینها خصوصیات مشابهی آموکسیسیلین دارد جذب خوراکی مراتب کمتری دارد رو درمان عفونتهای گوارشی ادراری صورت تزریقی مصرف میشودمکانیزم اثراین دارو اتصال پروتئین متصل شونده پنیسیلین PBP باعث مهار ترانس پپتیدازها باعث ممانعت ساخت پپتیدو گلیکانهای دیواره سلولی باکتری تخریب دیواره سلولی باکتری آمپیسیلین بتالاکتاماز حساس باکتریهای تولیدکننده بتالاکتاماز برابر مقاومنداثر ضدمیکروبیاین دارو افزون عملکردی همانند پنیسیلین دارد علت تغییرات شیمیاییاش طیف ضد میکروبیش گسترش یافته توانایی اثر شماری باکتریهای گرم منفی داردمقاومتمقاومت دارو مناطق جغرافیایی خاصی دیده بهطور کلی ارگانیسمها نسبت آمپیسیلین مقاومندکاربردهای بالینیاین دارو بسیاری عفونتهای حساس کاربرد دارد شامل عفونتهای صفراوی برونشیت اندوکاردیت عفونتهای گوارشی تنفسی لیستریوزیس عفونت استرپتوککی حین زایمان پریتونیت سپتیسمیا تب تیفوئید پاراتیفوئید عفونتهای ادراریبا حال بروز مقاومت بسیاری میکروبها کاربرد دارو عنوان خط اول درمانی کاهش داده استعوارض جانبیشبیه پنیسیلین جی بوده شایعترین عارضه راش پوستی کهیری ماکولوپاپولر ویژه آمپیسیلین آموکسیسیلین راش اریتماتوز ماکولوپاپولر معمولا ۷ روز تجویز دارو مشاهده قابل توجه راش مصرف سایر بتالاکتامها ممنوع نمیکند ولی هشداری تست پوستی حساسیت قبل مصرف دیده راش خصوص افراد مبتلا مونونوکلئوز عفونی EBV glandular fever سایر اختلالات لنفوئید همچون لوسمی لنفی بیماران دچار اچآیوی عوارض گوارشی شامل تهوع استفراغ اسهال مصرف همزمان دارو آلوپورینول باعث افزایش احتمال ایجاد راش میشودتداخل داروییترکیب آمپیسیلین سدیم دارو آمینوگلیکوزیدها تداخل دارد مصرف همزمان توصیه نمیشودمنابعمقاله جامع جهان دگرگونی آمپی سیلین دکتر عادل بهنام پور دی ماه 97 Health benefits depend on the best medicine for the infection Dr Adel Behnampour is a specialist in infectious diseases and a senior member of the World Health Organization'})), (10395, (('medicine', 12.070965368995463), {'url': 'https://fa.wikipedia.org/wiki?curid=39923', 'title': 'فیزیک پزشکی', 'text': 'فیزیک پزشکی شاخهای فیزیک کاربردی مفاهیم کاربرد مجموعه علوم فیزیک تشخیص درمان پزشکی بررسی حرفه فیزیک پزشکی اینکه ماهیتا زمره علوم پایه پزشکی سال ۲۰۰۸ کنون استاندارد بینالمللی شاخهبندی مشاغل سازمان بینالمللی کار یک تخصص بالینی محسوب میگرددفیزیک پزشکی قالب رشته علوم پرتودرمانی حفاظت برابر پرتوها پرتوشناسی تشخیصی زیرشاخههای همانند سی تی اسکن ام آر آی غیره پزشکی هستهای دربرمیگیرد عین حال جهت حرفه پیشه مهندسی پزشکی بیوفیزیک مستقل تحصیلکردگان دانشآموختگان شاخه علمی خدمات بالینی مراکز درمانی کنترل کیفیت محافظت تشعشع پژوهش توسعه فعالیتهای دانشگاهی همانند آموزش رزیدنتهای پزشکی کار مشغول میشوند رشد فیزیک پزشکی زیرشاخههای سالهای اخیر سیر صعودی روبرو نمونه تصویربرداری مولکولی زیرشاخههای فرعی رشتهاست امروزه تنهایی یک صنعت پنج میلیارد دلاری استحرفه فیزیک پزشکی صورت کنونی ریشه سالهای پایانی قرن نوزدهم کشف رادیواکتیویته پرتوهای یونیزه کننده دارد ویژه سه جایزه نوبل سالهای ۱۹۰۱ فیزیک ۱۹۵۲ فیزیک ۱۹۴۳ شیمی تأثیر مستقیمی پیدایش شاخه دانش داشتند حالی سوی فیزیک پزشکی نوبه باعث دریافت سه جایزه نوبل فیزیولوژی پزشکی سالهای ۱۹۷۹ ۱۹۷۷ ۲۰۰۳ شددر ایران همان آغاز تأسیس دانشگاه تهران سال ۱۳۱۳ تدریس دانش متخصصان ایرانی کشور آغاز گشت تربیت نیروی متخصص فیزیکدان پزشکی مستلزم تحصیلات فراتر کارشناسی ایران رشته هنوز یک رشته نوپاست ولی همانند سایر کشورها حال گسترش فعالیت استامروزه بیش ۱۸۰۰۰ فیزیکدان پزشکی بهطور رسمی سراسر جهان مشغول کار حالی بهطور سنتی فیزیک رشتهای تحت تسلط مردان زنانی توانستهاند فیزیک پزشکی موفقیتهای چشمگیری نام ثبت کنند بهطور مثال میان افرادی رسمیت شناختهشدن رشته سازمان بینالمللی کار تلاش فراوان نمودهاند اعظم نیرومندراد دانشگاه جرجتاون نام بردتعریفدانشکده پزشکی دانشگاه کنتاکی فیزیک پزشکی شاخهای کاربردی دانش فیزیک تعریف کاربرد پرتوهای یونیزان غیر یونیزان تشخیص درمان بیماریها فیزیک پزشکی صورت عملی نظری میتواند بهطور مستقیم معاینه بیماران تشخیص درمان بیماریها مرتبط شوددانشگاه پردیو فیزیک پزشکی صورت تعریف شاخهای کاربردی فیزیک کاربردهای انرژی تشخیص درمان بیماریها سر کار دارد الکترونیک پزشکی مهندسی زیست فیزیک بهداشت کنترل محافظت پرتو رابطه نزدیکی دارددانشگاه دوک ایالت کارولینای شمالی فیزیک پزشکی چنین تعریف میکندتقسیمبندیدر اکثر کشورهای جهان فیزیک پزشکی امروزه نظر حرفه عمدتا شاخه تصویربرداری پزشکی پرتودرمانی تقسیم میگردد حال فیزیک پزشکی نوین گستره قابل توجهی دانشها فناوریهای متفاوتی پوشش میدهد دربرگیرنده موضوعات مباحث متعددی رادیوبیولوژی گرفته دزیمتری پردازش سیگنال امآرآی همین دلیل دشوار بتوان مرزهای مشخصی تعریف معمولا فیزیک پزشکی نظر آکادمیک چهار دسته گوناگون طبقهبندی میکنند مشخصات یک بخشها جداگانه پی آمدهاند رابطه متقابل شاخهها یکدیگر نمودار ون نمایش دادپرتوشناسی تشخیصیفیزیک پرتوشناسی تشخیصی شاخه فیزیک پزشکی مدالیتههایی همچون سی تی اسکن ام آر آی تصویربرداری تشدید مغناطیسی سونوگرافی ماموگرافی فلوروسکوپی رادیوگرافی معمولی سر کار فیزیک پرتوشناسی زیرمجموعه شاخه فیزیک پزشکی طراحی ضمانت کارکرد صحیح کنترل کیفیت اینگونه دستگاهها عهده متخصصان فیزیک پزشکی میباشدحفاظت برابر پرتوهافیزیک بهداشت حفاظت تشعشعی شاخه فیزیک پزشکی مباحثی تمرکز محاسبات کنترل کیفیت بهویژه دزیمتری شرایط محافظت پرتوهای یونیزان محیطهای متفاوت سروکار دارد طراحی سیستمهای حفاظتی بخشهای رادیوتراپی پرتوافکن بیمارستانها وضع قوانین پروتکلهای کار رادیوایزوتوپهای گوناگون ضایعات هستهای سطح کشوری حتی مسئولیت ضمانت سامانههای پوششی حفاظتی راکتورهای هستهای وظایف کارشناسان فیزیک بهداشت جمله مسئول فیزیک بهداشت RSO میباشدپرتودرمانیفیزیک پرتودرمانی پزشکی معضلات زیادی بهطور مثال بسیاری سرطانها نام برد پرتوزایی گاما الکترون پروتون نوترون مداوا حتی معالجه میشوند مسئولیت عملکرد تضمین کارکرد اینگونه سیستمها عهده متخصص رادیوتراپی واقع بیشتر شاغلان رشته عضوی تیمهای بالینی غدهشناسی پرتوی فرم نوین متخصصان رشته بیشتر دستگاههای پرتوزایی همچون چاقوی گاما سایبر نایف پروتون درمانی لیناک توموتراپی مطالعه اشتغال دارند زمینههایی مانند براکیتراپی تخصص میگیرند نقش مسئولیت متخصصان فیزیک پزشکی سازمان بهداشت جهانی رسمیت شناخته روشهای همانند پرتودرمانی سرطان لیزر روشهای حرارتی گاهی شاخه بررسی میشوندپزشکی هستهایفیزیک پزشکی هستهای مدالیتههایی نظیر اسپکت پت اسکن سامانههای ترکیبی همچون پتسیتی اسپکتسیتی روشهای تصویرسازی مولکولی سروکار دارد واقع شاخه زیرمجموعهای پرتوشناسی تشخیصی آنجا مکانیزم تولید پرتو شیوه خلاف منشأ فتوالکتریکی عبوری منشأ نشر گسیل داخل دارد شاخه بیشتر جدای سایر مدالیتههای متعارف پرتوشناسی دانستهاندوجه تمایز مهندسی پزشکیاز لحاظ علمی آموزشیبین مهندسی پزشکی فیزیک پزشکی مرزهای مشخصی نمیتوان تعیین اغلب رشتههای طبیعتا اشتراکات بسیاری وجود دارد شاید بتوان گفت فیزیک پزشکی اساسا یک علم کاربردی حرفه پزشکی استاز یک دیدگاه پژوهش توسعه مهندسی پزشکی مسبب پیشرفت سریع تکنولوژی افزایش روزافزون دستگاههای تخصصی بیمارستانها کلینیکها دانست بهطور مثال متخصصان مهندس کسانی کدهای برنامههای نرمافزاری الگوریتمهای پویشگر ام آر آی نوشته مدارهای الکترونیکی قطعهای یک دستگاه ماموگرافی طراحی کرده پژوهش ساخت تجهیزات بهتر پیشرفتهتری سنجش گلوکز میدهند متخصص فیزیک پزشکی کسی کارایی همان الگوریتم جدید پویشگر ام آر آی کاربرد معینی مثل تصویر برداشتن دیوارههای کرنری قلب میآزماید یافتن روشی بهتر ماموگرافی سینه هنگام پرتودرمانی مثلا کم زیاد کردن انرژی جریان پرتوها ابداع شیوهای جدید تلاش بهکارگیری تجهیزات جدید سنجش گلوکز پاسخ دادن پرسشهای علمی ماهیچههای بدن کوشش میکندبه بیان حالی تمرکز مهندسی پزشکی تکنیک بهبودسازی فناوری تجهیزات پزشکی تحقیقات مربوط فیزیک پزشکی یک دانش انتقالی یک حرفه کاربردی محسوب میگردد واقع فیزیک پزشکی فناوری بهدستآمده مهندسی پزشکی سعی پاسخ گفتن پرسشهایی دارد نیاز درک همزمان عمیقتری علم فیزیک آناتومی فیزیولوژی بدن انسان دارد همین فیزیک پزشکی بیشتر رسته رشتههای پایه پزشکی نتیجه زیرشاخههای دانشکدههای علوم پزشکی شمار میآیدبرای نمونه برخی سؤالاتی زمینه مطالعات فیزیک پزشکی چنین استاین حالی مهندسی پزشکی موضوعات نمونه بیشتر قبیل مهندسی بافت مهندسی سلول مولکول بیوانفورماتیک فناوری نانو اعضای مصنوعی هستنداز لحاظ اشتغالبر خلاف لحاظ علمی مهندسی پزشکی فیزیک پزشکی اشتراکات گوناگونی هست کشورهای پیشرفته لحاظ اشتغال تفاوتهای مشخصی وجود دارد انجمن فیزیک پزشکی آمریکا اشتغال فیزیک پزشکی سه حوزه تعریف کردهاستمحور اول خدمات بالینی نوعی اشتغال فقط یک فیزیکدان پزشکی قادر لحاظ قانونی مجاز متخصصان رشتههای همانند مهندسان پزشکی غیره اشتغال حرفه نیاز تحصیلات دوره رزیدنسی مجوز ویژه مثلا اخذ گواهینامه بورد رادیولوژی آمریکا دارند موضوع بخشهای آتی همین مقاله تفصیل اشاره شدهاستتاریخچهتلاشهای اولیهتاریخ پیوند میان فیزیک پزشکی بسیار فراتر تصور عام پیشینه دارد واقع فیزیک پزشکی بسته اینکه چگونه تعریف ۱۰۰ ۵۰۰۰ سال قدمت دارد قدیمیترین نمونه کاربرد فیزیک پزشکی پاپیروس موسوم ادوین اسمیت یافت سندکه سنوات ۳۰۰۰ ۲۵۰۰ سال قبل میلاد مصر باستان نوشته شرحی مبتنی چگونگی سوزاندن یک دمل آبسه سینه کمک حرارت چندی پزشک معروف یونان باستان بقراط حکیم نخستین بار روشی سنجش دمای بدن پدید آورد روشهای ترموگرافی امروزی شباهت دارد جهت کهنترین نمونه تصویربرداری تشخیصی تاریخ محسوب ابن هیثم نخستین بار توصیفی صحیح فیزیک نور چگونگی کارکرد حس بینایی ارائه کرددر قرن ۱۸ میلادی لوئیجی گالوانی آلساندرو ولتا نشان دادند الکتریسیته منشأ فعل انفعالات ماهیچهای بدین طریق علم الکتروفیزیولوژی پایهگذاری کردند سپس سال ۱۸۲۵ نیل آرنوت پزشک زبردست اسکاتلندی کتابی جلد منتشر ساخت نام عناصر فیزیک ذکر مثالهایی آناتومی فیزیولوژی سعی تبیین اصول دانش فیزیک سال ۱۸۵۶ آدولف فیک ۱۸۲۹–۱۹۰۱ اثری منتشر ساخت نام فیزیک پزشکی روشهای نوین سنجش فیزیولوژی فیزیک ششها کاربرد ترمودینامیک فعل انفعالات بدن صحبت همین زمان مایکل فاراده بیمارستان سنت جرج لندن درسهایی تدریس میکرد پاریس فیزیکدانهایی مدارس علوم پزشکی استخدام درآمدندسالهای پایانی قرن ۱۹ سالهای بسیار مهمی تاریخ فیزیک پزشکی هانری بکرل نخست رادیواکتیویته دهه ۱۸۹۰ کشف بهدنبال برداشتهشدن اولین تصویر رادیوگراف اشعه ایکس بدن انسان ویلهلم رونتگن سال ۱۸۹۶ دانش فیزیک پزشکی نوین بهصورت امروزی پدید آمد طولی نکشید پیشرفتهای پیر ماری کوری کشف رادیوم عناصر پرتوده زبانزد خاص عام محافل علمی همان زمان نخستین نشریه تصویربرداری پزشکی آوریل سال ۱۸۹۶ میلادی چاپ Archives of Clinical Skaigraphy نام همان سال نخستین بار تاریخ تجهیزات رادیوگرافی میدان جنگ بهشیوه سیار شدافرادی مانند پیر ماری کوری آنکه پایهگذاران علوم پرتوی بهطور رسمی زمره متخصصان فیزیک پزشکی آنان یاد نمیشود همینطور افرادی بهمانند کلارنس دالی دستیار توماس ادیسون ویلیام کولیجبا آنکه اختراع تکامل تجهیزاتی همانند مولدهای اشعه ایکس نقش محوری داشتندبیشتر بهعنوان افرادی یاد میشوند پهنه دانش پرتوی صرفا نقش ایفا کردند اینکه بهعنوان متخصص فیزیک پزشکی محسوب شوند واقع افتخار اولیه شاید بتوان افرادی همچون سرگرد استنلی فیلیپس سال ۱۹۲۷ بیمارستان سلطنتی سرطان لندن خدمت همینطور سیدنی راس نام برد سال ۱۹۱۳ میلادی نخستین بار رسما یک بیمارستان عنوان فیزیکدان استخدام شخص نخستین بار دستگاه پرتودرمانی رادیومی یک کولیماتور بهره برد پیشروان حرفه فیزیک پزشکی فرانک هاپوود بیمارستان سنت بارتولومیو گیلبرت ستد بیمارستان گی انگلستان سال ۱۹۳۲ میلادی مجموعا دوازده متخصص فیزیک پزشکی مراکز درمانی انگلیس حال خدمت بودند تعداد شروع جنگ جهانی دوم ۳۵ ۴۰ نفر افزایش پیدا کردمشخص نیست چه کسی نخستین بار تاریخ پرتوهای یونیزان مقاصد درمانی اولین کوششهای اینچنینی سال ۱۸۹۶ بازمیگردد ویکتور دسپن بهطور ناموفق سعی درمان سرطان معده پرتوهای ایکس نمود زمان پرتوها دارای انرژی کافی نبودند همین دلیل پرتودرمانی فقط غدههای سطوحی امکانپذیر مینمودند البته وضعیت ابداع تجهیزات ویژه ۲۰۰ کیلوولتی سال ۱۹۲۲ میلادی دچار دگرگونی همان سال یک جراح اتریشی نام لئوپولد فرویند چگونگی درمان یک خال گوشتی پرتوهای اشعه ایکس نخستین بار انجمن پزشکی وین نشان داددر سال ۱۹۰۱ میلادی نخستین گزارش ابداع روش براکیتراپی محافل علمی منتشر گردید دوازده سال سال ۱۹۱۳ یک فیزیکدان مجاری نام جرج دهوسی نخستین بار روش تریسر تصویربرداری ابداع نمود ده سال موفق روش گیاهان بهکار گیرد دلیل ابداع همین روشها سال ۱۹۴۳ برنده جایزه نوبل شیمی گردید رواج یافتن اینگونه کاربردها بهطور روزافزون افرادی همانند رولف سیورت مسئله پایهای پراهمیت استانداردسازی روشها سنجش پرتوها پرداختند بعدها واحد دز سیورت افتخار نامگذاری شدورود پزشکی هستهایاولین آزمایش تزریق رادیوایزوتوپ تصویربرداری یک انسان بهدست هرمان بلومگارت سومن وایس دانشگاه هاروارد گرفت آزمایش سال ۱۹۲۷ کمک یک اتاقک ابری رادون گرفت دهه ۱۹۳۰ شاهد ساخت شتابدهنده سیکلوترون بهدست ارنست لورنس باعث ساخت تکمیل سیستمهای رادیوتراپی مدرن وجود تلاشهای فراوان آزمایشهای وایس بلومگارت رادون موفقیتآمیز نبودند پژوهشگران آزمایشگاه ملی لارنس برکلی بودند نخستین بار توانستند موفقیت یک رادیوایزوتوپ محیطی بالینی بهره ببرند کمک سیکلوترون معروف ایزوتوپ ید۱۳۱ تولید کردند پروژههای تیروئیدی بهکار رفت مدت کوتاهی همین ایزوتوپ درمان سرطان تیروئید پرکاری تیروئید شدیکی نتایج پروژه منهتن اواخر دهه ۱۹۴۰ دستیابی قابلیت تولید رادیوایزوتوپ میزان کافی کاربردهای پزشکی حالی جان لورنس برادر ارنست لورنس مشغول تحقیق روشهای درمانی رادیوایزوتوپ فسفر۳۲ دانشگاه برکلی بندیکت کاسن یک فیزیکدان نیویورک اولین دستگاه اسکن خطی سال ۱۹۵۱ دانشگاه یو سی ال ای اختراع دستگاه اختراعی اواخر دهه ۵۰ میلادی اوایل دهه ۷۰ میلادی پراستفادهترین ساخته دست بشر تصویربرداری اندام داخلی بدن همین امروزه برخی کاسن بهعنوان پدر تصویربرداری بدن نام میبرنداز سوی سال ۱۹۵۱ هارولد جانز کانادایی اولین بار چشمههای کبالت۶۰ درمان بیماران سیستمها بهدست لارس لکسل سوئدی تکامل پیدا بهصورت چاقوی گامای امروزی آمد اهمیت سیستمها پزشکی نوین گونهای حکومت کانادا افتخار یک تمبر یادبود سال ۱۹۸۸ منتشر ساخت هل انگر سال ۱۹۵۸ دوربین انگر دانشگاه برکلی ابداع علاوه رادیوایزوتوپ تکنیتیوم۹۹m ۱۹۶۴ تیم متشکل پل هارپر رابرت بک دانشگاه شیکاگو باعث ایجاد نقطه عطفی تاریخ فیزیک پزشکی شددر دهه ۷۰ میلادی فناوری سیستمهای پت اسکن بهدست مایکل فلپس دانشگاه واشینگتن سنت لوییس بهکار گرفته همان دوره دیوید کوهل گروه همراهش دانشگاه یو سی ال ای توانستند دانش بهکارگیری اسپکت نمایش بگذارندپیدایش شیوه تصویربرداری نوینماموگرافی شیوه امروزی بهخصوص شیوه آزمایشی نخست اواخر دهه ۱۹۵۰ مرکز سرطان ام دی اندرسون دانشگاه تگزاس باب ایگن ابداع گردید نوآوریهای همانند افزایش mA همزمان کاهش kVp فیلم تکامولسیونی مقالهای سال ۱۹۵۹ سپس کتابی نام ماموگرافی سال ۱۹۶۴ پرده برداشتهمزمان تکامل مدالیتههای پت اسپکت دهه ۶۰ ۷۰ میلادی سیستمهای سی تی اسکن ام آر آی بهسرعت حال ترقی بودند بهطوریکه گودفری هاونسفیلد آلن کورماک پال لاتربور پیتر منسفیلد تکمیل همین سیستمها جایزه نوبل سالهای ۱۹۷۹ ۲۰۰۳ نائل نمودند اداره پست حکومت آمریکا سال ۱۹۹۹ انتشار تمبری یک تصویر ام آر آی مغز پویشگرها افتخارات قرن بیستم نامیددر اواخر دهه ۹۰ میلادی آغاز قرن جدید ادغام سیستمهای تصویری آناتومیکالفیزیولوژیکی باعث ایجاد جهش بزرگ دیگری دانش سیستمهای پتسی تی اسپکتسی تی نوع سیستمهای پتسی تی اول بار دیوید تاونسند زمان دانشگاه ژنو اقامت رونالد نات شرکت CPS Innovations شهر ناکسویل تنسی پایهریزی شدند سال ۱۹۹۸ نخستین سیستم آزمایشی ارزیابی بالینی انستیتو ملی سرطان ایالات متحده آمریکا مرکز درمانی دانشگاه پیتسبورگ نصب سال ۲۰۰۱ نخستین سیستم پتسی تی وارد بازار سه سال چیزی حدود ۴۰۰ دستگاه سراسر جهان نصب گردیددر دهه نخست قرن جدید پرتودرمانی تحولات مهمی رخ میان روشهای نوینی همانند پروتوندرمانی اشاره رفتهرفته سالیان مراکز بالینی اروپا آمریکا فراگیر شدنددر ایراناستفاده مواد پرتوزا پزشکی ایران سنجش مقدار ید رادیواکتیو سال ۱۳۳۹ بهوسیله یک شمارشگر گایگر آزمایشگاه پیمان مرکزی دانشکده علوم پزشکی تهران آغاز راستا یک کارشناس بریتانیایی نام مالکوم کاتبرت نوکس سهم بزرگی پیشرفت کار پزشکی هستهای ایران ایفا یاری دکتر نظام مافی اولین بار سال ۱۳۴۰ یک پویشگر تیروئید تحقیقاتی رسانید پایههای پزشکی هستهای ایران بنا نهاد سال ۱۳۴۶ مرکز پزشکی هستهای تحقیقات غدد مترشحه داخلی دانشگاه تهران تأسیس واقع اولین قدیمیترین مرکز پزشکی هستهای کشور محسوب امکانات بخش زمان حد یک دستگاه دوربین انگر تدریج مجهزتر گردیداز سوی سیستمهای رادیوتراپی لیناک نخست دهه ۱۳۵۰ ایران فراگیر شدند دیری نپایید اولین راکتور هستهای ایرانکه دانشگاه تهران امیرآباد بهدست برخی آمریکاییان ساخته بودشروع تولید رادیوایزوتوپهای پزشکی نمود نهایت سال ۱۳۷۰ انجمن فیزیک پزشکی ایران تشکیل سال ۱۹۹۳ ایران عضو سازمان بینالمللی فیزیک پزشکی گشت ایران سال ۲۰۰۷ میلادی ۹۳ عضو سازمان زمان تأسیس سازمان ایران سازمان انرژی اتمی ایران وظیفه تأمین پرتوداروهای نیاز درمان بیماران عهده داشتهاستاز متخصصان ایرانی فعال بیرون ایرانکه نقش بسزایی پیشرفت علم داشتندمیتوان عباس علوی نام برد دهه ۱۹۷۰ میلادی شاگرد اعضای تیم دیوید کوهل نامش ابداع سیستمهای اسپکت بههمراه دیده جامعه پزشکی هستهای آمریکا بهدلیل خدمات علمی گسترش سیستمهای پت اسکن سال ۲۰۰۴ بالاترین جوایز راکه جایزه دهوسی پیشبرد برجسته پزشکی هستهای استاهدا کردآموزش فیزیک پزشکیدر بیشتر کشورها جمله ایران رشته فیزیک پزشکی بیشتر مقطع کارشناسی ارشد بهبالا ارائه میگردد بسیاری کشورها کار کردن رشته دستکم گواهینامه کارشناسی ارشد نیاز مقطع کارشناسی وضع بهطور کلی گونه دیگری تمرکز آموزش بیشتر تربیت نیروهای تکنیسین بیشتر تحصیلکردگان تحصیلات کارشناسی رشته فیزیک فیزیک کاربردی بهترین رشته آمادهسازی ورود فیزیک پزشکی مراحل کارشناسی ارشد بهبالا میداننددانشجویان رشته معمولا مجموعهای دروس پرتوشناسی پرتودرمانی پزشکی هستهای رادیوبیولوژی فیزیک بهداشت کمیت کیفیتهای متفاوت بنا گرایش قدرت گرایشهای موجود مرکز دانشکده فرا میگیرند مفاد تعداد درسها سازمانهای مربوط کشور تنظیم تصویب میگردددر ایرانپس تأسیس دانشگاه تهران سال ۱۳۱۳ تدریس فیزیک طبی دانشکده علوم پزشکی محمود مرشدزاده آغاز گردید آزمایشگاه فیزیک پزشکی سال ۱۳۱۹ دکتر فرهاد پایهگذاری سرانجام سال ۱۳۴۵ آزمایشگاه فیزیک پزشکی نظر اداری گروه تبدیل منوچهریان مدیریت گروه عهدهدار گردیدامروزه ایران رشته فیزیک پزشکی چهارده دانشگاه مقطع کارشناسی ارشد بهبالا شش مرکز دکتری ارائه میگردد جملهجدول۱ دروس آزمون کارشناسی ارشد تعداد سؤال ضرایب درصد نمره اکتسابی رتبه اول آزمون سال ۱۳۸۷ وزارت بهداشت درمان آموزش پزشکی نشان میدهدجدول ۱ مفاد آزمون ورودی کارشناسی ارشد فیزیک پزشکی ایرانرزیدنسی پزشکی هستهای سه دانشگاه ایران ارائه میگردددر خارج ایراندر آمریکای شمالیدورههای کارشناسی ارشد دکترای PhD دکترای DMPدر کره جنوبی استرالیا ایرلند ایالات متحده آمریکا کانادا دورههای آموزشی فیزیک پزشکی بهسوی یک ساختار منسجم مشترک میروند کشورها داشتن کارشناسی ارشد دکتری مراکز تأیید سازمان CAMPEP واجد شرایط بورد ABR حال حاضر داشتن گواهینامه بورد ABR بورد رادیولوژی آمریکا معادل کار تمام مراکز درمانی متخصصان فیزیک پزشکی کشورها اجباری برخی ایالات آمریکا همانند نیویورک تگزاس هاوایی فلوریدا شرط حتی جنبه قانونی دارد ایالات دیگری حال گرفتن چنین سیاستهایی رفتهرفته انتظار میرود سیاست آموزشیاشتغالی آینده تمام آمریکا کانادا فراگیر شوددر حال حاضر دانشگاههای گوناگونی کشورهای پیشرفته رشته فیزیک پزشکی سطوح مقطع کارشناسی ارشد MMP MSc دکترای نوع PhD DMP ارائه میدهند برنامه شیوه درسی دانشگاهها باید تأیید کمپپ CAMPEP قرار داشته واقع شرط واجد شرایط بودن ثبت نام امتحان بورد گرفتن گواهینامه اشتغال بورد رادیولوژی آمریکا ABR داشتن مدرک کارشناسی ارشد دکترا رزیدنسی دانشگاه مؤسسهای تأیید کمیسیون کمپپ حال حاضر حدود ۷۰ دانشگاه آمریکای شمالی کره جنوبی ایرلند تأیید سازمان هستنددوره رزیدنسی کارشناسی ارشد دکتریهمه دارندگان مدرک کارشناسی ارشد دکتری قبل امتحان بورد باید دوره سه ساله تخصص رزیدنسی فیزیک پزشکی بگذرانند غیر صورت واجد شرایط بورد ABR نخواهند دورهها معمولا سال سوم مفاد درسی پزشکی هستهای دربرمیگیرند دورههای رزیدنسی میتوانند مراکز درمانی برگزار شوند شرکتهای تأیید خصوصیجنبه شغلیاز سال ۲۰۰۸ کنون سازمان بینالمللی کار حرفه فیزیک پزشکی زمره مشاغل شناختهشده علوم پزشکی قرار داده امر پی تلاشهای گسترده پیوسته انجمن فیزیک پزشکی آمریکا سالهاست سعی گنجاندن شروطی قوانین بیمه آمریکا داشتهاست نمونه شرط لزوم ضروری حضور یک فیزیکدان متخصص فرایند کسب اعتباری سازمانهایی مثل کمیسیون مشترک کالج رادیولوژی آمریکا نام برد افرادی رشته فیزیک پزشکی کشورهای غربی تحصیلات دورههای آکادمیک میگذرانند معمولا جذب بیشتر سه گونه زمینه شغلی میشوند۱ مشاوره خدمات سرویسدهی بخش خصوصی۲ پژوهش تدریس دانشگاه۳ فیزیکدان پزشکی بالینی بیمارستانجدول۲ طیف گستردهتری انواع فرصتهای شغلی ممکن رشتههای فیزیک پزشکی پایه تعاریف انجمن فیزیک پزشکی آمریکا گروهبندی سه گرایش عمده نظر شغلی فیزیک پزشکی پرداخته شدهاستبیشتر شاغلان مربوط بیش یک نوع گرایش سه گرایش پیشگفته فرصت شغلی مییابند برخی اوقات شاغلان رشته جذب صنعت حتی پستهای مدیریتی اجرایی میشوند مثلا گاهی برخی دانشآموختگان رشته میتوانند پژوهشگر نویسنده دنبالههای پالسی دستگاههای ام آر آی یک شرکت پژوهشیتولیدیشوند جهت ویژه فیزیکدانان پزشکی تشابه زیادی مهندسان پزشکی دارند وجه تشابه کشورها تفاوت تنوع داردتکنولوژیستهای رادیولوژی رادیوتراپی بیشتر کشورهای جهان دارای مدرک رشته جدا میباشند چند درسهایشان اغلب همان درسهای فیزیک پزشکی سطوح ابتداییتر مشابها اینکه فیزیکدان پزشکی نقش مسئول امور حفاظت پرتو RSO میتواند مشغول کار اغلب مسئولیت حفاظت پرتو متخصصان رشته فیزیک بهداشت قوانین امتحان ویژه برد دارددر نهایت بیشتر دانشآموختگان رشته پستهای ترکیبی دست مییابند مثلا مشغول کارهای بالینی میشوند کنترل کیفیت تجهیزات یک بیمارستان وظایف دانشگاهی دارند مانند تدریس تربیت نیروهای جوان اعم دانشجویان دکتری رزیدنت پژوهشهای علمی میدهند حتی گاهی مشاور یک شرکت تجهیزات پزشکی مرتبط مثلا ساخت فانتومهای جدید میشوند فرصتهای شغلی رشته بنا اقسام رشته فیزیک پزشکی متفاوت امکانپذیر استنکته قابل توجه اینکه دلیل شروط وضعشده جدید آمریکا سال ۲۰۱۴ سو کمبود متخصص رشته بهخصوص شاخه تصویربرداری بهشدت وضعیت حادی گرفته پیشبینی نیاز اینگونه متخصصان دستکم سطح آمریکای شمالی ده سال آینده بسیار احساس برخی منابع خبر رشد سالیانه ده درصد بهبالا رشته دستکم سال ۲۰۲۲ میلادی دادهاند اتفاق نظر وضعیت فعلی معنای وجود مشاغل فراوان بازار کار عالی رقابت بسیار شدید قبولی دورههای رزیدنسی است۱اشتغال شرکتهای خدماتیدر کشورهای غربی بسیاری فارغالتحصیلان شاغلان رشته فیزیک پزشکی جاهایی تأسیس پرداخته استخدام میشوند شرکتهای خدماتی مشاوره فیزیک پزشکی معروفند شرکتها کارشان آزمودن کنترل کیفیت سالیانه دستگاههای مؤسسات بیمارستانی کلینیکهای خصوصی صورت حقالزحمهای دریافت مزد ازای مقدار ساعت کار بیشتر شاغلان رشته آزمون ABR گذراندهاند گاهی نقش مشاور بهطور موقت یک بیمارستان وظیفه میکنند بلکه بیمارستان مذکور بتواند سازمانهای بهداشت ایالت سازمانهای فدرال آمریکا مجوز فعالیت دریافت تمدید مجوز کند۲اشتغال آکادیمیاپس گذراندن دورههای آموزشی متخصصان فیزیک پزشکی میتوانند زمینههای متفاوتی آکادیمیا مشغول بهکار شوند بستگی فرصتهای ارائه دانشگاه محل تحصیل تواناییهای علمی عملی فرد دارد شاغلان گرایش دانشگاهها مؤسسات پژوهشی خصوصی دولتی سمت پژوهشگر استاد دانشگاه اشتغال مییابند۳اشتغال محیطهای بالینیکار شاغلان گرایش مانند کار فیزیکدانهای پزشکی شرکتهای خدماتی تفاوت اینجا فیزیکدان پزشکی بهطور دائم استخدام حقوقبگیر یک بیمارستان مراکز درمانی وابسته قرار دارد فرد فیزیکدان پزشکی بالینی میگویند وظایف فیزیکدان پزشکی بالینی انجمن فیزیک پزشکی آمریکا بهخوبی تعریف شدهاستاین افراد میتوانند مثلا مسئول کنترل کیفیت دستگاههای پرتو درمانی کلینیک مبارزه سرطان بیمارستان باشند اینصورت مثلا محاسبات دز جذبی دز معادل شکل پرتوهای رادیوتراپی درمان معضلات سرطانی میپردازند برخی ممکن کنترل کیفی عملکرد مدالیتههای دستگاههای پرتوی تصویری طبق موازین فنی قانونی بپردازند درمانگاهها جذب میشوند برخی عنوان مسئول فیزیک بهداشت یک بیمارستان مؤسسه استخدام میشوند ولی فیزیکدان پزشکی بالینی بیشتر پزشکان بخش ارتباط همکارانه دارد مثلا رادیوآنکولوژیست رابطه دزیمتری بیمار طرحهای پرتودهی بیمار همکاری مشاوره برخی افراد ممکن همزمان بهعنوان هیئت علمی پارهوقت اینگونه مراکز مشغول تدریس باشندجدول ۲ تعاریف انواع اشتغال فیزیک پزشکی طبق گروهبندی انجمن فیزیک پزشکی آمریکاآمار ارقامبر طبق گزارش دفتر آمار وزارت کار ایالات متحده آمریکا سال ۲۰۱۲ نزدیک ۲۱٫۰۰۰ نفر فقط ایالات متحده آمریکا شاخههای فیزیک پزشکی مشغول کار بودند طبق گفته انجمن فیزیک آمریکا میان ۸۵ متخصصان فیزیک پزشکی گرایش رادیوتراپی قرار دارند حالی رقم گرایش تصویربرداری ۱۰ پزشکی هستهای محافظت پرتو ۵ بودهاستهمچنین ۷۸ محیطهای بالینی بیمارستانها کلینیکها غیره ۹ محیطهای آکادمیک پستهای دانشگاهی ۴ بخش تحقیقات مؤسسات پژوهشی دانشگاهها قرار داشتند نمودار۱ آمار ارقام حقوقها درآمد فیزیکدانهای پزشکی سال ۲۰۱۵ چهار گروه شغلی آمریکا نمایش میدهداشتغال زنانبر خلاف رشتههای متداول فیزیک مهندسیکه بیشتر بهطور سنتی حیطه علاقه مردان بودهاسترشته فیزیک پزشکی رشتهای بسیار فعال زنان زمینه شمار چشمگیری زنان مشهور نام برد ۲۳ اعضای دائم انجمن فیزیک پزشکی آمریکا سال ۲۰۱۵ زنان بودندنشریاتنخستین نشریه تصویربرداری پزشکی آوریل سال ۱۸۹۶ میلادی چاپ Archives of Clinical Skaigraphy نام امروزه نشریات فراوانی طیفهای گوناگون رشته فیزیک پزشکی پوشش میدهند جدول برخی ژورنالهای معاصر پرتیراژ فیزیک پزشکی ناشر نمایش میدهدجدول ۳ برخی ژورنالهای گوناگون نشریات فیزیک پزشکی ناشر آنهادر ایراندر ایران مجله پزشکی هستهای ایرانکه سال ۱۹۹۳ ابتدا تنها زبان فارسی شروع فعالیت رسمی کرددر کنار مجله پرتو پژوه IJRRکه سال ۲۰۰۷ شروع فعالیت کردهو مجله علمیپژوهشی فیزیک پزشکی ایرانکه سال ۲۰۰۴ فعالیت آغاز نمودهاستاز مهمترین نشریات ادواری رشته محسوب میشونددر جاهای جهاندر جاهای جهان نشریات متفاوت متنوعی وجود دارند اینکه نشریات مربوط فیزیک پزشکی دقیقا چه شاخههایی چه مخاطبانی دربرمیگیرد تفاوتهای بسیاری دیده بهطور نمونه برخی نشریات تأکید جنبههای بالینی مفاهیم فیزیک پزشکی دارند جمله ژورنال رادیولوژی چاپ جامعه رادیولوژی آمریکای شمالی سال ۱۹۲۳ منتشر میتواند مهمترین نشریه قسم برخی نشریات صرفا جنبههای آکادمیک پایه پزشکی شاخهها تأکید دارند مهمترین نشریات تخصصی نوع شاید بتوان مدیکال فیزیکس چاپ انجمن فیزیک پزشکی آمریکا دانست برخی نشریات مدیران صنایع بیمارستانها سیاستگذاران مربوط نشریه رادیولوژی تودی چاپ سازمان ACR یک نمونه نوع برخی ژورنالها فقط آنلاین منتشر نسخه چاپی ندارند نشریه تخصصی فیزیک پزشکی بالینیکه سال ۲۰۰۰ فعالیت آغاز نمودهاستنمونه خوبی قسم نشریات آثار محققان ایرانی بیشتر نشریات دیده میشوداز نظر ضریب تأثیرگذاری مجله رتبهبندی نشریات معروف فیزیک پزشکی معمولا شاخهای نام radiology nuclear medicine and medical imaging سال ۲۰۱۵ اساس شاخص ۱۰ نشریهای بیشترین امتیاز کسب کرده جایگاههای نخست اختصاص دادند عبارتند ازجدول ۴ رتبهبندی نشریات فیزیک پزشکی جهانسازمانها انجمنهانخستین انجمن فیزیک پزشکی سال ۱۸۹۷ میلادی نام جامعه رونتگن لندن تشکیل انجمن پزشکها فیزیکدانها یک سطح عضو میپذیرفت امروزه انجمن مؤسسه پرتوشناسی بریتانیا نام دارد ولی سطوح جهانی مؤسسات گسترده فراوان دیگری حال فعالیت برخی مانند سازمان بینالمللی فیزیک پزشکی سطح بینالمللی برخی همانند انجمن فیزیک پزشکی آمریکا سطح یک کشور فعالیت دارند بزرگترین انجمنها نظر مشارکت متخصصان جامعه رادیولوژی آمریکای شمالی ساله بزرگترین گردهمایی پرتوشناسی جهان شهر شیکاگو ماه نوامبر برگزار نمونه گردهمایی سال ۲۰۱۵ ۵۱۹۲۲ متخصص شرکت کردنداز سوی برخی سازمانها مانند موسسه ملی تصویربرداری زیستپزشکی مؤسساتی دولتیاند برخی همانند اسپای کالج رادیولوژی آمریکا متعلق بخش خصوصی بوده بخش خصوصی ارتباط تنگاتنگی دارند ایران انجمن فیزیک پزشکی ایران سال ۱۳۷۰ کنون مسئولیت همگرایی متخصصان علوم فنون فیزیک پزشکی عهده داشتهاست سال گذشته انجمن فیزیک پزشکی ایران نزدیک ۳۰۰ عضو'})), (154872, (('medicine', 12.070965368995463), {'url': 'https://fa.wikipedia.org/wiki?curid=800926', 'title': 'غربال مولکولی', 'text': 'غربال مولکولی موادی منافذ ریز اندازۀ دقیق یکنواخت قرار دارند عنوان جاذب گازها مایعات مولکولهای کوچک اندازه کافی عبور طریق منافذ جذب سطحی حالی مولکولهای بزرگتر نیستند عمل فیلتر عادی متفاوت چون عمل غربال مولکولی سطح مولکولی استمثلا میدان پزشکی مطلوب قرص داخل شیشه آب دور آبی درهر حالت وجود داشته مایع گاز دلیل غربال ملکولی معمولا عنوان خشک نگهدار میشودمنابعDanilczuk M Długopolska K Ruman T amp Pogocki۰۱ ژانویه ۲۰۰۸غربال مولکولی پزشکی بررسی کوتاه دارویی شیمی ۸ ۱۳ ۱۴۰۷–۱۷Danilczuk M Długopolska K Ruman T amp Pogocki D January 01 2008 Molecular sieves in medicine Mini Reviews in Medicinal Chemistry ۸ ۱۳ ۱۴۰۷–۱۷'})), (155020, (('medicine', 12.070965368995463), {'url': 'https://fa.wikipedia.org/wiki?curid=802955', 'title': 'گندیدگی کبد', 'text': 'فاسیولوزیس نامهای فاسیو لیازیس فاسیولازیس دیستوماتوز فرسایش کبد گندیدگی کبد نامیده فارسی بنام کپلک کبد گوسفند معروف فاسیولوزیس یک بیماری مهم انگلی کرمی نوع ترماتد نامهای فاسیولا هپاتیکا فاسیولا ژیگانتیکا ایجاد میگردد پراکندگی نوع کرم نقاط مختلف جهان متفاوت استمیزبانهای نهایی انگل طیف وسیعی دارد بسیاری پستانداران علفخوار انسان میگیرد حلزونهای آب شیرین عنوان میزبان واسط چرخه زندگی انگل بهشمار میآیند اخیرا خسارت اقتصادی ناشی بیماری سراسر جهان۳۲ میلیارد دلار آمریکا برآورد بیماری اکنون بیماریهای انسان بهشمار میآید اساس اعلام سازمان جهانی بهداشت حدود ۲۴ میلیون نفر فاسیولا آلوده بوده ۱۸۰ میلیون نفر خطر آلودگی قرار دارندسببشناسیفاسیولوزیس کرم انگلی ترماتد نامهای فاسیولا هپاتیکا فاسیولا ژیگانتیکا ایجاد فرم بالغ کرمی انگل مجاری صفراوی کبد کیسه صفرا جایگزین فاسیولا هپاتیکا تمام نقاط دنیا یافت اندازه ۲–۳ سانتیمتر حالیکه فاسیولا ژیگانتیکا ۴–۱۰ سانتیمتر طول داشته پراکندگی محدود نواحی استوایی خاورمیانه آفریقا اروپای شرقی شرق جنوب آسیا استپراکندگی جغرافیایی بیماریاین بیماری گسترش جهانی دارد وقوع فاسیولوزیس حیوانات جاهایی بیشتر تراکم گاو گوسفند بالا فاسیولوز انسانی کشورهای حال توسعه استثنای غرب اروپا رخ میدهد وقوع بیماری بیشتر جاهایی شرایط رشد میزبان واسط فاسیولا یعنی حلزونهای آب شیرین مهیا موارد شیوع حاد بیماری ۲–۳ هفته طول کشیده اغلب فصول تابستان پاییز اتفاق میافتدفاسیولوزیس انسانیمطالعات اخیر فاسیولوزیس انسانی صورت مشکلات مهم بخش بهداشت عمومی مطرح وقوع فاسیولوزیس انسانی کشورهای واقع قارههای آمریکا اروپا آسیا آفریقا اقیانوسیه گزارش ۵۱ کشور آمار مبتلایان رو افزایش تجزیه تحلیل قوع بیماری سطح جهان نشان دادهاست رابطهای میان وقوع بیماری انسان حیوان انتظار سطح پایینی قرار دارد یعنی موارد شیوع بالای بیماری ضرورتا نواحی نیستند فاسیولوزیس نظر دامپزشکی مشکل ساز مثلا آمریکای جنوبی پرو بولیوی فاسیولوزیس انسانی حالت اندمیک دارد تعداد مبتلایان متوسط بالا ست فاسیولوزیس نظر دامپزشکی اهمیت کمی دارد حالیکه کشورهای آرژانتین اروگوئه شیلی فاسیولوزیس انسانی وقوع بسیار کم تک گیر دارداروپادر قاره اروپا فاسیولوزیس انسانی عمدتا کشورهای فرانسه پرتغال اسپانیا شوروی سابق رخ میدهد فرانسه مناطق مهم رخداد بیماری بهشکل اندمیک سالهای ۱۹۷۰ ۱۹۸۲ میلادی تعداد ۵۸۶۳ ابتلا فاسیولوزیس انسانی ۹ بیمارستان فرانسه ثبت شوروی سابق تقریبا تمام موارد گزارش مربوط جمهوری تاجیکستان بودند چندین مقاله وقوع بیماری کشور ترکیه اشاره اخیرا طرح پایش سرمی بیماری برخی مناطق کشور اجرا گذاشته سایر کشورهای اروپایی وقوع بیماری صورت تک گیر بوده اکثرا مربوط مواردی سفری نواحی اندمیک پذیردآمریکای شمالی مرکزی جنوبیوقوع فاسیولوزیس شمال قاره آمریکا صورت تک گیر ندرت اتفاق میافتد بخش مرکزی قاره بهخصوص کوبا پورتوریکو بیماری مشکلات بهداشت عمومی بهشمار میرود جنوب قاره بهخصوص کشورهای بولیوی پرو اکوادور فاسیولوزیس مشکلات جدی مردم کشورها ایجاد نمودهاست کشورهای برزیل آرژانتین اوروگوئه ونزوئلا کلمبیا علیرغم شیوع گسترده بیماری گاو وقوع انسان صورت تک گیر اتفاق استآفریقابجز بخش شمالی قاره بقیه قسمتهای بیماری کمتر گزارش بیشترین موارد بیماری جلگه رود نیل کشور مصر گزارش شدهاستآسیابیشترین موارد بیماری آسیا کشور ایران بهخصوص استان گیلان گزارش سایر نقاط قاره بیماری صورت تک گیر استاسترالیا اقیانوسیهدر استرالیا وقوع بیماری نادر بیماری نیوزیلند فاسیولوزیس هرگز گزارش نشدهاستفاسیولوزیس حیواناتفاسیولوزیس حیوانات کشورهای مختلف جهان مکررا گزارش شدهاستمنشأ آلودگی نحوه انتقال انسانوقوع بیماری انسان وجود میزبان واسط یعنی حلزون آبزی حیوانات اهلی علفخوار شرایط آب هوایی عادات غذایی انسان بستگی دارد گاو گوسفند وبز عنوان مخازن دایمی بیماری بهشمار میروند سایر حیوانات انگل آلوده میشوند ولی نظر انتقال انسان مهم نیستند مدفوع بیرون البته برخی نقط انتقال بیماری علفخواران وحشی انسان گزارش شدهاستتخم فاسیولا همراه مدفوع میزبان نهایی دفع البته تعداد تخمها بسته فصل سال متغیر نوزاد انگل بنام میراسیدیوم تخم خارج میزبان نهایی یعنی حلزون آبزی تهاجم قرار میدهد تخم حلزون بلعیده میراسیدیوم روده آزاد میراسیدیوم بدن حلزون سرکر تبدیل بدن حلزون وارد مرتع گیاهانی حاشیه محلهای تجمع آب مرتع روییدهاند تشکیل کیست میدهندخوردن گیاهان آبزی آلوده سرکر موجب آلودگی انسان انگل چون سرکرهای فاسیولا هپاتیکا سطح آب کیست تشکیل میدهند نوشیدن آب تصفیه نشده میتواند موجب آلودگی انسان گردد ورورد بدن متاسرکرها کیست خارج شروع مهاجرت داخل بدن مینمایند تحقیقات تجربی نشان دادهاست خوردن غذاهای تهیه کبد خام آلوده انگلهای نابالغ میتواند باعث آلودگی انسان گرددنحوه انتقال بدن حیواناتکاملا نظیر آنچه انسان گفته تغذیه گیاهان مرتعی حاشیه منابع آبی روییدهاند موجب آلودگی علفخواران انگل میشودمیزبانهای واسطمیزبانهای واسط فاسیولا هپاتیکا اغلب حلزونهای آبزی متعلق خانواده لیمنه ایده lymnaeidae میباشند گاهی حلزونهای آبزی خانواده پلانوربیده عنوان میزبان واسط فاسیولا هپاتیکا عمل کردهاندبیماریزاییایجاد عفونت میزبان نهایی شامل مرحله مرحله پارانشیمال مهاجرتی مرحله صفراوی مرحله پارانشیمال خروج کرمهای نابالغ سرکر کیست سوراخ کردن دیواره روده شروع کرمها سوراخ کردن دیواره روده حفره شکمی وارد طریق کبد سایر اندامهای احشایی میرسانند فاسیولا هپاتیکا تمایل زیادی بافت کبدی دارد ولی گاهی اندامهای غیرمعمول نظیر کلیه دیواره روده ریه حتی پوست پیدا جریان مهاجرت کرم داخل کبد بافت کبد منهدم مسیر مهاجرت کرمهای نابالغ واکنش التهابی رخ میدهد مرحله دوم مرحله صفراوی رسیدن کرمهای نابالغ مجاری صفراوی آغاز مجاری صفراوی کرمهای نابالغ کرم بالغ تبدیل خون تغذیه مینمایند شروع تخمگذاری میکنند نتیجه آسیب بافتی انسداد مجرای صفراوی عارضه بزرگ شدن هیپرتروفی مجاری صفراوی رخ میدهدعلایم درمانگاهیانسانعلایم بیماری انسان شامل چهار مرحله استحیواناتشدت علایم همیشه رابطه نزدیکی تعداد متاسرکر بلعیده دارد گوسفند معمولترین میزبان نهایی انگل بهشمار میرود علایم درمانگاهی چهار دسته تقسیم میشونددر آزمایش خون کمخونی کاهش آلبومین خون افزایش تعداد ائوزینوفیلها ائوزینوفیلی انواع حالات فاسیولوز مشاهده میگردد افزایش فعالیت آنزیمهای کبدی نظیر گلوتامات دهیدروژنازGLDH گاما گلوتامیل ترانسفراز GGT لاکتات دهیدروژنازLDH فرمهای تحت حاد مزمن بیماری ۱۲–۱۵ هفته بلع متاسرکرها مشاهده خسارات اقتصادی بیماری گوسفند شامل مرگ ناگهانی کاهش وزن کاهش تولید پشم علایم درمانگاهی بز گاو مشابه گوسفند وجود گاو مقاومت اکتسابی نسبت فاسیولا هپاتیکا مشاهده گوسالهها نسبت فاسیولوزیس حساس میباشند ولی بیش ۱۰۰۰ متاسرکر لازم شکل درمانگاهی بیماری ایجاد صورت علایم درمانگاهی مشابه گوسفند یعنی کاهش وزن کمخونی کاهش آلبومین خون آلودگی حدود ۱۰۰۰۰ متاسرکر مرگ رخ میدهد اهمیت اقتصادی بیماری گاو ضبط کبد گاو بازرسی کشتار کاهش وزن حیوان مربوط اسپورهای باکتری بنام کلستریدیوم نوای نوع بی گوسفند گاهی گاو بافتهای تخریب انگل شروع رویش کرده تکثیر باکتری موجب ترشح سم بداخل جریان خون بیماری سیاه مرض بیماری درمانی نداشته مرگ سریع حبوان پی دارد وجود اینکه کلستریدیوم نوای همواره محیط حضور دارد سیاه مرض مناطقی بروز جمعیت گوسفند کرم کپلک کبد بالا باشدمقاومت بیماریایجاد مقاومت نسبت عفونت انگلی چندین محقق گونههای مختلف حیوانی مطالعه مطالعات درک بهتر پاسخ ایمنی فاسیولا هپاتیکا کمک کرده ساخت واکسن علیه ضروری وجود مقاومت اکتسابی گاو موش رت گزارش ولی گوسفند وبز نسبت عفونت مجدد حساس میباشند هیچ گزارشی مبنی بروز مقاومت نسبت عفونت انسان دسترس نیستتشخیصمعمولترین روش تشخیص بیماری انسان مشاهده تخم فاسیولا مدفوع ارزش تشخیصی زیادی ندارد زیرا علایم کلینیکی مدتها قبل ظهور تخم مدفوع وجود میآیند بعلاوه صورت مصرف کبد آلوده عنوان غذا ممکن تخم مدفوع مشاهده نتیجه آزمایش مثبت کاذب حقیقت عفونت انگلی بدن فرد وجود ندارد ناشی رژیم تغذیهای اوست سالهای اخیر روشهای سرولوژیک تشخیص بیماری ایجاد میزان تشخیص بیماری کمتر یافتههایی نظیر وجود ائوزینوفیلی افزایش میزان آنزیمهای کبدی تأیید تشخیص کمک میکننددر حیوانات عمدهترین روش تشخیصی آزمایش مدفوع تشخیص تخم انگل مدفوع بههرحال تشخیص بیماری باید سایر یافتههای کالبدگشایی بیوشیمی وخونشناسی تاریخچه فصل وضعیت آب هوایی وجود انگل حلزونهای منطقه مد نظر قرار مهمترین یافتههای کالبدگشایی شامل تورم کبد خونریزی کپسول کبد وجود مسیرهای مهاجرت لارو انگل بافت کبد بعلاوه باید یاد فرم حاد بیماری گوسفند معمولا تخم مدفوع مشاهده نمیشود فقط فرمهای تحت حاد مزمن مقدار زیادی تخم مدفوع دیده حیوانات روشهای سرولوژیک جمله آزمایشهای الایزا تشخیص بیماری ایجاد وجود عفونت بسیار زود یعنی ۲–۴ هفته ایجاد عفونت تشخیص میدهنددرمان پیشگیریدر انسانتریکلا بندازولTRICLABENDAZOLE معمولترین داروی درمان فاسیولوزیس انسان استدر حیوانداروهای مختلفی حیوانات کنترل بیماری بکار میروند نظر قدرت تأثیر قیمت مکانیسم اثر تفاوت دارند داروها پنج دسته تقسیم میشونداز میان داروهای فوق تریکلابندازول بیشتر میشودزیرا فرم بالغ فرم نابالغ انگل مؤثر ولی گزارشهایی مبنی بروز مقاومت نسبت دارو انگل صورت طولانی مدت وجود داردمنابع۱httpenwikipediaorgwindexphptitleFasciolosisampoldid445327981۲BLOOD DC et al 2000 Pocket companion to veterinary medicine ninth edition Pages 496497ISBN 0702025399'})), (836531, (('medicine', 12.070965368995463), {'url': 'https://fa.wikipedia.org/wiki?curid=5836667', 'title': 'دانشکده پزشکی گیلان', 'text': 'دانشکده پزشکی دانشگاه علوم پزشکی گیلان دانشکدههای پزشکی ایران وابسته دانشگاه علوم پزشکی گیلان رشت دانشکده سال ۱۳۶۳ بنیانگذاری دارای ۸ بیمارستان آموزشی استاین دانشکده حال حاضر ریاست دکتر جلال خیرخواه دارای ۲۷۴ نفر عضو هیئت علمی ۳۳ نفر استاد تمام ۹۰ نفر دانشیار ۱۴۶ نفر استادیار ۵ نفر مربی علاوه ۱۸۲۲ دانشجوی پزشکی عمومی گروههای تخصصی داخلی زنان بیهوشی اطفال نورولوژی اورولوژی رادیولوژی قلب روانپزشکی گوش حلق بینی چشم پوست جراحی عمومی جراحی مغز اعصاب فوق تخصص گوارش بالغین ۳۰۴ دستیار تخصصی مشغول تحصیل داردتاریخچهاین دانشکده سال ۱۳۶۳ دنبال پیگیری جمعی پزشکان استان گیلان محل دانشکده علوم دانشگاه گیلان تأسیس امکانات دانشکده پذیرش ۳۷ دانشجوی پزشکی فعالیت آموزشی آغاز راستای ادغام آموزش پزشکی بهداری تشکیل وزارت بهداشت درمان آموزش پزشکی سال ۱۳۶۵ مدت ۹ سال دانشکده پزشکی مجاورت دانشکده پرستاری مامایی جهت تربیت پزشک عمومی فعالیت نمود سال ۱۳۷۴ دانشکده پزشکی محل فعلی واقع سایت مرکزی دانشگاه گیلان منتقل دانشکده علاوه تربیت پزشک عمومی سال ۱۳۶۷ پذیرای رشته کاردانی علوم آزمایشگاهی رادیولوژی ازسال ۱۳۶۹ پذیرش دانشجو رشتههای تخصصی پزشکی فعالیت گسترش دادکتابخانه مرکز اسنادکتابخانه دانشکده پزشکی همزمان تأسیس دانشکده سال ۱۳۶۴ افتتاح شروع کار واحد کتابخانه دانشکده پزشکی مساحتی نزدیک ۶۸۶متر مربع طبقه دوم واقع حال حاضر مجموعهای شامل ۷۸۱۰ عنوان کتاب فارسی لاتین فعالیت چارچوب اهداف رسالتهای کتابخانههای دانشگاهی دنبال کتابخانه پزشکی مجموعه معاونت پژوهشی دانشکده پزشکی سیستم طبقهبندی منابع کتابخانه اساس نظام ردهبندی جهانی NLM National library of medicine نظم موضوعی یافتهاست امانت منابع کتابخانه سیستم نرمافزار پیامثنا میگیردخدمات اینترنت شبکهواحد اطلاع رسانی دانشکده پزشکی داخل فضای کتابخانه قرار دارد مجهز سیستم online اتصال اینترنت سیستم صورت wireless اواخر بهار سال ۱۳۸۲ راهاندازی حال حاضر ۲۳ دستگاه کامپیوتر مشغول سرویس دهی امکان چاپ مقالات مطالب علمی مرکز وجود دارد مرکز کار اینترنت رایگان'})), (11879, (('medicine', 12.070965368995463), {'url': 'https://fa.wikipedia.org/wiki?curid=50408', 'title': 'دانشگاه علوم پزشکی ایران', 'text': 'دانشگاه علوم پزشکی خدمات بهداشتی درمانی ایران IUMS دانشگاههای علوم پزشکی ایران تاریخچهروزهای نخستین سالهای ۱۳۵۳–۱۳۵۵ وزیر علوم آموزش عالی ایران بوددر سال ۱۳۵۵ همزمان آغاز همکاری دانشگاه هاروارد دانشگاه کلمبیا دانشگاه کرنل عملا برنامهریزی آموزشی فعالیتهای عمرانی تعیین فضاها تأمین تجهیزات نیروهای انسانی لازم صورت گرفتفاز اول پروژه تکمیل پنجم اکتبر ۱۹۸۰ تصرف سفارت آمریکا تهران تیرگی روابط ایران آمریکا سپاه پاسداران اموال شرکت معماری William L Pereira amp Associates توقیف مصادره کردند پریرا شرکا ایرانیان دولت آمریکا شکایت بردند ۲٫۷ میلیون دلار ادعای خسارت کردند نتیجه فاز دوم سوم پروژه نیمه کاره ماندندادغام دانشگاه علوم پزشکی تهران انتزاع آناین دانشگاه آبان ۱۳۸۹ زمان وزارت مرضیه وحید دستجردی دولت دوم محمود احمدینژاد دانشگاه علوم پزشکی تهران ادغام گردید دانشگاه زمان چهارمین دانشگاه برتر علوم پزشکی کشور خبر ادغام اعتراضاتی سوی دانشجویان استادان رو رو گذشت سال پنج ماه انحلال تاریخ ۱۸ فروردین ۱۳۹۲ تصویب شورای عالی گسترش دانشگاهها دانشگاه دوباره احیا تاریخ ۱۳۹۲۶۲۶ اولین جلسه شورای عالی انقلاب فرهنگی دولت حسن روحانی رئیسجمهور اعضای شورای عالی انقلاب فرهنگی انتزاع کامل دانشگاه علوم پزشکی خدمات بهداشتی درمانی ایران دانشگاههای علوم پزشکی تهران شهید بهشتی رای قاطع دادنددانشگاه علوم پزشکی ایران امروزدر حال حاضر برخی اولین موفقیتهای علمی کشور نظیر اولین جراحی موفق کاشت حلزون گوش اولین جراحی تمام آندوسکوپیک شوانوم گوش اتوگرافت مجدد تخمدان تکمیل دوره شیمی درمانی همکاری پژوهشگاه رویان اولین عمل جراحی تخلیه رحم تخمدان ترنس سکشوالها تأسیس اولین بخش طب تسکینی بیمارستان فیروزگر و… دانشگاه صورت گرفتهاست اولین مرکز کاشت کویل ولو ایران بیمارستان رسول اکرم تاسیس اتاق عمل اختصاصی اینترونشنال ریه خاصترین بخشهای ریه کشور علاوه توانایی اینترونشن قادر خواهد ست آپ جراحی تغییر مجموعه تنها مرکزی ایران توانایی جداسازی ندول های حدود یک سانتی متر روش سونوگرافی گاید بیوپسی دارد دانش نوینی چون دریچههای ولو سیمهای کویل درمان بیماران ریوی درحالی دانش نوین خاورمیانه نیست تنها کشورهای اروپایی همچون هلند فرانسه سرآمد بودند دانشگاه بخش مهمی قطبهای علمی وزارت بهداشت نظیر قلب عروق قلب اطفال بیمارستان قلب رجایی مدیریت اقتصاد سلامت لاپاروسکوپی جراحی درون بینبیمارستان حضرت رسول اکرم بیماریهای زنان زایمان بیمارستان بیماریهای زنان زایمان اکبرآبادی روانپزشکی روانشناسی بالینی انستیتو روانپزشکی بیمارستان مرکز روانپزشکی ایران توانبخشی فیزیوتراپی گوشحلقبینیENTبیمارستان حضرت رسول اکرم جراحی پلاستیک بیمارستان ترمیمی جراحی پلاستیک حضرت فاطمه فناوری اطلاعات سلامتIT اختیار داردجمعیت تحت پوشش خدمات دانشگاه حدود پنج میلیون دویست هزار نفر غالبا مناطق غرب تهران بزرگ قرار میگیرند لحاظ دانشگاه بزرگترین مراکز وزارت بهداشت تلقی میشودمرکز آموزشی درمانی شهید اکبرآبادی برترین زایشگاه های کشور بزرگترین مرکز دولتی زنان زایمان محسوب اولین مرکز دوست دار مادر تهران انتخاب نخستین بنگاه حمایت نوزاد مادر نام ثبت کرده استدر روند تاسیس انستیتوهای پزشکی بازساختیRegenerative medicine پنجمین وابسته دانشگاه تحت اختیار بیمارستان سوانح سوختگی مطهری مهمترین مرکز کشوری سوختگی ساخته انستیتو مهمترین انستیتو پزشکی بازساختی ایران اتاق تمیزیClean room وسعت ۱۰۰۰متر مربع چهار طبقه ۷بیمارستان دانشگاه یعنی مراکز آموزشی درمانی رسول اکرم شفا یحیائیان اکبرآبادی مطهری شهدای هفتم تیر حضرت فاطمه فیروزگر همکاری نزدیکی دارد ساختمان آتی جدید بیمارستان مطهری منطقه کن تهران آینده عنوان مهمترین مرکز طب بازساختی کشور شناخته خواهد شدکتابخانه مرکزی دانشگاه عنوان برترین کتابخانه دانشگاهی وزارت بهداشت کتابخانه ملی پزشکی ایران شناخته کتابخانه شکل برجی هشت طبقه ضلع شرقی پردیس مرکزی دانشگاه پردیس همت قرار دارد پایینترین طبقه برج مجموعه مطالعه همگروهی سلامت کارکنان ایران قرار دارد معدود مطالعات کوهورت ملی کشور مطالعه تأکید پایش شرایط سلامت ساکنین کلانشهرهای کشور پی ریزی جمعیت تحت بررسی تمام کارکنان اعضای دانشگاه هستنددر راستای سیاست های آموزش علوم سلامت سازمان جهانی بهداشت مراکز توسعه آموزش EDC اولین بار دانشگاه ایجاد شدند سپس دانشگاه علوم پزشکی اصفهان اقدام دانشگاه تنها بانک مغز ایران منطقه تحت عنوان بانک مغز ایران تأسیس جمعآوری نمونههای انسانی مغز زیربنای مطالعات پیچیدهتر فراهم بیاورد وجهه تأسیس بانک سطح ملی تمام دانشگاهها مراکز تحقیقاتی کشور میتوانند خدمات مجموعه کننداز بیمارستان های دانشگاههای پایتخت ۵ بیمارستان عنوان بیمارستان درجه یک عالی انتخاب شدهاند بیشترین سهم دانشگاه واسطه بیمارستان قلب عروق رجاییRajae Heart Center مرکز بیماری های کلیوی هاشمی نژادHasheminejad Kidney Center داردبیمارستان قلب رجایی عضو بیمارستان های دانشگاه نیست لیکن دانشگاه همکاری آموزشی دیرینه دارد تمام رزیدنتهای رجایی طرف دانشگاه ایران معرفی میشوندگروه آناتومی دانشکده پزشکی ایران جزو برترین مراکز کشور بوده قدیم طلایه داران دانش تشریح آناتومی تدریس مشغول بودهاند مرکز پلاستینیشن گروه کشور کمنظیر جسدها بافت ها ارگان های پلاستینه مرکز سایر دانشگاههای تهران سایر شهرها قرار گرفتهاستکانون مجد مشاورین جوان دانشگاه برترین تشکلهای دانشجویی دانشگاه دستور شخص رئیس دانشگاه سال ۹۷ تأسیس بازوی مشورتی ریاست دانشگاه امور دانشجویان باشدفدراسیون جهانی کاردرمانی ۷ سال یکبار گروه های آموزشی کاردرمانی دانشگاه های علوم پزشکی براساس فعالیت های آموزشی بالینی ارزیابی کمی کیفی قرار دهد گروه آموزشی کاردرمانی دانشگاه علوم پزشکی ایران آخرین ارزیابی سال ۲۰۱۹ صورت گرفته سومین دوره متوالی تأیید سازمان قرار گرفته تاییدیه سال ۲۰۲۶ برقرار تاییدیه معنی مدارک دانشجویان کارشناسی فارغ التحصیل دانشگاه علوم پزشکی ایران پایان سال ۲۰۲۶ قبول فدراسیون تمامی دانشگاه ها مراکز کاردرمانی معتبر جهان استاین دانشگاه اولین دانشگاه علوم پزشکی کشور مجوز تأسیس پارک علم فناوری اخذ مرکز رشد نوآوری دانشگاه مراکز پیشروی دانشگاهی ایران کارآفرینی سلامت بوده اولین شتابدهندهAccelerator دانشگاههای علوم پزشکی کشور تحت عنوان برند هلثینو Healthinno حمایت وزارت بهداشت دانشگاه تأسیس مقر فعلی هلثینو ساختمان کتابخانه مرکزی دانشگاه هلثینو اولین مهمترین مرکز دانشگاهی شتابدهی نوآوری دیجیتال سلامت کشور عنوان مبدأ صادرات نوآوریهای فناوری سلامت ایران شناخته میشودخیریه دانشجویی التیام برترین خیریههای دانشجویی وزارت بهداشت دانشگاه تعلق داردمجتمع آموزشی پژوهشی درمانی حضرت رسول اکرم ص بزرگترین بیمارستان دانشگاه همکاری دانشکده فنی تهران صنعتی شریف صنعتی امیرکبیر سفارش ستاد علوم شناختی ریاست جمهوری پروژه ملی DBS راه انداختهاست طی فناوری دانش جراحی کاشت الکترودهای مغزیDeep Brain Stimulation باتریهای بومی بشود تیم جراحی مغز اعصاب فانکشنال بیمارستان مهمترین مرکز جراحیهای تحریک عمقی مغز پارکینسون میوتونی وسواسOCD کشور تاکنون صدها عمل پارکینسون وسواس مرکز httpiumsacircontent94219بزرگترینمرکزجراحیتحریکعمقیمغزYWPAROPENDeepBrainStimulationYWPAROPENDBSدردانشگاهعلومایرانمسابقه بزرگ هکتون ملی سلامت نام HACK IUMS حمایت وزارت بهداشت دانشگاه علوم پزشکی ایران سال ۱۳۹۶ زمستان مرکز همایش های بینالمللی رازی دانشگاه برگزار میشودبیمارستان ارتوپدی شفا یحیائیان مرکز پایلوت ارتوپدی کشور اولین تنها مرکز ارائه دهنده دوره فلوشیپ تومورهای موسکولواسکلتال وزارتخانه محسوب میشودبیمارستان بیماری های کلیوی هاشمی نژاد مرکز پایلوت نفرولوژی اورولوژی کشور اولین مرکز دیالیز ایران پیشگام مدیریت بیمارستانی نوین PPP میباشدمرکز گامانایف ایران تنها مرکز کشور مجاورت بیمارستان کودکان علی اصغر واقع استکلینیک مغز شناخت همکاری پژوهشکده علوم شناختی دانشگاه علوم پزشکی ایران تأسیس اولین تخصصیترین مرکز نوع دانشگاه پیشگامان همکاری ها مطالعات حیطه علوم شناختی ساختمان جدید بیمارستان مرکز روانپزشکی ایران مجهز آزمایشگاههای شناختی شدهاستاین دانشگاه هرساله میزبانان ثابت مسابقه بینالمللی دانش مغز Brain Bee برگزیدگان مسابقه دانش آموزی عنوان نمایندگان ایران سطح جهانی رقابت ادامه خواهند دادمرکز ملی اطلاعات طب کار ساختمان دانشکده پزشکی ایران قرار دارد ایضا برخی رشتههای تخصصی تازه ظهور قبیل طب ورزشی طب اورژانس کشور اولین بار دانشگاه ایجاد شدهاندمرکز جامع خدمات سرطان تهران چهار مرکز کشوری تیپ۳ سرطان ماحصل تلاش های وزارت دفاع وزارت بهداشت مجتمع آموزشی پژوهشی درمانی حضرت رسول اکرم وابسته دانشگاه قرار دارد مراکز تیپ۳ کاملترین نوع بوده مجری برنامههای غربالگری شیمی درمانی پرتودرمانی میباشندمرکز تحقیقات گوش حلق بینیENT انستیتو روانپزشکی دانشگاه مشاوران سازمان جهانی بهداشت امور ناشنوایی سلامت روان میباشندجایگاهدر اولین رتبهبندی تأثیرگذاری دانشگاههای تایمزTimes Impact Ranking سال ۲۰۱۹ میلادی دانشگاه رتبه اول کشوری ۴۱جهان اختصاص دادهاست درحالی دومین دانشگاه کشور دانشگاه الزهرا دامنه ۲۰۱ ۳۰۰ قرار گرفت رتبهبندی تأثیرگذاری اولین تنها شاخص سنجش عملکرد دانشگاهها اساس اهداف توسعه پایدار سازمان ملل متحد دانشگاه بازه ۸۰۱ ۱۰۰۰ رنکینگ ورلد یونیورسیتی ۲۰۱۹ دامنه ۲۰۱ ۲۵۰ دانشگاههای برتر جوان دنیا۲۰۱۹با سابقه تأسیس ۵۰ سال قرار گرفتهاست عمده اختلاف رتبه مقالات دانشگاه مراکز برتر کشوری خاطر نداشتن دانشکده داروسازی دندانپزشکی امروز فقط دانشجوی بینالملل داروسازی پذیرفته درحالی دانشگاه رکورد بالاترین نرخ تولید مقاله ازای هیئت علمی وزارت بهداشت داشته دانشگاه سال ۲۰۲۰ تکرار رتبه اول کشوری رتبه ۵۵جهان تغییر جایگاه یافتهمچنین طبق جدید ترین آمار نظام رتبه بندی دانشگاه های جهان تایمز دانشگاه حائز رتبه ۹ کشوری مشهد تهران سومین دانشگاه علوم پزشکی کشور استبیمارستانهادانشکده علوم توانبخشی دانشگاه علوم پزشکی ایرانسال ۱۳۷۳ انحلال سازمانهای منطقهای بهداشت درمان استانها واگذاری مسئولیت اداره فعالیت واحدهای مناطق دانشگاههای علوم پزشکی منطقه غرب استان تهران شامل شهرستانهای کرج اشتهارد طالقان هشتگرد ساوجبلاغ شهریار رباط کریم تحت پوشش دانشگاه عنوان جدید آرم تأیید دانشگاه علوم پزشکی خدمات بهداشتی ایران قرار گرفت سال ۱۳۸۹ تأسیس استان البرز بیمارستانهایی محدوده استان قرار داشتند دانشگاه علوم پزشکی البرز انتقال یافتند'})), (634244, (('medicine', 12.070965368995463), {'url': 'https://fa.wikipedia.org/wiki?curid=4724367', 'title': 'پزشکی محاسباتی', 'text': 'پزشکی محاسباتی انگلیسی computational medicine رشتهای جدید متشکل پژوهشگران پزشکی ریاضیات کاربردی علوم کامپیوتر مدلسازی ریاضی بیماریهای مرتبط انسان تعیین سازوکارهای پیشبینی روند بیماریها عوامل مؤثر رشد تومورها ارائه راهکارهای بهینه درمان بیماریها شامل آناتومی محاسباتی پزشکی مولکولی محاسباتی بهداشت محاسباتی علوم اعصاب محاسباتی موارد دیگری هماکنون برخی دانشگاههای ایران تحقیقاتی مرتبط رشته حال عنوان مثال مرکز تحقیقاتی علوم اعصاب محاسباتی دانشگاه بینالمللی امام رضا عنوان شاخه ای پزشکی محاسباتی بنیان نهاده'})), (82723, (('medicine', 24.141930737990926), {'url': 'https://fa.wikipedia.org/wiki?curid=407282', 'title': 'لوپوس ولگاریس', 'text': 'لوپوس ولگاریس Lupus vulgaris نوعی سل پوستی استسل پوستی درصد کمی تمام موارد سل خارج ریوی ۱۰ کل موارد سل شامل میشود۱ بهطور کلی سل پوستی گروه عمده تقسیم مینمایند گروه اول سل پوستی تهاجم حقیقی باسیل پوست گروه دوم توبرکولیدها واکنش افزایش حساسیت همراه کانون اولیه جای میباشدشایعترین فرم سل جلدی بسته منطقه جغرافیایی متفاوت اکثر محققین معتقدند لوپوس ولگاریس شایعترین شکل بالینی سل پوستی است۲ لوپوس ولگاریس اکثرا صورت پلاک فرم تخریبی گل کلمی شبه تومورو پاپولوندولر دیده زنان ۲ ۳ برابر مردان مبتلا میشوند۵ آب هوای سرد مرطوب ایجاد مؤثر است۱درماندرمان مانند درمان سل استمنابع۱Savin J A Mycobacterial infection In Champion RH Burton JL Ebling FJG eds Textbook of dermatology Oxford Blackwell ۱۹۹۲ ۱۰۳۸۴۱۲Higgins C Cerio R Tuberculous mycobacterial infections of the skin In Arndt KA Leboit PE Robinson JK Wintroub BU eds Cutaneous medicine and surgery Philadelphia WB Saunders ۱۹۹۶۹۸۳۹۲۳Wong K Lee KP Chir SF Tuberculosis of the skin in Hong Kong Br J Dermatol ۱۹۶۸ ۸۰۴۲۴۲۹۴Yates VM Ormerod LP Cutaneous tuberculosis in Blackburn district UK Br J Dermatol ۱۹۹۷ ۱۳۶۴۸۳۸۵Tappeiner G Wolff K Tuberculosis and other mycobacterial infections In Fitzpatric TB Eisen AZ Wolff K et al Dermatology in general medicine New York McGrawHill ۱۹۹۳ ۲۳۷۰۹۴'})), (28513, (('medicine', 24.141930737990926), {'url': 'https://fa.wikipedia.org/wiki?curid=202164', 'title': 'پزشک', 'text': 'پزشک دکتر دانش پزشکی کسی حرفه پزشکی برگرداندن سلامت انسان طریق دیدار گفت گوی حضوری غیرحضوری مطالعه تشخیص درمان بیماری آسیبدیدگی میپردازد معمولا دانش کافی آکادمیک مانند آناتومی فیزیولوژی فارماکولوژی شناخت بیماریها درمان نیاز دارد گذشته حرفه کلمات حکیم طبیب کار گرفته میشدپزشکیپزشکی شاخهای علوم سلامت هدف پزشکی حفظ ارتقاء تندرستی درمان بیماریها بازتوانی آسیب دیدگان مانند فیزیوتراپی هدف شناخت بیماریها تشخیص درمان جلوگیری بروز میرسددر ایران آموزش رشته نظر وزرات بهداشت درمان آموزش پزشکی دانشگاههای دولتی آزاد میرسد سازمان نظام پزشکی امور صنفی پزشکان عهده داردریشهشناسیواژه دکتر doctor نماد MD کوتاه ساده واژه دکتر پزشکی doctor of medicine کسی گویند درجه دکترای پزشکی doctorate of medicine رسیده باشدپزشک یک واژه کهن فارسی شاهنامه فردوسی فراوان آمدهاست فتح ز مانندهمچنین متن مانوی زبان پهلوی اشکانی میخوانیمدر ادبیات فارسی گروهی پزشکان اطبا گفته میشودواژه دکتر فارسی افغانستان داکتر تلفظ تلفظ انگلیسی'})), (544783, (('medicine', 24.141930737990926), {'url': 'https://fa.wikipedia.org/wiki?curid=4033612', 'title': 'سلول درمانی', 'text': 'سلول درمانی درمان سلولی سیتوتراپیcell therapy نامیده نوعی درمان سلولهای بنیادی بیمار پیوند زده میشودگاهی کار تزریق سلولهای زنده دست نخورده نمونه سلولهای T قادرند طریق ایمنی واسطههای سلولیcellmediated immunity سلولهای سرطانی مبارزه کنند میتوانند منظور ایجاد ایمنی دوره درمان بیمار تزریق شوندسلول درمانی قرن نوزدهم زمانی دانشمندان تزریق مواد حیوانی منظور جلوگیری درمان بیماریها آزمایش قرار دادند قرار گرفتاگرچه چنین تلاشهایی نتایج مثبتی پی نداشت تحقیقات بعدی اواسط قرن بیستم گرفت کمک منظور جلوگیری رد اندامهای پیوند خورده بدن انسان مقدمهای موفقیت پیوند مغز استخوان زمان گردید سلول درمانی Cell Therapy پیوند سلول زنده فرد فرد سالم هدف بازسازی بافت بدن گفته سلولها کارخانههای قدرتمندی میتوانند اثرات درمانی طریق روشهای متعددی اعمال نمایند سلولها میتوانند محل آسیب لانه گزینی کنند مواد محرک رشد ترشح کنند برخی موارد سلولهای دیگری تبدیل شوند تطبیق پذیری باعث سلول درمانی بهطور قدرتمندی عمل امکان بالایی درمان بیماریهای غیرقابل برگشت فراهم نمایدتاریخچه سلول درمانی جهاناولین سلول درمانی قرن نوزدهم سال 1894 کارلس اسکوارد سلولهای تستیس حیوانی منظور جلوگیری اثرات پیری نمود سال ۱۹۳۱ یک پزشک سوئیسی نام دکتر نایهانس پیوند بافت جنین گاو درمان بیماری طی جراحی تیروئید اشتباها غده پاراتیروئید دست داده کرددر سال ۱۹۵۹ اولین پیوند مغز استخوان البته موفقیت آمیز نبود اولین پیوند موفق مغز استخوان انسان سال ۱۹۶۹ منه سوتا آمریکا اساس آمار موجود طی ۱۵ سال گذشته ۳۰ میلیون سلول درمانی دنیا تاکنون 19 فراورده سلول درمانی ژن درمانی تاییدیه FDA آمریکا دریافت نمودهاند حوزه پوست ۳ ارتوپدی چشم سرطان پروستات هرکدام یک تأیید سایر فرآوردهها مربوط سرطانخون استدسته بندیامروزه دسته متفاوت سلول درمانی شناخته شدهاستاولین دسته سلول درمانی پایهگذاری سلول درمانی پزشکی اصلیmainstream medicine سلولهای انسانی یک دهنده بیمار پیوند زده میشوند پژوهشهای گستردهای روش حال میتواند منبعی بالقوه درمان چنین تحقیقاتی زمانی جنین انسان ممکن بحثبرانگیز باشددسته سلول درمانی پزشکی جایگزین alternative medicine تزریق پیوسته سلولهای جانوری هدف درمان بیماریها انجمن سرطان آمریکا بیان کرده هیچ مدرک پزشکی اثربخشی روش حمایت نمیکند روش میتواند پیامدهای مرگباری داشته باشدسلول درمانی آلوژنیکallogeneicدر سلول درمانی آلوژنیک دهنده فردی متفاوت دریافتکننده سلولها صنعت تولید دارو روش آلوژنیک توجه زیادی قرار گرفتهاست چرا درمانهای آلوژنیک میتوانند اساس محصولات باشندتحقیقات زیادی توسعه چنین محصولاتی درمان بیماریها جمله بیماری کرون بیماریهای عروقی مختلف متمرکز هستندپیوند سلولهای بنیادی جنینی انسانتحقیقات زمینه سلولهای بنیادی جنینی انسان بحثبرانگیز قوانین کشوری کشور متفاوت بهطوریکه تعدادی کشورها صورت کامل ممنوع کردهاند وجود سلولها عنوان پایه تعدادی کاربردهای درمانی شامل درمان دیابت بیماری پارکینسون میشوندپیوند سلولهای بنیادی عصبیسلولهای بنیادی عصبی NSCs سلولهای چندتوانیMultipotency میتوانند آستروسیتها الیگودنروسیتها سلولهای عصبی تمایز یابند سلولها درمان بیماریهای عصبی مانند بیماریهای پارکینسون هانتیگتون آسیب نخاعی آسیب مغزی سکته مغزی کاربرد دارند پیوند سلولهای بنیادی مزانشیمیسلولهای بنیادی مزانشیمیMSCs تنظیمکنندههای ایمنیimmunomodulatory چندتوانMultipotency سرعت تکثیرشونده پیشرفت\\xadهای اخیر زمینه تکنولوژی جداسازی سلول امکان فراهم آورده بتوان MSC ها بافت\\xadهای جنینی بالغ گوناگون جمله خون بند ناف پرز\\xadهای کوریونیک جفت مایع آمنیونی کبد جنینی سینوویوم پری استئوم ماهیچه اسکلتی بافت چربی خون محیطی ریه حتی دندان\\xadهای شیری کنده جداسازی شناسایی نمود سلول\\xadها قادرند سلول\\xadهای استخوان غضروف ماهیچه لیگامنت تاندون ماهیچه قلب بافت چربی سلول\\xadهای بافت همبند مغز استخوان سلول\\xadهای بافت همبند تیموس سلول\\xadهای ادونتوژنیک دندان ساز سلول\\xadهای اپیتلیوم کبد اپیتلیوم ریه اپیتلیوم روده تمایز پیدا کنند علاوه MSC ها دارای ویژگی سرکوب ایمنی هستندو آسانی تحت ترانس\\xadداکشن وکتورهای ویروسی قرار می\\xadگیرندهمچنین MSC ها تمایل دارند نواحی رشد ترمیم بافت\\xadها لانه\\xadگزینی کنند بازسازی بافت افزایش دهند قابلیتهای منحصربه فرد باعث میشوند بتوانند یک دامنه وسیعی درمانها شامل درمان تعدیلی سیستم ایمنیimmunemodulatory therapy بازسازی استخوان غضروف بازسازی ماهیچه قلب درمان سندرم هورلریک اختلال اسکلتی عصبی شوندمحققان نشان دادهاند سلولهای بنیادی مزانشیمی درمان نقص استخوانسازی OI برخی پژوهشها سلولهای مغز استخوان آنتی ژن لکوسیت انسانی HLA خواهری یکسان بیماران درای نقص استخوانسازی پیوند زده شدهاند نشان داده سلولهای بنیادی مزانشیمی میتوانند استئوبلاستهای نرمال تمایز یافته بدین ترتیب منجر رشد سریع استخوان کاهش تکرار شکستگی شوند آمادهسازی MSC ها جهت کاربردهای بالینی باید نظر سلولها شرایط درون تنی جایگاههای طبیعی غلظت پایین اکسیژن بسر میبرند سطح مولکولی معمولا مهم\\xadترین تنظیم کننده پاسخ سلول کاهش فشار اکسیژن فاکتور نسخه\\xadبرداری هترودایمر موسوم فاکتور القا هیپوکسی Hypoxia Inducible Factor HIF می\\xadباشد ژنهای دخیل متابولیسم انرژی جذب گلوکز متابولیسم آهن ساخت گلبولهای قرمز پیامرسانی ساخت عروق خونی التهاب تنظیم وازوموتور Vasomotor عملکردهای ماتریکس غشاها تجزیه ماتریکس سیستمهای انتقال تنظیم نسخهبرداری رشد بقای سلول آپاپتوز مهاجرت سلول تنظیم هورمونی ژنهای مرتبط عفونتهای ویروسی جمله ژن\\xadهای هدف HIF بازده نهایی نسخه\\xadبرداری یک ژن خاص هدف HIF قرار گرفته عامل بستگی دارد عامل اول مهم\\xadتر ساختار نواحی پاسخ دهنده HIF HRE ژن نظر عامل دوم دسترس بودن فاکتورهای نسخه برداری قرار ناحیه HRE HIF همکاری کنند می\\xadباشد عامل شدت تحت تأثیر گونه جاندار بافت نوع سلول می\\xadباشند حتی یک نوع سلول بیان یک ژن خاص تحت اثر هیپوکسی عوامل دیگری همچون فاکتورهای مؤثر فعالیت HIF مسیرهای متابولیسمی سلول فعال غیر فعال شده\\xadاند غلظت واقعی اکسیژن ریزمحیط نزدیک سلول طول مدت کشت بستگی دارد علاوه هیپوکسی برخی فاکتورهای رشد سایتوکاین\\xadهای التهابی هورمون\\xadها سیگنالهای انکوژنیک امواج فراصوت تنظیمکنندههای قوی HIF صورت اثر هیپوکسی سلولها بسیار پیچیده بوسیله ژنهای متعددی میانجیگری می\\xadشود بنابراین غلظت اکسیژن باید همانند محیط کشت سرم کشت سلولها توجه ویژه قرار بگیرد توجه یک نوع خاص سلول هدف کشت باید غلظت مناسبی اکسیژن کشت سلول نظر گرفته شودپیوند سلولهای بنیادی استخوان سازسلولهای بنیادی استخوان ساز HSCs توانایی خودنوسازیselfrenew تمایز همه انواع سلولهای خونی ویژه سلولهای سیستم ایمنی انسان درگیر دارندبنابراین درمان نارساییهای ایمنی خونی شوند زمانی پیوند مغز استخوان انسان اولین بار سال 1975 گرفت پیشرفتهای شایانی درمان سلولهای بنیادی استخوان ساز بدنبال تزریق سینرژیک مغز استخوانsyngeneic marrow infusion پیوند آلوژنیک مغزاستخوانallogeneic marrow grafting موفقیت شدهاستسلولهای بنیادی استخوان ساز میتوانند شیمی درمانی دز بالا طریق بازسازی سلولهای آسیب دیده تشکیل دهنده خون احیای سیستم ایمنی خاصیت درمانکنندگی ارائه دهندسه نوع پیوند سلولهای بنیادین استخوان سازHSCT وجود داردمکانیسمهای اثر بخشی سلول درمانیسلولهای درمانگر پیوند طریق مکانیسمهای گوناگونی اثر درمانی میدهندپیشینه ی سلول درمانی ایراناولین پیوند مغز استخوان سال ۱۳۶۹ دکتر قوام زاده درمان سرطان خون کنون بیش ۸۰۰۰ پیوند ایران اولین تزریق سلولهای بنیادی درمان بیماریهای غیر خونی سال ۱۳۸۳ محققین پژوهشگاه رویان ترمیم ضایعات قلبی ناشی ازسکته سال ۱۳۸۴ محققین پژوهشگاه سلولهای بنیادی ترمیم ضایعات قرنیه چشم کردند سال ۱۳۸۷ تحقیقات زمینه سلول درمانی بیماران ویتیلیگو لک پیس آغاز حال حاضر تحقیقات درمان بیش ۴۰ بیماری مختلف حوزههای پوست ارتوپدی قلب مغز اعصاب کلیه چشم تولید مثل زنان پژوهشگاه مراحل کارآزمایی بالینی میگذراند حال حاضر بیش ۲۷۰۰۰ طرح تحقیقاتی بالینی حوزه سلول درمانی دنیا بیشترین آمریکا سپس اروپا چین خاورمیانه ۹۳۱ مطالعه ثبت حدود 100 مربوط ایران استشرکت های مطرح تولید فرآورده های سلولی ایرانشرکت دانش بنیان سیناسلسیناسل اولین شرکتی حوزه سلول درمانی ایران تاسیس گردیده شرکت سال 1386 پارک علم فناوری پردیس آغاز کار نمود فعالیت تولیدی شرکت سالهای اولیه عمدتا تولید پانسمان های بیولوژیک بافت پرده آمنیون پوست مصنوعی متمرکز بوده کنار محصولات شرکت تولید سلولهای بنیادی مزانشیمی جهت درمان انواع بیماری ها پرداخته سیناسل اولین شرکت های ایرانی گواهی GMP زمینه تولید سلولهای بنیادی سلولهای فیبروبلاست انسانی وزارت بهداشت دریافت نموده شرکت سل تک فارمددر بهمن ماه 1392 جهت عرضه علم سلول درمانی تحت استانداردهای ایران تأسیس گردید يكي چشماندازهاي مهم شركت سل تك فارمد ارتقاء سطح سلامت جامعه علوم توليد عرصه سلول درمانی شرکت دانش بنیان سل تک فارمد حمايت گروه دارويي بركت پژوهشگاه رويان هدف فرآوردههای سلولی بهرهبرداری رسیدکارخانه سل تک فارمد داشتن بالاترین استانداردها براساس معیارهای آمریکا اروپا نظر ظرفیت تولید حال حاضر ده مرکز تولید محصولات سلولی سطح جهان خط تولید محصولات ریکالرسل درمان ویتیلیگو رنیودرم سل منظور درمان پیری پوست اسکار آکنه مزستروسل هدف درمان آرتروز شرکت سل تک فارمد وجود داردسبد محصولات دارویی شرکت سل تک فارمد شرح جدول'}))]\n"
          ]
        },
        {
          "name": "stderr",
          "output_type": "stream",
          "text": [
            "                                                                                \r"
          ]
        }
      ],
      "source": [
        "results_infomation =search_query(\"medicine\")"
      ]
    },
    {
      "cell_type": "code",
      "execution_count": 79,
      "metadata": {},
      "outputs": [
        {
          "name": "stderr",
          "output_type": "stream",
          "text": [
            "                                                                                \r"
          ]
        },
        {
          "name": "stdout",
          "output_type": "stream",
          "text": [
            "number of results for 'history' : 35\n",
            "relevant results : \n",
            " [(660049, (('history', 11.260035152779135), {'url': 'https://fa.wikipedia.org/wiki?curid=4860306', 'title': 'شبهاندام مغزی', 'text': 'شبهاندام مغزی ارگانویید مغزی نوعی اندام مینیاتور مصنوعی آزمایشگاه تولید شبیه مغز ارگانوییدهای مغزی طریق کشت سلولهای بنیادی پرتوان بیورآکتورهای چرخشی گذشت چند ماه ایجاد میشوند مغز انسان یک سیستم بسیار پیچیده بافتهای هتروژن شامل انواع مختلفی یاختههای عصبی پیچیدگی مطالعه مغز نحوه کار سخت مخصوصا هنگامی موضوع بیماریهای نورودژنراتیو مرتبط هدف ایجاد مدلهای نورولوژیک in vitro مطالعه بیماریها یک فضای سادهتر قابل تغییر بدون محدودیتهای شرایط in vivo مخصوصا هنگام کار انسان تفاوتهای میان فیزیولوژی انسان سایر مدلهای پستاندار امکان مطالعه بیماریهای نورولوژیک محدود شبه اندامهای مغزی بافتهای سنتز شدهای حاوی انواع مختلفی یاختههای عصبی همینطور ساختارهای آناتومیکی میباشند شبیه مغز پستانداران شبه اندامهای مغزی بیشترین شباهت لایههای یاختههای عصبی قشر مغز کورتکس شبکه کورویید گفته دارند برخی موارد ساختارهایی شبیه شبکیه مننژ هیپوکامپ میتواند ایجاد سلولهای بنیادی توانایی دارند رشد کنند بافتهای مختلفی بدن تبدیل شوند سرنوشت نهایی فاکتورهای مختلفی بستگی دارد تصویر برخی عوال شیمیایی میتوانند موجب تمایز سلولهای بنیادی انواع بافتهای عصبی شوند آمدهاست تکنیکهای مشابهی تمایز سلولهای بنیادی رشد ایجاد شبه اندامها کار گرفته میشودایجاد مدلاستفاده سلولهای بنیادی پرتوان ایجاد شبه اندامهای مغزی پژوهشگران اجازه میدهد مکانیسمهای تکوینی فعلی بافت عصبی همینطور ریشههای بیماریها نورولوژیک بهطور مختصر بیان کنند شبه اندامهای مغزی ابزارهای مناسبی جهت فهم پاتولوژی بیماری شبه اندامها میتوانند آزمایشهایی قرار گیرند مدلهای in vitro فعلی قابلیت ندارند بیش حد ساده میباشند علاوه قابلیت انطباق بیشتری انسان دارند موش سایر مدلهای پستاندار اساس تاریخ پیشرفتها اصلی رابطه چگونگی کار مغز حاصل ناشی آسیبها بیماریهای عملکردی مغز بوده منجر فهم عملکرد نواحی مختلف مغز یک مدل in vitro مغز میتواند منجر موج دیگری فهم مغز انسان شودکاربردهاعلاوه فهم پاتولوژی بیماریها درمان آینده بهطور مستقیم یک میزبان مانند انسان پیوند زد ارگانویید میتواند نواحی آسیب دیده بافت میزبان ادغام سیستم عروقی درآمیزد درحالی نظر ایمونولوژیک منجر پاسخ نشود لیستی کاربردهای بالقوه شبه اندامهای مغزی آورده شدهاستکاربردهای بالقوهبیماریمیتوان شبه اندامها بررسی مراحل حیاتی اولیه تکوین مغز بررسی داروها علت سلولهای زنده تشکیل شدهاند مطالعه بیماران طورت فردی کردمیکروسفالیدر یک ایجاد یک شبه اندام یک بیمار میکروسفالی نشان داده علت ایجاد علائم بیماری تکوین سریع مغز پی کاهش رشد میکروسفالی یک نقص تکوینی منجر کاهش سایز مغز نتیجه کاهش سایز سر اتفاق میافتد میکروسفالی مدلهای موشی مناسب نمیباشد زیراکه نمیتوانند شرایط شبیهسازی کنند نظر میرسد فرم اولیه بیماری ناشی یک جهش ژن میکروسفالین ایجاد بیماری مدلهای موشی سخت زیرا موشها فاقد مراحل تکوینی بزرگ شدن قشر مغز میباشند طبیعتا بیماری ای مرحله تکوین تحت تأثیر قرار میدهد نمیتوان مدلی فاقد بررسی ارگانوییدهای مغزی مدل کردن میکروسفالی انسان گروهی محققین سلولهای فیبروبلاست بیماران گرفتند چهار فاکتور معروف دستکاری کرده حالت پرتوان مجددا بازگرداندند فاکتورها شامل oct4sox2cmycklf4 سلولهای پرتوان جدید دوباره کشت داده شدند ارگانوییدهای مغزی طی فرایندی پایین توضیح داده آیت تبدیل شدند ارگانوییدهای مغزی دست آمده کاهش سلولهای پروژنیتور همینطور بافتهای کوچکتری نشان دادند بعلاوه بافتهای دست آمده بیماران بافتهای نورواپی تلیالی ساخته پروژنیتور کمتر کاهش سلولهای بنیادی گلیال شعاعی افزایش نورونها نشان دادند نتایج نشان دهنده ایجاد بیماری ناشی تمایز زودرس سلولهای بنیادی نورونها منجر نقص سلولهای گلیال شعاعی میشودبیماری آلزایمرپاتولوژی بیماری آلزایمر شبه اندامها مدل سلولهای بنیادی پرتوان افراد مبتلا ایجاد ارگانوییدها قرار گرفت مدلهای کنترل افراد سالم دست آمده مقایسه مشخص مدلهای مبتلا ساختارهای مشابه پلاکهای آمیلوئید بتا نوروفیبریلاری تانگلها عامل ایجاد علائم بیماری میباشند ایجاد تلاشهای قبلی مدلسازی بیماری دقت بالا موفق نبودند داروهایی اساس اثرگذاری مدلهای پرکلینیکال مانند موش ایجاد بودند تأثیری کارآزماییهای بالینی انسان نداشتنداوتیسمبهطور مشابهی طریق مقایسه ارگانوییدهای مغزی سالم غیر سالم مطالعه قرار گرفتهاست بررسی مدل نشان دهنده افزایش میزان بیان فاکتور رونویسی FOXG1 منجر افزایش تعداد نورونهای گابائرژیک مدلهای مبتلا اهمیت شبه اندامهای مغزی تقویت نظریه عدم تعادل نورونهای تحریکیمهاری بیماری اوتیسم اگر ثابت میتواند پیدایش اهداف دارویی درمان بیماری کمککننده باشدساخت ارگانوییدهابرای ایجاد یک شبه اندام امبریوئید شبه جنینی بافتی برخی خصوصیات جنینی حفظ بافت عصبی ایجاد قرار میگیرد جنین سه لایه اندودرم مزودرم اکتودرم تشکیل کدام لایهها بخشهای مختلف بدن میسازند سیستم عصبی اکتودرم ایجاد سازنده اپی درم پوست مینای دندان سلولهای اکتودرمال قطراتی ژل گزاشته مایع حاوی مواد مغذی یک بیورآکتور چرخشی رشد سلولها پشتیبانی گذاشته شدند ده روز ارگانویید نورونها ایجاد ۳۰ روز نواحی ایجاد بخشهای خاصی مغز شباهت داشتند بدون حضور گردش خون اندازه حدو ۴ میلیمتر میرسند میتوانند یک سال بیشتر زنده بمانند کل فرایند میتواند پنج مرحله تقسیم ابتدا سلولهای بنیادی پرتوان انسانی کشت داده میشوند اجازه داده یک امبریوئید بادی ساختارهای کروی چند سلولی پرتوان ایجاد کنند کشت سلولی سمت نورواکتودرم القا نورواکتودرم یک قطره ماتریژل رشد ماتریژل مواد غذایی نیاز فراهم نورواکتودرم شروع رشد تکثیر نبود ساختارهای عروقی اندازه سایزی شبه اندام میتواند رشد محدود میسازد محدودیت اصلی ساخت ارگانوییدها حال تکنیکهای جدید مثل بیورآکتورهای چرخشی میزان مواد غذایی بیشتری اختیار سلولهای درونی ارگانویید قرار میدهند مرحله یعنی آخرین مرحله پیشرفت اصلی ایجاد ارگانوییدها بیورآکتورهای چرخشی بهطور افزاینده ای کشت سلولها تکثیر بافتها قرار میگیرند رآکتور منجر تسریع زمان برابر شدن سلولها افزایش تکثیر سلولی افزایش اجزای ماتریکس خارج سلولی مقایسه سلولهای کشت صورت استاتیک میشودشکل فلوچارت نشان دهنده مراحل اییجاد یک شبه اندام مغزی چند فرایند طول میانجامد عامل محدودکننده اندازه عدم تغذیه سلولهای داخلی میباشداین تکنیک ابتدا مادالین لنکستر ارائه امروز دچار تغییراتی روشهای جدید تر امکان یه وجود آوردهاند بتوان ارگانوییدهای مغزیعروقی ایجاد کردآزمایشتمایزنشان داده ارگانوییدهای مغزی طریق بیورآکتورهای چرخشی ایجاد میشوند بخشهای مختلف بافت عصبی جمله کاپ بینایی هیپوکامپ قسمتهای شکمی تلنسفال قشر خلفی مغز تمایز مییابند سلولهای بنیادیپروژنیتور عصبی بسیار متمایز میباشند جهت قابلیت خودنوزایی دارند چندتوان میباشند معنی میتوانند نورونها سلولهای گلیال جز اصلی سیستم عصبی میباشند ایجاد کنند سرنوشت سلولها عوامل متعددی فرایند تمایز اثر میگذارند کنترل ویژگیهای مکانی زمانی سلولهای پروژنیتور میتواند سلولها نورون سلول گلیال تبدیل شوند تأثیر بگذارد تمایز بیشتر تحت تأثیر شرایط خارج سلولی سیگنالینگ پیامدهی سلولی شرایط تحریکات نیاز تبدیل سلولهای پروژنیتور عصبی بافتهای ویژه عصبی مانند هیپوکامپ عصب بینایی قشر مغز و…بهطور دقیق نامشخص گمان میرود شبه اندامهای عصبی میتواند مسیرهای تکوینی کمککننده باشدبیان ژنبرای بررسی موضوع آیا سلولهای بنیادی پروژنیتور عصبی حال تمایز بافتهای عصبی خاصی نشانگر مارکرهای ژنی خاصی مارکر ژنی دوران پرتوانی سلول بیان میشوند شامل OCT4 NANOG بیان نشانگر حین تکامل سلولها ارگانویید کاه مییابد مارکرهای عصبی نشان دهنده القا تمایز موفق بافت عصبی میباشند شامل SOX1 PAX6 حین تکامل ارگانویید افزایش مییابند تغییرات بیان ژنها بیانگر موضوع تمایز ارگانوییدها نوعی یک تمایز هدایت شونده ذاتی مارکرهای موجود مغز پسین مغز پیشین میتواند آزمایش قرار گیرد مارکرهای مغز پیشین شامل FOXG1 SIX3 طی تمایز ارگانویید میزان بالا بیان میشوند مارکرهای مغز پسین شامل EGR2 ISL1 ابتدا وجود دارند مراحل بعدی کاهش مییابند عدم تعادل سمت ایجاد مغز پیشین مشابه اتفاق انسان دوران جنینی منجر گسترش بافت مغز پیشین بررسی آیا ارگانوییدها دچار تمایز بیشتر سمت نواحی خاص قشر میشوند ماکرهای قشر مغز لوب سری اکسیپیتال بسیاری نواحی مارکر مغز پیشین یعنی FOXG1 بیان میکردند واقع عنوان نواحی قشر مغز شناخته میشدند علاوه مارکر قشر خلفی یعنی EMX1 مثبت بودند نواحی میتوانستند مارکرهای بیشتری اختصاصی شوند مانند AUTS2 TSHZ2 LMO4 اولی نمایانگر قشر مغز مارکر بعدی نشان دهنده لوب سری میباشند مارکرهای ژنی هیپوکامپ قسمت شکمی مغز پیشین شبکه کوروئید ارگانوییدهای مغزی دیده ساختار شکل کلی نواحی هنوز ایجاد نشدهاستلوکالیزاسیونعملکردیشبه اندامهای مغزی بعلاوه نورونهای قشری دارای عملکرد ایجاد میکنند نورونها باید یک صفحه قشری سازماندهی شعاعی ایجاد شوند مارکر TBR1 صفحه ابتدایی ساز صفحه قشری کورتیکال همراه MAP2 یک مارکر عصبی ارگانوییدهای ۳۰ روزه بیان میشوند مارکرها نشان دهنده ایجاد لایه قاعده ای عصبی همانند صفحه ابتدایی میباشند سلولها صورت راسی مجاور ناحیه خنثی میباشند ریلین مثبت میباشند نشان دخنده حضور سلولهای کژلرتزیوس CajalRetzius سلولها ابجاد ساختار صفحه قشری مهم میباشند صفحه قشری معمولا صورت داخل خارج ایجاد وو نورونهایی بعدا وجود میآیند جوانتر سمت لایههای سطحی بالایی میآیند سازماندهی ارگانوییدهای مغزی اساس مارکرهای ژنی وجود دارد نورونهایی ابتدا وجود میآیند مارکر CTIP2 بیان میکنند مجاورت سلولهای صفحه ابتدایی TBR1 بیان میکنند قرار میگیرند نورونهایی بعدا ایجاد میشوند حاوی مارکرهای SATB2 BRN2 میباشند لایههای سطحی قرار میگیرند بسیار دور تر صفحه ایتدایی نسبت نورونهایی ابتدا ایجاد میشوند نشان دهنده سازماندهی صفحه قشری بعلاوه ارگانوییدهای مغزی گذشت ۷۵ روز تشکیل یک ناحیه ابتدایی حاشیه ای بدون سلول نشان میدهند تشکیل ساختار لایه ای صفحه قشری ارگانوییدها بسیار ابتدایی نشان دهنده موضوع عوامل فاکتورهای نیاز القای تشکیل لایههای دوم ششم وجود ندارد نورونهای ارگانوییدهای عصبی میتوانند تشکیل آکسون بدهند همانطور طریق رنگ آمیزی GFP نشان داده آکسونهای رنگ آمیزی حاوی شاخه زایی پیچیده مخروط رویشی بودند بعلاوه تصویر برداری رنگ کلسیم نشان ارگانوییدهای مغزی دارای نوسانات کلسیم پتانسیلهای خودی سلولهای عصبی پیامرسانی کلسیم میتواند طریق گلوتامات تسهیل طریق تترودوتوکسین مهار شودفیزیکیهنوز کاملا مشخص نشدهاست بافتهایی سلولهای بنیادی ایجاد میشوند چگونه تعامل بافتهای اطراف منجر ایجاد ارگان میگردند قضیه نشان داده تمایز بیشتر بافتها نیازمند برهمکنش بافتهای اطراف بستگی فاکتورهای قابل انتشار القایی دارد یه میتوانند باعث القای تمایز مهار شوند تمایز ارگانوییدهای مغزی کاملا لوکالیزه متمرکز مارکرهایی بخش قبل مغز پیشین پسین شرح داده نظر فیزیکی کاملا لوکالیزه میباشند صورت دسته ای پدیدار میشوند نشان دهنده آزادسازی محرکها صورت موضعی یک تعداد بیشتری سلول سمت نوع خاصی تمایز مییابند تضاد مسیرهای تصادفی بافت مارکرهای اختصاصی شدن لوبهای مغز قشر پرفرونتال لوب سری نظر فیزیکی لوکالیزه مشخص شدهاند سلولهای هیپوکامپ بخشهای شکمی مغز پیشین نظر فیزیکی لوکالیزه نیستند ارگانوییدهای مغزی صورت تصادفی قرار گرفتهاند ارگانوییدهای مغزی عروق خونی ندارند نظر اندازه علت کم رسیدن مواد غذایی سلولهای عمقی محدود شدهاند بیرآکتورهای چرخشی تکنیکهای تولید داربست سه بعدی میتوانند منجر افزایش اندازه سایز ارگانوییدها طریق ادغام سیستمهای انتقال مواد غذایی in vitro شوند احتمالا پرش بعدی ساخت توسعه شبه اندامهای مغزی محسوب میشونداصول اخلاقینگرانیهای اخلاقی ارگانوییدهای مغزی عنوان مدلهایی بیماری عنوان توانایی بالقوه ادراک درد توانایی ایجاد هشیاری افزایش یافتهاست حال حاضر بعید بتوان مدلهای ساده فعلی پیچیدگیهای مغز انسان مقایسه حال مدلهایی ایجاد شدهاند میتوانند تحریکات ناشی نور پاسخ دهند نتیجه گفت مدلهای فعلی حدی توانایی پاسخ برخی تحریکات دارند اگر وجود گونه حواس ادراکات مدلها قابل اثبات موقع نسبت موارد اخلاقی مشکوک بوداقدامات زیادی حال حل سوالات مانند سمپوزیومی دانشگاه آکسفورد حل نگارانیهای اخلاقی رابطه فناوری جدید برگزار بهطور مشابه پروژههایی مانند brainstorm دانشگاه کیس وسترن هدف بررسی پیشرفتهای حاصل شاخه بررسی آزمایشگاههایی ارگانوییدهای مغزی کار میکنند بتوانند چارچوب فلسفی کار فناوری آینده ایجاد کنندمنابعContent in this edit is from the existing English Wikipedia article at see its history for attribution'})), (22279, (('history', 11.260035152779135), {'url': 'https://fa.wikipedia.org/wiki?curid=158044', 'title': 'برنارد لوئیس', 'text': 'برنارد لوئیس زاده لندن – درگذشته وورهیز نیوجرسی استاد بازنشسته مطالعات خاور نزدیک دانشگاه پرینستون لندن پدر مادری یهودی متولد تخصص تاریخ اسلام اثر متقابل میان اسلام جهان غرب ویژه خاطر پژوهشهای درباره تاریخ امپراتوری عثمانی منازعه زیرکانهاش پروفسور ادوارد سعید سر کشمکش میان اسرائیل فلسطین شناخته میشوددر دائرةالمعارف مورخان نوشتههای تاریخی نوشته مارتین کرامر پایاننامه دکترا لوئیس هدایت میشد دوران حرفهای ۶۰ ساله لوئیس عنوان مؤثرترین مورخ فراجنگ اسلام خاورمیانه میخواندلوئیس برجستهترین خاورمیانهشناسان غربی نظرات کارشناسی لوئیس درباره خاورمیانه کانون گستردهترین توجهات رایزنیهای مکررا خط مشی نمایان جمهوریخواهان آمریکا جمله دولت جرج دابلیو بوش نمونه درباره جنگ عراق خواسته میشدزندگیبرنارد لوئیس ۱۹ ۱۹۱۶ میلادی پدر مادری یهودی خانوادهای طبقه متوسط شرق لندن دنیا آمد پدر مادر برنارد اروپای شرقی بریتانیا مهاجرت کرده بودندلوئیس سال ۱۹۴۷ میلادی زنی دانمارکی تبار یهودی ازدواج حاصل ازدواج یک پسر یک دختر سال ۱۹۷۴ میلادی اثر رابطه پنهانی کوتاه شاهدختی امپراتوری عثمانی بیست هفت سال زندگی مشترک همسرش جدا جدایی رابطه لوئیس برخی روشنفکران یهودیتبار دوستان همسر سابقش بودند همیشه گسستتحصیلاو ابتدا میخواست شاعر دانشکده مطالعات شرقی آفریقایی دانشگاه لندن مدرک کارشناسی سپس دکترای تاریخ گرفت پاریس زبانهای سامی یادگرفت آنجا شاگردان لویی ماسینیون کارشناس تصوف اسلامی لوئیس دانشگاه لندن حقوق خواند مدتی کار حقوقی مشغول گرچه حرفه خیلی زود رها زیرا میخواست جهان نگاه دیگری ببیند سال ۱۹۳۸ میلادی سمت دانشیار تاریخ اسلام مدرسه مطالعات شرقی آفریقایی دانشگاه لندن منصوب شدجنگ جهانی دومدر هنگام جنگ جهانی دوم نزدیک یک سال سال ۱۹۴۱ میلادی ۱۹۴۲ میلادی عنوان سرجوخه واحد اطلاعات ارتش بریتانیا بخش خاورمیانه کار مشغول تسلط زبانهای خارجی شرقی غربی رمزگشایی پیامها حقیقت هنگام جاسوس دولت بریتانیا بودهاستتدریس دانشگاه مشاوره سیاسیاز ۱۹۴۹ میلادی ۱۹۷۴ میلادی لوئیس مدرسه مطالعات شرقی آفریقایی دانشگاه لندن تاریخ خاورمیانه خاور نزدیک درس میداد سال ۱۹۷۴ میلادی مدرسه مطالعات شرقی رها دانشگاه پرینستون پیوست پرینستون لوئیس برخی چهرههای کلیدی نو محافظهکار آشنا اثر گذاشت بسیاری چهرهها نزدیک سه دهه پایهگذاران اصلی سیاست خارجی تهاجمی آمریکا شدند میان چهرهها ریچارد پرل مشاور وزیر دفاع آمریکا دوره رونالد ریگان چهرههای نو محافظهکار طراح جنگ عراق پال ولفوویتز معاون سیاستگذاری وزارت دفاع آمریکا دوره جرج دابلیو بوش چهرههای نو محافظهکار طراح جنگ عراق الیت ایبرامز دستیار رئیسجمهور دوره رونالد ریگان دستیار ویژه رئیسجمهور دوره جرج اچ دابلیو بوش اشاره تأثیرگذاری ویژه هنگامی رخ برنارد لوئیس مشاور سناتور نو محافظهکار هنری ام جکسون بودلوئیس سال ۱۹۸۶ میلادی دانشگاه پرینستون بازنشسته سال ۱۹۹۰ میلادی دانشگاه کرنل تدریس پژوهش پرداختحملات ۱۱ سپتامبرپس حملات ۱۱ سپتامبر ۲۰۰۱ میلادی سیاستگذاران آمریکا بلافاصله دسته تقسیم شدند دسته نخست باور بودند مشکل جهان اسلام غرب ویژه آمریکا تنها راه حل فرهنگی دارد باید تعریف جدیدی مناسبات فرهنگی میان غرب جهان اسلام ارائه دسته دوم کسانی بودند رویکرد فرهنگی نسبت مشکل اساس خطا میدانستند گذشته شاگرد برنارد لوئیس بودند نظر دسته حل مشکل راه دیگری باید جست میانه اختلاف دسته دومیها برنارد لوئیس دعوت کردند مشاوران امنیتی بخشی کارکنان کاخ سفید سخنرانی سخنرانی لوئیس گفت روحیات ضد امریکایی جهان اسلام ربطی سیاستهای امریکا ندارد ریشه ناکامیها خطاهای تاریخی جهان اسلام داردنظریاتجهان اسلاماز دید برنارد لوئیس توضیح ساده جهان اسلام تمدنی برجسته گذشته شیطان مجسم حال معتقد غرب مقابل بنیادگرایی اسلامی ضربه خواهد زد ضربه خواهد خورد راه سومی حتی راه حل فرهنگی میان نیست لوئیس استدلال میکرد کشورهای مسلمان حال خارج نخواهند سوی دموکراسی خواهند رفت جهان غرب نابود خواهند بنابراین غرب بقای دموکراتیککردن جهان اسلام شیوهای نیاز دارد مطابق رأی آینده اروپا آینده جهان اسلام جدا نیست نظر لوئیس تنها پرسش درخور باب آینده اروپا آیا اروپای اسلامی خواهیم اسلام اروپایینبرد تمدنهالوئیس مفهوم نبرد تمدنها نخستین بار توصیف وضعیت غرب جهان اسلام برساخت مفهوم ساموئل هانتینگتون سر زبانها افتاد نظر لوئیس پرسش یازده سپتامبر غربیها یکدیگر میپرسیدند چرا مسلمانها غرب متنفر شدهاند پرسشی خطا نظر مسلمانها غرب متنفر نشدهاند بلکه قرنها غرب متنفر بودهاند تنفر حسرت پیشرفت نظامی علمی فرهنگی غرب سده ۱۶ میلادی سو همزمان پسرفت قدم قدم چشم دیدهاند میگفت آمریکا باید حس احترام دستکم ترس نسبت غرب دل جهان اسلام بکارد حتی اگر لازمه جنگ باشدمحمود احمدینژادلوییس پیشبینی کرده محمود احمدینژاد رئیسجمهور وقت ایران شب ۲۲ اوت ۲۰۰۶ میلادی شبی نظر مسلمانها محمد مکه بیتالمقدس سیر شبانه آنجا معراج رفت دستور حمله اتمی آخرالزمانی علیه اسرائیل صادر خواهد کردترکیه اسرائیلاو ترکیه اسرائیل یگانه دولتهای مدرن موفق منطقه خاورمیانه میدانست مصطفی کمال آتاترک خاطر پایهگذاری سکولاریسم ترکیه جنگ جهانی اول میستود گفته کشتن یک نیم میلیون ارمنی ترکیه سال ۱۹۱۵ میلادی سوی ترکان عثمانی نسلکشی نبود بلکه پیامد جانبی جنگ برخی تحلیلگران معتقدند نفوذ لوئیس میان برخی ژنرالها سیاستمداران ترک انعقاد پیوندهای نظامی میان اسرائیل ترکیه دهه ۱۹۹۰ میلادی کمک کردفلسطینلوئیس میانه دهه ۱۹۷۰ میلادی مقالهای نوشت عربهای فلسطینی نمیتوانند ادعا کنند نظر تاریخی واجد دولتی سرزمین موسوم فلسطین بودهاند زیرا قیمومت بریتانیا فلسطین ۱۹۱۸ میلادی اصولا چیزی تحت عنوان کشور فلسطین وجود نداشتهاست گفته استقبال رهبران اسرائیل قرار گرفت گلدا مئیر نخستوزیر وقت اسراییل اعضای کابینه خواست همگی مقاله بخوانند مئیر لوئیس تقاضا دیدار برود ساعتها یکدیگر سخن گفتند لوئیس آریل شارون رابطه بسیار نزدیکی داشتاختلاف ادوارد سعیددیدگاههای افراطی ضد اسلامی ضد خاورمیانهای غربستایانه لوئیس همواره انتقاد مخالفت پروفسور ادوارد سعید بودهاستمرگبرنارد لوئیس ۱۹ مه ۲۰۱۸ سن ۱۰۱ سالگی اثر کهولت سن وورهیز نیوجرسی ایالات متحده آمریکا درگذشتکتابشناسی فارسیاز برنارد لوئیس کتابهای زبان فارسی برگردان منتشر شدهاند برگردان فریدون بدرهای انتشارات توس اسفند ۱۳۶۲ خورشیدی منتشر شدهاستاین کتاب نام فدائیان اسماعیلی انتشارات بنیاد فرهنگ ایران ۱۳۴۸ خورشیدی عنوان اصلی The Assassin A Radical sect in Islam برگردان ماه ملک بهار شرکت انتشارات علمی فرهنگی ۱۳۶۵ خورشیدی عنوان اصلی Istanbul And Civilization Of The Ottoman برگردان ابوالقاسم سری ویسمن ۱۳۷۰ خورشیدی عنوان اصلی The origins of Ismailism a study of the historical background of the Fatimid Caliphate برگردان محمد قائد نشر مرکز ۱۳۷۴ خورشیدی عنوان اصلی The Muslim discovery of Europe برگردان محمدحسین آریا تهران دفتر نشر فرهنگ اسلامی ۱۳۷۶ خورشیدی عنوان اصلی Muslims In Europe برگردان غلامرضا بهروز قم دفتر تبلیغات اسلامی ۱۳۷۸ خورشیدی عنوان اصلی The political language of Islam برگردان نادر شیخزادگان نشر مرکز ۱۳۸۱ خورشیدی عنوان اصلی cultures in comflict christians muslims and jews in the age of discovery برگردان حسن کامشاد نشر نی ۱۳۸۱ خورشیدی عنوان اصلی The Middle East 2000 years of history from the rise of christianity to the present day برگردان شهریار خواجیان نشر اختران ۱۳۸۴ خورشیدی عنوان اصلی What Went Wrong Western Impact and Middle Eastern Response'})), (22539, (('history', 11.260035152779135), {'url': 'https://fa.wikipedia.org/wiki?curid=159380', 'title': 'ضدویروس ایویجی', 'text': 'ایویجی نام یک سری محصولات ضد ویروس پلاتفرم ویندوز لینوکس میباشدتاریخچهایویجی شرکت AVG Technologies یک شرکت خصوصی کشور جمهوری چک تولید میگردد شرکت سال ۱۹۹۱ Jan Gritzbach تأسیس گردیده اوایل سپتامبر ۲۰۰۵ بخش زیادی شرکت اینتل خریداری گردیداین شرکت اواخر تابستان ۹۳ تحریم علیه ایران برداشت هماکنون کاربران ایرانی قادر دانلود وب سایت رسمی شرکت هستندضد ویروس AVG تقریبا ۹۷٫۵ ویروسهای شناخته شناسایی حذف آمارAVComparatives اواخر addonهایی مانند web tuneup منتشر قابلیتهایی مانند اسکن وب ویروس بستن ترکها پاک کردن history مرورگر دارد شما میتوانید addon سایت AVG کروم نصب کنیدایویجی سال ۲۰۱۶ کمپانی آوست خریداری شدمنابعویکی انگلیسی'})), (456197, (('history', 11.260035152779135), {'url': 'https://fa.wikipedia.org/wiki?curid=3546741', 'title': 'تاریخ مستعمراتی ایالات متحده', 'text': 'تاریخ مستعمراتی ایالات متحده بیانگر دوره زمانی ساکن شدن اروپاییان آغاز استعمار آمریکا شکل گیری ایالات متحده یکپارچه قرن شانزدهم انگلستان فرانسه اسپانیا هلند برنامههای استعماری بهطور عمده شمال شرق آمریکا اجرا آوردندمنابعمشارکتکنندگان ویکیپدیا Colonial history of the United States ویکیپدیای انگلیسی دانشنامه آزاد بازیابی ۳۰ ژانویه ۲۰۱۶'})), (724929, (('history', 11.260035152779135), {'url': 'https://fa.wikipedia.org/wiki?curid=5286527', 'title': 'سوداگری با تاریخ', 'text': 'سوداگری تاریخ انگلیسی deception with history نام کتابی جلدی قلم محمد امینی پاسخ کتاب دکتر محمد مصدق آسیبشناسی یک شکست اثر علی میرفطروس اثر نخستین بار سال ۲۰۱۲ میلادی ۱۳۹۱ خورشیدی همکاری شرکت کتاب چاپ رسید داوریها پیرامون کتابمهشید امیرشاهی نویسنده روزنامهنگار تصور من سوداگری تاریخ مکمل بی چون چرای همه تحقیقاتی خواهد آینده باره دوره تاریخ ما نقش مقام محمد مصدق عمل بیاید رهگذر گمان من آقای امینی تاریخ نگاران پژوهشگران فردا امروز وامدار خویش ساختهاستمحسن قائم مقام عضو جبهه ملی کتاب بهترین کتابهای مستند تاریخی پوشش تاریخ پر نشیب فراز نهضت ملی ایران بشمار میرود نگارش کتاب بدون تردید خدمتی بزرگ بمردم ایران علاقهمندان تاریخ آزادی دمکراسی جهان کتابی سطح بالا پرمحتوا وزین همه مطالب صمیمانه صادقانه اخلاص پاکی نیت انشائی دلپذیر عرضه داشتهاسترضا اغنمی نویسنده بیان آشکار شجاعانه نویسنده نشان میدهد تکیه اسناد مطالعه بیغرضانه آگاهانه درسنجه وجدان تمیز راستیها جنگ ناراستیهای سوداگران بیمایه رفتهاست امینی بررسی اسناد سکه میبیند داوری منصفانه زبانی بس استوار تدوین منتشر خواننده درآئینه خیال سوداگران شرم زده میبیندشیرزاد کلهری چندین کتاب ور ور راجع مصدق گیر آورده خواندم ولی کتابی چنان پرمایه عمیق نگارشی پر حوصله دقیق محمد امینی نگارش درآورده نیافتم دامنه مطالعات وسیع نوع برخورد ظریف موشکافانه بسیار متین آقای محمد امینی خواننده مجذوب کتاب حاوی واژههای بیشماری فارسی سره طرز نگارشی ویژه اثر زیبایی خاصی میدهد جای خاصی برخورد دارد گردآوری اینهمه سند آنهم خارج کشور نمایانگر زحمات بی نظیری ایشان کشیدهاند حسن اعتمادی مقاله ای فرنام نقدی سوداگری تاریخ سوداگران تاریخ کتاب محمد امینی پاسخ دادهاست علی میرفطروس مقاله یک کلمه مدعی محمد امینی ادعاهایش سخنی نویسنده طناز ادعاها پرداختهاست مقاله ای فرنام اندر احوالات پژوهشگری بی باک میرفطروس اندیشه عمل سیاسی محمد امینی نقد کرده'})), (726181, (('history', 11.260035152779135), {'url': 'https://fa.wikipedia.org/wiki?curid=5292830', 'title': 'فیلهلنیسم', 'text': 'فیلهلنیسم Philhellenism یونان دوستی فیلهلن Philhellene معنای ستاینده یونانیها هرچیز یونانی مشتق واژه φίλος philos معنای دوست عاشق ἑλληνισμός hellênismos معنای یونانی یک جنبش روشنفکری ویژه بدو سده نوزدهم برجسته جنبش احساساتی دامن زد سرانجام اروپائیانی جمله لرد بایرون شارل نیکلای فابویهرا جنگ استقلال یونان امپراتوری عثمانی پشتیبانی کنندفیلهلنیسم اروپائی پایان سده نوزدهم مقدار کثیری میان کلاسیک شناسان دیده شدهاستفیلهلنهای دوران باستاندر دوران باستان واژه Philhellene توصیف غیریونانیهایی دوستدار فرهنگ یونانی بودند یونانیهایی میهن پرستانه فرهنگ پاسداری کردند قرار گرفت فرهنگ واژگان یونانیانگلیسی لیدلاسکات philhellene چنین تعریف دوستدار یونانیها ویژه شهریاران بیگانه همچون آماسیس دوم پادشاهان اشکانی خودکامگانیونانی جمله جیسون فرایو کل میهن پرستان یونانیاز برخی نمونهها اواگوراس قبرسی فیلیپ مقدونی همگی ایسوکراتس فیلهلن Philhellenes نامیده شدند اشاره حکمرانان اولیه شاهنشاهی اشکانی مهرداد یکم عنوان فیلهلن سکههای کردند اقدامی سیاسی هدف ایجاد روابط دوستانه اتباع یونانی شان بودفیلهلنهای رومیطبقات بالای باسوادروم طول سده سوم قبل میلاد فرهنگ بهطور فزاینده ای یونانی سازی میشدنددر میان رومیان تیتوس کوئینکتیوس فلامینینوس کسی ۱۹۶ قبل میلاد خلال بازیهای ایستمیدر کورینت ظاهر آزادی دولتشهرهای یونانی اعلام یونانی روان صحبت میکرد طبق گفته تیتوس لیویوس یک ستاینده بزرگ فرهنگ یونانی یونانیان سان آزادیبخش یاد کردندالبته برخی رومیان اواخر دوران جمهوری گونه ای برجسته ضد یونانی بودند نفوذ فزاینده فرهنگ یونانی زندگی رومی نفرت داشتند نمونههای سانسورچی رومی نام کاتوی بزرگتر کاتوی جوانتر بودند کسی طول تهاجم روم یونان زیست سالهای پایانی زندگی اش اقامت رودس عاقبت یک فیلهلن بدل شدشاعر غنایی نام هوراس یک فیلهلن خاطر کلماتش شهره Graecia capta ferum victorem cepit et artis intulit agresti Latio یونان مغلوب متغالب وحشی بند کشاند هنرهای داخل لاتیوم روستایی برد بدین معنا تصرف یونان یونانیهای مغلوب یک هژمونی فرهنگی رومیها آفریدندامپراتورهای رومی جمله نرون هادریان مارکوس آئورلیوس ژولیان مرتد خاطر فیلهلنیسم شان شهره انددر عصر حاضردر دوران واکنش سرکوب سیاسی سقوط ناپلئون زمانی طبقات متوسط بالای لیبرال محصل موفق جوامع اروپایی بازگشت رژیمهای کهنهشان شاهد سرکوبی آرمانهای انقلابی رمانتیک ۹۲–۱۷۸۹ بودند آرمان نوزایی یک دولت یونانی قلمروهای بسیاری خاطر ارزش باستانی شان قدسیت یافته بودند آرمانی حتی سبک مبلمان اتاقهای نشیمن شان محتوای قفسه کتابهایشان بازتاب یافته ایدئالی پایه فضای رمانتیک کشیددر شرایط قیام یونان منبع الهام توقعاتی هیچگاه نتوانست عملا برآورده سبب یأس حرمان چیزی شدند پل کارتلج خودهویت یابی عصر ویکتوریایی افتخار یونانی بودنش خوانده آموزش عالی آمریکایی تحسین فزاینده هویت یابی بوسیله یونان باستان دهه ۱۸۳۰ اساس دگرگون بودسوژه مشهور علاقه فرهنگ یونانی مسیر سده نوزدهم فیلسوف سکایی آناکارسیس کسی سده ششم میلاد زیست اشتهار آناکارسیس لطف اثر تخیلی ژانژاک بارتلمی نام سفرهای آناکارسیس جوان یونان۱۷۸۸ جرقه خوردهاست یک سفرنامه تخیلی پژوهشگرانه نخستین داستانهای تاریخی محققین معاصر دانشنامه فرهنگ جدید باستان نامیدهاست رمان اثری شگرف رشد فیلهلنیسم فرانسه کتاب چندین بار ویرایش ایالات متحده تجدید چاپ آلمانی سایر زبانها ترجمه کتاب بعدها ترحم اروپائیان نسبت جنگ استقلال یونان برانگیخت سبب اقتباسها مقلدههایی سرتاسر سده ۱۹ام پدید آیددر فرهنگ آلمانی نخستین مرحله فیلهلنیسم آثار یوهان یواخیم وینکلمان پیوند زد مبدعین تاریخ هنر بهفریدریش آگوست وولف کسی پژوهشهای مدرن هومری اثر عنوان Prolegomena ad Homerum 1795 آغازید دیوانسالار روشنگری نام ویلهلم فون هومبولتیادداشتها Intellectual movement Charles Nicolas Fabvier LiddellScott greekEnglish lexicon Tyrant Jason of Pherae Evagoras Literate Hellenization Titus Quinctius Flamininus Isthmian games Liberator AntiGreek متغالب conqueror معنای چیره فاتح مظفر فیروزمند Cultural hegemony Ideal Paul Cartledge Selfidentification JeanJacques Barthélemy Travels of Anacharsis the Younger in Greece Encyclopedia Art history ترجمه فارسی درآمدی هومر Bureaucrat'})), (502448, (('history', 11.260035152779135), {'url': 'https://fa.wikipedia.org/wiki?curid=3891092', 'title': 'برشکاری اکسیژنی', 'text': 'برشکاری اکسیژنی نوعی برشکاری گرمایی ذوب برداشتن فلز گرمای حاصل واکنش شیمیایی اکسیژن فلز پایه نوع برشکاری گرمای قوس شعله اکسیسوخت گازی منابع دمای موردنیاز اولیه تأمین میکنند جوشکاری سوخت اکسی برش سوخت اکسی فرایندهایی گازهای سوختی سوخت های مایع مانند بنزین اکسیژن جوشکاری برش فلزات میکنند مهندسین فرانسوی ادموند فوشه چارلز پیکارد اولین کسانی بودند سال ۱۹۰۳ جوشکاری اکسیژن استیلن توسعه دادند اکسیژن خالص جای هوا افزایش دمای شعله امکان ذوب موضعی قطعهی کار عنوان مثال فولاد محیط اتاق فراهم شعله مشترک پروپان هوا حدود ۲۲۵۰ کلوین ۱۹۸۰ درجه سانتیگراد ۳۵۹۰ درجه فارنهایت سوزد شعله پروپان اکسیژن حدود ۲۵۲۶ کلوین ۲۲۵۳ درجه سانتیگراد ۴۰۸۷ درجه فارنهایت میسوزد شعله اکسی هیدروژن ۳۰۷۳ کلوین ۲۸۰۰ درجه سانتیگراد ۵۰۷۲ درجه فارنهایت شعله استیلن اکسیژن حدود ۳۷۷۳ کلوین ۳۵۰۰ درجه سانتیگراد ۶۳۳۲ درجه فارنهایت میسوزد اوایل قرن ۲۰ قبل توسعه دسترس بودن الکترودهای جوشکاری قوسی فلز پوششدار اواخر دهه ۱۹۲۰ قادر ایجاد جوش صوتی فولاد بودند جوشکاری اکسی استیلن تنها فرایندی میتوانست جوشهایی کیفیت فوق العاده بالا تقریبا همه فلزات زمان تجاری ایجاد اینها نه تنها شامل فولاد کربنی بلکه فولادهای آلیاژی چدن آلومینیوم منیزیم بودند دهههای اخیر تقریبا تمام مصارف صنعتی روشهای مختلف جوشکاری قوس جایگزین سرعت بیشتری ارائه میدهد جوشکاری قوس تنگستن گاز توانایی جوشکاری فلزات بسیار واکنش پذیر مانند تیتانیوم دارد جوشکاری اکسی استیلن هنوز کارهای هنری مبتنی فلز فروشگاههای کوچکتر مستقر خانه شرایطی دسترسی برق عنوان مثال طریق سیم برق ژنراتور قابل حمل مشکلاتی دارد مشعل جوشکاری اکسی استیلن سایر مخلوط های گاز اکسید سوخت عنوان یک منبع اصلی گرما جوشکاری دستی جوشکاری براق شکل گیری فلز آماده سازی عملیات حرارتی موضعی باقی مانده علاوه برش سوخت اکسیژن هنوز طور گستردهای قرار میگیرددر صنایع سنگین عملیات صنعتی ترمیم سبک جوشکاری سوخت اکسی مشعل جوشکاری جوشکاری فلزات فلز جوشکاری زمانی حاصل قطعه دمایی گرم شوند استخر مشترکی فلز مذاب تولید کنند استخر مذاب معمولا فلز اضافی بنام پرکننده عرضه انتخاب مواد پرکننده بستگی فلزات جوش داده دارد برش سوخت اکسیژن یک مشعل گرم کردن فلز دمای سوختن سپس یک جریان اکسیژن فلز عبور داده اکسید فلزی تبدیل مشعلهایی سوخت اکسیژن مخلوط نکنند عوض هوای جو ترکیب میکنند مشعلهای سوخت اکسی نظر گرفته نمیشوند طور معمول یک مخزن قابل شناسایی برش سوخت اکسیژن منبع جدا سوخت اکسیژن نیاز دارد بیشتر فلزات نمیتوان یک مشعل تک مخزن ذوب نتیجه مشعلهای یک مخزن معمولا لحیم کاری لحیمکاری سخت مناسب جوشکاری مناسب نیستندکاربردهامشعل های سوخت اکسی موارد شودعملیات حرارتی صنایع خودرو سازی صنایع منظور شل کردن اتصال دهنده های ضبط میشودشعله خنثی اتصال برش کلیه فلزات آهنی غیر آهنی جز برنج میشوددر رسوب فلز ایجاد یک سطح همانند سخت کاری میشودهمچنین شعله های آتش اکسی هیدروژن موارد میشوددر سنگ شعله ور کردن کار جایی سنگ گرم لایه بالایی ترک میخورد میشکند یک برس دایرهای استیل یک سنگ جت متصل بردن اولین لایه باقیمانده سطح ناهموار شبیه برنز چکش خورده میشوددر صنعت شیشه میشوددر تولید جواهرات جوشکاری آب مشعل آب مشعل اکسی هیدروژن گازرسانی بلافاصله الکترولیز آب تولید کاربرد داردپیش تر گرم کردن توده های اکسید کلسیم زنده دست آوردن یک نور سفید روشن نام روشنایی کلسیم سینما فانوس های نوری جادویی میشددر گذشته کارهای پلاتین پلاتین فقط شعله اکسی هیدروژن نیاز منبع کوره الکتریکی قابل اشتعال طور خلاصه تجهیزات سوخت اکسیژن کاملا همه کاره نه تنها دلیل برخی انواع جوشکاری آهن فولاد ترجیح داده بلکه دلیل اینکه جوشکاری جوشکاری برقی گرمایش فلزی بازپخت تعدیل خم شدن شکل دادن میبخشد ترجیح میدهد زنگزدگی زدودن مقیاس شل شدن مهرهها پیچ مهرههای خورده وسیلهای فراگیر برش فلزات آهنی استساختار دستگاهدستگاههای جوشکاری گاز اساسا یک منبع اکسیژن یک منبع گاز سوختی معمولا سیلندرها وجود دارد تنظیم کننده فشار شلنگ انعطاف پذیر سیلندر یک مشعل تشکیل نوع مشعل ها لحیمکاری لحیمکاری سخت سیلندرها اغلب یک کالسکه چرخ دار مخصوص حمل میشوند نمونه هایی مجموعه های برش اکسی هیدروژن سیلندرهای کوچک اندازه سیلندر غواصی وجود دارد عملیات نجات موارد مشابه پشت کوله پشتی کاربر میشوند نمونههایی مشعلهای برش سوخت مایع بدون فشار تحت فشار وجود دارد معمولا گازوئیل بنزین اینها افزایش قدرت برش سیستمهای سوخت گازی قابلیت حمل بیشتر مقایسه سیستم های نیاز مخزن فشار بالا میشوندرگلاتورمقاله اصلی رگلاتور گازی تنظیم کننده رگلاتور اطمینان حاصل فشار گاز مخازن فشار نیاز شلنگ مطابقت دارد سپس میزان سرعت جریان اپراتور شیرهای سوزنی مشعل تنظیم کنترل دقیق جریان شیر سوزنی فشار ورودی ثابت متکی بیشتر تنظیم کننده ها مرحله دارند مرحله اول یک تنظیم کننده فشار ثابت علی رغم افت فشار سیلندر اثر مصرف گاز موجود فشار میانی ثابت گاز سیلندر آزاد شبیه اولین مرحله تنظیم کننده غواصی مرحله دوم کنترل تنظیم کننده تنظیم کاهش فشار فشار متوسط \\u200b\\u200bبه فشار خروجی پایین کنترل رگولاتور دارای فشار سنج فشار سیلندر نشان میدهد دیگری فشار شلنگ نشان میدهد دکمه کنترل تنظیم کننده گاهی اوقات تقریبا فشار کالیبره تنظیم دقیق مستلزم رعایت اندازهگیری برخی تنظیم کنندههای سوخت اکسیژن ساده ارزان قیمت فقط یک تنظیم کننده تک مرحله ای دارند فقط یک فشارسنج شلنگ دارند یک تنظیم کننده تک مرحله ای دلیل تخلیه سیلندر نیاز کاهش فشار خروجی دارد نیاز تنظیم مجدد دستی دارد کاربران کمحجم یک ساده سازی قابل قبول رگولاتورهای جوشکاری برخلاف تنظیم کننده های حرارتی ساده LPG فشار سنج خروجی شلنگ حفظ کرده کالیبراسیون دکمه تنظیم اعتماد ندارند رگولاتورهای ارزان قیمت یک مرحله ای ممکن گاه محاسبه محتویات سیلندر کنند سنسور دقیق صفحه یک دکمه افزایش دکمه ارزان تر دقیق جایگزین کنندشیلنگ گازشیلنگهای کار جوشکاری برش فلز طراحی شدهاند یک طرح شلنگ دوقلو معنی شیلنگهای اکسیژن سوخت متصل شدهاند صورت شیلنگهای جداگانه باید فواصل تقریبی ۳ فوت ۱ متر جدا شوند اگرچه امر برش کاربردی توصیه نمیشود زیرا دانه های فلز مذاب داده فرآیند میتوانند شیلنگ هایی قرار دارند جا گیرند نگه داشته روند گاز تحت فشار داخل آزاد کنند گاز تحت فشار معمولا مشتعل شیلنگ ها شناسایی بصری کدگذاری شدهاند رنگ شلنگها کشورها متفاوت ایالات متحده شیلنگ اکسیژن سبز شیلنگ سوخت قرمز انگلستان سایر کشورها شیلنگ اکسیژن آبی ممکن هنوز تجهیزات قدیمی شیلنگ های سیاه وجود داشته باشند شیلنگ استیلن سوخت قرمز اگر سوخت گاز مایع LPG مانند پروپان شیلنگ سوخت باید نارنجی نشان دهنده سازگاری LPG LPG یک شلنگ نامناسب جمله بیشتر شیلنگهای استیلن آسیب میرساند اتصالات رزوهدار شیلنگها تحویل داده اتصال اشتباه تصادفی جلوگیری نخ شیلنگ اکسیژن راست دست صورت عادی حالی شیلنگ گاز سوخت دارای یک نخ چپ دست نخ های چپ دست دارای یک شیار مشخص مهرههای بریده اتصالات محکم گاز شیلنگ های انعطاف پذیر اتصالات سخت گیره های شلنگ پیچ مهرهای غالبا گیرههای O گفته شاخه های خاردار ایجاد میشوند گیرههای شیلنگ درایو کرمی کلیپهای پیچ بست طور خاص انگلستان بعضی کشورها ممنوع استشیر بدون بازگشتاستیلن فقط قابل اشتعال نیست شرایط خاص قابل انفجار اگرچه ۸۱ حد اشتعال بالایی هوا برخوردار رفتار تجزیه انفجاری استیلن موضوع بی اهمیت اگر موج انفجار مخزن استیلن وارد تجزیه مخزن میرود دریچههای کنترل عادی طور معمول برگشت جریان جلوگیری میکنند نمیتوانند موج انفجار متوقف کنند زیرا قبل عبور موج اطراف دروازه قادر بسته شدن نیستند همین دلیل گیربکس فلش بک نیاز طراحی قبل آنکه موج انفجار سمت شلنگ سمت منبع تغذیه هدایت کار تنظیم کننده شیلنگ حالت ایده آل شیلنگ مشعل خط اکسیژن سوخت باید یک فلش بک گیر شیر برگشتی شیر کنترل نصب شعله ور شدن مخلوط سوخت اکسیژن داخل سیلندر جلوگیری باعث آسیب رساندن تجهیزات انفجار سیلندر نشود رویه اروپایی گیرنده های فلش بک تنظیم کننده قرار دهید دریچه ها مشعل بررسی کنید رویه ایالات متحده تنظیم کننده قرار دهد گیرنده فلاش بک برگشت امواج شوک پایین دست سمت بالا سمت شیلنگ ها ورود سیلندر جلوگیری احتمالا پاره زیرا مقداری مخلوط سوختاکسیژن داخل قسمت های تجهیزات طور خاص مخلوط کن لولهنازل وجود دارد صورت منفجر شدن تجهیزات اشتباه خاموش استیلن فشارها دما بیش حد تجزیه صورتی موج فشار نشتی پایین دستگیر فلش بک ایجاد کرده زمانی کسی ریست خاموش خواهد ماندچک کردن سوپاپچک کردن سوپاپ اجازه دهد جریان گاز فقط یک جهت معمولا محفظهای حاوی توپی یک فنر انتهای فشار داده جریان گاز یک طرفه توپی مسیر دور کمبود جریان جریان معکوس باعث فنر توپی داخل ورودی فشار دهد مسدود اینکه گیربکس فلش بک اشتباه گرفته نشود سوپاپ چک جلوگیری موج ضربه ای ساخته نشده موج ضربه میتواند حالی اتفاق بیفتد توپی آنقدر ورودی فاصله دارد موج قبل رسیدن موقعیت توپی کنار توپ عبور کندمشعلمشعل ابزاری جوشکار دست دارد ساخت جوش دستکاری وسیله یک اتصال یک شیر گاز سوخت یک اتصال یک شیر اکسیژن یک دسته جوشکار گرفتن یک اتاق مخلوط کردن تنظیم یک زاویه گاز سوخت اکسیژن مخلوط میشوند یک نوک جایی شعله شکل میگیرد نوع اصلی مشعلها نوع فشار مثبت فشار کم نوع انژکتور هستندمشعل جوشکاریاز سر مشعل جوشکاری جوشکاری فلزات داشتن فقط یک لوله حال حرکت سمت نازل عدم ایجاد ماشه انفجار اکسیژن دکمه سوپاپ پایین دسته قابل شناسایی اپراتور اجازه میدهد ترتیب جریان اکسیژن سوخت تنظیم کندمشعل برشاز سر مشعل برش برش مواد شبیه مشعل جوشکاری ماشه اهرم انفجار اکسیژن قابل شناسایی هنگام برش فلز ابتدا شعله گرم قرمز گیلاسی رسیدن دما اکسیژن قسمتهای گرم میرود فشار دادن ماشه اکسیژن بیرون منتقل اکسیژن فلز واکنش میدهد گرمای بیشتری تولید یک اکسید تشکیل میدهد برش منفجر گرما روند برش ادامه میدهد مشعل برش فقط فلز گرم فرآیند شروع گرمای بیشتر فلز حال سوختن تأمین نقطه ذوب اکسید آهن تقریبا نیمی فلز بریده سوختن فلز بلافاصله اکسید آهن مایع تبدیل منطقه برش دور حال مقداری اکسید آهن قطعه کار باقی مانده یک خاکستر سخت تشکیل میدهد ضربه زدن آرام آسیاب کردن قابل حذف استمشعل غنچه گل رزاز مشعل غنچه گل رز گرم كردن فلزات خم شدن صاف كردن غیره كه نیاز گرم شدن یک منطقه بزرگ اصطلاحا غنچه گل رز گفته زیرا شعله انتهای مانند یک جوانه گل سرخ نظر رسد مشعل جوشکاری گرم کردن مناطق کوچک مانند مهرهها پیچ مهرههای زنگ زده کردمشعل انژکتوریک مشعل متداول سوخت اکسی نام مشعل فشار برابر فقط گاز مخلوط یک مشعل انژکتور اکسیژن فشار قوی یک نازل کوچک درون سر مشعل خارج اثر ونتوری گاز سوخت همراه میکشدسوختهافرآیندهای سوخت اکسی ممکن انواع گازهای سوختی متداول ترین استیلن گازهای دیگری ممکن قرار گیرند پروپیلن گاز مایع LPG پروپان گاز طبیعی هیدروژن گاز MAPP نمونهای بسیاری برندها انواع مختلف گازها مخلوط میکننداستیلناستیلن سوخت اصلی جوشکاری سوختهای اکسی سوخت انتخابی تعمیر برش جوشکاری عمومی گاز استیلن سیلندرهای مخصوصی حل شدن گاز طراحی اند حمل سیلندرها مواد متخلخل عنوان مثال الیاف کاپوک خاک دیاتومه آزبست پنبه نسوز بسته بندی میشوند سپس استون حدود ۵۰ ظرفیت پر میشوند زیرا استیلن استون محلول روش لازم زیرا استیلن بالاتر ۲۰۷ کیلو پاسکال ۳۰ پوند اینچ فشار مطلق ناپایدار ممکن منفجر هنگام پر شدن حدود ۱۷۰۰ کیلو پاسکال فشار مخزن وجود دارد استیلن هنگامی اکسیژن ترکیب دمای ۳۲۰۰ ۳۵۰۰ درجه سانتیگراد ۵۸۰۰ درجه فارنهایت ۶۳۰۰ درجه فارنهایت میسوزد بالاترین میزان سوختهای گازی قابل عنوان نقطه ضعف اولیه استیلن سوخت مقایسه سایر سوختها هزینه بالایی آنجا استیلن فشار تقریبا معادل ۳۳ فوت ۱۰ متر آب ناپایدار برش جوشکاری آب غوطهور هیدروژن نسبت استیلن بهتر استگازوئیلاکسی گازوئیل اکسی بنزین میگویند عملکرد بسیار خوبی داشته ویژه مواردی سوخت گاز بطری دسترس نیست حمل نقل محل کار دشوار آزمایشات نشان یک مشعل اکسی بنزین میتواند ورق فولادی ضخامت ۰۵ اینچ ۱۳ میلی متر همان سرعت اکسی استیلن برش دهد ضخامت صفحه بیشتر ۰۵ اینچ ۱۳ میلی متر سرعت برش بهتر اکسی استیلن ضخامت ۴۵ اینچ ۱۱۰ میلی متر سه برابر سریعتر بنزین مخزن تحت فشار تغذیه فشار میتواند پمپاژ دستی یک سیلندر گاز تغذیه یک مخزن غیر تحت فشار سوخت عمل ونتوری جریان اکسیژن تحت فشار داخل مشعل کشیده قابلیت تهیه دارد رویکرد کم هزینه دیگری معمولا سازندگان جواهرات آسیا قرار میگیرد حباب هوا طریق یک ظرف بنزین پمپ هوا عملکرد پا سوزاندن مخلوط سوخت هوا یک مشعل مخصوص جوشکاری استهیدروژنهیدروژن شعله تمیز دارد آلومینیوم مناسب میتواند فشار بالاتر استیلن بنابراین جوشکاری برش آب مفید نوع خوبی شعله هنگام گرم کردن مقادیر زیاد مواد دمای شعله بالا حدود ۲۰۰۰ درجه سانتیگراد گاز هیدروژن هوای فشار جو ۲۸۰۰ درجه سانتیگراد اگر قبل نسبت نیم اکسیژن خالص اکسی هیدروژن مخلوط هیدروژن جوشکاری فولادها سایر مواد آهنی نمی زیرا باعث تردی هیدروژنی میشودبرای برخی مشعلهای اکسی هیدروژن اکسیژن هیدروژن الکترولیز آب دستگاهی مستقیما مشعل متصل تولید انواع نوع مشعلاکسیژن هیدروژن طور جداگانه سلول الکترولیز خارج میشوند اتصال گاز یک مشعل اکسیگاز معمولی وارد میشوند مشعل آب اتفاق میافتد گاهی اوقات مشعلهای کوچک ساخت جواهرات وسایل الکترونیکی دیده استاکسیژن هیدروژن مخلوط سلول الکترولیز گرفته مشعل خاصی هدایت جلوگیری برگشت فلش طراحی استپروپیلن گاز سوختیپروپیلن تولید جوش برش برشهایی مشابه پروپان دارد هنگام پروپیلن مشعل ندرت نیاز تمیز کردن نوک دارد هنگام پروپیلن برش مشعل انژکتور بخش پروپان مراجعه کنید اغلب یک مزیت اساسی دارد تعداد زیادی تأمین کنندگان آمریکای شمالی فروش پروپیلن علائم تجاری انحصاری مانند FG2 FuelMax آغاز کردهاندمخلوطهای بوتان پروپان بوتانپروپانبوتان مانند پروپان هیدروکربن اشباع بوتان پروپان هیچ واکنشی یکدیگر نشان نمیدهند مرتبا مخلوط میشوند بوتان دمای ۰۶ درجه سانتی گراد میجوشد پروپان دمای ۴۲ درجه سانتیگراد فرارتر تبخیر دمای بالاتر نقاط جوش سریع مقادیر کالری گرما تقریبا برابر بنابراین دستیابی فشار بخار نهایی نیاز کاربر بسته شرایط محیط مخلوط میشوند اگر دمای محیط بسیار کم پروپان دستیابی فشار بخار بالاتر دمای داده ترجیح داده میشودپروپان اندازه استیلن مخروط داخلی گرم نمیشود بنابراین ندرت جوشکاری پروپان وجود تعداد زیادی BTU فوت مکعب مخروط بیرونی دارد بنابراین مشعل مناسب سبک انژکتوری میتواند برشی سریعتر تمیزتر استیلن ایجاد گرم کردن خم شدن بسیار مفیدتر استیلن استحداکثر درجه حرارت شعله خنثی پروپان اکسیژن ۲۸۲۲ درجه سانتی گراد ۵۱۱۲ درجه فارنهایت طرفی پروپان ارزانتر استیلن حمل نقل آسانتر استنقش اکسیژناکسیژن سوخت نیست همان چیزی طور شیمیایی سوخت ترکیب گرما جوشکاری تولید اصطلاح اکسیداسیون نامیده اصطلاح خاص تر متداول تر زمینه احتراق هیدروژن محصول احتراق سادگی آب سایر سوخت های هیدروکربن آب دی اکسید کربن تولید گرما آزاد زیرا مولکول های محصولات احتراق نسبت مولکول های سوخت اکسیژن انرژی کمتری دارند برش سوخت اکسیژن اکسیداسیون فلز حال برش طور معمول آهن تقریبا تمام گرمای لازم سوختن طریق قطعه کار تولید اکسیژن معمولا تقطیر هوای مایع جای دیگری تولید فشار حدود ۲۱۰۰۰ کیلو پاسکال ۳۰۰۰ پوند اینچ ۲۰۰ اتمسفر محل جوشکاری مخازن فشار قوی معمولا مخازن سیلندر نامیده میشوند منتقل ماده عنوان مایع رگهای نوع فلاسک مکانهایی مقدار زیادی اکسیژن میکنند حمل اکسیژن هوا عبور هوا تحت فشار طریق الک زئولیت طور انتخابی نیتروژن جذب اجازه میدهد اکسیژن آرگون عبور دهد جدا باعث خلوص اکسیژن حدود ۹۳ روش لحیمکاری خوبی عمل تولید اکسیژن خلوص بالاتر هنگام تولید برش یک پوسته پاک بدون سرباره لازم استایمنیجوشکاریبرش اکسی استیلن کار سختی نیست تعداد زیادی نکات ایمنی ظریف وجود دارد باید یاد بگیرند بیش ۱۷ ظرفیت سیلندر نباید ساعت امر باعث استون داخل سیلندر استیلن سیلندر خارج شلنگ احتمالا مشعل آلوده استیلن فشار بالای ۱ اتمسفر خطرناک ناپایدار صورت انفجاری تجزیه تهویه مناسب هنگام جوشکاری شما کمک معرض مواد شیمیایی زیاد قرار نگیریداهمیت محافظت چشماز محافظ مناسب مانند عینک های جوشکاری باید همیشه جمله محافظت چشم برابر خیرگی جرقه های پرواز عینکهای ایمنی ویژه ای باید محافظت جوشکار ایجاد دید واضح طریق مشعل زردنارنجی شار لامپ ایجاد دهه ۱۹۴۰ عینکهای ذوب کننده کبالت کارخانههای ریختهگری فولاد وام گرفته دهه ۱۹۸۰ همچنان دسترس وجود عدم محافظت برابر ضربه نور بنفش مادون قرمز آبی باعث خستگی چشم آسیب شدید چشم عینک دیدیمیم دهه ۱۹۶۰ دمندههای شیشه تولید وام گرفته اینکه بسیاری مشکلات چشم ناشی مادون قرمز بیش حد نور آبی سایه ناکافی شکایت داشتند امروزه محافظت خوبی چشم مشاهده مخصوصا آلومینیوم جوشکاری گاز ساخته شعله ورنج سدیم طور کامل قطع محافظت لازم برابر اشعه ماورا بنفش مادون قرمز نور آبی ضربه فراهم مطابق استانداردهای ایمنی ANSI Z871989 یک لنز مخصوص استایمنی سیلندرمخازن سوخت اکسیژن باید طور ایمن قائم دیوار پست گاری قابل حمل بسته شوند مخزن اکسیژن ویژه خطرناک زیرا گاز هنگام پر شدن فشار ۲۱ مگاپاسکال ذخیره صورت سقوط مخزن آسیب رساندن دریچه توان اکسیژن فشرده خارج سیلندر سرعت زیاد مخزن برد مخازن حالت قادر شکستن یک دیوار آجری همین دلیل هرگز مخزن اکسیژن بدون پیچ بودن درپوش سوپاپ محل حرکت ندهید سیستم مشعل اکسی استیلن سه نوع سوپاپ وجود دارد شیر مخزن شیر تنظیم کننده شیر مشعل گاز موجود سیستم دارای یک سه سوپاپ خواهد رگولاتور گاز پرفشار داخل مخازن جریان کم فشار مناسب جوشکاری تبدیل سیلندرهای استیلن باید موقعیت ایستاده نگه داشته شوند جدا شدن استون داخلی استیلن مواد پرکننده جلوگیری قرار گرفتن معرض مواد شیمیاییخطر جوشکاری مشهود کمتر قرار گرفتن معرض مواد شیمیایی مضر قرار گرفتن معرض فلزات خاص اکسیدهای فلز مونوکسیدکربن اغلب میتواند شرایط وخیم پزشکی منجر مواد شیمیایی آسیبرسان میتوانند سوخت قطعه کار پوشش محافظ قطعه کار تولید شوند افزایش تهویه اطراف محیط جوشکاری جوشکارها معرض مواد شیمیایی مضر منبع قرار میگیرند متداولترین سوختی جوشکاری استیلن دارای واکنش دومرحلهای واکنش شیمیایی اولیه شامل جدا کردن استیلن حضور اکسیژن تولید گرما مونوکسیدکربن گاز هیدروژن C2H2 O2 → 2CO H2 یک واکنش ثانویه جایی وجود آید مونوکسیدکربن هیدروژن اکسیژن بیشتری ترکیب دی اکسید کربن بخار آب تولید میکنند هنگامی واکنش ثانویه تمام واکنش دهندههای حاصل واکنش اولیه نسوزاند فرآیند جوشکاری میتواند مقادیر زیادی مونوکسیدکربن تولید کار اغلب مونوکسیدکربن محصول جانبی بسیاری واکنش های سوخت ناقص تقریبا قطعه فلز آلیاژی یک نوع نوع دیگری مس آلومینیوم سایر فلزات پایه گاها برلیوم یک فلز بسیار سمی آلیاژ میشوند وقتی فلزی مانند اینها جوش برش میخورد غلظتهای بالایی بخارات سمی بریلیم آزاد قرار گرفتن طولانی مدت معرض بریلیم ممکن منجر تنگی نفس سرفه مزمن کاهش وزن قابل توجه همراه خستگی ضعف عمومی سایر عناصر آلیاژی مانند آرسنیک منگنز نقره آلومینیوم میتواند باعث بیماری افرادی معرض قرار بگیرند پوشش های ضد زنگ بسیاری اجزای سازنده فلزی متداول تر کادمیوم فلورایدها اغلب محافظت اکسید شدن آهن فولادها شوند فلزات گالوانیزه دارای پوشش بسیار سنگینی قرار گرفتن معرض گازهای اکسید تواند منجر بیماری نام تب بخار فلز حالت بندرت بیش ۲۴ ساعت طول میکشد موارد شدید میتواند کشنده برخلاف آنفلوانزا تب لرز حالت تهوع سرفه خستگی عوارض شایع قرار گرفتن معرض اکسید زیاد استبازتاب اشعهبازتاب اشعه وضعیت انتشار شعله پایین شیلنگ های سیستم جوشکاری برش سوخت اکسیژن جلوگیری چنین وضعیتی معمولا فلش بکر شعله سمت عقب شلنگ میسوزد باعث ایجاد صدای بلند جیر جیر میتواند باعث انفجار شلنگ احتمال آسیب رساندن اپراتور دارد حتی باعث مرگ فشار کمتر حد توصیه میتواند باعث بازگشت فلاش شوددستکش ایمنیپوشیدن دستکشهای چرمی کمک دستهای شما برابر سوختگی محافظت لازم دستکشهای چرمی سر آستین بلند ترجیحا نوک انگشتان فلزی پیوند بیرونWelding and Cutting with Oxyacetylene Popular Mechanics December 1935 pp 948–953Using OxyFuel Welding on Aircraft Aluminum Sheet More on oxyacetylenewelding history at WeldingcomAn ebook about oxygas cutting and weldingOxyfuel torch at Everything2comTorch Brazing InformationVideo of how to weld lead sheetWorking with lead sheetمقاله برش اکسیژن'})), (193260, (('history', 11.260035152779135), {'url': 'https://fa.wikipedia.org/wiki?curid=1153161', 'title': 'فرودگاه منطقهای سن لویس شهرستان ابیسپو', 'text': 'فرودگاه منطقهای سن لویس ابیسپو کانتی زبان بومی McChesney Field یک فرودگاه همگانی کد یاتا SBP یک باند فرود آسفالت دارد طول باند ۱۸۵۹ متر فرودگاه شهر سن لوئیس اوبیسپو کالیفرنیا کشور ایالات متحده آمریکا قرار دارد ارتفاع ۶۴٫۵ متری سطح دریا واقع استشرکتهای هواپیمایی مقصدهای پروازیمسافریOn ۱۷ ژوئیه ۲۰۱۳ US Airways Express resumed Bombardier Canadair Regional Jet 900 بمباردیه سیآرجی ۷۰۰۹۰۰ service to San Luis Obispo Airport from Phoenix These flights are now operated as American Eagle service with all flights to Phoenix featuring Canadair CRJ900 or Canadair CRJ200 regional jets As of ۱۱ فوریه ۲۰۱۶ American Eagle offers four daily flights to between San Luis Obispo Airport and PhoenixOn ۷ آوریل ۲۰۱۵ اسکایوست operating as یونایتد اکسپرس began flying بمباردیه سیآرجی ۱۰۰۲۰۰ regional jets on all flights to Los Angeles and San Francisco as replacement aircraft for the امبرائر ئیامبی ۱۲۰ برازیلیا turboprops formerly used for many years on these routes so all scheduled passenger airline flights serving San Luis Obispo have since been operated with regional jets for the first time in the history of the airportآلاسکا ایرلاینز announced new nonstop service between Seattle SEA and San Luis Obispo which began on ۱۳ آوریل ۲۰۱۷ and is currently being flown by اسکایوست with امبرائر ئیجت regional jets Alaska Airlines subsidiary هوریزن ایر will take over this قرارداد نماد مشترک service on ۹ ژوئن ۲۰۱۷'})), (49526, (('history', 11.260035152779135), {'url': 'https://fa.wikipedia.org/wiki?curid=300430', 'title': 'شرفآباد ورزقان', 'text': 'شرفآباد روستاهای استان آذربایجان شرقی دهستان سینا بخش مرکزی شهرستان ورزقان واقع شدهاستشرف آباد ورزقانشرفآباد روستاهای استان آذربایجان شرقی دهستان سینا بخش مرکزی شهرستان ورزقان واقع استاین روستا طرف شمال روستای هیزه جاناز شرق روستای کامبلاش جنوب شرق روستای سرخه دیزج جنوب غرب روستای گزنبند طرف غرب روستای مزرعه شادی همسایه ارتفاع تقریبی ۱۸۵۰ متر سطح دریاهای آزاد روستاهای مرتفع کوهستانی شهرستان ورزقان محسوب میشودروستای شرف آباد دارا بودن تقریبا 650نفر جمعیت حدود ۱۸۵ خانوار روستاهای پر جمیعت مهم شهرستان ورزقان حساب میآیدمردم روستا شغلهای کشاورزی دامداری قالیبافی زنبوردای مشغولندمحصولات کشاورزی روستا عبارتند ازگندمعدس جوسیاه دانه روستا قطبهای تولید عسل شهرستان ورزقان بوده همه ساله مرغوبترین عسلها روانه بازار مصرف میکندقالی بافی شغل های اصلی اهالی روستا محسوب بهطوری هنرمندان روستا کیفیت ترین روزترین قالیها خانه هایشان میبافند درآمد حاصل امرار معاش میکنندبه علت نبود شغل کار مد نظر جوانان روستااز سالهای خیلی قبل مهاجرت روستا رواج داشته هنوز ادامه دارد بهطوریکه راحت گفت سالانه حداقل یک خانوار روستا مهاجرت کرده شهرهایی مانند ارومیه تبریزمرند اهر شهرها ساکن میشونداین موضوع بهطور عام کل روستاهای ورزقان بهطور خاص روستای شرف آباد رواج دارد حرکت کار جدی مسئولان امر میطلبد اندیشیدن تمهیدات موقع مانع مهاجرت جوانان خانوادهها شهرها استانهای شوندروستای شرف آباد حیث دارا بودن امکانات رفاهی مانند گاز برق آب آشامیدنی سالم تلفن خانه بهداشت نانوایی لواش بربری نان روغنی دارا بودن پست بانک کوچهها معابر سنگ فرش دکل صداوسیما مدرسه ابتدایی راهنمایی بهترین روستاهای شهرستان ورزقان حساب میآیدبهطوریکه اساس تحلیل سلسله مراتبی روش میزان سنجی نهادی گاتمن علی اسدی سال 1392 دهستان سینای ورزقان گرفته روستای شرف آباد بالاتر روستاهایی مثل آقابابا فرامرزی رتبه اول لحاظ دارا بودن امکانات خدمات فعالیتهای اقتصادی قرار دارددر حال حاضر شوراهای اسلامی روستا آقایان حاج خیبر ابراهیمی صفر صمدی کریم محسنی هستنددهیار روستا جناب آقای حیدر نجف زاده میباشدتپه دکل شرفآبادنام تپه دکل شرفآبادکشور ایراناستان استان آذربایجان شرقیشهرستان شهرستان ورزقاناطلاعات اثرکاربری تپهدیرینگی هزاره اولدوره ساخت اثر هزاره اولاطلاعات ثبتیشماره ثبت ۲۶۴۲۰تاریخ ثبت ملی ۲۷ اسفند ۱۳۸۷تپه دکل شرف آباد مربوط هزاره اول قبل میلاد شهرستان ورزقان بخش مرکزی دهستان سینا ۱۵ کیلومتری جنوب روستای شرف آباد بالای کوهی موسوم پیر داغی واقع اثر تاریخ ۲۷ اسفند ۱۳۸۷ شماره ثبت ۲۶۴۲۰ بهعنوان آثار ملی ایران ثبت رسیدهاستمنابعدانشنامه تاریخ معماری ایرانشهر سازمان میراث فرهنگی گردشگری ایران بازبینیشده ۱۹۵۲۰۱۱علی اسدی شرف آبادTower Hill SharafabadName Tower Hill SharafabadIranRegion East Azerbaijan ProvinceCity city VarzeghanInformation effectUsername HillAntiquity the first millenniumConstruction courses of action the first millenniumRegistrationReg 26420National Registration date17 March 2009Tower Hill Sharafabad to the first millennium BC and the city Varzeghan Central District the district Siena 15 km south of the village Sharafabad on the mountain known as Old hot and this effect on 17 March 2009 is located registration number 26420 is registered as a national heritage of IranReferencesEncyclopedia of Iranshahr architectural history Cultural Heritage and Tourism Organization of Iran Retrieved on 05192011Ali asadi sharafabad'})), (711242, (('history', 11.260035152779135), {'url': 'https://fa.wikipedia.org/wiki?curid=5209857', 'title': 'نظریه تاریخچه زندگی', 'text': 'نظریه تاریخچه زندگی انگلیسی Life history theory یک چارچوب تحلیلی منظور بررسی تنوع راهبردهای مسیر زندگی اندامگانهای مختلف سراسر جهان علل نتایج تغییرات چرخه زندگی طراحی نظریه تاریخچه زندگی یک نظریه فرگشت زیستی قصد دارد ابعاد مختلف کالبدشناسی رفتار حیوانات مراجعه مسیر زندگیشان شامل رفتارهای مرتبط تولیدمثل رفتارهای تولیدمثل طول عمرشان انتخاب طبیعی شکل داده توضیح دهد راهبرد تاریخچه زندگی عبارت الگوهای خاص سن مرحله زمانبندی وقایعی زندگی یک اندامگان تشکیل میدهد مانند تولد شیر گرفتن بلوغ مرگ غیره وقایع ویژه سن تولید مثل اول تعداد فرزندان میزان پیری مرگ جسم محیط زیست اندامگان بستگی دارداین نظریه دهه ۱۹۵۰ توسعه پاسخ سوالاتی موضوعاتی مانند اندازه اندامگان سن بلوغ تعداد فرزندان طول عمر موارد بسیار مطالعه مباحث باید راهبردهای تاریخ زندگی مشخص سپس مدلهایی بررسی اثرات ساخته شوند نهایت پیشبینیهایی اهمیت نقش راهبردها دانشمندان پیشبینیها میکنند درک کنند چگونه تکامل ترتیب طول وقایع تاریخچه زندگی یک اندامگان ویژه طول عمر دوره تولیدمثل تأثیر میگذارد تئوری تاریخچه زندگی پایه نظریه تکامل بنا تأثیر انتخاب طبیعی اندامگانها چه طول زندگی چه طول نسلها مطالعه تعیین اینکه آیا موجودات زنده توانایی حداکثر رساندن بهینهسازی سازواریشان معیارهای تناسب اندام تکاملی بهطور خلاصه نظریه تاریخچه زندگی عنوان روشی بررسی بسیاری لایههای پیچیده موجودات محیط پیرامون عمل میکندبقای انسب داروینیدر ادبیات تکاملی سازواری تعداد فرزندانی یک اندامگان طول زندگی تولید تعیین عناصر اصلی سازواری نجات یافتن میزان تولید مثل بدان معنی صفات ژنهای اندامگان نسلهای بعدی منتقل میشوند موفقیت تکاملی کمک میکنند عبارت ژنهای اندامگان بتواند زنده ماندن اندامگان متناسب محیط زندگیاش عمل منجر تولید مثل بیشتر انتقال بیشتر ژنهای میشوند یاد داشته باشید ژنهای انتقال یافته چالشهای محیط زندگی اندامگان برآمدهاند روند سازگاریای موفقیت منجر نرخ بقا تولید مثل تعیین نوبه باعث ایجاد سطحی بقای انسب سازواری تئوری تاریخچه زندگی تکامل مراحل زندگی اندامگانها دخالت سازگاری ایجاد فرایند منجر بقای انسب میشودصفات تاریخچه زندگیهفت صفت وجود دارد بهطور سنتی نظریه تاریخ زندگی مهم شناخته میشوند صفتی اندامگان اهمیت نظر میرسد چیزی تغییر مهمترین تفاوت سطح آمادگی ایجاد معنا سازواری مناسب بودن اندامگان تغییر صفات تاریخچه زندگی تعیین هنگامی نیروهای تکاملی صفات تاریخچه زندگی اثر میگذارند منجر محدود کردن تنوع ژنتیکی وراثت پذیری راهبردهای تاریخچه زندگی وجود هنوز تنوع زیادی جهان طبیعت مشاهده میشودلیست صفاتجستارهای وابسته'})), (299134, (('history', 11.260035152779135), {'url': 'https://fa.wikipedia.org/wiki?curid=2081946', 'title': 'تسهیل کمی', 'text': 'تسهیل کمی خرید دارایی بزرگ مقیاس نامیده یک سیاست پولی نامتعارف بانکهای مرکزی جلوگیری افت عرضه پول هنگام نامؤثر بودن سیاست استاندارد پولی قرار میدهند یک بانک مرکزی طریق خریدن مقادیر مشخص ذخایر مالی بانکهای تجاری نهادهای خصوصی تسهیل کمی نتیجتا پایه پولی افزایش میدهد سیاست معمول تر خریدن فروختن اسناد قرضه منظور نگه داشتن سود بازار یک مقدار هدف مشخص فرق داردسیاستهای پولی انبساطی نوعا بانک مرکزی درگیر خریدن اسناد قرضه نرخهای سود بازار کوتاه مدت کم کنند تسهیل کمی آنگاه اقتدارات پولی تحریک بیشتر اقتصاد خرید ذخایر بلندمدت تر جای اسناد قرضه دولتی کوتاه مدت کار برد بدین وسیله نرخهای سود بلند مدت هندسی منحنی بازدهی اوراق قرضه کمتر تسهیل کمی قیمتهای ذخایر مالی خریده افزایش میدهد باعث کاهش بازدهی شان میشودبنا گفته صندوق بینالمللی پول سیستم فدرال رزرو آمریکا US Federal Reserve System بسیاری اقتصاد دانان سیاست تسهیل کمی زمان بحران بزرگ سال ۰۸–۲۰۰۷ تسهیل بسیاری مشکلات اقتصادی کمک کردهاستفرایندسیاستهای پولی انبساطی استاندارد عموما شامل خرید فروش اوراق قرضه بازار آزاد منظور کاهش نرخ بهره سطح نظر هرچند صورتی وجود کاهش نرخ بهره بانک مرکزی سطح نزدیک صفر رکود همچنان ادامه یابد بانک مرکزی قادر کاهش نرخ بهره نخواهد دام نقدینگی اتفاق میافتد شرایط بانک مرکزی میتواند سیاست تسهیل کمی همین دلیل سیاست گاهی عنوان آخرین راهکار گردش درآوردن مجدد اقتصاد شناخته میشودیک بانک مرکزی صرف نظر نرخ بهره مقدار کمی اوراق سایر داراییهای مالی موسسات مالی خصوصی بازارهای مالی خریداری اقدام موجب افزایش ذخایر اضافی اختیار بانکها هدف سیاست تسهیل شرایط مالی افزایش نقدینگی بازار تسهیل گسترش وام بانکی خصوصی استتسهیل کمی کانالهای مختلفی اقتصاد تأثیر میگذارد• اثر علامت دهی برخی اقتصاددانان معتقدند تأثیر اصلی تسهیل کمی دلیل اثر روانشناسی بازارها دلیل نشان میدهد بانک مرکزی گامهای خارقالعاده ای تسهیل بهبود اقتصادی خواهد برداشت مثال مشاهده بیشترین تأثیر سیاست منطقه یورو بازده اوراق قرضه تاریخ اعلام سیاست شروع واقعی خریدها بانک مرکزی اروپا ECB رخ دادهاستتاریخچهنمونههابانک مرکزی ایلات متحده US Federal Reserve زمان رکود بزرگ دهه ۱۹۳۰ میلادی تأخیر سیاستی همانند تسهیل کمی اجرا درآورد۳ بهطور خاص ذخایر اضافی بانکها سال ۱۹۴۰ ۶ درصد فراتر رفت حالی کل دوره جنگ سال ۲۰۰۸ ناپدید شدند وجود بسیاری مفسران دامنه برنامه تسهیل کمی سیستم ذخیره فدران آمریکا بحران ۲۰۰۸ بیسابقه خواند۴ژاپن ۲۰۰۷در اوایل دهه ۲۰۰۰ میلادی سیاستی عنوان تسهیل کمی اولین بار بانک ژاپن BOJ مبارزه کاهش قیمت داخلی شد۵ بانک مرکزی ژاپن سال ۱۹۹۹ نرخ بهره کوتاه مدت نزدیک صفر حفظ کرده بودطبق گزارش بانک ژاپن بانک مرکزی ۱۹ مارس ۲۰۰۱ سیاست تسهیل کمی اتخاذ تحت سیاست BOJ ارتقاء وام خصوصی نقدینگی بسیار زیادی سمت بانکهای خصوصی سرازیر حجم زیادی ذخایر اضافی نتیجه ریسک بسیار پایین کمبود نقدینگی مواجه شدند BOJ بیش حد لازم اقدام خرید اوراق قرضه دولتی نرخ بهره صفر برسد بعدتر اوراق بهادار سهام حمایت دارایی خریداری شرایط عملکرد خرید کاغذ تجاری تمدید بانک طی یک دوره چهار ساله ماه مارس ۲۰۰۱ مانده حسابهای جاری بانکی تجاری ۵ تریلیون ین ۳۵ تریلیون ین تقریبا ۳۰۰ میلیارد دلار افزایش BOJ تعداد اوراق قرضه بلند مدت دولت ژاپن میتوانست صورت ماهیانه خریداری سه برابر نیاز استنادپس ۲۰۰۷از زمان بحران مالی جهانی ۲۰۰۷–۲۰۰۸ سیاستهای مشابه ژاپن ایالات متحده انگلستان منطقه یورو دلیل سیاست تسهیل کمی کشورها نرخ سود اسمی کوتاه مدت ریسک ایالات متحده نرخ صندوقهای فدرال انگلیس نرخ رسمی بانک نامیده صفر نزدیک صفر بودنددر دوران اوج بحران مالی سال ۲۰۰۸ بانک مرکزی ایالات متحده فدرال رزرو اضافه کردن دارایی بدهیهای جدید بدون خنثی کردن موارد تفریق مربوطه ترازنامه بهطور چشمگیری گسترش همان دوره بریتانیا تسهیل کمی عنوان بازوی اضافی سیاست پولی کاهش بحران مالی کردQE1 QE2 QE3فدرال رزرو آمریکا بحران مالی ۲۰۰۷ ۷۹۹ ۸۰۰ میلیارد دلار اسناد بدهی خزانه حسابش اواخر نوامبر ۲۰۰۸ فدرال رزرو شروع خرید ۶۰۰ میلیارد دلار مارس ۲۰۰۹ ۱٫۷۵ تریلیون دلار بدهی بانک اوراق پشتوانه رهنی اسناد بدهی قرضهدر اختیار مارس ۲۰۰۹ ۱٫۷۵ تریلیون دلار بدهی بانکی اوراق بهادار تحت حمایت وام اسناد خزانه داری میزان ژوئن سال ۲۰۱۰ ۲٫۱ تریلیون دلار اوج رسید شروع پیشرفت اقتصاد خریدهای بیشتر متوقف شدند اوت ۲۰۱۰ هنگامیکه فدرال رزرو مشاهده اقتصاد بهطور چشمگیری رشد نمیکند مجدد سر گرفته شدند هدف اصلاحی فدرال رزرو صندوق ذخیره سهام ۲٫۰۵۴ تریلیون دلار حفظ سطح فدرال رزرو ماه ۳۰ میلیارد دلار اسناد خزانه الی ده ساله خریداری میکرددر نوامبر ۲۰۱۰ بانک مرکزی فدرال خرید ۶۰۰ میلیارد دلار اوراق بهادار خزانه داری پایان سهماهه دوم سال ۲۰۱۱ دور دوم تسهیل کمی اعلام عبارت QE2 سال ۲۰۱۰ یک نام مستعار فراگیر تبدیل همین دور دوم تسهیل کمی بانکهای مرکزی ایالات متحده اشاره همین ترتیب دور کمک کمی قبلی QE1نامیده شدسومین دوره تسکین کمی QE3 تاریخ ۱۳ سپتامبر ۲۰۱۲ اعلام رأی ۱۱–۱ فدرال رزرو تصمیم گرفت برنامه خرید اوراق بهادار پشتوانه وام حمایت وامهای آژانس ۴۰ میلیارد دلار جدید ماه راهاندازی لاوه کمیته فدرال بازار آزاد FOMC اعلام احتمالا نرخ صندوقهای فدرال حداقل سال ۲۰۱۵ نزدیک صفر حفظ خواهد بنابر گفته NASDAQcom برنامه محرک فدرال رزرو اجازه میدهد ماهانه ۴۰ میلیارد دلار خطر بدهی بازار مسکن تجاری رهایی دهد QE3 دلیل ماهیت باز نام مستعار محبوب QEInfinity شناخته ۱۲ دسامبر ۲۰۱۲ FOMC اعلام میزان خریدهای باز ماهانه ۴۰ میلیارد دلار ماهانه ۸۵ میلیون دلار افزایش یافتهاستبریتانیادر طول اجرای برنامه تسهیل کمی بانک مرکزی انگلستان اوراق دولتی موسسات مالی همراه مقدار کمتری بدهی کیفیت نسبتا بالا شرکتهای خصوصی صادر خریداری حالت بانکها شرکتهای بیمه صندوقهای بازنشستگی توانستند پولی دریافت کردهاند وام حتی بازپرداخت اوراق بیشتر بانک کنند بعلاوه بانک مرکزی میتواند مبالغ جدیدی بانکهای خصوصی عنوان وام بدهد ازای ارز دارایی خریداری نیاز استناد اقدامات موجب کاهش بازدهی بهره اوراق قرضه دولتی سرمایهگذاریهای مشابه باعث افزایش سرمایه بنگاهها ارزانتر یک عارضه جانبی سرمایه گذاران سمت سرمایهگذارهای مانند سهام میروند امر موجب افزایش قیمت مصرف خواهد تسهیل کمی میتواند طول یک شب نرخ بهره بانکی کاهش دهد طریق بانکها ترغیب نهادهای بهره بالاتر نظر مالی ضعیف تر وام دهنداز آغاز ماه مارس۲۰۰۹ سپتامبر همان سال بانک مرکزی انگلستان حدود ۱۶۵ میلیارد پوند دارایی خریداری کرده رقم ماه اکتبر ۱۷۵ میلیارد پوند رسید کمیته سیاست پولی MPC جلسه ای ماه نوامبر برگزار افزایش خرید کل داراییها ۲۰۰ میلیارد پوند رای بیشتر داراییهای خریداری جنس اوراق بهادار دولتی انگلستان gilts بودند مقادیر کمتری شامل داراییهای بخش خصوصی کیفیت بالا میشددر دسامبر ۲۰۱۰ اعضای MPC آدام پوزن خواستار گسترش ۵۰ میلیارد پوندی برنامه تسهیل کمی بانک حالیکه همکار اندرو سنتانس دلیل بالاتر بودن نرخ تورم نرخ ۲ درصدی هدف خواهان افزایش نرخ بهره بوددر اکتبر ۲۰۱۱ بانک مرکزی انگلیس اعلام ایجاد ۷۵ میلیارد پوند بیشتر دور جدیدی تسهیل کمی آغاز خواهد فوریه ۲۰۱۲ ۵۰ میلیارد پوند مبلغ اضافه ژوئیه ۲۰۱۲ اعلام یک افزایش ۵۰ میلیارد پوندی مبلغ کل ۳۷۵ میلیارد پوند میرسد بانک اعلام تنها سقف ۷۰ هرگونه بدهی دولتی خریداری خواهد بدان معنا حداقل ۳۰ هرگونه بدهی دولت باید موسساتی غیر بانک انگلیس خریداری نگهداری توجه تخمینهای بانک مرکزی سال ۲۰۱۲ مشاهده تأثیر سیاست تسهیل کمی خانوارها توجه داراییهای اختیار متفاوت یعنی خانوارهای ثروتمند صاحب داراییهای بیشتری شدنددر آگوست سال ۲۰۱۶ بانک مرکزی انگلیس اعلام دلیل تردیدها Brexit خروج انگلستان اتحادیه اروپا نگرانیها بهرهوری رشد اقتصادی ۶۰ میلیارد پوند اوراق قرضه دولتی انگلیس ۱۰ میلیارد پوند اوراق قرضه شرکت خریداری میکندمنطقه یوروبانک مرکزی اروپاECB اعلام تمرکز خرید اوراق مشارکت تحت پوشش نوعی بدهی شرکتی خواهد اعلام خرید اولیه ماه ۲۰۰۹ ارزشی بالغ ۶۰ میلیارد یورو خواهد داشتدر پی یک تغییر ناگهانی خط مشی ۲۲ ژانویه ۲۰۱۵ ماریو دراگی رئیس بانک مرکزی اروپا برنامه خرید دارایی گسترش یافته اعلام طی ماهانه ۶۰ میلیارد یورو اوراق قرضه منطقه یورو دولتهای مرکزی آژانسها موسسات اروپایی خریداری میشد محرک نتیجهگیری سریعترین زمان ممکن مارس ۲۰۱۵ سپتامبر ۲۰۱۶ برنامهریزی ماریو دراگی اشاره اشاره نیاز بانک مرکزی اروپا مقابله تهدید رو رشد نرخ تورم یورو اوایل سال ۲۰۱۵ اعلام برنامه زمانی شاهد تعدیل مداوم مسیر تورم نباشیم ادامه خواهد داشتدر تاریخ ۱۰ مارس ۲۰۱۶ بانک مرکزی اروپا خریدهای اوراق قرضه ماهانه ۶۰ میلیارد یورو ۸۰ میلیارد یورو افزایش خرید اوراق شرکتهای بزرگ برنامه وارد اعلام بانکها وامهای چهارساله ارزان قیمت خواهد دادسوئدبا توجه اینکه ژانویه سال ۲۰۱۵ نرخ تورم سالانه کشور منفی ۰٫۳ درصد بانک مرکزی سوئد Sveriges Riksbank اظهار نگرانی خصوص امکان حرکت اقتصاد کشور سمت رکود سیاست تسهیل کمی آغاز کردژاپن ۲۰۰۷ Abenomicsدر اوایل اکتبر ۲۰۱۰ بانک ژاپن اعلام میخواهد برنامه خرید ۵ تریلیون ین معادل ۶۰ میلیارد دلار آمریکا دارایی بررسی هدف اقدام پایین آوردن ارزش ین برابر دلار آمریکا تحریک اقتصاد داخلی ارزانتر کردن صادرات ژاپن مؤثر واقع نشددر ۴ آگوست ۲۰۱۱ بانک مرکزی ژاپن اعلام طی یک اقدام یک طرفه قصد دارد مانده حساب جاری بانک تجاری ۴۰ تریلیون ین معادل ۵۰۴ میلیارد دلار آمریکا ۵۰ تریلیون ین معادل ۶۳۰ میلیارد دلار آمریکا افزایش دهددر ۴ آوریل ۲۰۱۳ بانک ژاپن اعلام برنامه خرید دارایی ۶۰ ۷۰ تریلیون ین سال افزایش خواهد داداین بانک امیدوار بتواند رسیدن نرخ تورم ۲ اقتصاد ژاپن حالت رکود خارج میزان خرید اندازه ای زیاد انتظار میرفت عرضه پول دوبرابر سیاست ترکیب economics اقتصاد نام شینزو آبه نخستوزیر فعلی ژاپن Abenomics نامیده شدهاستاثرات مثبتبراساس اعلام صندوق بینالمللی پول IMF سیاستهای تسهیل کمی اجرا بانکهای مرکزی کشورهای بزرگ توسعه یافته ابتدای بحران مالی اواخر دهه ۲۰۰۰ میلادی نقش مهمی کاهش ریسکهای سیستماتیک داشتهاند صندوق بینالمللی پول اظهار سیاستها بهبود اعتماد نفس بازار پایین آمدن رکود اقتصادهای G7 نیمه دوم سال ۲۰۰۹ نقش سزایی داشتهاندآنچه اقتصاددان مارتین فلدشتین اظهار QE2 نیمه دوم سال ۲۰۱۰ منجر افزایش بازار سهام نوبه سبب افزایش مصرف عملکرد قوی اقتصاد ایالات متحده پایان سال جرمی استین فرماندار فدرال رزرو گفتهاست اقدامات تسهیل کمی نظیر خرید دارایی مقیاس بزرگ نقش مهمی حمایت فعالیت اقتصادی داشتهاستبه گفته نیل ایروین خبرنگار ارشد اقتصادی نیویورک تایمز اجرای سیاست تسهیل کمی فدرال رزرو احتمالا موارد کمک کردهاست۱ کمک حمایت قیمت مسکن نرخ سود پایین اوراق شرکتها نرخ وام۲ ارزش گذاری بالاتر سهام بورس نظر نسبت سود بهای بالاتر شاخص SampP 500تحقیقات متعددی پی وقوع بحران شدند نشان میدهند خریدهای دارایی مقیاس بزرگ باعث کاهش نرخ بهره بلند مدت انواع اوراق بهادار ریسک اعتباری پایینتر اثرات موجب رشد اندک تورم تولید ناخالص داخلی شدندخطرات اثرات جانبی منفیاگر میزان نیاز تسهیل کمی بیش حد تخمین زده اجرای سیاست ممکن منجر ایجاد تورمی بیش سطح موردنظر سوی چنانچه بانکها تمایلی دادن وام خانوارها مشاغل نداشته باشند تسهیل کمی قادر افزایش مقدار تقاضا نخواهد حتی صورت تسهیل کمی میتواند فرایند کاهش بدهی تسهیل بخشد حال رشد پولی تورم فاصله زمانی وجود خواهد چنانچه سرعت رشد اقتصاد سیستم بیش افزایش عرضه پول ناشی تسهیل کمی خطرات تورم کاهش مییابند اگر تولید اقتصاد دلیل افزایش عرضه پول افزایش یابد ممکن ارزش واحد پول افزایش یابد حتی اگر ارز بیشتری دسترس عنوان مثال چنانچه اقتصاد یک کشور بخواهد حداقل اندازه میزان بدهی حاصل درآمد افزایش قابل توجهی تولید داشته فشارهای تورمی یکسان میشوند امر تنها شرایطی اتفاق میافتد بانکهای عضو جای احتکار پول نقد اضافی وام دهند زمان بالا بودن بازده اقتصادی بانک مرکزی میتواند بازگرداندن ذخایر سطوح بالاتر طریق افزایش نرخ بهره ابزارهای اقدامات صورت گرفته تسهیل کمی معکوس کنداقتصاددانانی مانند جان تیلور باورند تسهیل کمی امکان پیشبینی کردن میبرد آنجا افزایش ذخایر بانکی اگر عنوان همان ذخایر اضافی نظر گرفته ممکن فورا عرضه پول افزایش ندهد خطر وجود دارد ذخایر اضافی وام داده شدن سبب افزایش تورم شونداز جایی تسهیل کمی باعث کاهش نرخ بهره سیاست سود بدهکاران معنی باید پول کمتری بدهی شان بپردازند گرچه امر بهطور مستقیم ضرر بستانکاران زیرا پایین بودن نرخ بهره درآمد کمتری کسب میکنند کاهش ارزش ارز مستقیما واردکنندگان مصرفکنندگان آسیب میرساند زیرا کاهش ارزش پول هزینههای واردات افزایش مییابندتأثیر حقوق پساندازاقتصاددانان شورای جهانی بازنشتگیWPC باورند کاهش غیر واقعی ایجاد تسهیل کمی نرخ بهره اوراق قرضه دولتی تأثیر منفی وضعیت کمبود بودجه صندوقهای بازنشستگی خواهد گذاشت زیرا بدون بازده ای بالاتر تورم مستمری بگیران کاهش ارزش واقعی پسانداز طی چند سال آینده مواجه خواهند علاوه نرخ بهره پایین منفی انگیزه لازم پسانداز میبرد البته توجه اینکه تسهیل کمی تشویق مصرف اثر سیاست نظر گرفته شدهاستفرار سرمایهبه گفته دیوید لینچ خبرنگار بلومبرگ پول جدید حاصل تسهیل کمی میتواند بانکها سرمایهگذاری بازارهای نوظهور اقتصادهای کالا محور کالاها فرصتهای غیر محلی جای وام دادن مشاغل محلی مشکل درگرفتن دارند شودافزایش درآمد توزیع نابرابر ثروتآنچه منتقدان سیاست اغلب اشاره اثرات توزیع مجدد عنوان مثال نخستوزیر وقت انگلستان سال ۲۰۱۶ ترزا ژوئیه ۲۰۱۶ انتقاد واپس گرایانه تسهیل کمی اظهار سیاست پولی حالت نرخ بهره بسیار پایین تسهیل کمی قربانی کردن کسانی حتی قادر تملک خانه نیستند صاحبان مستقلات کمک کردهاستداوال جاشی تحقیقات BCA نوشتهاست پولهای نقد حاصل تسهیل کمی سودهای زیادی ختم بدین ترتیب نابرابری موجود درآمد شدیدتر تنشهای ناشی تشدید میشوداین انتقادات حدی مبتنی برخی شواهد ارائه بانکهای مرکزی سال ۲۰۱۲ گزارش بانکهای انگلستان نشان سیاستهای تسهیل کمی عمدتا سود ثروتمندان ۴۰ سودها ۵ مردم ثرتمند انگلستان رسیدهاستدر ماه ۲۰۱۳ ریچارد فیش رئیس بانک مرکزی فدرال رزرو آمریکا دالاس گفت پول ارزان ثروتمندان ثروتمندتر کمک چندانی کارگران آمریکایی نکردهاستانتقادهای کشورهای عضو BRICکشورهای عضو BRIC کشوهای توسعه یافته مجری تسهیل کمی انتقادهای بسیاری کردهاند عقیده مسئله چنین اقداماتی منجر حمایت تولید داخلی کاهش ارزش رقابتی جای بحث دارد درحالیکه صادرکنندگان خالص ارزهای حدودی دلار وابسته عقیده دارند تسهیل کمی افزایش تورم کشور صنایع داخلی مشکل مواجه میکندیکی انتقادات رایج اروپا خطرات اخلاقی سیاست دولت هاست خرید اوراق بهادار دولتی بانک مرکزی صورت مصنوعی هزینه استقراض کاهش میدهد بهطور معمول هرچه دولتها بدهیهای بیشتری منتشر کنند هزینههای اخذ وام افزایش مییابد امر چنین کاری بازمیدارد بهطور خاص نظم انتظام بازار شکل نرخ بهره بالا موجب دولتی مانند ایتالیا افزایش کسری بودجه احتیاط خرج دهداصطلاحاتتسهیل کمیپروفسور ویلم بویتر دانشکده اقتصاد لندن یک تعریف تمایز تسهیل کمی گسترش ترازنامه بانک مرکزی آنچه تسهیل کیفی فرایند افزودن داراییهای ریسک بالاتر بانک مرکزی ترازنامه میداند پیشنهاد دادهاستتسهیل کمی یک افزایش اندازه ترازنامه بانک مرکزی طریق افزایش بدهیهای پولی پول پایه ترکیب داراییهای ثابت نگه میدارد ترکیب دارایی عنوان سهمهای متناسب ابزارهای مختلف مالی بانک مرکزی کل ارزش داراییهای اختیار دارد تعریف یک تعریف نسبتا معادل تسهیل کمی افزایش اندازه ترازنامه بانک مرکزی طریق افزایش بدهیهای پولی درحالی نقدینگی متوسط ریسک پذیری سبد دارایی ثابت نگه میداردتسهیل کیفی تغییر ترکیب داراییهای بانک مرکزی سمت داراییهای نقدشوندگی کمتر ریسک بالاتر عین ثابت نگه داشتن اندازه ترازنامه استتسهیل اعتباریبن برنانک رئیس فدرال رزرو معرفی راهکارهای بانک مرکزی بحران مالی سال ۲۰۰۸–۲۰۰۹ توجه سیاست تسهیل کمی سبک ژاپنی راهکار جدید تسهیل اعتباری نامید اعلام کردرویکرد ما میتواند عنوان تسهیل اعتبار توصیف یک سو نمایانگر تسهیل کمی زیرا شامل گسترش ترازنامه بانک مرکزی حال یک سیاست تسهیل کمی خالص تمرکز میزان ذخایر بانکی بدهیهای بانک مرکزی ترکیب وام اوراق بهادار دارایی ترازنامه بانک مرکزی اتفاقی واقع وجود چند وجهی بودن سیاست ژاپن هنگام اجرای تسهیل کمی موضع اصلی درجه اول هدفگیری ذخایر بانکی مقابل رویکرد تسهیل اعتبار فدرال رزرو ترکیبی وام وثایق چگونگی تأثیر ترکیب دارایی شرایط اعتباری خانوارها مشاغل متمرکز بودتسهیل اعتبار جای افزایش عرضه پول طریق خرید اوراق قرضه دولتی شامل خرید داراییهای بخش خصوصی مانند اوراق بهادار شرکتها اوراق بهادار تحت حمایت مسکن استدر سال ۲۰۱۰ بانک مرکزی فدرال رزرو ۱٫۲۵ تریلیون دلار اوراق بهادار تحت حمایت مسکن حمایت بازار مسکن خریداری خریدها پایه پولی روشی مشابه خرید اوراق بهادار دولتی افزایش دادندتأمین پولیبرخی رسانهها بانکداران بانکهای مرکزی تحلیلگران مالی تسهیل کمی لقب چاپ پول دادهاند استفن هستر مدیر اجرایی گروه RBS گفتکاری بانک مرکزی انگلیس سهولت کمی میدهد خرید بدهی دولت پول چاپ بنابراین ای امکان دولت انگلیس میدهد بدون ضربه زدن اقتصاد بودجه بزرگی اختیار داشته زیرا بانک مرکزی انگلیس آنرا تأمین مالی کردهاستبانکهای مرکزی اغلب کشورهای توسعه یافته عنوان مثال انگلستان ایالات متحده ژاپن منطقه یورو خرید بدهی دولت بهطور مستقیم دولت منبع عوض باید بازار ثانویه خریداری کنند فرایند مرحله ای دولت اوراق بهادار اشخاص خصوصی میفروشد اوراق بانک مرکزی میفروشند بسیاری تحلیلگران درآمدزایی بدهی خوانده شدهاستبا حال تسهل کمی بسیار خلق پول هنگام صحبت چاپ پول ذهن افراد میآید متفاوت واقع اصطلاح چاپ پول معمولا حاکی پول تازه ایجاد تأمین مستقیم کسری بودجه دولت پرداخت بدهی دولت عنوان پولی کردن بدهی دولت شناخته درحالیکه تسهیل کمی پول تازه ایجاد معمولا خرید داراییهای مالی غیر اوراق قرضه دولتی فدرال رزرو اغلب پرداخت سود بانکها سپردههای ذخیره اوراق بیحاصل اقدام موجب پولی قبلا اوراق خریداری فدرال رزرو گردش مالی افزوده حذف اثر خالص کاهش نرخ وام وام مسکن سایر وامها بدون افزایش تورمی عرضه پول استوجه تمایز تسهیل کمی درامدزایی بدهی حالت اول بانک مرکزی تحرک اقتصاد نه تأمین هزینه مخارج دولت پول ایجاد گرچه اثر غیرمستقیم تسهیل کمی کاهش نرخ بهره اوراق قرضه مستقل حالت تسهیل کمی آنکه وضعیت اقتصاد بهبود مییابد بانک مرکزی فروش اوراق دولت سایر داراییهای مالی بازار سیاست معکوس اجرا تنها روش مؤثر تعیین اینکه آیا بانک مرکزی بدهی سودآوری خیر مقایسه عملکرد نسبت اهداف اعلام درصورتیکه تورم بالاتر سطح هدف بوده دولت تأمین مالی بدهیهای دچار مشکل احتمال درامدزایی بدهی دولت وجود داردسیاستهای جایگزینتسهیل کمی مردمدر پاسخ نگرانیهای مبنی عدم موفقیت تسهیل کمی ایجاد تقاضای کافی ویژه منطقه یورو تعدادی اقتصاددانان تسهیل کمی مردم پیشنهاد دادند جای ایجاد ذخایر بانکی خرید اوراق قرضه دولتی اوراق بهادار مشابه آنچه فدرال رزرو بانک انگلیس دادهاند برخی پیشنهاد میکنند بانکهای مرکزی مستقیما خانوارها پرداخت دهند روشی مشابه پول هلیکوپتر میلتون فریدمن اقتصاددانان مارک بیلیت اریک لونرگان معتقدند توجه محدودیتهای سیاست مالی بهترین راه حل منطقه یورو میگویند اساس شواهد حاصل تخفیفهای مالیاتی ایالات متحده کمتر ۵ درصد تولید ناخالص داخلی بانک مرکزی اروپا بخش خانگی منطقه یورو منتقل بهبودی کافی خواهد بودیکی انواع سیاست تسهیل کمی مردم سیاستی جرمی کوربین انتخابات رهبری حزب کارگر سال ۲۰۱۵ پیشنهاد بانک انگلیس ملزم ایجاد پول تأمین اعتبار سرمایهگذاری دولت طریق یک بانک ملی سرمایهگذاری میکردتغییر ساختار سررسید بدهیاکونومیست منتشر براساس تحقیقات اقتصاددان اریک سوانسون ارزیابی مجدد اثر کمیته فعالیت بازار باز فدرال ایالات متحده سال ۱۹۶۱ موسوم عملیات پیچش یک بازسازی مشابه عرضه انواع مختلف بدهی میتواند اثری برابر تسهیل کمی داشته باشدنئوفیشریسمنئوفیشریسم اساس تئوریهای ایروینگ فیشر استدلال راه مناسب برخورد تورم پایین تسهیل کمی نیست بلکه عکس نرخ بهره باید افزایش یابد بدان علت اگر کاهش نرخ بهره تداوم یابد بانکها مشتریهای دست میدهند پول کمتری اقتصاد بازمیگردددر شرایط تورم پایین بدهی زیاد مصرفکنندگان ترجیح میدهند پول نقد نگهداری آنرا کالا تبدیل کنند امر برانگیختن رشد اقتصادی جلوگیری اگر عرضه پول راه تسهیل کمی افزایش یابد رفتار مصرفکنندگان بهطور فرض افزایش قیمتها تنظیم مسأله پایین بودن نرخ تورم حادتر میشودسیاست مالیاقتصاد کینزی رکود بزرگ محبوب ایده اقتصادی تورم پایین بیکاری زیاد ویژه بیکاری ساختاری سمت تقاضای اقتصاد مصرفکننده هزینه ترغیب باعث افزایش سود بنگاهها نتیجتا افزایش سرمایهگذاری کینزیها افزایش تقاضا تورم روشهایی مانند کارهای عمومی توسعه زیرساختها افزایش شبکه تأمین اجتماعی پیشنهاد میدهندمنابع۲ Quantitative easing A therapy of last resort The New York Times 1 January 2009 Retrieved 12 July 2010۳ Stewart Heather ۲۹ ژانویه ۲۰۰۹ Quantitative easing last resort to get credit moving again The Guardian London Retrieved 12 July 2010۴ Bullard James ژانویه ۲۰۱۰ Quantitative Easing — Uncharted Waters for Monetary Policy Federal Reserve Bank of St Louis Retrieved 26 July 2011۵ QampA Quantitative easing BBC 9 March 2009 Retrieved 2۹ مارس ۲۰۰۹۶ Quantitative easing portfolio rebalancing and credit growth micro evidence from Germany PDF7 Hoover Institution Economics Working Paper 14110 Exiting from Low Interest Rates to Normality An Historical Perspective November 2014 Retrieved 10 March ۲۰۱۵۸ Edward J Pinto American Enterprise Institute The 30Year Fixed Mortgage Should Disappear 27 April 2016 Retrieved 27 April 2016۹ Stefan Homburg 2017 A Study in Monetary Macroeconomics Oxford University Press ISBN 9780198807537۱۰ Telegraph Federal Reserve ends QE 29 October 2014 Retrieved 1۰ مارس ۲۰۱۵۱۱ Fortune Is This Finally the Economic Collapse 11 August 2010 Retrieved 10 March 2015۱۲ The Heritage Foundation Is the Inflation Threat Real Is it Imminent Retrieved 1۰ مارس ۲۰۱۵۱۳ Dr Econ I noticed that banks have dramatically increased their excess reserve holdings Is this buildup of reserves related to monetary policy Federal Reserve Bank of San Francisco March 2010 Retrieved 4 April 2011۱۴ Japan sets inflation goal in fight against deflation BBC News 16 February 2010 Retrieved 4 April 2011۱۵ Mark Spiegel FRBSF Economic Letter—Quantitative Easing by the Bank of Japan 11022001 Federal Reserve Bank of San Francisco Retrieved 19 January 2009۱۶ Voutsinas Konstantinos and Richard A Werner New Evidence on the Effectiveness of Quantitative Easing in Japan Centre for Banking Finance and Sustainable Development School of Management University of Southampton17 Hiroshi Fujiki et al Monetary Policy under Zero Interest Rate Viewpoints of Central Bank Economists Monetary and Economic Studies February 2001 p 98 Retrieved 9 August 2010۱۸ Shirakawa Masaaki One Year Under Quantitative Easing Institute for Monetary and Economic Studies Bank of Japan 2002۱۹ Bank of Japan New Procedures for Money Market Operations and Monetary Easing 19 March 2001 Retrieved 9 August 2010۲۰ Easing Out of the Bank of Japans Monetary Easing Policy 2004–33 ۱۹ نوامبر ۲۰۰۴ Federal Reserve Bank of San Francisco21 PIMCOTomoya Masanao interview Archived 26 July 2010 at the Wayback Machine22 Alloway Tracy The Unthinkable Has Happened ftcom 10 November 2008 Retrieved 9 August ۲۰۱۰۲۳ Bernankesan Signals Policy Shift Evoking Japan Comparison Bloombergcom ۲ دسامبر ۲۰۰۸۲۴ Bank pumps £75bn into economy ftcom ۵ مارس ۲۰۰۹۲۵ Federal Reserve 2008 Monetary Policy Releases26 Ali Abdulmalik Quantitative Monetary Easing The history and impacts on financial markets academiaedu Retrieved 14 February 2015۲۷ Censky Annalyn ۳ نوامبر ۲۰۱۰ QE2 Fed pulls the trigger CNNmoneycom Retrieved 10 August 2011What is the Federal Reserve Quantitative Easing useconomyaboutcom ۲۲ سپتامبر ۲۰۱۱Feds desperate measure is a watershed moment John Authers The Long View Financial Times 5 November 2010Conerly Bill ۱۳ سپتامبر ۲۰۱۲ QE3 and the Economy It Will Help But Not Solve All Problems Forbes Retrieved 13 September 2012Inman Phillip ۱۴ ژوئیه ۲۰۱۱ Moodys sounds note of caution while Bernanke promises support for US economy The Guardian London Retrieved 19 July 2011Zumbrun Joshua ۱۳ سپتامبر ۲۰۱۲ Fed Undertakes QE3 With 40 Billion MBS Purchases Per Month Bloomberg News Retrieved 13 September 2012'})), (486210, (('history', 11.260035152779135), {'url': 'https://fa.wikipedia.org/wiki?curid=3778160', 'title': 'عصر ماشینهای هوشمند', 'text': 'عصر ماشینهای هوشمند یک کتاب غیر داستانی هوش مصنوعی مخترع آیندهپژوه ری کرزویل نوشته اولین کتاب انجمن ناشران آمریکا برجستهترین کتاب علوم رایانهای سال ۱۹۹۰ نامیدهمچنین کتاب نیویورک تایمز کریسشن ساینس مانیتور بررسی ساختار کتاب ترکیبی تک نگاشت گلچینی مقالات ارائه کارشناسان هوش مصنوعی مانند دنیل دنت داگلاس هافستادر ماروین مینسکی استکرزویل بررسی ریشههای فلسفی ریاضی فنی هوش مصنوعی میپردازد فرض یک برنامه کامپیوتری اندازه کافی پیشرفته میتواند سطح هوش انسان برسد کورزویل استدلال خلقت انسان طریق تکامل نشان میدهد انسانها باید توانایی ایجاد چیزی باهوشتر خودشان داشته باشند باور دارد بازشناخت الگو بازنمود دانش همانطور زبان دیده جزء کلیدی هوش مصنوعی کورزویل شرح میدهد رایانهها چقدر سریع زمینه پیشرفته میشوندبا توجه میزان رشد نمایی قدرت رایانهها کورزویل باور دارد هوش مصنوعی ابتدا ممکن خواهد سپس قدری توسعه پیدا پیشپاافتاده توضیح میدهد چگونه تمام جنبههای زندگی انسان جملهکار تحصیل درمان جنگ تحت تأثیر قرار میدهد گونهای مردم کشف کردن معنی واقعی انسان بودن چالش کشیده خواهند شدپیشینهری کرزویل یک مخترع کارآفرین سریالی سال ۱۹۹۰ زمانی کتاب منتشر مالکیت سه شرکت اختیار Kurzweil Computer Products Kurzweil Music Systems Kurzweil Applied Intelligence شرکتها توسعه یافته بودند محصولاتی چون خواندن ماشینی نابینایان سینت سایزر موسیقی نرم افزار تشخیص گفتگو فروش میرساندندنویسهخوان نوری خواندن ماشینی تشخیص گفتار عنوان نمونههایی برجسته مشکلات تشخیص الگو آورده شدند انتشار عصر ماشینهای هوشمند ایدههای کتاب عصر ماشینهای معنوی تکینگی نزدیک گسترش دادمحتواتعاریف تاریخچهکرزویل تعریف کردن هوش مصنوعی کتاب شروع سمت فرمول مرز متحرک ماروین مینسکی متمایل مطالعه مشکلات کامپیوتر هنوز حل نشده سپس تلاش هوش معنی نتیجه بگیرد نظر میرسد هیچ تعریف سادهای هوش وجود ندارد قبول اکثر ناظران بحث راهنمایی آیا پروسه فرگشت میتواند هوشمند نظر گرفته شودکورزویل نتیجه میرسد تکامل هوشمند تنها ضریب هوشی بینهایت بزرگتر صفراو فرگشت مدت بسیار طولانی ساخت طرحهایش سرزنش شطرنج تشخیص الگوبکرزویل پیشبینی رایانهها سال ۲۰۰۰ بازی شطرنج انسان پیشی میگیرند جزئیات کار بحث بازی گو ثابت رایانهها زمان بیشتری نیاز دارند بتواند خوبی بازی کندبازخوردهاجی گارفیلد نیویورک تایمز نوشت کرزویل زمانی حوزه تخصصی مینویسد واضح جاری مطلع هنگامی فلسفه منطق روانشناسی میگوید درهم برهم مبهم استد فیوچریست یک مقدار قابل توجه خواند سخاوتمندانه تصویر داده یک جشن ذهن چشم حالی سیمسون گارفینکل کریستین ساینس مانیتور میگوید عصر ماشینهای هوشمند یک tour de force history هوش مصنوعی اظهار تاسف گر چه کتاب منظم سازماندهی نیست جزئیات دست رفته سراسر کتاب شکایت'})), (280067, (('history', 11.260035152779135), {'url': 'https://fa.wikipedia.org/wiki?curid=1803298', 'title': 'علیرضا نیکبخت نصرآبادی', 'text': 'علیرضا نیکبخت نصرآبادی پژوهشگر استاد تمام پرستاری رئیس دانشکده پرستاری مامایی دانشگاه علوم پزشکی تهران متولد ۱۳۴۸ اصفهان ساکن تهران میباشدسوابق تحصیلینصرآبادی کارشناسی سال ۱۳۶۹ دانشگاه علوم پزشکی تهران گرفت سال ۱۳۷۳ پایاننامه کارشناسی ارشد تحت راهنمایی حسن عشایری دفاع سال ۱۳۸۱ مدرک پی اچ دی دانشگاه علوم پزشکی تبریز اخذ نصرآبادی سال ۱۳۹۱ درجه استاد تمامی نائل آمد نصرآبادی چهارمین پرستار ایران درجه استاد تمامی رسیدهاستتجارب علمینیکبخت نصرآبادی ۹۹ طرح تحقیقاتی حضور داشتهاست بیش ۶۰ پایاننامه دانشجویی مقاطع دکترای تخصصی کارشناسی ارشد تحت نظارت راهنماییاش نوشته کنون حدود ۲۲ کتاب بیش ۱۲۰ مقاله علمی انگلیسی فارسی تألیف کردهاستسمتهای اجراییدکترعلیرضا نیکبخت نصرآبادی رئیس دانشکده پرستاری مامایی تهراندارای سوابق معاونت بینالملل معاونت پژوهشی مدیر تحصیلات تکمیلی دانشکده پرستاری مامایی دانشگاه تهران مدیر تحصیلات تکمیلی پژوهشکده بازتوانی عصبی دبیر شیکه ملی تحقیقات ضایعات نخاعی ایران اعضای کمیته تدوین برنامه کارشناسی ارشد پرستاری طب سنتی مدیر مسئول مجله پژوهش پرستاری ایران فصلنامه علمی پژوهشی انجمن علمی پرستاری ایران عضو هیئت تحریریه ۱۶ مجله علمیپژوهشی جمله نشریه آموزش پرستاری میباشدوی نماینده وزیر بهداشت شورای عالی سازمان نظام پرستاری وعضو شورای سیاستگذاری پرستاری وزارت بهداشت درمان آموزش پزشکی میباشدعضویت کمیته اخلاق پرستاری فرهنگستان جمهوری اسلامی ایران وعضویت هیئت موسس مدیره بنیاد علمی فرهنگی پرستاری استاد مداح سمت های اجرایی دکتر نیکبخت نصر آبادی میباشدمقالاتhttpscholargooglecomcitationsuserx0IXa4AAAAJamphlenhttpswwwresearchgatenetprofileAlirezaNasrabadipublicationsخلاصه مقالات چاپ كنگره هاي بين المللي1 Investigation the effectiveness of Holy Quran sounds on reduction of postoperative pain Austria 19992 Gender and cultural differences of pain description in an Iranian society France 20003Socio–cultural variables in narrating pain in an Iranian specific population Syria 20004 A survey on the effects of culture on pain perception differences and compatibility of patients suffering from chronic pain in a specific group of patients Syria 20005 Smoking as a symbol of friendship a qualitative study among a group of nursing student in IranIndia20026Iranian young people and their tendencies toward smoking India20027Smoking some cultural facts India20028Adolescent’s smoking a crosscultural study India20029Psychological aspects around adolescent smoking India200210 Use of Orem selfcare model in cancer patients in IranThailand 200011A snapshot of nursing history in Islamic worldsTurkey200212 the meaning of life for a group of diabetic patient spouses in IranFrance200313 culturally competent nursing care in a group of cancer patients suffering from pain in Iran Pain in Europe IV Prague Czech September2003First Author14 Exploring the differences of pain perception between nurses and patients in a cancer Unit in Iran Pain in Europe IV Prague Czech September2003Second Author15 Investigation the circadian occurrence of chest pain in patients with acute MI Pain in Europe IV Prague Czech September2003Second Author16 Mother’s Experience of Nurses Perspective of Pain in Children with Cancer Pain in Europe IV Prague Czech September2003 Second Author17 A phenomenological study about the experiences of pain in 3 different cultural groups in Iran WIP Pain Congress 2004 Spain Barcelona18 Relation Between Worry Domains and Health Related Quality of Life in Medical Sciences Students 2006ICP 2008 Berlin19 Training Program for Disaster Nursing at Acute Phase Joint Seminar of the Ministry of Health and Medical Education with Japanese Nurses Association 1819 Dec 2004 Tehran20 the need to culturally oriented conceptualization and theory building in palliative care The 9th AscianPacific BMT group Congress and 1st Nursing APBMT Meeting 1820 Nov 2004 Tehran Iran21 A Qualitative Study about gender differences in diabetes perceptions and experiences IDF 2006 Cape Towm 19the World Diabetes Congress 37 Dec 200622 Continuing education needs of currently practicing nurses and nursing students of Tehran university of Medical Sciences toward the caring of patients with diabetes IDF 2006 Cape Towm 19the World Diabetes Congress 37 Dec 200623 A persian perspective on patients rights A qualitative Sudy 16th International Nursing Reaserch Congress Hawaiis Big Island USA24 Zekr A new culturally based relaxarion technique in reduction of Anxiety in patient under Invasive procedure International Medical congress Doha 200725Clinical Decisionmaking phenomenon in Critical care nurses 4th International Nursing managemnet Conference Turkey 200826 Quality of life as an outcome indicator in MS patient caring 4th International Nursing managemnet Conference Turkey 200827 Psychological aspects of confronting with HIVAIDS lived experience among Iranian persons 13th International Conference of APPAC'})), (12124, (('history', 11.260035152779135), {'url': 'https://fa.wikipedia.org/wiki?curid=51717', 'title': 'طریقالتحقیق', 'text': 'مثنوی طریقالتحقیق جمله آثار منسوب حکیم سنایی غزنویست اثر محمدتقی مدرس رضوی کتاب مثنویهای سنایی سال ۱۳۴۸ انتشارات دانشگاه تهران چاپ استبه عنوان نمونه بخشهایی اثر بدین قرارستمنابعBo Utas Tariq uttahqiq A Sufi Mathnavi ascribed to Hakim Sana’i of Ghazna and probably composed by Ahmad b alHasan b Muhammad anNaxcavani A critical edition with a history of the text and a commentary Scandinavian Institute of Asian Studies Monograph Series 13 Lund 1973 243 55 ppBo Utas A Persian Sufi Poem Vocabulary and Terminology Scandinavian Institute of Asian Studies Monograph Series Curzon Press 1977'})), (404330, (('history', 11.260035152779135), {'url': 'https://fa.wikipedia.org/wiki?curid=2789813', 'title': 'سودهشناسی', 'text': 'سودهشناسی تریبولوژی دانش بررسی برهمکنش سطح حرکت بررسی اصطکاک روانکاری سایش شاخه صورت میپذیردسودهشناسی میانرشتهای مهندسی مکانیک دانش مواد سال ۱۹۶۴ میلادی وسیله دیوید تابور فیزیکدان بریتانیایی عنوان یک دانش نوین عرضه گردیدمعنای واژهکلمه tribology ریشه یونانی verb مشتق tribo من یونانی کلاسیک پسوند logy λoγiα مطالعه علمی دانش طرح پیتر جاست peter jost سال ۱۹۶۶ ابداع گزارش eponymous تولید بررسی هزینههای اصطکاک فرسایش خوردگی میپرداختتاریخ اولیهزمانی لئوناردو داوینچی قانون اساسی اصطکاک اشاره کردبر طبق گفته داوینچی مقاومت اصطکاکی شی مختلف یکسان تماس عرض طول متفاوت مشاهده نیروی لازم غلبه اصطکاک زمانی وزن دوبرابر نیاز دارد حال یافتههای داوینچی دفترچهاش منتشر نشدهانددو قانون اساسی اصطکاک ابتدا سال ۱۶۹۹ گویلام امنتنس منتشر ۱ نیروی اصطکاک سطح لغزشی متناسب فشار بار ۲نیروی اصطکاک ناحیه ظاهری ارتباط سطح مستقل استاین قانون اگرچه بهطور فراگیر کاربرد ندارد جملات ساده طیف گستردهای سیستمها اختصاص میدهند قوانین بیشتر شارل آگوستن کولن سال ۱۷۸۵ توسعه یافت متوجه لغزش کینتیک سرعت لغزش مستقل استدر سال ۱۷۹۸ چارلز هاچت هنری کاوندیش اولین آزمایش قابلاعتماد فرسایش اصطکاکی دادند مطالعهای شورای عالی بریتانیا یک ماشین رفت رفت ساده ارزیابی نرخ فرسایش سکههای طلا کردند دریافتند آزمایشی سکهها شن مخلوط میشدند سایش بیشتری نسبت سکههای جفت وجود میآمددر سال ۱۹۵۳ جان اف ارچارد Archard معادله ارچارد توسعه فرسایش لغزش توصیف براساس تئوری برخورد خشن استاز پیشگامان اولیه تحقیقات سودهشناسی فیزیکدان استرالیایی فرانک فیلیپ بودن فیزیکدان بریتانیایی دیوید تابور بودندآنها همراه یکدیگر کتاب درسی اصطکاک روانکاری تألیف کردندمایکل جی نیل یک رهبر زمینه سودهشناسی اواسط سده ۱۹ میلادی حل مشکلات طراحی ماشینآلات دانش سودهشناسی تخصص نیل عنوان یک مربی استعداد ادغام کار نظری تجربه عملی ایجاد راهنماهای طراحی آسان قابلفهم احترام کتاب راهنمای سودهشناسی ابتدا سال ۱۹۷۳ ویرایش سال ۱۹۹۵ روز هنوز سراسر جهان قرار میگیرد پایه دورههای آموزشی متعددی طراحان مهندسی تشکیل میدهددانکن داوسون Dowson تاریخچه سودهشناسی کتاب تاریخ سودهشناسی سال ۱۹۹۷ تحلیل امر تحولات دوره ماقبل تاریخ طریق تمدنهای اولیه بینالنهرین مصر باستان پیشرفتهای کلیدی پایان قرن بیستم پوشش میدهداهمیت جهانیعلیرغم تحقیقات قابل توجه زمان گزارش جاست تأثیر جهانی اصطکاک فرسایش مصرف انرژی هزینههای اقتصادی انتشار کربن دیاکسید هنوز قابل توجه استدر سال ۲۰۱۷ کنت هولمبرگ Holmberg علی اردمیر Erdemir تلاش کردند تأثیر سراسر جهان تعیین کنندآنها چهار بخش انرژی مصرفی اصلی نظر گرفتند حمل نقل تولید تولید برق مسکونیدر گزارش بیان شدهاستکاربردهامشکلات سودهشناسی مقیاس ماکروسکوپی نانو نواحی مختلف مانند حرکت صفحات قارهها یخچالهای طبیعی حرکت حیوانات حشرات همین اواخر اکثر تحقیقات سودهشناسی بخشهای حمل نقل تولید متمرکز بودند امر زمانهای اخیر بهطور قابلتوجهی تنوع یافتهاستحوزههای تحقیقاتی سنتیاز نظر تاریخی اکثر تحقیقات سودهشناسی طراحی روانکاری مؤثر اجزای ماشین متمرکز شدهاند حال مطالعه سودهشناسی تقریبا تمام جنبههای تکنولوژی مدرن سیستمی یک ماده حال لغزش دیگری گسترش مییابدسودهشناسی صنعت حمل نقل روغنکاری مؤثر قطعات متحرک پیشرفت انسانی دادهاست گذشته تحقیقات سودهشناسی صنعت حمل نقل قابلیت اطمینان تمرکز داشتند عملکرد ایمن مستمر اجزای ماشین اطمینان حاصل میکردند طول چند دهه اخیر دلیل تمرکز بیشتر مصرف انرژی بازده بهطور فزایندهای اهمیت یافتهاست نتیجه مواد روانکار تدریج پیچیدهتر پیچیدهتر شدهاند امر بهبود بخشندسودهشناسی نقش مهمی تولید بازی مثال عملیاتهای تشکیل فلز اصطکاک فرسایش ابزار قدرت نیاز کار افزایش میدهد منجر افزایش هزینههای بیشتر ناشی جایگزینی ابزار بیشتر دست رفتن تحمل عنوان تغییر ابعاد ابزار نیروهای بیشتری شکلدادن یک قطعه مواد روانکار تماس سطح مستقیم حداقل میرساند فرسایش ابزار نیازمندیهای قدرت کاهش میدهدحوزههای تحقیقاتی جدیداز دهه ۱۹۹۰ حوزههای میانی جدید تریبیولوژی جمله تریبیولوژی زیستی تریبیولوژی نانو تریبیولوژی سبز پدیدار شدهاند بررسی اصطکاک مقیاس نانو سیستمهای بیولوژیکی مقیاس نانو زیستی فرسایش مییابد حالی تریبیولوژی سبز ملاحظات زیستمحیطی مانند منبع یابی پایدار موجودی مواد شوینده متمرکز نانو تریبیولوژی بهطور فزایندهای اهمیت دارد چون ابعاد نانو دستگاهها کوچکتر میشوند تحقیقات زمینه میکروسکوپ نیروی اتمی میشوداخیرا مطالعات فشرده ابرتریبیولوژی supertribiology پدیده اصطکاک ناپدید سبب افزایش تقاضا صرفهجویی انرژی توسعه مواد جدید مانند گرافین توسعه روشهای اساسی جدید مشکلات تریبیولوژی آغاز کردهاستمنابع1Jost Peter 1966 Lubrication Tribology A report on the present position and industrys needs Department of Education and Science H M Stationary Office London UK2Mitchell Luke نوامبر ۲۰۱۲ Ward Jacob ed The Fiction of Nonfriction Popular Science No 5 281 نوامبر ۲۰۱۲ ۴۰3Hutchings Ian M 20160815 Leonardo da Vinci׳3s studies of friction Wear 360 Supplement C 51–66 doi101016jwear۲۰۱۶٫۰۴٫۰۱۹4Gao Jianping Luedtke W D Gourdon D Ruths M Israelachvili J N Landman Uzi 20040301 Frictional Forces and Amontons Law From the Molecular to the Macroscopic Scale The Journal of Physical Chemistry B 108 11 3410–3425 doi101021jp036362l ISSN 152061065Duncan Dowson History of Tribology Second Edition Professional Engineering Publishing 1997 6Chaston J C 19741201 Wear resistance of gold alloys for coinage Gold Bulletin 7 4 108–112 doi101007BF03215051 ISSN 001715577Archard J F 19530801 Contact and Rubbing of Flat Surfaces Journal of Applied Physics 24 8 981–988 doi10106311721448 ISSN 002189798Tabor D 19691101 Frank Philip Bowden 19031968 Biographical Memoirs of Fellows of the Royal Society 15 1–38 doi101098rsbm19690001 ISSN 008046069Field J 2008 David Tabor ۲۳ اکتبر ۱۹۱۳ 26 November 2005 Biographical Memoirs of Fellows of the Royal Society ۵۴ ۴۲۵–۴۵۹doi101098rsbm2007003110Bowden Frank Philip Tabor David 2001 The Friction and Lubrication of Solids Oxford Classic Texts in the Physical Sciences ISBN 9780198507772Neale Michael J 1995 The Tribology Handbook 2nd Edition Elsevier ISBN 97807506119851112Stribeck R 1901 Kugellager für beliebige Belastungen Ball Bearings for any Stress Zeitschrift des Vereins Deutscher Ingenieure 4513Stribeck R 1902 Die wesentlichen Eigenschaften der Gleit und Rollenlager Characteristics of Plain and Roller Bearings Zeit des VDI ۴۶Jacobson Bo 2003 The Stribeck memorial lecture1314Hersey M D 1914 The Laws of Lubrication of Horizontal Journal Bearings J Wash Acad Sci ۴ ۵۴۲–۵۵۲15Biography of Mayo D Hersey16Woydt Mathias Wäsche Rolf 20100512 The history of the Stribeck curve and ball bearing steels The role of Adolf Martens Wear 268 11 1542–1546 doi101016jwear20100201517Robert H Thurston Friction and lubrication Determination of the laws and coefficients of friction by new methods and with new apparatus Trübner and Co Ludgate Hill London 187918Robert H Thurston A treatise on friction and lost work in machinery and millwork Wiley New York 1894 5th Edition19Holmberg Kenneth Erdemir Ali 20170901 Influence of tribology on global energy consumption costs and emissions Friction 5 3 ۲۶۳–۲۸۴doi101007s4054401701835 ISSN 22237690 CCBY iconsvg Material was copied from this source which is available under a Creative Commons Attribution 40 International License20Stachowiak Gwidon W 20170901 How tribology has been helping us to advance and to survive Friction 5 3 233–247 doi101007s4054401701737 ISSN 22237690J Paulo Davim 2013 Tribology in Manufacturing Technology Springer 21Erdemir Ali Martin Jean Michel 2007 Superlubricity Elsevier 2223Dienwiebel Martin Verhoeven Gertjan S Pradeep Namboodiri Frenken Joost W M 24Heimberg Jennifer A Zandbergen Henny W 20040324 Superlubricity of Graphite Physical Review Letters 92 12 126101 doi101103PhysRevLett۹۲٫۱۲۶۱۰۱'})), (920100, (('history', 11.260035152779135), {'url': 'https://fa.wikipedia.org/wiki?curid=6085457', 'title': 'تاریخ معاصر', 'text': 'تاریخ معاصر انگلیسیContemporary history تاریخنگاری انگلیسی زبان زیرمجموعه ای تاریخ مدرن دوره تاریخی تقریبا ۱۹۴۶ میلادی کنون توصیف تاریخ معاصر زیرمجموعه ای دوره مدرن متاخر سه زیرمجموعه اصلی تاریخ مدرن کنار دوره مدرن اولیه اواخر دوره مدرن همان دوره مدرن متأخر علوم اجتماعی تاریخ معاصر ظهور پست مدرنیته پیوسته مرتبط'})), (920112, (('history', 11.260035152779135), {'url': 'https://fa.wikipedia.org/wiki?curid=6085476', 'title': 'تاریخ آینده', 'text': 'تاریخ آینده انگلیسیfuture history یک تاریخ فرضی آینده نویسندگان داستانهای علمی تخیلی سایر داستانهای تخیلی نظری گمانه زنانه ساختن یک زمینه مشترک داستانهای تخیلی گاهی نویسنده جدول زمانی وقایع تاریخ منتشر حالی گاهی خواننده میتواند ترتیب داستانها اطلاعات ارائه بازسازی کندپس زمینهبه نظر میرسد اصطلاح جان دبلیو کمپبل جونیور ابداع سردبیر مجله Astounding Science Fiction شماره فوریه ۱۹۴۱ مجله سری داستانهای تاریخ آینده رابرت آنسون هاینلین اشاره نیل آر جونز بهطور کلی عنوان اولین نویسنده ای شناخته مفهوم تاریخ آینده ادبیات کردهمجموعهای داستانهایی پسزمینه مشترکی دارند واقعا دنبالهای تاریخ جهان نمیپردازند ندرت تاریخ آینده نظر گرفته میشوند مثال نه سرگذشتنامه ورکوسیگان لوئیس مک مستر بوژولد نه داستانهای کوتاه دهه ۱۹۷۰ میلادی جورج آر آر مارتین دارای پسزمینه عموما تاریخهای آینده محسوب نمیشوند داستانهای مستقلی قوس تاریخی دنبال میکنند ندرت تاریخ آینده نظر گرفته میشوندپیش آثاری منتشر تاریخ آینده معنای واقعیتر تشکیل میدادند یعنی داستانها کتابهای کاملی ادعا میکردند گزیدهای یک کتاب تاریخی آینده قالب یک کتاب تاریخی نوشته شدهاند گونه کتابها هیچ پروتاگونیست شخصی وجود ندارد بلکه اینگونه کتابها توسعه ملل جوامع طول دههها قرنها توصیف میکندنمونه آثار عبارتند ازتفاوت تاریخ جایگزینبرخلاف تاریخ جایگزین نتایج جایگزین رویدادهای گذشته نسبت داده تاریخ آینده نتایج خاصی رویدادهای حال آینده نویسنده فرض میکندتفاوت اساسی نویسنده تاریخ جایگزین نتیجه واقعی یک رویداد خاص آگاهی دارد دانش توصیف نتیجه جایگزین رویداد روایت تأثیر میگذارد نویسنده تاریخ آینده چنین دانشی ندارد چنین آثاری اساس گمانه زنیها پیشبینیهای جاری زمان نگارش استتبدیل آینده گذشتهآینده پیشبینی تاریخ آینده اغلب میتواند شدت نادرست باشدبه عنوان مثال سال ۱۹۳۳ میلادی اچجی ولز کتاب The Shape of Things to Comeo Come جنگ جهانی دوم فرض آلمان نازی لهستان نظر نظامی بهطور مساوی یکدیگر برابری میکنند طول ده سال درگیر جنگی بینتیجه اوایل دهه ۱۹۵۰ میلادی کتاب پول اندرسون جهانی تصویر میکشد سال ۱۹۵۸ میلادی حال جنگ هستهای ویرانگر اوایل قرن بیست یکم بشریت نه تنها موفق بازسازی ویرانههای زمین بلکه درگیر استعمار گسترده فضایی ماه چندین سیاره نویسنده ای فروپاشی سریع واقعی لهستان جنگ جهانی دوم هزینههای واقعی هنگفت برنامههای فضایی بسیار کمتر جاه طلبانه دنیایی مراتب کمتر ویران آگاهی داشته بعید چنین نتایجی فرض فیلم آینده تنظیم تحولاتی سفر فضایی سکونت نشان مقیاس زمانی فرض رخ ندادهاستمشکلی داستان علمی تخیلی تاریخ آینده وجود دارد تاریخ رویدادهای واقعی تاریخی غلبه خواهند عنوان مثال تاریخ آینده H Beam Piper شامل یک جنگ هسته ای سال ۱۹۷۳ میلادی بسیاری تاریخ آینده پیشتازان فضا تاریخ آینده CoDominium جری پورنل چنین فرض میکرد جنگ سرد ایجاد یک حکومت مشترک جهان ایالات متحده اتحاد جماهیر شوروی پایان میرسد عنوان CoDominium قرن بیست دوم ادامه خواهد فروپاشی اتحاد جماهیر شوروی سال ۱۹۹۱ میلادی رخ دادراههای مختلفی مقابله مشکل وجود دارد راهحلهای مشکل زمانی برخی نویسندگان داستانهای آیندهای نامعلوم تنظیم میکنند اغلب جامعهای تقویم فعلی دلیل فروپاشی اجتماعی مختل دلیل تأثیر فناوری دچار نوعی تحریف رابطه اول برخی داستانها آیندهای بسیار دور اتفاق میافتند فقط تاریخ معاصر نویسنده میپردازند البته اگر اصلا بپردازند مثلا سهگانه original Foundation اثر Asimov مرتبط جایی داستانها آیندهای نزدیک اتفاق میافتند گذشتهای کاملا تاریخی مانند سری کن مکلئودهمانند Heinlein برخی نویسندگان ژانر تاریخ آینده سادگی تاریخ آینده مفصلی مینویسند واقعیت میپذیرند رویدادهای واقعی رویدادهای فرضی آنان پیشی میگیرند حقیقت روایت آنان یک تاریخ جایگزین دفاکتو میکنندبرخی نویسندگان ممکن بهطور رسمی تغییر رویدادهای واقعی اثر تاریخ آینده عنوان تاریخ جایگزین یاد کنند'})), (157614, (('history', 11.260035152779135), {'url': 'https://fa.wikipedia.org/wiki?curid=864895', 'title': 'راجر سیوری', 'text': 'راجر مروین سیوری ۲۷ ژانویه ۱۹۲۵–۱۷ فوریه ۲۰۲۲ پروفسور بازنشسته دانشگاه تورنتو زمینه کاری بیشتر ایرانشناسی بهویژه تاریخ دوران صفویه کتابهایی زمینه نوشتهاستزندگیراجر سیوری ۲۷ ژانویه ۱۹۲۵ پیتربورو انگلستان زاده ۹۷ سالگی اتاوای کانادا درگذشتآموزشراجرز سیوری مدرسه سلطنتی شهر پیتربورو تحصیل سال ۱۹۴۳ بورس تحصیلی اداره جنگ وزارت اطلاعات دوره فشرده زبان فارسی مدرسه مطالعات شرقی آفریقایی سوآس دانشگاه لندن گذرانید سال ۱۹۴۷ مطالعات عربی فارسی کوئینز کالج دانشگاه آکسفورد آورد سال ۱۹۵۰ لیسانس مطالعات شرقی دریافت ۱۰ سال تدریس مطالعه عنوان آموزشیار زبان فارسی دانشگاه لندن سوآس سال ۱۹۵۸ دوره دکتری تمام کردایراندر سال ۱۹۴۴ عنوان مأمور اطلاعاتی مشغول کار سال ۱۹۴۵ ایران آمد سال ۱۹۴۷ پستهای مختلف نظامی دیپلماتیک سپس سال ۱۹۴۹ درجه ستوانی جزو افسران ذخیره معمولی بودکانادادر سال ۱۹۶۰ عنوان استاد مدعو راهی دپارتمان مطالعات شرقی دانشگاه تورنتو کانادا سال ۱۹۶۱ پذیرش دریافت پیشنهاد شغل دائمی دپارتمان تازه تأسیس مطالعات اسلامی دانشگاه همیشه کانادا ماندگار نقش مهمی پیشبرد دپارتمان بهطور خاص گسترش مطالعات ایرانی سال ۱۹۸۷ بازنشستگی دانشگاه تورنتو عنوان استاد ممتاز همکار ترینتی کالج کار ادامه ترجمه تاریخ عالم آرای عباسی اسکندربیک منشی زبان انگلیسی تألیف کتاب ایران عصر صفوی ترجمه بیش ۲۰ بار ایران چاپ رسیدهاست چاپ چندین مقاله درباره دوره تاریخ ایران عنوان متخصص برجسته دوره تاریخ ایران شهرت یافتشغلراجرز سیوری سالهای ۱۹۴۷–۱۹۴۳ نخست خدمت ارتش سپس بهعنوان کارمند وزارت خارجه بریتانیا ایران اقامت مراجعت انگلستان سال ۱۹۵۰ رشته شرقشناسی دانشگاه آکسفورد لیسانس گرفت سالهای ۱۹۶۰–۱۹۵۰ تدریس زبان فارسی مرکز مطالعات شرقی آفریقایی دانشگاه لندن اشتغال داشتدر سال ۱۹۵۸ همان دانشگاه رشته ایرانشناسی درجه دکتری گرفت بهعنوان استاد مطالعات اسلامی خاور نزدیک تدریس پژوهش مراکز آموزشی مختلف پرداختهاست سیوری سال ۱۹۷۶ عهدهدار کرسی امور خاورمیانه اسلامی کالج تورنتوی کانادا کتاب حاضر حاصل همین دوران استنویسندگیراجرز سیوری جزو نویسندگان تاریخ اسلام کمبریج تاریخ ایران کمبریج بودهاستسیوری نوشتههایی باب تاریخ صفویان نگاسته بازخوردهای متفاوتی میان تاریخ نگاران ایرانی برانگیخته استدر سالهای اخیر بررسیها نقدهای مختلفی آثار صورت گرفته اطلاعات نظرات تاریخ صفویان یکسویه متأثر منابع رسمی صفویان توأم اغراق تحسین تمجید یافتهانداز جمله آثار سیوری مقالات متعدد دائرةالمعارف اسلام همکاری تألیف کتاب ایران اسلام مروری تاریخ فرهنگ زبان ۱۹۶۴ ویرایش کتاب مقدمهای تمدن اسلامی ۱۹۷۶ ترجمه کتاب تاریخ عالمآرای عباسی اثر اسکندر بیگ منشی ۲ جلد ۱۹۷۸ اشاره کردکتابشناسیکتاب۱ Savory R M amp Wickens G M 1964 Persia in Islamic Times a Practical Bibliography of its History Culture and Language W J Watson ed Montreal Institute of Islamic Studies McGill University۲ Savory R M ed 1976 Introduction to Islamic Civilisation New York Cambridge University Press۳ Eskandar Beg Monshi 1978 The History of Shaah ‘Abbās the Great Tārīkhe ‘Ālamārāye ‘Abbāsī 2 vols RM Savory trans Persian Heritage Series no 28 Boulder Westview Press۴ Savory R M 1980 Iran Under the Safavids Cambridge Cambridge University Press۴a ۱۹۸۴ Īrāne ‘Asre Ṣafavī trans A Ṣabā Tehran۴b ۱۹۹۳ Īrāne ‘Asre Ṣafavī trans K ‘Azīzī Tehran۵ Savory R M 1980 The Persian Gulf States a General Survey CE Bosworth RM Burrel KM Mclachlan amp RM Savory eds general ed AJ Coltrell Baltimore and London Johns Hopkins University Press۶ Savory R M amp Agius D A eds 1984 Logos Islamikos Studia Islamica in Honorem Georgii Michaelis Wickens Papers in Mediaeval Studies no 6 Toronto Pontifical Institute of Mediaeval Studies۷ Savory R M 1987 Studies on the History of Safavid Iraan London Variorum Reprintsمقاله۱ Savory R M 1960 ‘Persia since the Constitution’ University of Toronto Quarterly vol 24 no2 pp 243–261۲ Savory R M 1960 ‘The principal offices of the Ṣafawid state during the reign of Ismā‘īl I 90730150124’ BSOAS vol 23 pt 1 pp 91–105۳ Savory R M 1961 ‘The principal offices of the Ṣafawid state during the reign of Ṭahmāsp I 93084152476’ BSOAS vol 24 pt 1 pp 65–85۴ Savory R M 1962 ‘Communication Intention to translate the Futuvvatnāma of Ḥusayn Vā‘ẓ Kāshifī’ ISL vol 38 no 12 pp 161–165۵ Savory R M 1963 ‘A secretarial career under Shah Tahmasp I 152476’ Islamic Studies Journal of the Central Institute of Islamic Research Karachi vol 2 no 3 pp 343–352۶ Savory R M 1964 ‘Some notes on the provincial administration of the early Ṣafawid empire’ BSOAS vol 27 pt 1 pp 114–129۷ Savory R M 1964 ‘The struggle for supremacy in Persia after the death of Timur’ ISL vol 40 no 1 pp 35–65۸ Savory R M 1964 ‘The significance of the political murder of Mirza Salman’ Islamic Studies Journal of the Central Institute of Islamic Research Karachi vol 3 no 2 pp 181–191۹ Savory R M 1965 ‘The consolidation of Ṣafawid power in Persia’ ISL vol 41 pp 71–94۱۰ Savory R M 1965 ‘The office of Khalīfat alKhulafā under the Ṣafawids’ JAOS vol 85 no 4 pp 497–502۱۱ Savory R M 1967 ‘The Sherley myth’ Iran Journal of the British Institute of Persian Studies vol 5 pp 73–81۱۲ Savory R M 1968 ‘Notes on the Ṣafavid state’ Iranian Studies Bulletin of The Society for Iranian Cultural and Social Studies vol 1 no 3 pp96–103۱۳ Savory R M 1971 ‘The emergence of the modern Persian state under the Ṣafavids’ ĪrānShināsī Journal of Iranian Studies Faculty of Letters and Humanities Tehran University vol 2 no 2 pp 1–44۱۴ Savory R M 1972 ‘British and French diplomacy in Persia 18001810’ Iran vol 10 pp 31–44۱۵ Savory R M 1972 ‘The principle of homeostasis considered in relation to political events in Iran in the 1960s’ International Journal of Middle East Studies vol 3 pp 282–302۱۶ Savory R M 1975 ‘The Qizilbāsh education and the arts’ Turcica vol 6 pp 168–176۱۷ Savory R M 1976 ‘Some reflections on totalitarian tendencies in the Ṣafavid state’ ISL vol 53 no 2 pp 226–241۱۸ Savory R M 1979 ‘Turmoil in Iran’ MEF vol 1 no 6 pp 8–12۱۹ Savory R M 1979 ‘The problem of sovereignty in an Ithna Ashari “Twelver” Shi‘i state’ MER vol 11 no 4 1979 pp 5–11 Reprinted in 1981 Religion and Politics in the Middle East Westview special studies on the Middle East M Curtis ed Boulder Westview Press۲۰ Savory R M 1980 ‘Very dull and arduous reading a reappraisal of the history of Shah ‘Abbas the Great by Iskandar Beg Munshi’ Hamdard Islamicus Quarterly Journal of the Hamdard National Foundation Pakistan vol 3 no 1 pp 19–37۲۱ Savory R M 1986 ‘The geopolitical impact of the Islamic revolution in Iran on the Persian Gulf region’ MEF vol 8 no 5 pp 15–23۲۲ Savory R M 1986 ‘The added touch Ithna ‘Ashari Shi‘ism and the foreign policy of Iran’ IJ vol 41 no 2 pp 402–423۲۳ Savory R M 1995 ‘The office of Sipahsālār CommanderinChief in the Safavid state’ Proceedings of the Second European Conference of Iranian Studies Rome pp 597–615۲۴ Savory R M 2004 ‘Relations between the Safavid state and its nonMuslim minorities’ Islam and ChristianMuslim Relations vol 14 no 4 pp 435–458'})), (282626, (('history', 11.260035152779135), {'url': 'https://fa.wikipedia.org/wiki?curid=1842406', 'title': 'منبعشناسی تاریخ ساسانی', 'text': 'منابع اولیه مربوط عصر ساسانی دسته بازماندههای متنی گزارشها تقسیم کردآثار مورخین معاصردر تاریخ ساسانیان فصلی فردیناند یوستی درباره تاریخ ایران باستان کتاب اساس فقهالغه ایرانی نوشته کاملترین گزارشی سالهای آغازین قرن بیستم نوشته مهمترین تحقیق تاریخ ساسانیان کریستینسن نوشته همه منابع دسترس نیمه اول قرن ۲۱ جمع کتاب ریچارد فرای کتابی عنوان تاریخ ایران باستان منتشر فصل پایانی کتاب شامل جزئیات حوادثی دنبال فتح مسلمین مطالب کتاب فرای درباره اواخر عهد ساسانی مهمترین گزارش وضعیت اجتماعی فکری فارس قرن هفتم میلادی استکتیبههابازماندههای متنی کتیبهها چرمنبشتهها پاپیروسها سفالینههای منقوش بهچند زبان خط شامل بازماندههای متنی مربوط اردشیر بابکان کتیبه کوتاه نقش رجب کتیبههای شاپور یکم کعبه زرتشت نام بردگزارشها متونی گفته زبانها دورههای گوناگونی نوشته شدهاند شایان ذکر اساس نوشتههای همه تاریخنگاران مسلمان تاریخهای عربی فارسی خداینامههای رسمی دربار ساسانی خداینامهها رویدادهای مندرج سالنامههای رسمی دربار ساسانی بهعنوان منبع بهره بردهاند خداینامه اواخر عصر ساسانی بهزبان پارسی میانه تدوین شدهبود عنوان ترجمه کتاب بهزبان عربی نام سیر الملوک العجم فارسی شاهنامه امروزه هیچیک ترجمههای مستقیم عربی خداینامه اصل متن پارسی میانه خداینامه دست نیستیونانی رومیآثار یونانی لاتینی منابع دشمن ساسانیان شکوه سلسله نمیافزایند بلکه میکاهند گذشته اینها بیشتر آثار درجه دوم اهمیت عین اینکه منابع مطلوب شناسانند واقع تنها شرح نگاشه دست گواهان دست اول بهشمار میآیند بسیاری آثار گذشته آنکه جذبه ادبی برجسته نمودار سازند مانند نوشتههای آمین مارسلن بیشتر هرودوت گذشتگان تاسی میکنند بعضی نویسندگان مانند لیبانیوس Libanius اوروسیوس Orosius مطالب بیشتر استدلال جدل نگاشتهاند بیشتر جنبه اثبات خقایق همزمانان داشتند نه آگاهی برخورداری آیندگان اینهمه سنت آثار کهن یونانی لاتینی تاریخی دیدی گاهشماری آثار نویسندگان عربی زبان گونهای همانند گاهی بهتر آنان منعکس آثار جغرافیایی دگیر آثار گردآوری بیزانسی آنکه محیط مسیحی دیدگاه دینی فراهم باز متضمن بعضی آگاهیها درباره ساسانیان نویسندگان همزمان دوران برخاستن ساسانیان اقتدار کلا آگاهیهای اندکی دست میدهند جز آنکه نمودار ساختهاند یک دودمان جدید شرق پا خواسته نخستین نویسندگان ترتیب زمانی عبارتند دیوکاسیوس هرودیان پارههایی دکسیپوس همه درابهر جنگهای روم روابط ساسانیان منابع اخیرتر مانند Lactantius Esclesiastical history وقایعنامه اوسبیوس اسقف قیصر گاهگاهی بعضی جزئیات مربوط تاریخ ساسانیان برخورد پایان سده ششم آگاثیاس مهم زیرا گویا بایگانی ساسانیان تیسفون دسترسی داشتهاست امکان شنیدن داستانهای جاری محلی برخوردار بودهاستآگاثیاس اسکولاستیکوساین مورخ سده ششم میلادی اهل میرنیای آسیای صغیر تألیف نام سلطنت ژوستینیان دنباله کار نگارش تاریخ پروکوپیوس جهت شکل ظاهری لحاظ محتوا پی گرفت کتاب سلطنت ژوستینیان منابع مهم دست اول جهت آگاهی اوضاع تاریخی ساسانیان بهشمار میرود زیرا همان طور مولف اظهار داشته مجموعه سالنامه رسمی بایگانی سلطنتی ساسانیان دسترسی داشتهاست سال ۵۸۲ م وفات یافت اگرچه آگاثیاس دوران خسرو انوشیروان میزیست بهدلیل دسترسی سالنامههای شاهنشاهی بایگانیهای تیسفون تاریخ منابع اصلیاست گزارش داستان جوانی اردشیر روایات عامیانه بهره بردهاستآمین مارسلنوی اهل انطاکیه اورونتس ادامه نگارش تاریخ معروف تاسیتوس پرداخت تنها جنگهای ایران روم قرن ۴ دیدگاه نوشت تاریخ تنها مجلدات ۱۴ ۳۱ باقیمانده مشتمل وقایع سالهای ۳۵۳ ۳۷۸ م آمین مارسلن جنگهای ایران روم ویژه جنگ سال ۳۶۳ م حضور داشته اطلاعات بسیار مهمی درباره ایران ایرانیان گزارش افزوده مدعی بایگانی شاهنشاهی ساسانی دسترسی داشتهاستاورلیوس ویکتوراز مورخین سده چهارم میلادی تاریخی نام نگاشته اشاراتی تاریخ دوره ساسانی تدوین مطالعه دوران سودمند تاریخ اورلیوس سال ۳۶۰ م خاتمه یافتهاستاوسبیوس قیصریاین مورخ سال ۳۴۰ م وفات یافته کتابی نام تاریخ اوسبیوس قیصری دارد طی اشاراتی تاریخ ایران عهد ساسانی نمودهاستپروکوپیوسپروکوپیوس قیصری نویسندگان برجسته درجه اول تدوین جنگهای روم ایران محسوب مورخ اواخر سده پنجم اوایل سده ششم منشی سرداران معروف بیزانس نام بیلیزار همراه جنگهای بسیاری جمله جنگ ایرانیان شرکت تألیف شامل چند جلد کتاب جلدهای اول دوم مربوط جنگهای روم ایران جلدهای سوم چهارم مربوط جنگ واندالها جلد پنجم ششم هفتم مربوط جنگ باگتها پروکوپ کتاب بیلیزار حد اغراقآمیز تمجید نموده حال اطلاعات مندرج تألیف مورخ پژوهشگر تاریخ ایران ساسانی حائز ارزش بسیار متقدین تاریخ کتاب پروکوپ هیستوریکن خواندهاند معتقدند تألیف مهمترین آثاری تاکنون درباره تاریخ روم نوشته پروکوپ تألیف شیوه نگارش هرودوت کرده سعی نموده جانب بیطرفی رعایت شاهد بسیاری وقایعی ذکر کردهاستتئودور موپسوستییکی علمای دینی مسیحی قدیمیترین مورخی گزارش ویژهای درباره زروان اعتقاد بسیاری مردم ایران نحله فکری ارائه داده چون کتاب تئودر مفقود فوتیوس گزیدهای نقل آگاهی طرز تفکر زروان کتاب معتبر زروان تألیف زنر تاریخ ایران زمان ساسانیان آرتور کریستینسن فصل سوم مراجعه گزارش تئودور وسیله سایر مورخین علمای دینی ارمنی سریانی نظر ازنیک کلبی سده پنجم میلادی تائید البته اعتقاد زروان خدای همه جهان تقدیر دانسته شدهاستتئودورهتئودوره اسقفهای مسیحی نیمه نخست سده پنجم میلادی میزیست تاریخ روحانیون سالهای ۳۲۵۴۲۸ م تدوین نمود علاوه عدهای روحانیون مناقشات مجادلات دینی مسیحیان زرتشتیان روم ایران شرکت داشتند زمینه مسائل دینی سیاسی آثاری رشته تحریر آوردند شامل اوروسیوس قرن پنجم کتاب رد کفار نوشت کتاب عنوان دفاع دین تبلیغ عین حال تاریخ جهان ۴۱۷ م شامل میشد زوسیموس قرن چهارم میلادی کتاب تاریخ قیصران روم نوشت سوزومن اوگریوس آثاری باب نگاشتند کتاب ملالاس قرن ششم نوشته اطلاعات مفیدی درباره فرقه مزدک ارائه داده استتئوفیلاکت سیموکاتاوی سده هفتم میلادی زندگی میکرد تاریخ توضیح حوادث سالهای ۵۸۲۶۰۲ م نوشت طی مطالب مفیدی باب تشکیلات اداری ساسانیان مطرح ساخته استتربلیوس پولیووی دوران دیوکلسین میزیست تألیفی عنوان تاریخ قیصران روم دارد اطلاعاتی درباره حوادث اوایل عهد ساسانی استخراج نموددیون کاسیوسهر چند نوشتههای همیشه اعتماد نیست همه پارهای نوشتههای مورخین دوره جمله هرودویان قابل تطبیق دیون کاسیوس منابع معروف تاریخ پارتیان گزارشی درباره برافتادن پارتیان برآمدن اردشیر بابکان بهدست دادهاستدکزیپوس آتنیاز مورخ نیمه دوم سده سوم میلادی اطلاعاتی درباره اوایل دوران ساسانی بخشهایی گزارشهای باقیمانده دست آوردسونکلوساین مورخ وفاتش سال ۸۱۰ م نوشتهاند کتابی تحت عنوان تاریخ ایام سلطنت ساسانی نوشته اطلاعات یادداشتهای آگاثیاس اقتباس کردهاستلاکتانتیوس فیرمیانوساز مورخین یهود آثار حاوی گزارشهایی اغراقآمیز درباره رفتار خشونتآمیز شاپور ساسانی والرین امپراتور شکست خورده روم بودمناندر پروتکتوراین مورخ نیمه دوم سده ششم میلادی میزیست گزارشهای سودمندی تاریخ حوادث سالهای ۵۵۸۵۸۲ م میگیرد ارائه داده استهرودیانوساین مورخ یونانی قرن دوم سوم میلادی اسکندریه متولد زندگی روم گذرانید زمان زندگی میان سالهای ۱۷۰ ۲۴۱ م دانستهاند تألیفات زبان یونانی کتاب تاریخ روم درگذشت آنتونن گردیان سوم میگیرد تألیف کیفیت تغییر سلسله پادشاهی ایران ویژه دورههای اشکانی ساسانی حوداث بتفضیل شرح داده شدهاستیوتروپیوساین مورخ رومی سده چهارم میلادی میزیست همراه ژولین ژولیان امپراتور روم جنگ شاپور دوم ساسانی رفت حوادث دوران تألیف خویش ثبت رسانید علاوه تاریخ روم ابتدای بنای سال ۳۶۳ م یعنی درگذشت یوان امپراتور روم تدوین نمود یوترپیوس جنگ سال ۳۶۳ ایران روم شرکت مشاهدات کتاب تاریخ ملخص روم آورد سعی قضاوتهای بیطرف حال تألیف آگاهی تاریخ اشکانی ساسانی مفید استارمنیتاریخ ارمنستان عهد ساسانی کاملا تاریخ شاهنشاهی ایران پیوستهاست تاریخهای مورخین ارمنی عصر نهتنها مطالب بسیاری مهمی راجع سرگذشت شاهنشاهان ایران بهدست میدهد بلکه وضعیت ارتباط ایران ارمنستان پیداستمنابع ارمنی همه مسیحی آگاهیهای درباره ساسانیان دیدگاه دینی نگاه قومی ارمنی گاهی رازگونه متضمن کتمان حقایق کهنترین تاریخ آگاثانجلوس متن یونانی ارمنی دست کلا شیوه مسیحی تاریخهای ارمنی نوشته شدهاند همگی فر شکوه پر لاف گزاف دینی داستان میزنند نگارش واقعیتها فاستوس بیزانسی شرحی رویدادهای میان سالهای ۳۲۰ ۳۸۵ دست میدهد بسیاری موارد درهم غیرقابل اعتماد اثر lazar of prap سال ۴۸۵ دنبال ضمنا رویدادهای اخیرتر سال ۵۹۱ سبئوس ادامه داده اندک فاصله بریدگی رشته مطلب تاخت تاز عربها میرسد یک تاریخ سالهای ۴۳۹ ۴۵۱ اثر الیزه وارداپت سخت غیرقابل تکیه ولی شور ملی ارمنی آگاهی میدهد کتاب ضد فرقهها اثر ازنیک کلبی Eznik of Kolb متنی ارزشمند دیدگاه آئین زرتشتی تاریخ عمومی موسس خورناتسی دیدگاه تاریخ ساسانیان دارای آگاهیهای بسیار ولی متضمن نکات متناقض آثار اخیرتر ارمنی چندان چیزی تاریخ ساسانیان نمیافزاید ولی جغرافیای ارمنی موسس خورناتسی دروغین دید جغرافیای تاریخی امپراتوری برجسته آثار ارمنی پر خیالات واهی اند کار ما نمیآیندازنیک کلبی Eznik of Kolbاو صاحب تألیفی نام رد فرقهها تألیف سالهای ۴۴۵۴۴۸ م نوشته حاوی مطالبی درباره آراء زرتشتیان دوره استآگاثانجلوس Agathangelosبه مورخ تألیفی نسبت دادهاند مربوط تاریخ تیرداد پادشاه ارمنستان کتاب مشتمل مطالبی درباره سالهای نخست پادشاهی ساسانیان برخی داستانها روایات افسانهای استالیزه وارداپت Elise Vardapetاین مورخ ارمنی سده هفتم میلادی وقایع سالهای ۴۳۹۴۵۱ م کتابی نام تاریخ وردن جنگ ارمنیان نگاشته جملگی منتقدین اظهار داشتهاند تاریخ نهایت تعصب نوشته بدین جهت قابل اعتماد نیست عهد یزدگرد دوم ساسانی میان ارمنستان ایران سر آنکه ایرانیان تلاش میکردند دین زرتشت منطقه تسری دهند جنگ بزرگی درگرفت مورخ جوانی رکاب وارتان ممیکونی ایرانیان جنگید بدین جهت گزارشهای درباره ایران تاریخ وارقانیان حائز اهمیت استزنوب گلاک Zenob Glakاین مولف دارای تألیفی نام تارون اثر حاوی تاریخ منطقه تارون ارمنستان منتقدین اثر فاقد اعتبار تاریخی دانند دنباله تدوین اثر یوحنای ممیکونی ادامه داده استسبئوس Sebeosاین مورخ تاریخ لشکرکشیهای هرقل ایران نوشته طی وقایع ایران زمان پیروز ۵۹۱ نقل کرده حوادث سال آخر سلسله ساسانی بتفضیل بیان داشتهاستفوستوس بیزانسی Faustus of Byzantiumاین شخص مولف کتاب تاریخ ارمنستان استقازار پارپتسی ghazar Parpetsiوی کتابی نام تاریخ ارمنستان درباره وقایع ارمنستان سال ۳۸۸۴۸۵ تدوین نموده خاطر بیطرفی مولف ارزش بالایی برخوردار استموسی خورنیموسی خورنی معروف هرودوت ارمنستان مورخ نامی قرن پنجم میلادی داستانی باب اردشیر بابکان نقل داستان تقلیدی زندگی کوروش بزرگ بیشباهت نیست ظاهرا تألیف نام تاریخ ارمنستان سده هفتم میلادی تدوین یافته حاوی اطلاعات سودمندی درباره تاریخ ساسانیان استسریانییکی منابع تاریخ ساسانی کتابهاییاست مسیحیان بهزبان سریانی نوشتهاندرویدادنامه آربلا متنیاست نیمه سده ششم میلادی نوشته تاریخ مناطق مسیحی میانرودان سده دوم حدود سال ۵۵۰ میلادی برمیدارد کتاب دوره برافتادن پارتیان برآمدن ساسانیان ارزش فراوان میداردتاریخ ادسا کتابیاست حدود ۵۴۰ میلادی نوشته دربردارنده رخدادهایی سال ۱۳۲ قبل میلاد ۵۴۰ میلادی استرویدادنامه کرخ بیت سلوق منبعی کوتاه مهم آگاهیهای باارزشی درباره اوایل دوران ساسانی بهدست میدهدمنابع سریانی آنکه همانندند دیدگاه بررسی ما دارای اهمیت بیشتری نسبت آثار ارمنی وقایعنامهها ویژه نظر شرح تفضیلی رویدادها ویژه داشتن نکات متناقض وقایعنامه آربل درباره آدیابن حدود ۵۵۰ وقایعنامه ادس همین دوران رویدادهای ادس دست میدهد وقایعنامه نوشته یوشع استیلی یوشع دروغین شامل رویدادهای سالهای ۴۹۴ ۵۰۶ استو دیگری نویسنده ناشناسی M Guidi منتشر مشتمل رویدادهای ۵۹۰ هجوم اعراب اثر دارای اهمیت فراوانی وقایعنامه اخیرتر جهان مانند اثر میکائیل سریانی سده دوازدهم پرداخته بارهبرائوس ابولفرج سال نگاشته وقایعنامه تگاشته سده یازدهم الیاس نصیبی گو اینکه حاوی آگاهیهای پراکندهای دید ما برجسته مینمایند آثار ارزشمند عبارتند شهادتنامهها مطالبی مندرج گذشته مباحث دینی موضوعات قانونی تقسیمات کشوری مطالبی همانند اینها پرداختهاند میان نویسندگان مباحث دینی Theodore bar khonai نظر موضوع نامهم ضمنا آثار قانونی شرعی کلیسایی گو اینکه مربوط امور داخل کلیسا گاهی نکاتی زمینه امور سرزمینها دست میدهندتاریخ استیلیتیس دروغیکتاب تاریخ استیلیتیس دروغی حاوی اطلاعات مهمی درباره وقایع مربوط جلوس پیروز حوداث نیمه اول دوران فرمانروایی قباد اول ساسانی یعنی تاریخ سالهای 494 506 م کتاب 507 م تألیف اشتباه یوشع استیلیتی نسبت داده شدهاستتاریخ ادساتاریخ ادسا الرها شامل وقایع سالهای 132 پ م 540 میلادی ظاهرا بخشی تاریخ ایران اختصاص داشته میان رفتهاست کتاب مذکور 540 م تألیف شدهاستتاریخ اربلتاریخ اربل تألیفی وقایع تاریخی مسیحیان منطقه اربل سده دوم حدود 550 م روایت کتاب سده ششم م تألیف منتقدینی نظیر پیترز اعتبار تاریخی تردید نمودند مورخی دگر نام مسینا بخش پایانی تائید کردهاستتاریخ بینامهویت مولف کتاب روشن نیست نویسنده شاهد وقایع مرگ هرمز چهارم 590 م کتاب ظاهرا 670 م تألیف گوئیدی ان سال 1889 استکهلم چاپ رسانده استتاریخ الیاس نصییبیکتاب تاریخ الیاس نصییبی سال 1008 م تدوین مقدمه جدولی شاهان ساسانی سالهای پادشاهی درج متن سریانی کتاب ترجمه لاتینی بارها چاپ رسیدهاستمیکائیل سریانیکتاب میکائیل سریانی بطریق انطاکیه 11661199 م اهمیت خاصی تاریخ ساسانی برخوردار کتاب وسیله شابو سال 1899 1910 پاریس چاپ شدهاست2 اثر دیگردو اثر آثار سریانی تاریخ سوریه دیگری تاریخ روحانیت گرگوری بارهبراوس متوفی سال 1286 م منابع معتبر تاریخ سامان محسوب میشودپارسی میانهکارنامه اردشیر بابکان داستانی حماسیاست پیرامون اردشیر بابکان کیفیت رسیدن پادشاهی ایران متن حدود ۶۰۰ میلادی پایان عصر ساسانی زبان پهلوی نوشته شدهاستآثار پارسی میانه سانسور روحانیون گذشتهاست مطالب توجه آنان بردارد بیشتر درباره فولکلور مطالب حماسی تاریخ کارنامه اردشیر داستان شمرد دارای مطالب بسیاری زمینه زندگی نخستین فرمانروای دودمان ساسانی ولی باید بهرهگیری بسیار احتیاط اثر کمابیش مشتمل همان مطالبی شاهنامه فردوسی متنهای اخیرتر آمدهاست یک اثر جغرافیای تاریخی مراکز استانهای ایران متضمن آگاهیهای تاریخی وجود دارد داستانهای افسانهای ترجمه ارزشمند مارکوارت متنهای کوچک مانند خسرویکواتان ریدک کتابهای گوناگون اندرز فرمانروایان آئینه شاهزادگان خواندهاند متنهای دینی یافتن واژه آداب آئین آگاهیهای مشابه بررسی ولی آگاهیهای تاریخی اندک استدینکرددینکرد معنی تالیف دینی مجموعه شامل نه کتاب بوده کتابهای اول دوم اضافه بخشی آغاز کتاب سوم میان رفتهاست کتاب جهت اشتمال مطالب گوناگون دانشنامه مزدیسینی نامیدهاند آخرین مولف اثر عظیم آذرباد ایمیدان آذرباد پسر امید بودهاستمنابع اسلامیدر وقایع نگاری دورة اسلامی رویدادهای گوناگون صورت سالشمار اساس دوران حکومت خلفا شرح روش رویدادی دورهای چندساله دربر میگیرد معمولا تقطیع ضمن وقایع سالهای متعدد دورة خلفای پیاپی میآید شماری آثار مهم تاریخی ایران اسلام مانند خداینامه سیرالملوک تاجنامه آییننامه کسانی همچون ابن مقفع متوفی ۱۴۴ عربی ترجمه کردند بهعلاوه علمای مسلمان احتمالا تاریخ نگاری مسیحی اطلاعاتی داشتند عقیدة روزنتال هیچیک نوشتههای ایرانی دورة ساسانی آثار تاریخی یونانی بیزانسی الهام بخش وقایع نگاران مسلمان نبودهاست واقع همة کتابهایی اطلاعی دست مدتها آنکه وقایع نگاری نوشتههای تاریخی اسلامی ظاهر تألیف شدهاندآثار عربی فارسی جدید گو اینکه نسب متون تاریخی بسیار اخیرتر نوشته شدهاند بیشتر ترجمه آگاهیهایی فرمانروایان ساسانی دارند رسوم آداب کارهای آنان جاهای دسترس نیست اهمیت بهرهگیری آنهاست گزارشهای رسمی گزارشهای رسمی ساسانیان ویژه متن خودای خودات نامک شهر نامطلوب حماسه فردوسی مایه گرفتهاست درباره متن اصلی پایه همه آگاهیهای اسلامی مربوط دودمان ساسانی چندان مطلب نوشتهاند مطلب دیگری افزودن سطحی مینماید جز آنکه بگوئیم بسیاری منابع جمله گفتارهای شفاهی وجود داشتهاست تاریخ رسمی دربار ساسانی همراهی روش نقد متنها میزان قابل سنجش بررسیهای متنهای کهن یونانی لاتینی نرسیدهاند بسیاری دشواریها نقل متنهای عربی فارسی جدید منابع ساسانیان وجود دارد آنکه نویسدگان اسلامی مقایسه مسیحیان کمتر جدلی استدلالی باز آگاهیها تصورات اسلامی سازگار میکنند تحد معقول دگرگون میسازند داستانها آگاهیهای دگرگون خوانندگان عرضه میکنند تنظیم دریافت آگاهیهایی بدانان میرسد عبارتهای متنهای گذشته نحوی بفمهند دگرگون میسازند چنانکه طبری مطلب مربوط نخستین تصرف انطاکیه دست شاپور اول دستگیری والریوس درهم پیچیده آشفته کرده اعمال شاپور دیگران آمیخته گفته کریستین سن آثار کتاب پارسی میانه آییننامه Ayēn ewēnnāmak کتاب گاهنامک چند اثر عربی مانند کتاب التاج جاحظ اثر مسعودی درج متنهای ارزشمند نهادهای ساسانیان نامه تنسر پادشاه طبرستان فارسی جدید متن عربی ترجمه پارسی دسترس اثر عمده تاریخی عربی همانا تاریخ طبری ترجمه فارسی تاریخ بلعمی بعضی مطالب متن عربی افزوده متن دور تاریخهای کهنتر چندان ایران اسلام سر کار ندارند ولی تاریخهای یعقوبی ابن قتیبه دینوری دارای مطالبی طبری نیست نویسندگان اخیرتر طبری آگاهیهایی دارند آثار پیشین نیست بویژه مسعودی مروج الذهب کتاب التنبیه حمزه اصفهانی تاریخ سنی ملوک الارض الانبیاء یک متن نویسندهای گمنام نام نهایة الارب فی اخبار الفرس العرب دست آنکه متنی پر تخیل حاوی شرحهایی متفاوت طبری باید اثری جداگانه درباره ساسانیان شمرد بیرونی دارای منبعی گاهشماری جشنها متضمن فهرستهایی مرتب نویسندگان مانند ابن اثیر ابولفداء چندان مطلبی دانش ما ساسانیان نمیافزایند بیشتر آگاهیهای پر گزاف تخیلی دست کم عبرت مردم همزمان پرداخته شدهاندتاریخ حماسی ایران شاهنامه فردوسی اینگونه آثار بهشمار میرود شرح رویدادهای تاریخی غرر اخبار ملوف الفرس ثعالبی صادق کتب وصایای فرمانروایان ساسانی فرزندان خویش مانند وصایای اردشیر دارای مطالب مشروحی درباره جامعه دربار داستانهای اندرزنامهها مانند سیاستنامه نظامالملک قابوسنامه پیدا نمیشوند ور آثاری متضمن مجموعه داستانهایی خصوص شاهان حکیمان ساسانی اینگونه داستانها باید احتیاط تام شناسایی دوران ساسانی تلقی آنرو هدف آموزشی عبرت همزمانان نویسندگان پرداخته شدهاندکتابهای جغرافیایی شامل بعضی آگاهیها زمینه تقسیمات اداری اسلام وضع دیوان امور محلی مهمترین اینها متنهای جغرافیایی عربی ابن خردادبه اصطخری ابن حوقل یعقوبی ابن فقیه همدانی مقدسی ابن رسته حدوالعالم جغرافیای فارسی فارسنامه ابن بلخی آثاری مانند مفاتیح العلوم خوارزمی کتاب الوزراء الکتاب جهشیاری دارای بعضی مطالب مربوط دیوان خراج دستگاه ساسانی سرانجام باید تاریخهای محلی نام برد مانند تاریخ قم تاریخ سیستان تاریخ طبرستان غالبا حاوی آگاهیهایی زمینه امور محلی ویژه رویدادهای دوران اخیر ساسانیان آغاز فرمانروایی عرب بخشهای جداگانهفارسیشاهنامه فردوسیشاهنامه فردوسی بزرگترین مهمترین منبع گزارشهای مربوط تاریخ ملی ایراناست آگاهیهای سودمند بسیاری درباره نهادها تمدن ساسانی بهدست میدهدتاریخ بلعمیتاریخ بلعمی برگردان فارسی تاریخ طبریاست— مهمترین آثار منثور فارسی درباره ساسانیان اثر جدا متن عربی اثر ارزشمندیاست زیرا معادلهای فارسی اصطلاحات عربی تاریخ طبری بهدست میدهدفارسنامه ابن بلخیفارسنامه ابنبلخی منابع فارسی سودمند درباره تاریخ ساسانیاست آگاهیهای ارزشمندی درباب وضعیت مرتبه فرمانروایان دستنشانده بزرگ سمت آنان عین حال رعیت پادشاه بودند بهدست میدهدتاریخ طبرستانتاریخ طبرستان ابن اسفندیار منابع تاریخ ساسانیاست نامه تنسر کتاب آمدهاستقسمت سوم باره باوندیان دورة دوم قراردادن نامه تنسر آغاز کتاب پیوند دادن تاریخ طبرستان تاریخ باستان رساندن اصل ونسب پادشاهان طبرستانی شاهان ساسانی شرح مفصل مؤلف مقاومت اهالی پادشاهان طبرستان مقابل حاکمان عرب حاکی دغدغه خاطر ابن اسفندیار نسبت موطن عدالت خواهی اوستمجمل التواریخ القصصمجمل التواریخ القصص متنیاست ارزش محدود زیرا کمتر گزارشی یافت بهتفصیل منابع یافت نشود عهد اردشیر نامه خطبهایست اردشیر بابکان آئین ملکداریاست ذکر نامش مجمل التواریخ القصص بهمیان آمدهاستعربیوقایعنامه مسیحیدو وقایعنامه مسیحی موجود زبان عربی حاوی مطالب جالب توجهی لحاظ ساسانیان وقایعنامه نسطوریکه نویسنده ناشناخته چاپ A Scher وقایعنامه اوتیکوس سعید بن طریق طریق اسکندریه ۹۴۰ درگذشت چاپ ل شیخو بیروت ۱۹۰۶ ۱۹۰۹ استتاریخ طبریتاریخ طبری نوشته محمد بن جریر طبری مجموعه کتبیاست بهزبان عربی منبع اصلی ضروری درباب تاریخ ساسانیاستروایات طبری بارة تاریخ ساسانی بسیار مفصلتر دورههای قبل نحو بارزی متضمن مطالب تاریخی گرچه مطالب غیرواقعی داستانی دارد طبری قسمت منابع ذکر نمیکند جز مواردی راویان مسلمان نقل قول روایات طبری ترتیب کلیات وقایع منابع مطابقت دارد نشان میدهد مورخان اسلامی تدوین تاریخ ایران منابع ایرانی مشترک کردهاند تمایز اصلی تاریخ طبری بخش ساسانی نسبت بخشهای کتاب تنوع منابع اعم ایرانی غیرایرانی تفصیل مطالب جزئیات بالنسبه دقیق ازینرو بخش ساسانی تاریخ طبری تواریخ زمان برتری دارد بهعلاوه طبری نقل مطالبی منشأ شعوبی رنگ حماسی دارند احتراز جمله حکایاتی برخی تواریخ راجع دربار زندگی خصوصی پادشاهان مثلا خسرو پرویز آوردهاند نیاورده طبری تاریخ یمن داستان تبع داستان فتح قلعة الحضر هتره عهد اردشیر بابکان توجیهات مذهبی راجع علایم آثار زوال حکومت ایران عهد خسرو پرویز روایات متنوع اسلامی بهرة بسیار برده بارة آخرین شاهان ساسانی مقارن فتوح مسلمانان کار نکردهاست احتمال بسیار سبب روایات فتوح مآخذ گوناگون گرفته ازینرو موارد متعدد دیدگاهها تمایلات متضاد جمع شدهاستتاریخ مسعودیمروجالذهب علی بن حسین مسعودی منابع پیرامون تاریخ ساسانیان استمنابع یهودیتنها اثر یهودی جزئیاتی زندگی حکومت ساسانی میدهد همانا تلمود بابلی بارها چاپ انگلیسی ترجمه مانند چاپ I Epstein ۳۵ جلد لندن ۱۹۳۵۱۹۴۸ اثر جیکوب نیسنر تألیف پنج جلدی History of the jews in Babylonia لیدن ۱۹۶۹۱۹۷۰ قرار داده باید یاد تلمود دارای مطالبی داخلی وابسته کانون یهود امور شرعی اشاراتی امور رویدادها آئین ساسانی داردمنابع چینیبر خلاف دوره پارتی اندازهای منابع چینی دارای اعتبار اهمیت دوره ساسانی زحمت چیزی یافت فقط باید سفرنامه یک راهب بودایی چینی نام هوینتسیانگ HuienTsiang فاصله سالهای ۶۲۹–۶۳۰ مختصری ایران معاصر پرداخته یادکرد فقط شایعات بازگو'})), (282890, (('history', 11.260035152779135), {'url': 'https://fa.wikipedia.org/wiki?curid=1845171', 'title': 'گنو ریدلاین', 'text': 'گنو ریدلاین یک کتابخانه افزودن قابلیتهای ویرایش خط جستجو تاریخچه فرمانهای کار برده برنامههای محاورهای واسط خط فرمان میکنند جمله برنامههایی گنو ریدلاین میکنند بش افتیپی مای اسکیوالپایتون پستگرسکیوال اشاره میانبرهای گنو ریدلاین ایمکس اقتباس شدهاند اگر چه میانبرها قابل شخصیسازی هستندکد نمونهکد زبان سی هنگام ترجمه باید آپشن lreadline ترجمه شودint main char input shellprompt100 Configure readline to autocomplete paths when the tab key is hit rlbindkey\\\\t rlcomplete for Create prompt string from user name and current working directory snprintfshellprompt sizeofshellprompt ss getenvUSER getcwdNULL 1024 Display prompt and read input nb input must be freed after use input readlineshellprompt Check for EOF if input break Add input to history addhistoryinput Do stuff Free input freeinput'})), (35654, (('history', 11.260035152779135), {'url': 'https://fa.wikipedia.org/wiki?curid=236099', 'title': 'تاریخ پرو', 'text': 'تاریخ پروبه انگلیسی The history of Peru مسیر طولانی پیموده دارای فراز نشیبهای فراوانی بودهاستباشندگان نخستینشواهد باستانشناسی مکانهایی همچون غارهای پیکوئیماچای آیاکوچو شیواتروس فرهنگ لاوریکوچا پایجان توگوئپلا قرار دارد نشان میدهد شکارچیان جانوران وحشی ۲۰ هزارسال قبل نقاط سکنی داشتهاند برخی قدیمیترین تمدنهای چشمگیر ۶ هزارسال میلاد ایالتهای ساحلی شیلکا پاراکاس استانهای مرتفع کالجون هوآیلاس پدید آمدهانددر حدود ۳۰۰۰ سال اساس شواهدی مکانهایی همچون کوتوش هوآکا پرییتا نشان میدهد ساکنان منطقه شروع کشت بهرهبرداری زمین نمودهاند کاشت گیاهانی چون ذرت کتان گاسیپیوم باربادنس اهلی کردن جانوران آغاز گردید ساکنان نقاط صنایع خانگی نظیر ریسندگی بافندگی پنبه پشم سبد بافی سفالگری پرداختندبرخی تمدنهای پیشرفته تر منطقه آند ۹۰۰سال میلاد آشکار شدند عبارت بودند ازاین فرهنگها مهارتهای نسبتا پیشرفته داشتند کشت طلا نقره کاری سفالگری متالورژی بافندگی توسعه دادند حدود سال ۷۰۰قبل میلاد ظاهرا نظامهای توسعه یافتهای سازمان اجتماعی توسعه دادند منادیان تمدن اینکا بودتمدنهای کوچکتر حاشیه کوههای آند شرقی بهطور گسترده امپراطوری اینکا هماهنگ شدند عبارت ند ازهمگی فرهنگهای آندی تمایلی اظهار وفاداری نسبت اینکاها نداشتند زیرا امپراطوری توسعه داده بودند بسیاری علنا خشونت نشان میدادند عنوان مثال مردم فرهنگ چاچاپویاس دست بودند نهایتا امپراطوری اینکا تسخیر یکپارچه شدنداینکاهااینکاها پهناورترین قدرتمندترین امپراطوری کریستف کلمب ایجاد نمود تاهوآنتینسویو – کلمه زبان کوئچوا گرفته مفهوم چهار ناحیه متحد آغاز قرن شانزدهم بزرگترین وسعت رسید قلمرو ناحیهای پوشش میدهد شامل جنوب اکوادور بخشی کلمبیا نیمه شمالی شیلی بخش شمال شرقی آرژانتین جنوب غرب بولیوی جنگلهای آمازون میشداین قلمرو قبیلهای سرچشمه میگرفت بخش کوزکو قرار داشتند پایتخت پاچاکوتی اولین حاکم مرزهای بسیار وسیع سرزمین کوزکو اولاد بعدها فتح جابرانه صلحآمیز قلمرو حکومت نمودندکوزکو شهری سلطنتی نظیر پوما ایجاد گردید عنوان ساختار ریاست اصلی سلطنت شکل گرفت یعنی آنچه هماکنون عنوان ساکسایهوآمان شناخته مرکز اداری سیاسی نظامی امپراطوری کوزکو قرار امپراطوری چهار بخش تقسیم میشدچینچاسویو آنتیسویو کنتیسویو کولاسویوکوئچوا زبان رسمی میان شهروندان تکلم میشد زبان همسایگی قبیله اصلی امپراطوری تکلم میشد جمعیتهایی تسخیر میشدند – قبایل قلمروها سرزمینها شهرها مجاز بودند مذاهب سبکهای زندگی عمل کنند مجبور بودند رسوم فرهنگی اینکاها نسبت آداب مقدم برتر بشمارند اینتی خدایگان خورشید باید عنوان مهمترین خدایان امپراطوری پرستش میشد جانشین زمین اینکا امپراتور بودتاهوآنتینسویو قلمروهایی یک جامعه طبقهبندی تشکیل اینکاها فرمانروایی میکردند تمدن اینکا اقتصادی پشتیبانی میشد براساس مالکیت اشتراکی زمین واقع امپراطوری اینکا همچون یک طرح متمدن گستاخانه جاه طلب مبتنی اندیشه خیال پردازانه تصور هماهنگی روابط بشر طبیعت اسطورهشناسی اینکا امری ضروری بودبسیاری رسوم عجیب جالب مشاهده میشدند مثلا جشن مجلل مسرفانه اینتی رایمی خدای خورشید سپاسگزاری مینمود زنان جوانی شامل زنان باکره خورشید بودند باکرههای مخصوص قربانی آنتی وقف نذر میشدند امپراطوری کاملا پهناور یک سیستم حمل نقل جالب توجه جادهای تمام نقاط قلمرو اش نام سیستم جاده اینکا چاسکوئیس حاملان پیغام بودند اطلاعات هرجا قلمرو مرکز کوزکو میرساندندماچو پیکچو زبان کوئچوا قله پیر برخی اوقات شهر گمشده اینکاس نامیده ویرانهای بازمانده اینکای قبل کلمب حاشیه یک کوه بلند فراز دره اروبامبا حدود ۷۰ کیلومتری ۴۴مایلی شمال غرب کوزکو واقع اندازه ارتفاع نواحی بسته دادههای مربوط ویرانه اشاره نماید حدود ثغور کوهستان تفاوت اطلاعات جهانگردی راجع ماچو پیکچو میزان ارتفاع ۲۳۵۰ متر گزارش وجود قرنها سوی جهان خارج بوته فراموشی سپرده مردم نواحی یاد نبردهاند سال ۱۹۱۱ باستانشناس دانشگاه ییل هیرام بینگهام اذهان جهانیان بازگردانده کشف نموده کتاب پرفروشی راجع نوشت پرو دنبال تلاشهای قانونی هزاران شیئ مصنوع باستانی بینگهام منطقه خارج کرده کشور بازگردانداز چشمانداز منطقگرایی اروپائی امپراطوری اینکا همچون مدینه فاضله نظر میآید وجود تعبیر عملگرایانه سبب فراموشی مسئله برخورد جهان بینی ضدالهی اثر مخربی توازن برتری جهانبینی اینکا داشته مدعی تاج تخت جنگ داخلی قلمرو اینکا رسیدن اهدافشان بهره امتیاز گرفتندمستعمره پرو حکومت اسپانیاییفرانسیسکو پیزارو برادرانش مجذوب اخبار پادشاهی ثروتمند افسانهای شدند سال ۱۵۳۱ وارد کشوری شدند اینک پرو نامیده اشکال کلمه پرو همچون Biru pirú Berú آثار گذشته مشاهده میشوند طبق نظر رائول پوراس بارنچیا زبان پرو نه یک زبان کوئچوا کوئچوا نه یک زبان اسپانیولی کارائیب کارائیبی بوده بلکه زبانهای هیسپانیک هندو هیسپانیک بودهاستدر زمان امپراطوری اینکا ورطه یک جنگ داخلی پنجساله شاهزاده هواسکار آتاهواپلا فرورفته فرانسیکو پیزارو امتیاز کشور یک کودتا ۱۶ نوامبر۱۵۳۲ حالی مردم شهر کاجاماکرا جشن میگرفتند اسپانیاییها طی نبرد کاجاماکرا یک اقدام شگفتانگیز اینکا آتاهواپلا تسخیر نمودند موجب بهت فراوان میان مردم آماده شدن دوره آتی مبارزه گردید زمانی هواسکار قتل رسید اسپانیاییها آتاهوالپا محاکمه کرده مرگ محکوم نمودند خفه کردندبرای مدت زمانی پیزارو حاکم ظاهری اینکا باقیماند مرگ آتاهوالپا توپاک هوالپا عنوان اینکا معرفی نمود بدرفتاریهای سردار فاتح ماهیت ظاهرسازی بسیار علنی ساخت سیطره اسپانیاییها سرکوب خونین شورشهای بومی آتی حکومت انسجام بخشید وضعیت اثر مبارزه قدرت خانواده پیزارو دیگو دی آلماگرو پیچیده جنگ داخلی بلند مدتی گسترش یافت نتیجه افراد پیزارو نبرد لاس سالیناس پیروز شدندبا وجود اسپانیاییها فرایند استعماری غفلت نورزیدند مهمترین رویداد بنیانگذاری شهر لیما ژانویه ۱۵۳۵ نتیجه موسسات اداری ایجاد شدند لزوم انسجام اقتدار سلطنتی اسپانیا مناطق موجب تشکیل درباربارعام واقعی دربار سلطنتی سال۱۵۴۲ اسپانیاییها قلمرو نائب سلطنت پرو قصرهای جدید نایب سلطنت پدیدآوردند کمی نایب سلطنت پرو خوانده وصف نایب سلطنت پرو زمان ورود فرانچسکو دی تولدو نائب سلطان سال ۱۵۷۲ رسمیت شناخته نشدفرانچسکو دتولدو حکومت بومی ویلکابامبا پرو ویلکابامبا اعدام توپاک آمارو اینکا توپاک آمارو پایان خواستار توسعه اقتصادی طریق انحصار بازرگانی استخراج معدنی عمدتا معادن نقره پوتوسی مؤسسه اینکا تحت عنوان ’’میتا اینکا میتا ‘‘ راه انداخت یک سرویس اجباری عمومی جوامع بومی تحت بردگی ظالمانه اقتصادی قرار دهدنایب سلطنت پرو ثروتمندترین قدرتمندترین نائب السلطنه کشورهای آمریکایی قرن هجدهم ایجاد نایب السلطنههایی فرمانداری گرانادای جدید گرانادای جدید فرمانداری ریودو دل پلاتا ریودو دل پلاتا گستره محدودهشان معافیتهای مالیاتی مرکز بازرگانی لیما کاراکاس بوینس آیرس منتقل ساخته کاهش تولید معادن منسوجات تخریب فزاینده نایب السلطنه پرو تثبیت نمود وقایع جو مناسبی ایجاد ایدههای آزادیجویانه کریولو مردم کریولو اسپانیایی مردم رگه توسعه دادجنگهای استقلال طلبیبحران اقتصادی نفع شورش محلی سال ۱۷۸۰ ۱۷۸۱ شورش ریاست توپاک آمارو دوم زمان حمله ناپلئون روسیه حمله ناپلئونی شبه جزیره ایبری تزلزل قدرت سلطنتی رخ شورش کریولهل هوانوکو بخش پرو هوانوکو سال ۱۸۱۲ شورش کوسکو بخش پرو کوزکو سالهای ۱۸۱۴ ۱۸۱۶ اتفاق افتاد شورشها اصول آزادیخواهی دفاع مینمودند وسیله قانون اساسی ۱۸۱۲ قانون اساسی کادیز سال ۱۸۱۲ تحریم بودنایب السلطنه پرو حمایت قدرت گروه اقلیت حاکم کریولها آخرین دژ قلمرو آمریکای جنوبی تبدیل فرمانداری مبارزات جدی قارهای سیمون بولیوار سایمون بولیوار خوزه دسن مارتین خوزه د سان مارتین پا درآمد جانشین حکام سلطنتی شیلی یک نبرد مهم کوههای آند شدند سال ۱۸۱۹ شبه جزیره پاراکاس پاراکاس برکنار بودند ۲۸ ژوئیه ۱۸۲۱ استقلال پرو لیما بخش پرو لیما اعلام کردند سه سال سیطره اسپانیاییها بهطور کامل نبردهای جونین جونین نبرد آیاکوچو آیاکوچو رفت اولین رئیسجمهور سال ۱۸۲۷ قدرت نرسیددوران جنگ بازسازیدر سال ۱۸۷۹ پرو وارد جنگ پاسیفیک سال ۱۸۸۴ بطول انجامید بولیوی خواستار اتحاد پرو علیه کشور شیلی دولت پرو اعزام یک گروه دیپلماتیک مذاکره دولت شیلی کوشید مذاکره میانجیگری نماید کمیته نتیجه گرفت وقوع جنگ ناگزیر شیلی در۵ آوریل۱۸۷۹ اعلام جنگ نمود یک جنگ تقریبا پنجساله وارد شدن خسارات بخش تاراپاکا ایالات تاکنا آریکا ناحیه آتاکاما خاتمه یافتپس جنگ تلاش فوقالعادهای آغاز بازسازی گرفت ثبات سیاسی تنها اوایل سالهای ۱۹۰۰ دست آمد حزب سیویلستا جنبش سیویلیست رهبری نیکولاس دی پیورلا نیکولاس دی پیورلا رهبری رهبری نظامی مخالف ناشی شکست نظامی فروپاشی اقتصادی انقلابی سال ۱۸۹۵ قدرت رسید شخصیت اصلاح طلب دیکتاتوری نیکولاس دی پیورلا پیورلا مجمع آگوستو بی مجمع آگوستو بی تداوم یافتطی حکومت مجمع آگوستو بی مجمع دورههای سالهای ۱۹۰۸–۱۹۱۲ ۱۹۱۹–۱۹۳۰ اخیر تحت عنوان اونسنیو – یازدهم شناخته ورود پایتختهای کشورهای آمریکایی عمومیت یافت طبقه متوسط برخوردار شدند سیاستها راستای افزایش وابستگی خارجی پایتخت ایجاد مخالفتی انجامید طبقه اقلیت ملاکان پیشروترین بخشهای جامعه پرو تمرکز یافتدر سال۱۹۲۹ پرو شیلی معاهده صلح نهایی امضاء نمودند پیمان آنکن طی تاکنا پرو مسترد میشد پرو همیشه زمام امور ایالات ثروتمند آریکا تارپاکا عهده میگفت حقوق خاصی فعالیتهای بندری آریکا حفظ میشد تصمیماتی وسیله شیلی میتوانست کارهایی مناطق دهدپس بحران جهان گستر سال ۱۹۲۹ شماری حکومتهای کوچک یکدیگر پیروی کردند اتحاد انقلاب خلق آمریکا حزب APRA فرصت یافت طریق فعالیتهای سیاسی اصلاحاتی نظام وجود آورد امر موفقیتآمیز نبود سرکوب ظالمانهای اویل دهه ۱۹۳۰ گرفت دهها هزار طرفدار آپریستا اعدام زندانی شدند زمان یک رشد جمعیتی افزایش شهرنشینی آغاز طی جنگ جهانی دوم پرو اولین کشور آمریکای جنوبی آمریکا متحد اتحاد علیه آلمان ژاپن بودبین دوره زمانی باید قانون اساسی اتحاد انقلاب خلق آمریکایی APRA تأکید قرار یک جنبش ناسیونالیستی خلق گرا ضد امپریالیستی رهبری ویکتور رائول هایا دلاتوره ویکتور رائول هایا دلاتوره سال ۱۹۲۴ حزب کمونیست چهار سال تشکیل رهبری خوزه کارلوس ماریاتگو خوزه سی ماریاتگو بودسیاستهای نوینژنرال مانوئل ای اودریا دولت نظامی استبدادی هدایت میکرد سال ۱۹۵۶–۱۹۴۸ مدت ۸سال طول کشید تملک نابرابر زمین لاتیفوندا حاشیه بندی گسترده طبقات اجتماعی نمونه کوبا اوایل دهه ۱۹۶۰ محرکی پیدایش جناح چپ نظامی پرو فراهم ساخت قیام کوتاه نیروهای نظامی بهانهای کنترل کشور افزایش دهند توان ایدئولوژی دیگری کودتا لازم بوده گردآوری نماینددر همین حال تلاش اصلاح طلبانه اولین دولت فرناندو بلونده تری فرناندو بلونده تری توجه ماهیت ساختاری آسیبشناسی اجتماعی ناکامی همراه فاجعه پرو تداوم بخشید دولت بلنده پروژههای متعددی عهده کرفت جمله بزرگراههای حاشیهای دلاسلوا بزرگراهی چیکلایو ساحل اقیانوس آرام نواحی شمالی قبلا متروک منطقه آمازون آمازوناس منطقه سن مارتین سن مارتین لورتو متصل مینمود بلونده بار اذهان عمومی دلیل بسیار پایتخت کشور بیگانه نزدیک دوش میکشید تصمیمات اقتصادی اش موجب کاهش ارزش واحد پول سول ارز سول نا آرامی عمومی اطراف اکناف کشور لیما شددر سال ۱۹۶۸ ژنرال خوآن ولاسکو آلوارادو خوآن ولاسکو آلوارادو کودتایی هدایت نمود عوض شدن دولت بلونده منتهی تحت عنوان رئیسجمهور دولت انقلابی لحن ناسیونالیستی متمایل چپ خوآن ولاسکو آلواردو ولاسکو طریق اعلان اولین اصلاحات عمده کشاورزی ارضی سوی دولت آشکار گردید هدف جلوگیری بالارفتن ناآرامی اجتماعی ویژه مناطق آند صورت گرفت الگوهای مالکیت زمین عمیقا نابرابر دولت ولاسکو ارتقاء حقوق رعیت اعتبار یافت جمله رسمیت شناختن زبان کوئچوا عنوان زبان ملی مالکیت اشتراکی زمین بسیج اجتماعی خلقگرا سیناموسهمواره امر موجب افزایش درگیری گروههای برجسته کوچک اجتماعی میشد دارای منافع سرمایهای خارجی اعضای اقلیت حاکم محلی بودند فقدان سلامتی ولاسکو شرایط جهانی تغییر برنامهریزی ضعیف یک واکنش ضد نسبت برنامه ناسیونالیستی ولاسکو منجر سال ۱۹۷۵ ژنرال فرانچسکو مورالس برمودز فرانچسکو مورالس برمودز کودتایی ترتیب برکناری ولاسکو رئیسجمهور رژیم ممورالس برمودز اساس بازگشت سیاستهای سرشناس محوری شناخته اندکی ناآرامی اجتماعی جامعه فرونشاند عمدتا مقوله منافع اجتماعی شهروندی ملی جدا استنیروهای مسلح پرو اثر ناتوانی جهت اداره کردن پرو درمانده بودند مجبور شدند درخواست انتخابات نمایند ضمنا عنوان یک پیشینه بازگشت دولت منتخب وقوع حادثه عمیقا دهه تاریخ آتی پرو تأثیر گذاشت اولی یک همایش قانونی تدوین قانون اساسی جدید ملی سال ۱۹۷۹ منجر دومین حادثه سال ۱۹۸۰آغاز گردید مبارزه مسلحانه علیه دولت وسیله یک جناح منشعب حزب کمونیست پرو نام راه درخشان یک مسئله تصادفی نبود مبارزه فقیرترین نواحی کشور آغاز حالی قانون اساسی جدید پایتخت دور تمرکز مسئله محرومیت شرکت انتخابات بحث طولانی تصویب شدبنابراین فرناندو بلونده تری سال ۱۹۸۰ مجددا امید فراوان رئیسجمهور پایان دوره کاری اش سال ۱۹۸۵ پرو مجددا دچار بحرانی گردید طی دودهه گذشته گریبانگیر بدهی خارجی فزاینده مانع فعالیتهای دولتهای آتی پرو گردیدهاست علاوه بلونده پایان دادن فقر رو رشد اکثریت عمدهای جمعیت عاجز بوده قادر نبوده افزایش هنگفت عملیات تجارت مواد مخدر غیرقانونی قاچاق مواد مخدر شورشهای یاغیان جناح راه درخشان Sendero Lumino جنبش انقلابی توپاک آمارو نهضت انقلابی توپاک آمارو MRTA پایان دهدرهبر حزب ARPA پرو آلن گارسیا آلن گارسیا خوشبینی فراوان سال ۱۹۸۵ رئیسجمهور یک آغاز امیدبخش اقتصاد پرو اثر تورم شدید زمینگیر جامعه اقتصاد بینالمللی جدا بوده سکرات چاه یک جنگ خونین داخلی راه درخشان جنبش انقلابی توپاک آمارو نهضت انقلابی توپاک آمارو علیه کشور متحدینش راه انداخته بودند دست پا میزد فضائی هرج مرج هراس عمومی آشفتگی سیاسی پیروزی انتخاباتی آلبرتو فوجی موری سال ۱۹۹۰واقع زمانی رئیس ساختگی یک دانشگاه مجهول تفاوتی اندک یک داستاننویس پروئی شخصیت فرهنگی همچون ماریو بارگاس یوسا شکست میداد گارسیا همچون اسلاف طبق نظر بسیاری مردم پرو قدرت حالی تسلیم میکرد وضعیت کشور زمانی وارد پست بدتر بوداو سال انتخابش وضعیت بنبستهای مداوم پارلمان رئیسجمهور آلبرتو فوجی موری سادگی کنگره تعطیل منظور دامن زدن یک بحران جدید قانونی پرو سال ۱۹۹۲ قانون ۱۹۹۲ همهپرسی برگزار نمود بنا اعتقاد برخی بخشهای اجتماعی پرو جامعه اقتصاد بینالملل توسل ثبات اقتصاد کلان پرو ار سالهای توفانی زمان گارسیا فوجی موری سوی رقبای عنوان یک رژیم مستبد یاری ولادیمیر مونته سینو رهبر سابق سرویس اطلاعاتی پروSIN هماکنون زندان سرمی برد انتقاد قرار گرفتدر پی انتخابات مجدد بحثبرانگیز سوم همراه اشاعه فساد آشفتگی گسترده سیاسی تجاوزات عمده حقوق بشر فوجی موری مجبور انتخابات زود هنگام درخواست نماید حرب کنترل پارلمان پرو دست دادند مجبور مقام ریاست جمهوری پرو استعفاء بدهد هنگام بازگشت اجلاس اپک برونئی فوجی موری مبنای تابعیت ژاپن ژاپنی کشور ژاپن درخواست پناهندگی سیاسی نموددر کشاکش کنارهگیری ناگهانی فوجی موری قدرت والنتین پانیاگوا عنوان رئیسجمهور موقتی مقام انتخاب پی انتخابات داغ جنجالی الساندرو تولدو شکست دادن آلن گارسیا ۲۰۰۶ اکثریت نزدیک دوره ۲۰۰۶–۲۰۰۱ رئیسجمهور شددر سال ۲۰۰۶ آلن گارسیا یکبار شکست دادن اولانتا هومالا نامزد ناسیونالیست عنوان رئیسجمهور انتخاب اولانتا هومالا خاطر شرکت داشتن مبارزه علیه حزب راه درخشان نقش عنوان رهبر جناح مخالفی کنار رفته دفعات متعددی دادگاه مواجه رئیسجمهور سابق آلبرتو فوجی موری فعلا شیلی انتظار صدور احکامی علیه سوی دولت پرو سر میبرد بیبیسی نیوز حالی بهطور همزمان حزب سیاسی اتحاد آینده پرو اتحاد آینده تعداد زیادی اعضای پارلمان انتخابات اخیر گرد آوردهاست رئیسجمهور سابق الساندرو تولدو والنتین پانیاگوا اتحاد حزب معقول پرو – جناح مرکز کنگره حضور دارند'})), (36054, (('history', 11.260035152779135), {'url': 'https://fa.wikipedia.org/wiki?curid=238775', 'title': 'اصطلاح در زبان انگلیسی', 'text': 'اصطلاحها زبان انگلیسی گروههایی واژهها مجموعا متفقا دارای درک معنایی استثنائی ویژه میباشند مفهوم اصطلاحها نمیتوان معنا کردن تکتک لغات تشکیلدهنده حدس زد اصطلاحهای انگلیسی همانند اصطلاحهای زبانها کلمهها عبارتها بیانهایی شکلی رایج گفتگوهای روزمره انگلیسیزبانها میشوند اغلب استعاری بوده زبان تنوع روح میدهند اصطلاحها مربوط بخش استعاری زبان بوده فرهنگ زبان عجین فعلهای عبارتی دید معنایی فهم نحوی یک اصطلاح محسوب میشوند اصطلاحهای انگلیسی لحاظ ساختاری واژه اقسام گوناگون ردهبندی میشوند عبارتاند ترکیب فعل مفعول فعل مسند فعل عبارت قیدی عبارت همراه حرف اضافه عبارت ترکیبی تشبیه واژهای سه واژهای جملهواره کاملاصطلاحها برخی واژهنامهها صورت برجسته پر رنگ واژه نظر کلید واژه قرار میگیرند واژهنامههای سری لانگمن دسته اصلاحهای مترادف اصطلاحهایی میگویند تقریبا هممعنای یکدیگر بوده یک حوزه کاربرد داردبه عبارتی اصطلاحها عبارتهای ویژهای تقریبا وسیله بیشتر افراد یک ملت فرهنگ مشخص شناخته پذیرفته مرسوم هستندمثلا فارسی اصطلاح دست شما درد نکند همه شناخته پذیرش استتاریخچههر اصطلاحی زبان انگلیسی دارای تاریخچه داستانی مثلا ریشه اصطلاح The pen is mightier than the sword معنای قلم شمشیر قدرتمندتر سده ۱۷ میلادی باز میگردد مقطع زمانی روزنامهای وسیله حکومت بریتانیا بسته مردم بیان سخنان نوشتن شبنامه گرایش پیدا میکنند بنابراین اصطلاح هنگام رایج اصطلاح An apple a day keeps the doctor away زمان روم باستان میگردد مردم روم زمان باور بودند سیب دارای قدرت جادویی خاصیت ویژهای درمان بیماریها داردتعریف مفهوماصطلاحها عبارتها مجموعه واژهها توصیفهایی معانی ترجمهشان کلمههای تشکیل دهنده حاصل نمیگردد عبارت اصطلاحها گروههایی واژهها مجموعا متفقا دارای درک معنایی استثنائی ویژه میباشند مفهوم نمیتوان معنا کردن تک تک لغات تشکیل دهنده حدس زداصطلاحها دارای مفهوم اختصاصی بوده پیام متفاوت پیام استنباط کنار قرار گرفتن معنای تک تک کلمات سازنده جمله عبارتی معنی اصطلاحها مختص بوده معنی مستقیم عادی کلمات تشکیل دهنده بسیار متفاوت استزبانآموزان کسانی زبان مادریشان انگلیسی نیست ممکن مفهوم مقصود اصطلاحی درک نکنند زیرا فرهنگ کشور کاربرد اجتماعی اصطلاح بیگانه تعریفی اصطلاحهای انگلیسی کلمهها عبارتها بیانهای شکلی رایج گفتگوهای روزمره انگلیسی زبانها میشوند اغلب استعاری زبان تنوع روح میدهنداصطلاحها همانند استعارهها تشبیهها متلها مفهومی تمثیلی درکی استعاری اثری خاص توصیفی خیالمند دارند معنای همیشه شفاف هویدا نیست گاهی مقصودی مبهم پیچیده دارند اصطلاحها مربوط بخش استعاری زبان فرهنگ زبان عجین فعلهای عبارتی دید معنایی فهم نحوی یک اصطلاح محسوب میشوندبهرهگیری اصطلاحها طریقی صحیح جایی مناسب میزان تسلط چیرگی زبانآموزان سطح پیشرفته انگلیسی زبانان مرتبط عنوان مثال اسم اصطلاح chequered career اینجا career فعل اصطلاح catch someones interest اینجا catch میتواند قابل تعویض اسمها فعلهای مثلا گفت chequered history seize someones imagination نوعی توانایی انعطاف لغوی بهرهگیری واژگانی سطوح دانشجویان دورههای لیسانس بالاتر بریتانیا دیده اصطلاحها بسیاری زبان آموزان دشواریهای ساختاری معنایی دارند بهطوریکه کار بردن خودداری میکنند مثلا اصطلاحهای fill the bill spill the beans همانطور خصوصیت اصطلاحها اشاره معنایی مصطلح دارند باید درک فهم ترجمه ابتدایی تک تک واژگان تشکیل دهنده حذر بهترین رویه درک فهم یک اصطلاح انگلیسی اصطلاح متن بررسی کنیم عنوان مثال وقتی شخصی میگویددرک کلی ترجمه مفهومی متن نکته دلالت دارد driving round the bend اصطلاحی خلاف معنای مستقیم ربطی پیچیدن دور زدن خودرو پیچ یک جاده ندارد متن خصوص ناکارایی یک بازکننده قوطی کنسرو صحبت پیامد ناخوشایندی کاربر ابزار گذاشته استدر جدول تفاوت معنایی برگردان اصطلاحها ستون ۳ برگردان حقیقی اصلی واژههای تشکیل دهنده ستون ۴ توجه کنیداصطلاحها معمولا مکالمههای روزمره گفتگوهای غیررسمی کار میروند عنوان مثال اصطلاح to have got a screw loose نمیتوان شرایط رسمی کار برد اصطلاح dark horse افراد تودار مرموز اطلاق کاربردی غیررسمی دارددر تمام زبانها جملات عباراتی صورت تحت لفظی کلمه کلمه مفهوم نمیباشند حتی اگر تمام لغات جمله دستور زبان ساختاری بتوان شناخت معنا مفهوم عبارت نظر ممکن هنوز گیجکننده بسیاری مثلها عبارتهای غیررسمی نقل قولهای متداول زمره توصیف میباشند جملات عبارات اصطلاح میگویندتکه کلامها کنایههای خیابانی کوچه بازاری دارای معنایی ثانوی نوعی اصطلاح بهشمار میآیند یه عنوان نمونه اصطلاح happy dust واژه happy شاد خوشحال dust گرد غبار تشکیل معنای متداول کوکائین اطلاق واژه tomato گوجه فرنگی دختران زیبا جذاب کاربرد دارداستفاده اصطلاحها نوشته زبان آموزان متن آنان گیراتر طبیعیتر بومیتر کار بردن اصطلاحها نامهها متون سادگی نیست باید اصولی گیرد باید نکته مد نظر قرار اصطلاحی نباید متنی کار برد واقع اکثر اصطلاحها گفتگوها محیطهای غیررسمی کاربرد دارندگاهی معنای اصطلاحها آسانی قابل حدس گاهی معنای نمیتوان سادگی حدس زد تشخیص مفهوم ترجمه کلمات تشکیل دهنده ممکن نیست جملات ۱ ۲ معنا قابل حدس زدن معنای نمونههای ۳ ۴ نمیتوان سادگی حدس زداصطلاحها نوعی عبارات ثابت بدون تغییر عمدتا توضیحات بیانهای شخصی یک موقعیت خاص ایراد میگردند اصطلاحها برخی اوقات کالبدی فکاهی طنز بعضی موارد کاربردی کنایهدار طعنهآمیز دارند اصطلاحها غیررسمی محاورهای ادبیات عامیانه کار میبرند رو زبان آموزان باید گفتگوها مکاتبات رسمی بپرهیزند وجود اصطلاحات اغلب کسانی زبان مادریشان انگلیسی بوده زبان روان رسا صحبت میکنند فصیح راحت بودن گفتگوها زبان انگلیسی ویژه محیطهای رسمی تشریفاتی باید بهکارگیری اصطلاحها اجتناب کرداصطلاحها مکاتبات غیررسمی خودمانی کاربرد دارند یادگیری زبان انگلیسی مهم دلپذیر نامه مقابل یک نامه غیررسمی چند اصطلاح dropdead gorgeous معنای خیلی خوشتیپto have a thing about something معنای چیزی خیلی دوست داشتن to pop the question معنای خواستگاری کردن استبا وجود اصطلاحها شرایط رسمی تجاری توصیه نمیگردد ولی برخی محیطهای کاری بازرگانی میشوندروزنامهنگاران منظور جالبتر پرنشاطتر کردن تیترهای خبری مقالهها اصطلاحها زیاد بهره میبرندانواع اصطلاحاصطلاحهای انگلیسی لحاظ ساختاری واژه اقسام گوناگون رده بندی میشوند عبارتند ترکیب فعل مفعول فعل مسند فعل عبارت قیدی عبارت همراه حرف اضافه عبارت ترکیبی تشبیه واژهای سه واژهای جملهواره کاملدر واژه نامه اصطلاحهای انگلیسی انتشارات دانشگاه آکسفورد Oxford Dictionary of English Idioms تقسیمبندی مفصلتری آمدهاست کتاب اصطلاحها رده بزرگ اصطلاحهای عبارتگونه Phrase idioms اصطلاحهای جملهواره Clause idioms تقسیمبندی گروهبندی جزئیتر اصطلاحهای عبارتگونه ردهبندی تقسیم میشوند اصطلاحهای جملهواره رده بندی تقسیم میشوندجستجو واژهنامههامفهوم اصطلاحها چیزی جدا معنای تک تک پرسشی اینجا مطرح چگونه معنی یک اصطلاح یک واژهنامه پیدا واژهنامههای کامپیوتری برخط دلیل وجود موتور جستجو تایپ یک واژه اصطلاح همه اصطلاح تعریف رسید واژهنامههای سنتی چاپی چه باید اصطلاحها معمولا چند واژه تشکیل شدهاند یافتن معنی اصطلاح واژهنامهها چه باید کدام کلمه اصطلاح مد نظر قرار پاسخ سؤال انتهای فرهنگهای لغت فهرستی کلمهها وجود دارد صورت الفبایی چیده شدهاند کلمات کلمات کلیدی میگویند اصطلاح یک چند واژه تشکیل دهنده کلمات کلیدی ربط داده مشاهده فهرست راحتی اصطلاح یافتاصطلاحها برخی لغتنامهها صورت برجسته پر رنگ واژه نظر کلید واژه قرار میگیرند واژهنامههای سری لانگمن دسته لغتنامههای آکسفورد اصطلاحها اندازه قلم ریزتر کلید واژه گاهی رنگی جای میگیرنددر دیکشنری برخط آکسفورد اصطلاحها بخشی مجزا کلید واژه آورده شدهانددر واژهنامه پیشرفته آکسفورد علامت مخففIdiom کنار ریز کردن اصطلاحها میشوددر فرهنگ معاصر انگلیسی فارسی اصطلاحها صورت ریزتر کلید واژه قرار گرفتهانداصطلاحهای مترادفاصلاحهای مترادف اصطلاحهایی میگویند تقریبا هممعنای یکدیگر یک حوزه کاربرد دارد عنوان نمونه زبان فارسی سر کسی کلاه گذاشتن سر کسی شیره مالیدن کلاه سر کسی برداشتن همه معنای کسی فریب دادن جدول مثالی زبان انگلیسی ارائه میدهد مفهوم اصطلاحهای جدول معنای شرایط سخت بروز مشکلات استیا مثال بیشتر اصطلاحهای جدول همگی بیانگر توصیفکننده یک آدم دیوانه گیج روانی عجیب احمق نادان'})), (675581, (('history', 11.260035152779135), {'url': 'https://fa.wikipedia.org/wiki?curid=4963737', 'title': 'سیانیداسیون طلا', 'text': 'فرایند سیانید شدن طلا فرایند سیانید فرایند مکآرتورفورست نوعی تکنیک هیدرومتالورژی استخراج طلا سنگ معدن خلوص پایین روش تبدیل طلا کمپلکس شیمیایی طلا آب محلول صورت میپذیرد فرایند رایجترین روش استخراج طلا روش لیچینگ استخراج مایعجامد میشودتولید معرفهای شیمیایی فرایند بازیابی طلا مس نقره مواد معدنی ۱۳ درصد استفادههای جهانی سیانید شدن تشکیل میدهد ۸۷ درصد باقیمانده مصرف سیانید فرایندهای صنعتی مانند صنعت پلاستیک مواد چسبنده آفتکشها علت ذات سمی سیانید فرایند ممکن بسیاری کشورها بحثبرانگیز تعداد کمی کشورها ممنوع استتاریخچهدر سال ۱۷۸۳ کارل ویلهلم شیله کشف طلا محلولهای آبی سیانید حل توجه تحقیقات مایکل فارادی السنر بگراتیون مشخص توجه استکیومتری ماده حل شونده اتم طلا یون سیانید نیاز داردفرایند صنعتیگسترش استخراج طلا دهه ۸۰ میلادی آفریفای جنونی شروع کاهش یافتن مواد تهنشین پیدا حاوی مقادیر زیادی پیریت روش تکنیکهای شیمیایی موجود زمان تونایی استخراج طلا ماده شیمیایی وجود نداشت جان استوارت مکآرتور همراهی دکتر رابرت دکتر ویلیام فورست کمپانی چارلز تنانت اسکاتلند کار میکردند روشی استخراج طلا سنگ معدن گسترش دادند روشهای متعددی سال تهنشین کردن سنگ معدن خرد محلول سیانید بدست آوردن طلا خلوص ۹۶ درصد ثبت فرایند ابتدا سال ۱۸۹۰ آفریقای جنوبی قرار گرفت علیرغم ناقصیها فرایند باعث ایجاد موجی سرمایهگذاریها هنگام بازگشایی معادن طلا شددر سال ۱۸۹۱ داروسازی نام گیلبرت پیتون فرایند معدن یوتا بهبود عنوان اولین مرکز صنعتی آمریکا موفق استخراج طلا روش سیانید شدن مطرح سال ۱۸۹۶ مشخص اکسیژن رفتن فرایند الزامی مکآرتور قبلا شک کرده مشخص هیدروژن پراکسید یک فاز میانه فرایند تشکیل میدهد مشکل تشریح سال ۱۹۰۰ متالورژیست آمریکایی چارلز واشینگتن مریل مهندس همراه توماس بنت کرو فرایند تصفیه leach سیانید شدن مکش خاک بهبود دادند فرایند عنوان فرایند مریلکرو شناخته میشودواکنشهای شیمیاییواکنش شیمیایی حل شدن طلا معادله السنر فرمول تبعیت میکند4 Aus 8 NaCNaq O2g 2H2Ol→ 4 NaAuCN2aq 4 NaOHaqاین واکنش نوع کاهش طی فرایند مرحله ای اکسیژن حذف میشودکاربرد استفادهسنگ معدن نظر فرایند آسیاب ماشینی جدا بسنه نوع سنگ معدن ممکن خالص سازی بیشتر فرایند شناورسازی کف کانهآرایی ادامه فراورده خروجی فرایند آب اضافه دوغاب خمیری ایجاد دوغاب سنگ معدن میتواند محلول سدیم سیانید پتاسیم سیانید ترکیب هرچند بیشتر فرایندها کلسیم سیانید مقرون صرفه تر استبرای جلوگیری تولید شدن ماده سمی هیدروژن سیانید طی فرایند محلول سدیم هیدروکسید کلسیم هیدروکسید اضافه میزان اسیدی بودن حین فرایند کنترل شودتأثیر اکسیژن حل شدهاکسیژن واکنشگرهای نابی طی فرایند سیانید شدن مصرف کمبود اکسیژن حل سرعت فرایند تصفیه طریق شستشو leaching کاهش میدهد هوا گاز اکسیژن خالص میتوانند ماده خمیری ایجاد طی فرایند اضافه شوند غلضت اکسیژن حل حداکثر برسد فرانید هدایت کنندهها فشار اکسیژن مجاورت محلول افزایش پیدا همین اساس سطح اشباع غلظت اکسیژن حالت بیشتر مقدار فشار طبیعی اتمسفر اکسیژن هیدروژن پرواکسید نمونه خمیری شکل اضافه کردهوادهی شستشوی سنگ معدندر بعضی سنگها خصوص آنهایی صورت جزئی سولفید شدهاند هوادهی سنگ معدن آب دارای pH بالا عنصرهایی مانند آهن گوگرد واکنش پذیری کمتری نسبت سیانید تحویل دهد فرایند سیانید شدن طلا بازدهی بالاتری خصوص اکسید شدن آهن تبدیل شدن آهن III اکسید تهنشینی متعاقب حالت آهن هیدروکسید مقدار دست رفته سیانید ترکیبات آهن سیانید حداقل میرساند اکسید شدن ترکیبات گوگرد دار تلدیل شدن یون سولفات ترکیب شدن یون سیانید یون تیوسیانات عنوان فراورده جانبی جلوگیری میکندبازیابی طلا محلولهای سیانیدبا نظر گرفتن جنبه اقتصادی روشهای رایج بازیابی طلای قابل حل محلول سه روش محدود الکترو وینینگ فرایند مریلکرو روش CIP carbon in pulpفرایند تصفیه سیانیدسیانیدی طی فرایند سیستم باقی میماند صورت کلی خطرناک بنابراین بعضی فرایندها دور ریز حاوی سیانید سمزدایی میکنند مرحله غلضت ترکیبات سیانید کاهش میدهد فرایند INCO فرایند اسید کارو سیانید موجود اکسید سیانات تبدیل اندازه سیانید سمی نیست طی واکنشی میتواند کربنات آمونیاک تبدیل شودفرایند INCO میتواند بهطور کلی غلظت سیانید ۵۰ میلیگرم لیتر برساند حالی اسید کارو غلظت سیانید ۱۰ ۵۰ میلیگرم لیتر میرساند رسیدن غلظت پایینتر سیانید جریانهای محلول دست یافتنی تر حالت دوغاب اسید کارو H2SO5 سیانید سیانات تبدیل سپس سیانات طی فرایند هیدرولیز آمونیاک یون کربنات تبدیل فراین اسید کارو قادر استاندارد لازم مقدار یون سیانید ۵۰ میلیگرم لیتر هنگام تخیله جریان فرایند برسدهیدروژن پروکسید فرایند کلری شدن میتوانند اکسید شدن سیانید شوند رویکردها کمتر رایج انددر حال حاضر بیش ۹۰ معدن سراسر دنیا روش جریان سم زدایی INCO تبدیل سیانید سیانات قبل تخلیه پسماند حوضچهها میکنند بهطور کلی طی فرایند هوای فشرده داخل مخازن پسماند دمیده سدیم متابیسولفیت اضافه باعث آزاد شدن گاز SO2 آهک اضافه pH فرایند ۸٫۵ نگه داشته سولفات مس عنوان کاتالیست صورت وجود مس سنگ معدن استخراج اضافه فرایند مقدار یون سیانید ۱۰ میلیگرم لیتر طبق استاندارد میرساند سیانید باقی مانده حوضچه پسماند طی فرایند هیدرولیز آمونیوم تخریب میشوند هرچند تحقیقات نشان داده سیانید باقی مانده باعث آزاد شدن مداوم فلزات سمی مانند جیوه آبهای سطحی زمینی میشودشرایط زیستمحیطیاگرچه فرایند سیانید شدن طلا ۹۰ درصد مصارف تولید طلا دلیل سمی بودن سیانید ممنوع اگرچه محلولهای آبی سیانید نور خورشید تدریج تخریب میشوند سیانات تیوسیانات سالها برابر تخریب شدن مقاومت میکنندجایگزینهای سیانیداگرچه سیانید ارزان مؤثر قابل تجزیه زیستی شدت سمی مشکل ما سمت سوق دادهاست مواد کمتر سمی فرایند کنیم استخراج کنندهها مانند تیوسولفات تیواوره ید آمونیاک جیوه مایع آلفاسیکلودکسترین بررسی قرار گرفتهاند چالشهایی مانند قیمت موااد لازم فرایند بازدهی فرایند بازیابی طلا وجود دارد تیو اوره سنگ معدنهای حاوی استیبنیت کارگیری شدهاستقانون گذاریایالتهای مونتانا ویسکونسین آمریکا جمهوری چک مجارستان کشورها فرایند سیانید شدن معدنکاری ممنوع کردند هرچند کمیسیون اتحادیه اروپا درخواست ممنوع سازی رد اضافه قوانین حاکم استانداردهای لازم محافظت طبیعت حفظ محیط زیست تضمین میکنند تلاشهای فراوان متوقف کردن فرایند سیانیداسیون رومانی بی ثمر بوده معترضینی کشور خواهان پایان فرایند طبق استانداردهای تعریف جهانی هیچ مرکز صنعتی معدنی ای مجاز خروج پسماند غلظت سیانید بیشتر ۱۰ میلیگرم لیتر نیست معادنی دارای مجوز قبلی بودند باید سال ۲۰۱۸ استاندارد برسندمنابع۱Rubo Andreas Kellens Raf Reddy Jay Steier Norbert Hasenpusch Wolfgang 2006 Alkali Metal Cyanides2Gray J A McLachlen J ژوئن ۱۹۳۳ A history of the introduction of the MacArthurForrest cyanide process to the Witwatersrand goldfields Journal of the Southern African Institute of Mining and Metallurgy 33 12 375–397۳ Adams Mike D 20051202 Advances in Gold Ore Processing Elsevier pp XXXVII–XLII4 Greenwood N N amp Earnshaw A 1997 Chemistry of the Elements 2nd Edn OxfordButterworthHeinemann5Maprani Antu C Al Tom A MacQuarrie Kerry T Dalziel John A Shaw Sean A Yeats Phillip A 2005 Determination of Mercury Evasion in a Contaminated Headwater Stream Environmental Science amp Technology6Al Tom A Leybourne Matthew I Maprani Antu C MacQuarrie Kerry T Dalziel John A Fox Don Yeats Phillip A 2006 Effects of acidsulfate weathering and cyanidecontaining gold tailings on the transport and fate of mercury and other metals in Gossan Creek Murray Brook mine New Brunswick Canada Applied Geochemistry'})), (573385, (('history', 11.260035152779135), {'url': 'https://fa.wikipedia.org/wiki?curid=4346645', 'title': 'درونکاشت منیزیمی', 'text': 'منیزیم عنوان یک ماده زیست سازگار زیست جذب پذیر مطرح برخی خصوصیات فیزیکی جذاب منیزیم شامل استحکام ویژه بالا نزدیک بودن مدول الاستیک استخوان بدن انسان جهت مواد ایمپلنت عادی متمایز خواص اهمیت زیادی برخوردار چون استحکام مکانیکی بالا مقدار ماده نیاز مقاومت ایمپلنت مقابل بار اعمالی کاهش میدهد مدول الاستیک نزدیک باعث اثرات ناشی تحمل نکردن بار بافت استخوان حداقل برسدتاریخچهبرای چندین دهه توسعه مواد ایمپلنت زیستسازگار ایمپلنتهایی پایدار کمترین خوردگی بدن دارند متمرکز پیدایش مواد زیست جذب شونده باعث تغییر رویکرد فلزات پایه منیزیم اولین بار ابتدای قرن ۲۰ میلادی کاربردهای ارتوپدی قرار گرفت لامبوت اولین بار گزارشی کار گذاشتن صفحه ایمپلنت همراه میخهای فولادی طلا روکش داده درمان شکستگی استخوان پا گزارش وجود خوردگی درون جانداری in vivo ایمپلنت بسیار سریع فقط ۸ روز تخریب موقع چندین تلاش افزایش مقاومت خوردگی ایمپلنت منیزیم صورت گرفت مطالعات باعث قابلیتهای منیزیم مانند تحریک رشد استخوان خاصیت درمانی روشن شودمشکلات منیزیم عنوان ایمپلنتخوردگی منیزیم باعث تولید محصولاتی مضراست مواد ادرار دفع میشوند موضوعی باعث محدود شدن منیزیم مقاومت پایین مقابل خوردگی نرخ خوردگی بالای باعث محصولات حاصل خوردگی سرعت تشکیل شوند نرخ بالای خوردگی تحت شرایط فیزیولوژیکی کارکرد مکانیکی ایمپلنت قبل رشد درمان استخوان تحت تأثیر قرار میدهد نرخ خوردگی بالا باعث تولید سریع گاز هیدروژن حبابهای گازی حبابها میتوانند اطراف ایمپلنت جمع شوند مانع ترمیم استخوان شوند گاز هیدروژن موضعی میتواند PHرا اطراف ایمپلنت افزایش دهدبرای مطلوب منیزیم عنوان ایمپلنت باید زمان تخریب تحت کنترل قرار نیازهای استخوان جمله رشد ترمیم مطابقت داشته سطوح اینگونه ایمپلنتها مواد مختلف پلیمرها روکش داده چسبندگی سطح افزایش پیدا هنگامی ایمپلنت سلولهای استخوان بچسبد سلولها یک ماده پروتئینی ایمپلنت وجود میآورند موضوع باعث کارکرد ادامه زندگی بافت استخوانی علت دلایل گفته خوردگی منیزیم باید کاملا کنترل تمرکز منیزیم یک ناحیه شدت کاهش پیدا نکند چون غیر صورت رشد ترمیم بافت استخوان دچار مشکل بنابراین منیزیم ساخت ایمپلنتها دانش خوردگی کنترل نرخ اهمیت اساسی داردکنترل خوردگی طراحی آلیاژبا وجود اینکه منیزیم خواص زیست سازگاری خوبی دارد نرخ خوردگی بالای تحت وضعیت PH فیزیولوژیکی باعث کاهش زیست سازگاری ایمپلنت ساخته نزدیکی سطوح ایمپلنت تحت شرایط اتمسفری عادی منیزیم آب واکنش میدهد یک فیلم محافظ منیزیم اکسید تشکیل وجود اینکه فیلم خوردگی منیزیم محیط آبی کاهش میدهد منیزیم یونهای کلراین حاضر شرایط فیزیولوژیکی واکنش میدهد گاز هیدروژن تولید کندتلاشهایی کنترل نرخ خوردگی منیزیم صورت گرفته شامل خالص سازی آلیاژسازی آنودیزه کردن روکش دهی سطح مطالعات نشان دادهاست خالص سازی منیزیم بهطور قابل توجهی نرخ خوردگی کاهش میدهد توجه مقاوت تغییر شکل کم yield کاربرد موارد ارتوپدی مکانهایی تحمل بار احتیاج کم استعناصر آلیاژیعناصر آلیاژی میتوانند افزایش استحکام منیزیم خالص کار روند عناصر باید دقت انتخاب شوند زیست سازگاری منیزیم تحت شعاع قرار نگیرد عناصری مانند Fe Ni Cu Co افزایش نرخ خوردگی منیزیم آثار زیان باری خواص خوردگی دارند تأثیر عناصری مانند کادمیم Mg Sn Zn Ca مقدار آلیاژ بستگی داردعنصر آلیاژی بیشترین درآلیاژهای پایه منیزیم دارد آلومینیوم استحکام مقاومت خوردگی منیزیم افزایش میدهد وجود زیست سازگاری ضعیف باعث تخلیه شدن بافت فسفات جذب فسفات طریق دستگاه گوارش کاهش میدهدزیرکنیوم عنوان ماده عنصر ریزدانه کننده ساختار آلیاژهای پایه منیزیم اضافه باعث سرطان ریه عناصر خاکی نادر مانند سریمCe لوتتیم Lu پرازئودیمیم Pr بدن انسان سمی هستندبنابراین انتخاب مناسب عناصر آلیاژی طراحی ایمپلنتها زیست سازگار اهمیت حیاتی برخوردار کاربرد عناصر آلیاژی ایمپلنتهای زیست سازگار بدن ضروری میباشند احتمال سمی بودن کاهش میدهد امکان ساخت طراحی ایمپلنتهای زیست سازگار زیست جذب شونده فراهم میکندکلسیم Ca رویZn عنصر ضروری بدن انسان باعث استحکام مکانیکی آلیاژهای پایه منیزیم میشوند کلسیم باعث افزایش مقاومت خوردگی آلیاژهای پایه منیزیم حالی افزودن باعث افزایش استحکام نوع آلیاژها طریق رسوب سختی میشودکاربردهای کنونی آلیاژهای منیزیم عنوان مواد زیست جذب شوندهکاربردهای قلبی عروقیتصلب شراین تجمع چربی الاستین Elastin کلاژن Collagen نواحی شریان تحت تنش برشی زیادی قرار دارد تعریف موضوع باعث باریک شدن مجرای خونی تنگی نفس درمان تصلب شراین استنت استنتها فلزات ساخته میشوند چون خواص مکانیکی موادی مانند پلیمرها بهتر آهنFe سوخت ساز بدن Metabolism ضروری عنصر میتواند سمی نرخ خوردگی آلیاژهای پایه آهنی استنتهای زیست جذب شونده AMS بسیار پایین ماده ای استنت لازم باید سرعت خوردگی بالاتری داشته بنابراین آلیاژهای پایه منیزیم عنوان ماده مناسب استنتهای زیست جذب شونده معرفی شدند منیزیم سوخت ساز بدن ضروری مقدار اضافی سرعت بدن دفع خاصیت سمی ندارداولین منیزیم عنوان استنت سال ۲۰۰۵ میلادی گزارش شدهاستکاربردهای ارتوپدیبرای کاربردهای ارتوپدی فولاد تیتانیوم آلیاژهای کار میروند خواص مکانیکی معمولا خواص مکانیکی استخوان سازگار نمیباشد مسئله ممکن باعث پارگی ایمپلنت دلیل تجمع نابجایی Dislocation بنابراین انتخاب مناسب میتواند آلیاژهای پایه منیزیم زیست جذب شونده واقع اینگونه آلیاژها دارای خواص مکانیکی مشابه استخوان میباشندآلیاژ منیزیم MgYREZr سازگاری خوبی بافت استخوان دارد نتیجه آلیاژ عنوان جایگزین مناسبی پیچهای تیتانیومی معرفی شدمنابعReprint of The history of biodegradable magnesium implants A review q Frank WittAssessing the corrosion of biodegradable magnesium implants A critical review of current methodologies and their limitations NT Kirkland ab N Birbilis b MP StaigerIn vivo corrosion of four magnesium alloys and the associated bone response F Wittea V Kaeseb H Haferkampb E Switzerc A Meyer Lindenbergc CJ Wirtha H WindhagenaCorrosion mechanism applicable to biodegradable magnesium implants Andrej Atrens∗ Ming Liu Nor Ishida Zainal Abidinپیوند بیرونhttpwwwsharrettsplatingcomblogmagnesiumthefutureofmedicalimplantshttpswwwmeddeviceonlinecomdocisbiodegradablemagnesiumthefutureoforthopedicimplants0001httpswwwyoutubecomwatchvVXBxR34YmSQhttpthctumsacirs721074استنت20چیست20'})), (449670, (('history', 11.260035152779135), {'url': 'https://fa.wikipedia.org/wiki?curid=3505126', 'title': 'شناورسازی کف', 'text': 'شناورسازی کف فلوتاسیون فرآیندی جداسازی مواد آبگریز آب دوست فرایند صنایع فرآوری مواد معدنی بازیافت کاغذ صنایع تصفیه فاضلاب نظر تاریخی فرایند اولین بار صنعت معدن جایی فناوریهای قدرتمند قرن بیستم عنوان مهمترین عملیات بازیابی ارتقاء سنگ معدن سولفید قرار میگیرد توسعه شناورسازی کف باعث بهبود بازیابی مواد معدنی باارزش مانند کانیهای مس سرب کنار استخراج مکانیزه امکان بازیابی اقتصادی فلزات ارزش سنگ معدنی عیار بسیار پایینتر گذشته فراهم شدهاستتاریخچهتوضیحاتی فرایند شناورسازی ادبیات یونان باستان فارسی یافت نشان قدمت دارد اواخر قرن نوزدهم مبانی فرایند طریق یک مرحله تکاملی آهسته کشف طول دهه اول قرن بیستم بررسی سریعتر روغنهاو کفها کاربردهای ثابت محل کار بهویژه Broken Hill استرالیا منجر نوآوری معروف شناورسازی کف ارمغان آورد اوایل قرن بیستم شناورسازی کف فرآوری مواد معدنی متحول کرددر ابتدا مواد شیمیایی طبیعی مانند اسیدهای چرب مبحث شیمی ویژه بیوشیمی اسید چرب یک اسید کربوکسیلیک دارای زنجیره بلند خطی آلیفاتیک زنجیره ممکن جنس چربی اشباع چربی اشباع نشده اسید چرب میتواند کوتاهی اسید بوتیریک ۴ کربن حالی اسیدهای چربی چربیها روغنهای طبیعی ساخته میشوند حداقل دارای ۸ کربن میباشند مثل اسید کاپریلیک روغنها عنوان معرفهای شناورسازی هارمونی قرار گرفتندقرن ۱۹ویلیام هاینز انگلیسی سال ۱۸۶۰ فرآیندی جداسازی کانیهای سولفید گنگ نفت ثبت رساند نویسندگان بعدی اختراع هاینز عنوان اولین اختراع شناورسازی نفت اشاره کردند اگرچه هیچ مدرکی مبنی آزمایش میدانی تجاری وجود ندارد سال ۱۸۷۷ برادران بسل آدولف آگوست فرایند شناورسازی روغن کف استخراج گرافیت معرفی کردند برخی ریشه شناورسازی کف تلقی حال فرایند بسل کشف گرافیت عیار بالا سریلانکا نام رسمی جمهوری دموکراتیک سوسیالیستی سریلانکا جزیرهای واقع جنوب آسیا اقیانوس هند جنوب کشور هند نام قدیمی سیلان فارسی قدیم سراندیب سراندیب پایتخت سیاسی سری جایاواردنپورا کوته پایتخت تجاری شهر کلمبو غیراقتصادی حد زیادی فراموش ۲۴ آگوست ۱۸۸۶ کری اورسون حق اختراعی فرایند دریافت نفت ها نیاز یک اسید نمک گام مهمی تکامل تاریخچه فرایند سال ۱۸۹۰ آزمایشهای فرایند اورسون جورج تاون سیلور کلیف کلرادو بیکر اورگان مرگ شوهرش قبل تکمیل یک فرایند تجاری موفق کار رها بعدها طول اوج اختلافات حقوقی سر اعتبار اختراعات مختلف طول دهه ۱۹۱۰ اورسون اغلب عنوان اختراع شناور اولیه معرفی معنی روند دوباره شرکت کنندگان بعدی قابل ثبت نبود بسیاری سردرگمیها اخیرا مورخ دان بانیاک روشن شدهاستاولین فرایند شناورسازی تجاریاولین فرایند شناورسازی تجاری موفق سولفیدهای معدنی فرانک المور همراه برادرش استنلی توسعه کار میکرد اختراع سال ۱۸۹۷ برادران المور اولین فرایند شناورسازی تجاری اندازه صنعتی استخراج مواد معدنی معدن گلاس دیر نصب کردند فرایند شناورسازی کف نبود بلکه روغن آگلومره کردن ساخت گلولههای سولفیدهای پودر شناور کردن سطح میشد سال ۱۸۹۸ اختراع ثبت ۲۵ آوریل ۱۹۰۰ عملیات فرایند معاملات مؤسسه معدن متالورژی انگلستان شرح داده ۲۳ ژوئن ۱۹۰۰ نظر مجله مهندسی معدن شهر نیویورک تجدید چاپ زمان اهمیت حبابهای هوا کمک روغن دور کردن ذرات معدنی درک کرده بودندباترز متخصص فرایند سیانید یک کارخانه فرایند المور زیرزمین ساختمان دولتی شهر سالت لیک سیتی ساخت فرایند نفت سنگ معدن طلا سراسر منطقه آزمایش باطلههای کارخانه طلا منطقه تینتیک آزمایش دلیل شهرت باترز خبر شکست تلاش ناموفق معدن طلا میلاد فرایند Elmore آمریکای شمالی نادیده گرفته شدفرایند شناورسازی دیگری بهطور مستقل اوایل دهه ۱۹۰۰ استرالیا چارلز وینسنت پاتر تقریبا همان زمان گیوم دانیل دلپرات اختراع فرایند نفت نمیکرد بلکه شناورسازی تولید گازی وارد کردن اسید خمیر تولید میشد متکی سال ۱۹۰۲ فرومنت شناورسازی نفت گاز اصلاح فرایند پاتردلپرات ترکیب طول دهه اول قرن بیستم بروکن هیل مرکز نوآوری تبدیل منجر تکمیل فرایند شناورسازی کف بسیاری فنآوران آنجا یکدیگر وام گرفتند موفقیتهای اولیه بنا نهادندفرایند دیگری سال ۱۹۰۲ آرتور سی کاترمول ایجاد خمیر مقدار کمی روغن امولسیون امولسیون فرانسوی Émulsion پیشنهاد فرهنگستان زبان ادب فارسی نامیزه نوعی کلوئید مایع مایع قطرههای ریز یک مایع مانند روغن مایعی مانند آب بیآنکه یکدیگر درآمیزند پراکندهاست یک امولسیون مایع امتزاج ناپذیر معمولا روغن آب تشکیل صورت قطرات ریز دیگری پراکنده معرض زدن شدید قرار سپس آرامی زد مواد معدنی هدف منعقد گرههایی تبدیل گرانش خمیر جدا میشدند فرایند کارخانه بروکن هیل سال موفقیتآمیز نکته قابل توجه فرایند شناورسازی کف روغن کمتر ۱ یک مرحله زدن حبابهای کوچکی ایجاد میکرد سطح بیشتری جذب فلز شناور شدن صورت کف سطح فراهم میکردقرن بیستمتحولات ایالات متحده چندان چشمگیر نبود شکستهای باترز شکستهای سال ۱۹۰۴ فرایند استنلی مک کویستن اسکاتلندی روشی مبتنی کشش سطحی موفقیت کمی نوادا آیداهو توسعه یافت دنبال صورت وجود اسلایم کار نمیتواند کارساز وود دنور فرایند شناورسازی امتداد همین خطوط موفقیتهایی سنگ معدن مولیبدن سال ۱۹۰۷ توسعه داده سال ۱۹۱۱ ثبت اختراع حال بیشتر موارد اینها تلاشهای منفرد بدون هیاهو بوددر سال ۱۹۱۱ جیمز ام هاید کارمند سابق Minerals Separation فرایند جداسازی مواد معدنی اصلاح یک کارخانه آزمایشی Butte and Superior Mill بیسن مونتانا نصب اولین نصب قبیل ایالات متحده سال ۱۹۱۲ کارخانه Butte amp Superior Butte Montana طراحی اولین کارخانه بزرگ شناورسازی آمریکا Minerals Separation دفتری سانفرانسیسکو راه اندازی کرده هاید دلیل تخلف شرکت Butte amp Superior شکایت پرونده نهایت شرکت دادگاه عالی ایالات متحده برنده دانیل کوان جکلینگ شرکای Butte amp Superior کنترل میکردند حق اختراع Minerals Separation رد کردند نبردهای قانونی بعدی بیش یک دهه طول انجامید تأمین مالی کردند نتایج ناگوار اختلاف اختلافات حرفه ای میان جامعه مهندسی معدن یک نسل بوددر سال ۱۹۱۳ Minerals Separation هزینه یک کارخانه آزمایشی شرکت Inspiration Copper مس الهام بخش میامی آریزونا پرداخت بنا نظر مدیر دفتر سانفرانسیسکو ادوارد ناتر ساخته موفقیتآمیز مهندس Inspiration یک آسیاب غلظت گرانشی پاره فرایند جداسازی مواد معدنی جایگزین اولین عمده فرایند یک معدن مس آمریکا دارندگان عمده سهام Inspiration مردانی بودند معدن بزرگ آناکوندای Butte کنترل میکردند بلافاصله موفقیت Inspiration ساخت کارخانه دارای مجوز جداسازی مواد معدنی Butte سالهای ۱۹۱۵–۱۹۱۶ دنبال کردند بیانیه ای مهم پذیرش نهایی فرایند ثبت اختراع جداسازی مواد معدنی بودجان ام کالو مهندسی عمومی سالت لیک سیتی شناورسازی مقالات فنی معرفی آسیاب Butte Superior Inspiration Copper آریزونا دنبال کرده تشخیص داده زدن مکانیکی نقطه ضعفی فناوری موجود کالو معرفی یک آجر متخلخل هوای فشرده مکانیزم همزن مکانیکی سال ۱۹۱۴ ثبت اختراع درخواست برخی میگویند کالو یک پارتیزان جکلینگ سلول عنوان وسیله ای جلوگیری پرداخت حق امتیاز Minerals Separation اختراع شرکتها سلول میکنند روش شناورسازی پنوماتیک معروف عنوان جایگزینی فرایند جداسازی مواد معدنی غلظت فلوتاسیون شناخته مؤسسه مهندسین معدن آمریکا سال ۱۹۲۶ کالو مدال طلای جیمز داگلاس کمکهایش زمینه شناورسازی اهدا زمان فنآوری شناورسازی حال تغییر بهویژه کشف زانتاتها معرفها سلول کالو فرایند منسوخ کردآنتوان مارک گاودین استاد فناوری مونتانا دوره اولیه شناورسازی عنوان فاز مکانیکی تعریف حالی اواخر دهه ۱۹۱۰ وارد فاز شیمیایی اکتشافات معرفها بهویژه گزانتاتهای ثبت کورنلیوس اچ کلر شیمیدان جداسازی مواد معدنی نه آنقدر جذب مواد معدنی طریق فرایند افزایش بلکه عملیاتهای روزمره بسیار قابل کنترلتر ثبت اختراعات شناورسازی اولیه Minerals Separation سال ۱۹۲۳ پایان رسید موارد جدید فرآیندهای شیمیایی موقعیت قابل توجهی دهه ۱۹۳۰ بخشید دوره شرکت فرآیندهای شناورسازی آهن آزمایشگاه هیبینگ فسفات آزمایشگاه فلوریدا توسعه ثبت رساند مرحله سریع دیگری نوآوری فرایند شناورسازی سال ۱۹۶۰ رخ نداددر دهه ۱۹۶۰ روش شناورسازی کف جوهر زدایی کاغذ بازیافتی اقتباس شدموفقیت فرایند توجه تعداد مدعیان عنوان کاشف شناورسازی آشکار سال ۱۹۶۱ مهندسان آمریکایی ۵۰ سال شناورسازی جشن گرفتند سال ۱۹۷۷ مهندسان آلمانی صدمین سالگرد شناورسازی اساس پتنت برادران بسل سال ۱۸۷۷ جشن گرفتند سایت تاریخی معدن مس گلاس دیر تورهای ولز عنوان مکان کشف شناور اساس کار برادران المور تبلیغ نویسندگان اخیر دلیل علاقه تجلیل زنان علم قهرمان کری اورسون دنور عنوان مادر فرایند اساس حق اختراع ۱۸۸۵ مهندسان متالوژیستها شیمیدانان حداقل دادگاههای آمریکا استرالیا کنترل اختراعات شناورسازی کف حق مدعی عنوان کاشف شناورسازی کف دست آوردهاند لیست حذف شدهاند همانطور مورخ مارتین لینچ مینویسد تفکیک مواد معدنی نهایت ارائه پرونده دادگاه عالی ایالات متحده مجلس اعیان پیروز کار باعث انزجار صمیمانه بسیاری دنیای معدن شدصنایعفرآوری مواد معدنیشناورسازی کف فرآیندی جداسازی کانیها گنگ تفاوت آبگریزی آبگریز هیدروفوب انگلیسی Hydrophobe شیمی زیستشناسی سلول کاربرد دارد یک پدیده فیزیکی مولکولها آب دوری میکنند آنهاست تفاوت آب گریزی مواد معدنی ارزش ضایعات سورفکتانتها عوامل مرطوبکننده افزایش مییابد جداسازی انتخابی مواد معدنی فرآوری کانههای پیچیده یعنی مخلوط نظر اقتصادی امکانپذیر فرایند شناورسازی جداسازی طیف وسیعی سولفیدها کربناتها اکسیدها قبل پالایش بیشتر فسفاتها زغال سنگ فناوری شناورسازی ارتقاء داده میشوند تصفیه میشوندقبل سال ۱۹۰۷ تقریبا تمام مس استخراج ایالات متحده ذخایر رگه ای زیرزمینی دست میآمد بهطور متوسط ۲٫۵ درصد مس سال ۱۹۹۱ میانگین عیار سنگ معدن مس استخراج ایالات متحده تنها ۰٫۶ درصد کاهش یافته بودتصفیه فاضلابفرایند شناورسازی بهطور گسترده تصفیه خانههای فاضلاب صنعتی جایی چربی روغن گریس مواد جامد معلق فاضلاب حذف واحدها واحدهای شناور هوای محلول DAF نامیده میشوند بهطور خاص واحدهای شناورسازی هوای محلول حذف نفت پساب فاضلاب پالایشگاههای نفت کارخانههای پتروشیمی شیمیایی کارخانههای فرآوری گاز طبیعی تأسیسات صنعتی مشابه میشوندبازیافت کاغذشناورسازی کف فرآیندهایی بازیابی کاغذ بازیافتی صنعت کاغذ صنعت کاغذ خمیرکاغذ انگلیسی Pulp and paper industry شامل شرکتهایی چوب بهعنوان مواد خام تولید کاغذ خمیرکاغذ سایر محصولات پایه سلولز میپردازنداین صنعت سالها انحصار کامل ایالات متحده آمریکا قرار اینکه سال ۲۰۰۹ جمهوری خلق چین تولید کاغذ خمیرکاغذ پیشی گرفت مرحله مرکب زدایی فقط شناورسازی میگویند هدف آزادسازی حذف آلایندههای آبگریز کاغذ بازیافتی آلایندهها بیشتر مرکب چسب بهطور معمول راه اندازی یک سیستم مرحله ای با۳ ۴ ۵ سلول شناور صورت سری استاصل عملیاتقبل اینکه عملیات شناورسازی کف سنگ معدنی باید تصفیه خرد کردن ذرات ریز تبدیل کانیهای مختلف صورت دانههای جدا وجود داشته باشند فرایند عنوان رهایی کامل شناخته اندازه ذرات معمولا کمتر ۰٫۱ میلیمتر ۱۰۰ میکرومتر گاهی اوقات اندازههای کوچکتر ۷–۱۰ میکرومتر نیاز تمایل وجود دارد اندازه آزادسازی مواد معدنی طول زمان کاهش یابد زیرا تودههای سنگی دانههای معدنی درشتی اندازههای بزرگتر جدا تهی تودههای سنگی جایگزین میشوند قبلا بسیار دشوار تلقی میشدنددر صنعت معدن کارخانههایی شناورسازی تغلیظ سنگ معدن کانسنگ سنگ معدن گونهای سنگ حاوی فلزات عناصر ارزشمند مهم معدن استخراج سپس طی فرآیندی عناصر نیاز گرفته قرار میگیرد عموما عنوان متمرکز کننده آسیاب شناخته شوندرای شناورسازی کف یک دوغاب آبی سنگ معدن آسیاب عامل کف کننده تصفیه عنوان مثال سدیم اتیل زانتات عنوان یک جمعکننده شناورسازی گالن سولفید سرب جداسازی اسفالریت سولفید قسمت قطبی آنیون زانتات ذرات سنگ معدن میچسبد قسمت هیدروکربنی غیر قطبی یک لایه آبگریز تشکیل میدهد ذرات حبابهای هوا سطح آب میآیند حدود ۳۰۰ گرم تن سنگ معدن جداسازی کارآمد نیاز راندمان عمل آبگریز افزایش مییابد انتخابپذیری نسبت نوع سنگ افزایش طول زنجیره هیدروکربنی زانتاتها کاهش مییابد زنجیره نظر اتیل زانتات سدیم کوتاهترین سنگهای مس نیکل سرب طلا بسیار انتخاب محلولهای آبی ۱۰ pH ۷–۱۱ بهطور معمول فرایند دوغاب درستی پالپ نامیده ذرات آبگریز ذرات آبدوست سپس مخازن معروف سلولهای شناورسازی وارد تولید حبابها هوادهی میشوند ذرات آبگریز حبابهای هوا میچسبند سطح میآیند کف ایجاد میکنند کف سلول خارج یک کنسانتره کنسانتره فرانسوی Concentrate شکلی ماده اکثر اجزای اصلی تشکیلدهنده حلال حذف کردهاند معمولا گرفتن آب موجود یک محلول سوسپانسیون مثلا گرفتن آب موجود آبمیوه تبدیل پودر عصاره کنسانتره تشکیل ماده معدنی نظر تولید میشودعوامل کف کننده معروف کف کننده ممکن پالپ وارد شوند تشکیل کف پایدار بالای سلول شناورسازی تقویت کنندبه مواد معدنی کف شناور نمیشوند باطله های شناورسازی دم شناورسازی میگویند باطلهها ممکن معرض مراحل بعدی شناورسازی قرار گیرند ذرات ارزشمندی بار اول شناور نکردهاند بازیابی کنند عنوان پاکسازی شناخته باطلههای نهایی جمعآوری معمولا دفع عنوان پر کردن معدن تأسیسات دفع باطله ذخیرهسازی طولانی مدت پمپ میشوندراندمان شناورسازی کف یک سری احتمالات تعیین احتمالات مربوط تماس ذرهحباب اتصال ذرهحباب حمل نقل خمیر کف جمعآوری کف داخل لباسشویی محصول یک سلول متداول مکانیکی کسر خالی یعنی حجم اشغال حبابهای هوا کم ۵ ۱۰ درصد اندازه حباب معمولا بزرگتر ۱ میلیمتر منجر یک ناحیه سطحی نسبتا کم احتمال کم تماس ذرهحباب نتیجه چندین سلول صورت سری افزایش زمان ماندن ذرات نیاز بنابراین احتمال تماس ذرهحباب افزایش مییابدشناورسازی معمولا چندین مرحله بازیابی کانی مواد معدنی نظر غلظت مواد معدنی کنسانتره حداکثر برسد عین حال انرژی ورودی حداقل برسدمراحل شناورسازیخشن کردنمرحله اول رافینگ نامیده کنسانتره زبرتری تولید هدف حداکثر مقدار ماده معدنی ارزش اندازه ذرات درشت حذف کنیم هرچه سنگ معدن ریزتر آسیاب انرژی نیاز بیشتر بنابراین منطقی فقط دسته ذراتی آسیاب ریز نیاز دارند آسیاب کنیم شناورسازی خشن تر آزادسازی کامل لازم نیست فقط آزادسازی کافی آزادسازی گنگ ماده معدنی ارزشمند بازیابی بالا لازم استهدف اولیه خشن کردن بازیابی چه بیشتر مواد معدنی ارزش تأکید کمتر کیفیت کنسانتره تولید شدهدر برخی تغلیظها ممکن یک مرحله شناورسازی قبل خشن کردن وجود داشته کار زمانی برخی مواد نامطلوب مانند کربن آلی وجود داشته باشند راحتی شناور شوند جلوگیری شناور شدن حین خشن کردن نتیجه آلوده شدن کنسانتره زبرتر ابتدا جدا میکنندتمیز کردنکنسانتره زبرتر معمولا معرض مراحل بعدی شناورسازی قرار میگیرد مواد معدنی نامطلوبی کف گزارش دفع فرآیندی نام تمیز کردن محصول تمیز کننده عنوان کنسانتره پاک کننده کنسانتره نهایی شناخته هدف تمیز کردن حد ممکن عیار کنسانتره تولید شودکنسانتره خشن تر اغلب عنوان سنگ زنی بیشتر معمولا نام رجرندنج دست آوردن آزادی کامل تر مواد معدنی ارزش آنجا جرم کوچکتر سنگ معدن اصلی انرژی کمتری نسبت مقدار لازم صورت آسیاب مجدد کل سنگ معدن نیاز سنگ زنی مجدد اغلب آسیاب های مخصوص آسیاب مجدد مانند ایسا میل کاهش بیشتر انرژی مصرف حین آسیاب کردن مجدد اندازههای ظریف طراحی شدهاستپاکسازیمرحله شناورسازی خشنتر اغلب یک مرحله شناور رفتگر دنبال باطلههای خشنتر اعمال هدف بازیابی یک مواد معدنی نظر مرحله اولیه خشن بازیافت نشدهاند ممکن تغییر شرایط شناور منظور سختتر کردن نسبت خشنکاری اولیه حاصل ممکن مقداری آسیاب ثانویه آزادسازی بیشتر وجود داشته باشدکنسانتره روبندههای خشنتر میتواند شناورسازی مجدد خوراک خشنتر برگردانده سلولهای تمیزکننده ویژه ارسال شودبهطور مشابه مرحله تمیز کردن ممکن یک مرحله پاکسازی باطلههای پاک کننده دنبال شودعلم شناورسازیبرای مؤثر بودن یک دوغاب سنگ معدن معین کلکتورها اساس ترشوندگی انتخابی انواع ذرات جداسازی انتخاب میشوند نیاز ترمودینامیکی اتصال ذرات سطح حباب فراهم فعالیت مرطوبکنندگی یک سورفکتانت یک ذره اندازهگیری زوایای تماسی رابط مایعحباب ایجاد اندازهگیری معیارهای مهم اتصال حبابها ذرات زمان القاء زمان القاء زمان لازم پاره شدن لایه نازک جداکننده ذره حباب ذره حباب گسیختگی نیروهای سطحی ذره حباب حاصل میشودمکانیسم اتصال حباب ذره بسیار پیچیدهاست سه مرحله برخورد اتصال جدا شدن تشکیل برخورد قرار گرفتن ذرات لوله برخورد حباب حاصل تحت تأثیر سرعت حباب شعاع حباب لوله برخورد مربوط منطقه ای یک ذره حباب برخورد میکنداتصال ذره حباب زمان القای ذره حباب کنترل ذره حباب نیاز اتصال دارند صورتی اتفاق میافتد زمانی ذره حباب تماس یکدیگر بزرگتر زمان القاء نیاز زمان القایی تحت تأثیر ویسکوزیته سیال اندازه ذرات حباب نیروهای ذره حباب استجدا شدن یک ذره حباب زمانی اتفاق میافتد نیروی اعمال کشش سطحی نیروهای برشی نیروهای گرانشی بیشتر نیروها پیچیده درون سلول متفاوت برش بالا نزدیکی پروانه یک سلول شناور مکانیکی عمدتا نیروی گرانشی منطقه جمعآوری تمیز کردن یک ستون شناور تجربه میشودمسائل مهمی حباب ذرات ریز رخ میدهد زیرا ذرات راندمان برخورد پایین باریک شدن تخریب سطوح ذرات تجربه میکنند ذرات درشت دلیل آزادسازی کم راندمان جداشدگی بالا بازیابی کم ماده معدنی ارزشمند نشان میدهندتئوریچسبندگی انتخابیشناورسازی کف چسبندگی انتخابی حبابهای هوا سطوح معدنی دوغاب معدنیآب بستگی دارد حبابهای هوا ذرات آبگریز بیشتری میچسبند اتصال حبابها سطح انرژیهای سطحی فازهای جامد مایع گاز تعیین معادله یانگ دوپر تعیین میشودformula1به صورتی کههدف جداسازی مواد معدنی ممکن نظر شیمیایی کلکتورها اصلاح شوند آبگریزتر باشند کلکتورها نوعی سورفکتانت سورفکتانتها مواد فعال سطحی انگلیسی Surfactant موادی هنگامی مقدار بسیار ناچیز میشوند کشش سطحی آب میزان قابل توجهی کاهش میدهند سورفکتانتها ممکن عنوان مواد شوینده مواد خیس کننده امولسیفایر مواد کفکننده پراکنده کنندهها عمل کنند ترکیبات تقریبا مثل صابون سایر سورفاکتانتها عمل میکنند تماس آب حالت لزج پیدا میکنند آب گریزی طبیعی سطح افزایش داده قابلیت تفکیک ذرات آبگریز آبدوست افزایش میدهند کلکتورها طریق جذب شیمیایی ماده معدنی پیوند شیمیایی میدهند طریق جذب فیزیکی سطح جذب میشوندصندوق بینالمللی پول نیروهای سطحی برهمکنشهای حبابذرهنرخ برخورد ذرات ریز ۵۰ ۸۰ میکرومتر دقت مدلسازی هیچ تئوری فعلی وجود ندارد بهطور دقیق برخورد حبابذره ذراتی بزرگی ۳۰۰ میکرومتر معمولا فرآیندهای شناورسازی میشوند مدلسازی کندبرای ذرات ریز قانون استوکس احتمال برخورد دست کم میگیرد حالی معادله پتانسیل مبتنی بار سطحی احتمال برخورد بیش حد تخمین میزند بنابراین یک معادله میانی میشوددانستن نرخهای برخورد سیستم بسیار مهم زیرا مرحله قبل جذب یک سیستم سه فاز تشکیل میشوداثربخشی یک محیط جذب یک ذره تحت تأثیر رابطه سطوح ماده عوامل متعددی وجود دارد کارایی جذب حوزههای شیمیایی ترمودینامیکی فیزیکی تأثیر میگذارد عوامل میتوانند انرژی سطحی قطبیت گرفته شکل اندازه زبری ذره متغیر باشند شناورسازی کف جذب یک پیامد قوی انرژی سطحی زیرا ذرات کوچک نسبت سطح اندازه بزرگی دارند نتیجه سطوح انرژی بالاتری ایجاد جاذبه مواد جذبی ایجاد میکنند حبابهای هوا باید بهطور انتخابی مواد معدنی نظر بچسبند سطح دوغاب برسانند عین حال سایر مواد معدنی خیس کرده محیط دوغاب آبی رها کنندبه ذراتی راحتی آب خیس میشوند آب دوست میگویند حالی ذراتی راحتی آب خیس نمیشوند آبگریز میگویند ذرات آبگریز تمایل تشکیل فاز جداگانه محیطهای آبی دارند شناورسازی کف اثربخشی حباب هوا چسبیدن یک ذره اساس میزان آبگریز بودن ذره ذرات آبگریز حبابهای هوا میل دارند منجر جذب ترکیبات حبابذره ناحیه کف نیروهای شناوری هدایت بالا میرونداتصال حبابها ذرات انرژیهای سطحی فازهای جامد مایع بخار همانطور معادله یانگدوپر مدل تعیین انرژیهای سطحی میتواند اساس ساختار طبیعی مواد افزودن درمانهای شیمیایی میتواند سازگاری انرژی بهبود بخشدکلکتورها مواد افزودنی اصلی بهبود سطوح ذرات میشوند عنوان سورفکتانت جداسازی انتخابی کمک جذب ذرات نظر حبابهایی میان دوغاب بالا میروند عمل میکنند کلکتورهای رایج شناورسازی لیگاندهای گوگرد آنیونی دارای ساختار عملکردی یک بخش یونی یک بخش آبگریز مانند یک دنباله هیدروکربنی بلند فلزات جاذبه مشترک دارد کلکتورها سطح ذره تک لایه ای ماده غیر قطبی میپوشانند کاهش حلالیت ذرات جذب آب جدا شدن فاز آبی کمک کنند لیگاندهای جذب میتوانند میسلهایی اطراف ذرات کلوئیدهای ذرات کوچک تشکیل دهند باعث بهبود پایداری جداسازی فاز بیشتر میشودجذب ذرات حبابها جداسازی مواد معدنی دوغاب ضروری مواد معدنی باید مواد افزودنی جداسازی مانند کلکتورها کفکنندهها اصلاحکنندهها خالص شوند محصول حاصل تمیز کردن فرایند دفع عنوان کنسانتره پاک کننده شناخته جدا شدن یک ذره حباب نیاز برش پیوند جذبی دارد نیروهای برشی هدایت بسته نوع سلول شناور نیروهای برشی انواع سیستمهای مکانیکی اعمال جمله رایجترین پروانهها میکسرها برخی سیستمها عملکردهای اجزا قرار دادن مکانهای کلیدی میتوانند مکانیسمهای شناور کف چندگانه شرکت کنند ترکیب میکنند سلولهای پاک کننده نیروهای گرانشی بهبود کارایی جداسازی بهره میبرند دفع یک پدیده شیمیایی ترکیبات فقط صورت فیزیکی بدون داشتن پیوند شیمیایی یکدیگر متصل میشوندمحاسبات عملکردیک کمیت معمولی توصیف کارایی جمعآوری فرایند شناورسازی کف بازیابی شناورسازی formula2 کمیت احتمال برخورد اتصال ذرات حبابهای شناور گاز میگیرد formula3به صورتی کهدر چندین روش ریاضی اضافی وجود دارد اغلب ارزیابی اثربخشی فرآیندهای شناورسازی کف معادلات سادهتر محاسبه بازیابی شناور زیرا صرفا اساس مقادیر ورودی خروجی فرایندها هستندبرای معادلات زیرنسبت وزن خوراک وزن کنسانتره formula17 بدون واحد formula18درصد فلز بازیافت formula19 درصد وزنی formula20درصد فلز دست رفته formula21 درصد وزنی formula22درصد وزن بهبود یافته formula23 درصد وزنی formula24منحنیهای بازیابی درجه عین حال نرخ بازیابی جنبه مهم شناورسازی کف حد ممکن پایین نگه میدارند منحنیها صورت تجربی اساس فرایند شناورسازی کف یک گیاه خاص ایجاد میشوند آنجایی منحنیها جهت x مثبت راست جهت y مثبت سمت بالا جابهجا میشوند عملکرد فرایند شناورسازی کف عنوان بهبود نظر گرفته نقطه ضعف منحنیها فقط میتوانند روابط بازیابی درجه یک خوراک خاص نرخ خوراک مقایسه کنند اگر یک شرکت فرایند شناورسازی کف دارای واریانسی درجهها نرخهای خوراک یک اتفاق بسیار رایج منحنیهای بازیابی درجه جفت درجه خوراک نرخ بازیابی باید ساخته اطلاعات معنیداری گیاه شرکتها ارائه شودتجهیزات شناورسازیشناورسازی سلولها مخازن مکانیکی همزن مستطیلی استوانه ای ستونهای شناورسازی سلولهای جیمسون دستگاههای شناورسازی جوهر زدایی طبقهبندی اساس روش جذب هوا منصفانه گروه متمایز تجهیزات شناور بوجود آمدهاند ماشینهای پنوماتیک مکانیکی بهطور کلی ماشینهای پنوماتیک کنسانتره کم عیارتر مشکلات عملیاتی کمی دارندسلولهای مکانیکی یک میکسر مکانیزم پخش کننده بزرگ پایین مخزن مخلوط کن وارد کردن هوا ایجاد عمل اختلاط میکنند ستون های شناورسازی اسپارگرهای هوا وارد کردن هوا پایین ستون بلند عین حال دوغاب بالا میکنند حرکت مخالف جریان دوغاب سمت پایین جریان هوا سمت بالا عمل اختلاط فراهم سلولهای مکانیکی معمولا دارای نرخ توان بالاتری موادی تولید میکنند کیفیت پایینتری دارند حالی ستونهای شناور عموما نرخ خروجی پایینتری دارند مواد کیفیتتری تولید میکنندسلول جیمسون پروانهها اسپارگرها نمیکند عوض دوغاب هوا ترکیب میکندمکانیک شناورسازیدر مراحل آسیاب کردن آزادسازی ذرات معدنی دنبال میشودمدار شناورسازی ساده غلظت مواد معدنیمعرف شناورسازی مخلوطی سنگ معدن آب نام خمیر یک مخزن تهویه اضافه میشوند سرعت جریان اندازه مخزن طوری طراحی مواد معدنی زمان کافی فعال شدن بدهد خمیر نرمکننده ۱ بانکی سلولهای خشن تر تغذیه اکثر مواد معدنی نظر عنوان کنسانتره حذف پالپ زبرتر ۲ بانکی سلولهای رفتگر میرود آنجا ممکن معرفهای اضافی اضافه کف سلولی جاذب ۳ معمولا درمان اضافی سلولهای خشنتر بازگردانده برخی موارد ممکن سلولهای پاککننده ویژهای فرستاده خمیر لاشخور معمولا آنقدر عقیم عنوان دم دور انداخته مدارهای شناورسازی پیچیدهتر دارای چندین مجموعه سلولهای پاککننده پاککنندهتر آسیاب مجدد خمیر کنسانتره هستندمواد شیمیایی شناورسازیکلکسیونرهابرای بسیاری سنگها عنوان مثال آنهایی Cu Mo W Ni جمعکننده لیگاندهای گوگرد آنیونی نمکهای زانتات جمله پتاسیم آمیل زانتات PAX ایزوبوتیل زانتات پتاسیم PIBX پتاسیم اتیل زانتات KEX ایزوبوتیل زانتات سدیم SIBX ایزوپروپیل زانتات سدیم SIPX اتیل گزانتات سدیم SIPX محبوب سایر کلکسیونرها شامل لیگاندهای مبتنی گوگرد سدیم دیتیوفسفات دی تیوکارباماتها گروههای جمعآوریکنندهها تیواوره تیورآ فرمول شیمیایی CH4N2S یک ترکیب شیمیایی شناسه پابکم ۲۷۲۳۷۹۰ جرم مولی 7612 gmol شکل ظاهری ترکیب جامد سفید مثل تیوکاربانیلید اسیدهای چرب شدهاستبرای برخی مواد معدنی عنوان مثال سیلوینیت KCl آمینهای چرب عنوان جمعکننده میشودزانتاتهابه انگلیسی Xanthate دستهای نمکهای شیمیایی گفته دارای فرمول کلی ROCS2M R آلکیل M Na K دسته ترکیبات آلی گوگرد عمدتا رنگی متمایل زرد طلایی دارند دلیل نامگذاری زانتات همین عبارت ξανθός ksantʰós زبان یونانی معنی رنگ زرد طلایی استکف کنندههاترکیبات مختلفی تثبیت فومها اضافه افزودنیها عبارتند ازروغن کاج الکلهای مختلف متیل ایزوبوتیل کاربینول MIBC پلی گلیکولها زایلنول اسید کرسیلیکاصلاح کنندههاانواع ترکیبات بهینهسازی فرایند جداسازی اضافه مواد افزودنی اصلاح کننده نامیده میشوند معرفهای اصلاحکننده سطوح معدنی کلکتورها سایر یونهای موجود خمیر شناورسازی واکنش میدهند نتیجه واکنش شناورسازی تغییر یافته کنترلشده ایجاد میشودترکیبات شیمیایی جوهر زدایی کاغذ بازیافتیسیلیکات SiO۴۴ یک ترکیب شیمیایی بار منفی سیلیسیم بیشتر سیلیکاتها اکسیدی اند علاوه هگزافلوئوروسیلیکات SiF۶۲− گونهای سیلیکاتها دسته تنها گونههای سیلیکاتها نیستند بیشتر سیارههای سنگی ماههای سنگی سیارکها البته پوسته زمین سیلیکاتها ساخته شدهاند ماسه سیمان پورتلند هزاران کانی زمین نمونههایی مادهاندکاربردهای خاص سنگ معدنبه عنوان مثال فرایند شناورسازی خالص سازی پتاسیم کلرید سدیم کلرید مواد معدنی خاک رس ماده معدنی خرد حضور نمکهای آمونیوم چرب آب نمک معلق زیرا گروه آمونیوم K دارای شعاع یونی بسیار مشابهی حدود ۰٫۱۳۵ ۰٫۱۴۳ برحسب نانومتر مراکز آمونیوم جایگاههای پتاسیم سطحی ذرات KCl نه ذرات NaCl مبادله میکنند سپس زنجیرههای بلند آلکیل اگر مولکول آلکان یک اتم هیدروژن جدا کنیم باقیمانده گروه آلکیل نام دارد فرمول کلی آلکیلها صورت CnH2n1 آبگریزی ذرات میبخشد قادر تشکیل کف میکندمنابعG J Jameson Flotation cell development in The AusIMM Annual Conference Broken Hill New South Wales 17–2۱ مه ۱۹۹۲ The Australasian Institute of Mining and Metallurgy Melbourne 1992 25–31Nelson Michael 2012 From 10 Cubic Feet to 500 Cubic MetersObservations on 100 Years of Flotation Technology Separation Technologies Book Edited by Courtney Young et al Society of Mining Metallurgy and Exploration 539–546Lynch AJ Watt JS Finch JA Harbort GE 2007 History of flotation technology In Jameson GJ Fuerstenau MC Yoon R H eds Froth flotation a century of innovation Littleton Colo Society for Mining Metallurgy and Exploration p 65 ISBN 9780873352529 Retrieved 17 November 2021Fuerstenau DW 2007 A century of developments in the chemistry of flotation technology In Jameson GJ Fuerstenau MC Yoon R H eds Froth flotation a century of innovation Littleton Colo Society for Mining Metallurgy and Exploration p 3 ISBN 9780873352529 Retrieved 17 November 2021Nguyen Ahn 2003 Colloidal Science of Flotation pp 11–12 ISBN 0824747828Fuerstenau 2007 pp 3–4US 345951 Hezekiah Bradford Method of saving floating materials in ore separationKumar Dilip Kumar Deepak 2018 Dry Cleaning Process Sustainable Management of Coal Preparation 115–130 doi101016B9780128126325000069 ISBN 9780128126325Walton Steven A 2015 Machinery to Match the Materials Iron Ore Washing in Pennsylvania Ia The Journal of the Society for Industrial Archeology 41 12 71–92 JSTOR 44654434Lynch et al 2007 p 68Bunyak Dawn 2005 The Inventor the Patent and Carrie Everson Defining Success PDF Mining History Journal 9–24Wales The birthplace of Flotation Archived from the original on 20110714 Retrieved 20100113Rickard Thomas A 1922 Interviews with Mining Engineers San Francisco Mining and Scientific Press pp 119–131Osborne Graeme 1981 Guillaume Daniel Delprat Australian Dictionary of Biography Melbourne University Press ISSN 18337538 Retrieved ۷ ژوئن ۲۰۱۲ – via National Centre of Biography Australian National UniversityHistorical Note Minerals Separation Ltd Retrieved 20071230Malozemoff Plato مارس ۱۹۴۱ Operating Characteristics of Mechanical Flotation Machines Engineering amp Mining Journal 45–49Mouat Jeremy مارس ۱۹۹۶ The Development of the Flotation Process Technological Change and the Genesis of Modern Mining 18981911 Australian Economic Review 36 1 3–31 doi101111aehr361001Callow 1916Parsons A B 1933 The Porphyry Coppers New York American Institute of Mining and Metallurgical Engineers pp 239–246 446–450Rickard Thomas A 1922 Interviews with Mining Engineers San Francisco Mining and Scientific Press pp 142A detailed description of the history of flotation and this process can be found in Callows Notes on Flotation found in the Transactions of the American Institute of Mining Engineers Vol 5354 originally presented in New York in February 1916Gaudin A M 1932 Flotation New York McGrawHill pp passimLynch Martin 2002 Mining in World History London Reaktion Press p 208 ISBN 9781861891730Wills B A Atkinson K 1991 The development of minerals engineering in the 20th Century Minerals Engineering 4 7–11 643–652 doi101016089268759190054yBeychok Milton R 1967 Aqueous Wastes from Petroleum and Petrochemical Plants 1st ed John Wiley amp Sons Ltd LCCN 67019834Voith EcoCell flotation plant Archived copy PDF Archived from the original PDF on 20090824 Retrieved 20090108CS1 maint archived copy as title linkD N Nihill C M Stewart and P Bowen The McArthur River mine—the first years of operation in AusIMM ’98 – The Mining Cycle Mount Isa ۱۹–۲۳ آوریل ۱۹۹۸ The Australasian Institute of Mining and Metallurgy Melbourne 1998 73–82Report 5 1995 p 13Williams T The story of Lin Ma Hang lead mine 19151962 Geological Society of Hong Kong Newsletter 9 3–27E V Manlapig C Green J W Parkinson and A S Murphy The technology and economic incentives for recovering coal from tailings impoundments SME Annual Meeting Denver Colorado 26–28 February 2001 Preprint 0170 Society of Mining Metallurgy and Exploration Littleton Colorado 2001B W Atkinson C J Conway and G J Jameson Fundamentals of Jameson Cell operation including size–yield response Archived 20120317 at the Wayback Machine in Sixth Australian Coal Preparation Conference Mackay Queensland 6–۹ سپتامبر ۱۹۹۳ The Australasian Institute of Mining and Metallurgy Melbourne 1993B W Atkinson C J Conway and G J Jameson Highefficiency flotation of coarse and fine coal in Highefficiency Coal Preparation An International Symposium Society of Mining Metallurgy and Exploration Littleton Colorado 1995'})), (759535, (('history', 11.260035152779135), {'url': 'https://fa.wikipedia.org/wiki?curid=5499666', 'title': 'اسلام در مغولستان', 'text': 'دین حدود ۵ جمعیت۱ مغولستان اسلام افراد عمدتا قزاقهای بومی استان غربی بایان اولگی۷۸۸ جمعیت کل استان استان خاود ۱۱۵ درصد جمعیت استان میباشند علاوه جمعیتهای کوچکی قزاقها شهرها روستاهای مختلف مغولستان پیدا کردتاریخچهاولین نشانههای اسلام مغولستان سال ۱۲۵۴ میگردد یعنی زمانی فرانسیسکان گیوم روبروک هنگام بازدید دربار منگوقاآن قراقروم متوجه وجود هفت بتکده احتمالا معابد بودایی تائو مسجد بنابراین مورخان ورود اسلام مغولستان سالهای ۱۲۲۲ ۱۲۵۴ تخمین میزنند اولین آشنایی مغولان اسلام زمان فتح افغانستان چنگیز خان اتفاق افتاد سال ۱۲۲۲ چنگیز خان راه برگشت مغولستان بخارا ماوراءالنهر بازدید کردبرکه نوه چنگیزخان لطف سیف الدین درویش درویش خوارزم اسلام گروید اولین حکام مغول اسلام آوردند خانهای مغول تحت تأثیر همسران مسلمان اسلام گرویدند بعدها بایبارس حاکم مملوک روابط گروه ترکان طلایی محکم تر مغولان اصیل مصر خواند سفر مصر مغولان بسیاری اسلام سوق داد۲ چنانکه دهه ۱۳۳۰ سه چهارم سران امپراطوری مغول مسلمان بودند۳قزاقهای مسلمان اواخر قرن نوزدهم شروع سکونت دزونگاریا مناطق کوهستانی آلتای کردند بیشتر قزاقها کریت نعیمان بودند بسیاری قزاقها خاطر آزار شکنجه روسیه تزاری گریختند قزاقها قدرت رسیدن بوگدوگگن سال ۱۹۱۱ اجازه یافتند خاود استقرار یابنداستان بایان اولگی سال ۱۹۴۰ ایجاد علیرغم میزان بالای زاد ولد خانوادههای مسلمان نیمه دوم قرن بیستم تعداد مسلمانان مغولستان کاهش یافت ۴ ۵ اوایل دهه ۱۹۹۰ قزاقهای بومی زیادی قزاقستان مستقل بازگشتندآماربیشتر مسلمانان قسمت غربی مغولستان هستندپانویس1Muslim Population Pewforum2Arnold Thomas Walker The Preaching of Islam a history of the propagation of the Muslim faith Lahore Sh Muhammad Ashraf 1896 pp 192 3343The Encyclopedia Americana by Grolier Incorporated p ۶۸۰4US State department Mongolia background note5 CIA The World Factbook 6Монгол улсын ястангуудын тоо байршилд гарч буй өөрчлөлтyyдийн асуудалд М Баянтөр Г Нямдаваа З Баярмаа pp5770 7 State Center for Civil Registration and Information'})), (18449, (('history', 11.260035152779135), {'url': 'https://fa.wikipedia.org/wiki?curid=127186', 'title': 'قصه سنجان', 'text': 'قصه سنجان منظومه ایست پارسی داستان مهاجرت دشوار غمانگیز گروهی زرتشتیان ایران هندوستان فتح ایران تازیان مسلمان روایت حماسی عنوان تنها روایت موجود مهاجرت پارسیان هند بیمانند عموما نزد پارسیان هند عنوان سند موثقی تاریخ پیشینانشان پذیرفته شدهاستکتاب قصه سنجانقصه سنجان سفر مهاجران زرتشتی خراسان بزرگ گجرات غرب هندوستان روایت فصل اول منظومه طولانیترین بخش هجوم تازیان سقوط ساسانیان آغاز بنای آتشکده زرتشتیان مهاجر گجرات پایندگی نسل آنان سرزمین پایان مییابد فصل قصه پیروزی نخستین زرتشتیان مهاجر راندن متجاوزان مسلمان سپس شکست زرتشتیان نبرد دوم مسلمین عاقبت فرار آنان اقامتگاه نخستینشان سنجان میپردازد قسمت افروختن آتش بهرام نوساری پایان مییابدمؤلف قصه سنجان بهمن کیقباد پارسیان هند تاریخ نگارش منظومه سال ۹۶۹ یزدگردی مطابق گاهشمار زرتشتی نو معادل ۱۵۹۹ میلادی یعنی چندین قرن روزگار رخدادهایی نقل میکندقصۀ سنجان نخست سال ۱۷۷۱ برگردان فرانسوی آبراهام انکتیل دوپرون اروپاییان شناسانده ابتدای قرن بیستم چندان توجه نشددر بخشهایی قصه سنجان زبان بهمن کیقباد اینگونه آمدهاستمهاجرتپس حمله اعراب مسلمان ایران درهم شکسته شدن امپراتوری ساسانی بسیاری زرتشتیان جزیره هرمز آنجا گجرات هند مهاجرت کردند بدین وسیله آتش مقدس موسوم آتش بهرام شهر نوساری ساری جدید گجرات منتقل کردند توجه منابع تاریخی امروزی دسته ایرانیان زرتشتی گجرات کوچ کردند یک دسته زرتشتیان ایرانی شهر ساری شمال ایران گجرات کوچ کردند نام نخستین شهر ناگ مندال چون منطقه لحاظ آب هوایی شبیه شهر خودشان سارییافتند نوساری معنای ساری جدید نامگذاری کردند مانند نوروز نو پیشوند روز میباشددر قصه سنجان میخوانیم زرتشتیان ابتدا منطقهای نام سنگان سنجان کوچ شان شروع کردند بعدها جزیره هرمز سفر مخاطرهآمیز پرماجرا عذابآوری گجرات هند آغاز کردند دسته دیگری زرتشتیان شهر ساری استان مازندران امروزی گجرات کوچ کردند شهر نوساری ساری جدید navsari مسکن گزیدند کوچ دسته یاد تدریج سوی جنوب شرقی ایران کوچ کرده سرانجام جزیره هرمز پناه گرفتنداما تازیان اندک زمانی جزیره دست یافتند زرتشتیان ناچار کشتی نشسته راه هندوستان گرفتند بلاها سختیهایی چند جمله گرفتار ی شدید توفانی سهمگین سلامت هند رسیدندسرزمینی ان سکونت جای گزیدند یاد سرزمین دست رفته میهن شان سنجان نامیده آباد ساختندحمدالله مستوفی کتاب نام نزهة القلوب سنجان سنگان قصبات توابع خواف معرفی میکنددر جایی هنگامی توس مینویسد اشاره مشهد زاوه زاویه سنجان پانزده کیلومتر استاشارات مدارک کافی موجود قصه سنجان روایتی راستین داستانی داستانهای مهاجرت زرتشتیان ایران شبه قاره هند آثار شهرها تاریخها رویدادهای قصه همه منطبق واقع حقیقت خاورشناسان چه بسیار دقت کنجکاوی قصه کوچک محک کشیده عیار گرفتهاند سویی هیچ پدیدهای دلالت ناراستی ایجاد شبهه گمان نماید داستان وجود ندارد – بلکه روایتی وثوق مکتوب سده سوم هجری باقیمانده اشارتی سانحه تاریخی میکنداحمد بن یحیی البلاذری سال ۲۷۹ هجری گذشته کتاب موسوم فتوح البلدان هنگام گفتگو سقوط کرمان شرحی نگاشته موجب عده ایی پارسیان جنگ گریز جزیره هرمز رسانیده آنجا کشتی نشسته راه دریا گرفتندهنگامی کرمان محاصره تازیان روزی سرداران عرب نام عثمان بن ابی العاصی عده ایی همراه مرزبان کرمان جزیره کاوان دیده قتلش میرساند چون واقعه کرمان زبانها میافتد بیم درد دل مردمان پیدا میشوددر همان زمان تازیان وهم پدید آمده یزگرد کرمان همین جهت ابن عامر سرداران تازی قصد فارس مردی نام مجاشع بن مسعود سدمی جستجوی یزگرد روانه کرمان میکندمجاشع بیمند گروهی پارسیان درگیر سپاهش یکسر نابود گشت آنگاه هنگامی ابن عامر فارس سوی خراسان میرفت مجاشع فتح کرمان گماشت شیرجان تخت گاه کرمان گشود میانشان شکست پدید آمد شهر موقتا صورت ظاهر فتح شدسواران پارسی شمال شرقی چنان کوچ کرده جنوب رسیده بودند دگر باره تازیان شوریده شهر گرفتند اخبار ابو موسی اشعری سرداران تازی رسید ربیع بن زیاد فتح شیرجان اطراف گسیل کرده سپاهی زبده اختیارش نهادمجاشع کار حدود اردو آگاه ربیع بن زیاد همکاری سپاه بهم آمده عظیم شدند شهرهایی گشودند زبده سواران پارسی هنگامهای مناسب شهرها آزاد میکردند سرانجام سواران پارسی تعقیب کردند مجاشع دل کینه ایی ژرف آگاهی دادند سواران کوچکننده پارسی تشکیل کاروانی میدادند قفص نزدیک هرمز جزیره هرمز دیر زمان مغستان خوانده میشد بدان سبب پناهگاه گریز گاهی زرتشتیان بهشمار میرفته چنین وجه تسمیهای جزیره هرمز دور واقع نیست مجاشع سپاه مقابله نبرد پارسیان پرداخت بار پارسیان شکست یافته منهزم پراکنده گشتند گروهی آنجا کشتی نشسته راه دریا گرفتند گفتار بلاذری کتاب فتوح البلدان حوادث سالهایی متجاوز نیمه نخست سده یکم هجری ثبت شاید بایستی حدود نیمه سده اول چنین رویدادی تلقی کردبرخی خاورشناسان آنند مهاجرت چندبار شکل گروهی جزیره هرمز گرفته شاید گونه دقیقتری بتوان گفت مهاجرت نخستین نظر قول جکسون سال ۷۱۶ میلادی یعنی شصت پنج سال مرگ یزگرد سوم باشدمنابعقصه سنجان داستان مهاجرت ایرانیان هند سروده بهمن کیقباد ۹۶۹یزگردی۱۰۰۸ هجری۱۶۰۰ میلادیKulke Eckehard 1978 The Parsees in India A Minority as Agent of Social Change New Delhi BellManeck Susan Stiles 1997 The Death of Ahriman Culture Identity and Theological Change Among the Parsis of India Bombay K R Cama Oriental InstituteModi Jivanji J 1905 A few events in the early history of the Parsis and their dates Bombay'})), (616756, (('history', 11.260035152779135), {'url': 'https://fa.wikipedia.org/wiki?curid=4607853', 'title': 'جنگ مهردادی دوم', 'text': 'جنگ مهردادی دوم ۸۳–۸۱ میلاد سه نبرد میان پونتوس جمهوری روم جنگ جنگ پادشاه مهرداد ششم پنتوس ژنرال رومی لوسیوس لیسینیوس مورنا بوددر پایان جنگ مهردادی یکم لوسیوس کورنلیوس سولا بهطور شتاب زده توافقی حکومت مهرداد زیرا مجبور مقابله شورشی روم بازگردد پیمان صلح مهرداد اجازه میداد حکومت پادشاهی پنتوس ادامه دهد ادعای نسبت آسیای صغیر بگیرد مورنا عنوان نماینده تامالاختیار لوسیوس کورنلیوس سولا آسیا عنوان فرمانده سپاه قبلا تحت فرمان گایوس فلاویوس فیمبریا مستقر آثار آپیان درباره جنگ نتیجه گرفت مناطق فریگیه سال ۱۸۸ قبل میلاد پادشاهی پرگامون افزوده دیگری احتمالا کاپادوکیه متحدان رم بهشمار میرفتآپیان ذکر کرده مورنا کاپادوکیه عبور کومانا شهری اختیار مهردادیان حمله دلیل عمل سوء ظن مورنا حاکمان کومانا گمان میکرد نبردی علیه روم آماده میشوند مهردادیان یک ناوگان یک ارتش مقابله یک شورش کولخیسها قبایل اطراف تنگه بسفر تنگه کرچ اختیار داشتند حقیقت مهردادیان تمام کاپادوکیه پادشاه یعنی آریوبرزن یکم کاپادوکیه متحدان رم بازنگردانده بودند مهردادیان گروههایی دفاع پیمان صلح فرستادند مورنا پاسخ نمیداند آیا هیچ معاهده ای وجود دارد چرا سولا قبل بازگشتش یونان ننوشته بوده سپس جا غارت گذراندن زمستان کاپادوکیه رفت مهردادیان فرستادگانی شکایت روم فرستادند سال ۸۲ میلاد مسیح مورنا ۴۰۰ روستای تحت کنترل مهردادیان محاصره درآورد حال مهرداد منتظر بازگشت سفیرانش روم ماند مورنا منابع حاصل غارتهایش فریگیه گالاتیا بازگشت آگاه سنا دستور داده مناطق تحت کنترل مهردادیان خارج معاهده صلح آسیبی نرساندمورنا بیتوجه حکم داده سرزمین مهردادیان حمله مهردادیان فکر کردند کار تحت فرمان رم گوردیوس فرمانده پاسخ حملات روستاهای روم عازم کردند گوردیوس تعداد زیادی حیوانات اموال رومیان تصاحب برابر مورنا پیشروی ادامه هنگامی مهردادیان آنجا رسیدند جنگ شدید مورنا رخ نهایتا مورنا شکست خورد فریگیه گریخت امر باعث بسیاری ایالات آسیای صغیر رومیان متحد بودند وفاداری نسبت آنان بکاهند مهردادیان تمامی نیروهای رومی کاپادوکیه فراری دادند سولا جنگ مهردادیان سرباززد زیرا معاهده صلح نشکسته بلکه اتفاق خاطر عهد شکنی مورنا رخ داده آئولوس گابینوس فرستاده مورنا بگوید معاهده صلح عدم حمله مهردادیان باید جدی گرفته سپس گابینوس رایزنی برقراری صلح میان آریوبرزن یکم کاپادوکیه مهرداد ششم پنتوس ترتیب مهرداد دختر چهار ساله خویش عقد آریوبرزن درآورد تصریح مالکیت کاپادوکیه آریوبرزن بازمیگرداند مورنا روم فراخوانده شدمنون مینویسد وقتی کاروان مهرداد نزد مورنا رسید آنان نادیده گرفت زیرا آنان اغلب فلاسفه یونانی بودند آریوبرزن عنوان پادشاه کاپادوکیه منصوب شهر لیسینیا نزدیکی مرز پونتوس بنا ضمنا مورنا مهرداد فرستادگانی هراکلیوس فرستادند اتحاد پیشنهاد دهند برخی مشاورین مورنا پیشنهاد دادند ابتدا باید سینوپ حمله تصرف پایتخت پونتوس لشکرکشی اگر موفق سایر شهرها سادگی میتواند تصرف مورنا حمله آغاز ابتدا پیشرویهایی نبرد سنگین سپاهیان مهرداد انگیزه اشتیاق دوطرف ادامه نبرد کمرنگ گشت مهرداد سمت شرق رفت مورنا سمت آسیای صغیر بازگشتمنابع باستانیpostHadrian annalist survives in retrieved fragments from books XXVI XXVIII XXXIII XXXV and XXXVI of his history in 5th century uncials of African origin at the bottom of a ter scriptus manuscript palimpsest see L D Reynolds ed Texts and Transmission A Survey of the Latin Classics Oxford 1983 ed Michael Flemisch Grani Liciniani quae supersunt GB Teubner Stuttgart 1904 reprint 1967 ed N Crinti Leipzig 19819th century epitome in the ΒΙΒΛΙΟΘΗΚΗ of Photius of Byzantium codex 224 René Henry ed Photius Bibliothèque Tome IV Codices 223229 Association Guillaume Budé Paris 1965 pp 48–99 Greek text with French translation K Müller ed FHG III 525 Greek text with Latin translation F Jacoby ed FGrH no434 Greek text detailed commentary in German K Müller ed FHG III 602ff F Jacoby ed FGrH no257 English translations and commentary by William Hansen Phlegon of Tralles Book of Marvels University of Exeter Press 1996منابع جدیدAbbreviationsRE RealEncyclopädie der klassischen Altertumswissenschaft eds Pauly Wissowa KrollMajor studiesShorter articles amp summaries'})), (143810, (('history', 11.260035152779135), {'url': 'https://fa.wikipedia.org/wiki?curid=711757', 'title': 'آباکوس', 'text': 'آباکوس اف ای ای پیشتر ABAQUS نامیده میشد یک مجموعه نرمافزاری تحلیل اجزا محدود مهندسی کمک کامپیوتر ابتدا سال ۱۹۷۸ منتشر نام لوگوی نرمافزار زبان انگلیسی معنای چرتکه گرفته مجموعه محصولات Abaqus پنج نرمافزار اصلی تشکیل شدهاستمحصولات Abaqus زبان برنامهنویسی منبعباز Python اسکریپت نویسی سفارشیسازی میکنند AbaqusCAE توسعه رابط کاربری گرافیکی میکندیکی مهمترین قابلیتهای نرمافزار آباکوس نسبت سایر نرمافزارهای اجزای محدود موجود امکان تغییر اضافه کردن امکانات کتابخانههای نرمافزار قابلیتی تحت عنوان ساب روتین نویسی ابزاری بسیار قدرتمند کاربران حرفهای ساب روتین واقع یک مجموعه کد کاربر زبان برنامهنویسی فرترن کاربرد خاصی نوشته قابلیت مواردی نظیر تعریف مدلهای رفتاری جدید بارگذاریهای خاص و… دادتاریخچهدر اولین عرضه نام Abaqus صورت ABAQUS حروف بزرگ نوشته میشد تاریخچه اولیه ABAQUS ارتباط تنگاتنگی تاریخچه اولیه شرکت تحقیقاتی آنالیز MARC دارد دکتر دیوید هیبیت دکتر بنگت کارلسون دکتر پل سورنسن شرکتی بعدا نام Hibbitt Karlsson amp Sorensen Inc اختصار HKS شناخته ژانویه ۱۹۷۸ توسعه بازاریابی نرمافزار ABAQUS تأسیس کردند هیبیت سورنسن حین اتمام دوره دکتری دانشگاه براون یکدیگر ملاقات کرده بودند حالی کارلسون سمت عنوان یک تحلیلگر پشتیبانی یک مرکز داده استکهلم روبرو شدABAQUS نسخه ۱ یک مشتری خاص ایجاد شرکت Westinghouse Hanford نرمافزار تجزیه تحلیل مجموعههای میله سوخت هستهای میکرد ABAQUS نسخه ۳ ژوئن ۱۹۷۹ منتشر روزهای اولیه ABAQUS اساسا تجزیه تحلیل استاتیکی دینامیکی غیرخطی سازهها تجزیه تحلیل غیرخطی ثابت گذرا مشکلات انتقال حرارت هدایت طراحی ابتدا طریق سرویس Cybernet CDC توزیع اولین نسخه موازی ABAQUS نسخه ۵٫۴ سال ۱۹۹۵ دسترس کاربران قرار گرفتمحصول اصلی نهایت نام ABAQUSStandard شناخته یک حلکننده اجزا محدود ضمنی بستههای نرمافزار دیگری جمله ABAQUSExplicit یک بسته تحلیل صریح دینامیک سال ۱۹۹۲ منتشر ABAQUSCAE یک بسته پردازش اجزا محدود سال ۱۹۹۹ عرضه سال ۱۹۹۲ اولین نسخه رسمی ABAQUSExplicit صورت دستی دانشگاه MIT تحویل داده بعدا نام شرکت اواخر سال ۲۰۰۲ ABAQUS Inc تغییر یافت نشان دهنده تمرکز شرکت خط تولید سپس اکتبر ۲۰۰۵ شرکت ۵۲۵ کارمند داسو سیستمز مبلغ ۴۱۳ میلیون دلار حدود چهار برابر درآمد سالانه شرکت تقریبا ۱۰۰ میلیون دلار خریداری ABAQUS Inc بخشی Dassault Systèmes Simulia Corp شددفتر مرکزی شرکت سال ۲۰۱۴ پراویدنس رود آیلند واقع سال ۲۰۱۴ دفتر مرکزی شرکت جانستون رود آیلند ایالات متحده واقع شدهاستمبانی نرمافزار آباکوسیک تحلیل کامل برنامه آباکوس معمولا سه مرحله تشکیل شدهاستانواع پردازش آباکوس سه مرحله مطابق شکل وسیله تعدادی فایل یکدیگر ارتباط دارندمرحله پردازش اولیه AbaqusCAEدر مرحله شما باید مدل مسئله ساخته یک فایل ورودی آباکوس ایجاد کنید مدل معمولا صورت گرافیکی ABAQUSCAE سایر پردازندهها ایجاد فایل ورودی آباکوس یک ویرایشگر متن مثل Notepad ساختمرحله پردازش Abaqus StandardExplicitپردازش معمولا صورت یک روند زمینه اجرا مرحلهای آباکوس استاندارد صریح مسئله عددی مدل تعریف حل مثالهایی خروجی تحلیل تنش عبارت تغییرمکانها تنشهایی فایلهای باینری ذخیره مرحله پردازش قرار میگیرد بسته پیچیدگی مسئلهای باید تحلیل قدرت رایانهای تحلیل میدهد زمان تحلیل میتواند چند ثانیه چند روز طول بکشدمرحله پردازش AbaqusViewerارزیابی نتایج اتمام مرحله پردازش یعنی وقتی تنشها تغییرمکانها سایر متغیرهای اساسی محاسبه شدهاند ارزیابی معمولا مدول بصری سایر پسپردازندهها مدول بصری دادههای فایل خروجی باینری میخواند گزینههای متفاوتی مانند کانتورهای رنگی انیمیشن فرم تغییرشکل یافته نمایش دادهها صورت نمودار نمایش نتایج داردنرمافزارهای مجموعه آباکوسزمانی شما نرمافزار آباکوس نصب میکنید مجموعه ای نرمافزارها سیستم شما نصب میشوند مهمترین نرمافزارها عبارتند abaquscae abaqusviewer ababquscommand ادامه یک محیطها معرفی شدهاندنرمافزار abaquscaeاین نرمافزار اصلیترین نرمافزار مجموعه آباکوس عبارت cae نام مخفف Complete Abaqus Environment نرمافزار رابط گرافیکی آباکوس شما اجازه میدهد مدلسازی یک محیط visual دهید داشتن محیط گرافیکی سبب تسریع فرایند مدلسازی آسانی کار آباکوس نرمافزار دارای ۹ محیط اصطلاحا یک ماژول module گفته زمانی کاربر یک ماژول ماژول میرود menu bar موجود بالای صفحه نرمافزار عوض امر معنی برخی تنظیمات تنها یک ماژول خاص قابل ادامه نام یک ماژولها همراه توضیح کوتاهی کارکرد یک آورده شدهاستماژول پارت partدر ماژول شما میتوانید قطعاتی میخواهید تحلیل قرار دهید طراحی نمایید البته ابزارهای موجود ماژول طراحی قطعات گستردگی ابزارهای موجود نرمافزارهای کتیا سالیدورکس نمیباشد صورتی شما نتوانید قطعه نظر ماژول پارت آباکوس طراحی کنید اینکار باید کتیا سالیدورکس کنید سپس فایل مجموعه مونتاژی assembly میخواهید تحلیل کنید داخل آباکوس ایمپورت کنیدماژول پراپرتی propertyدر ماژول شما میتوانید موادی قطعات تحلیل ساخته شدهاند تعریف نماید آباکوس فاقد کتابخانه مواد همین جهت شما باید ثوابت فیزیکی مواد موردنظر وارد نمایید ماژول شما باید ماده تعریف سکشن section ایجاد کنید سپس پارت مربوط اختصاص دهید تعریف پروفیل مقطع profile المانهای تیر beam تعریف دستگاه مختصات محلی موادی آیزوتروپیک isotopic نیستند باید ماژول شودماژول اسمبلی assemblyدر ماژول شما میتوانید قطعاتی ماژول پارت طراحی شدهاند مونتاژ کنید اینکار ابزارهایی ماژول تعبیه شدهاند حقیقت ماژول شما وضعیت اولیه سیستم بارگذاری اعمال شرایط اولیه مشخص میکنیدماژول استپ stepدر ماژول شما نوع تحلیل تحلیلهایی باید مجموعه مونتاژی تعیین میکنید کار تعریف استپ استپهایی استپهای موجود آباکوس دسته کلی تقسیم میشوند استپهایی تحلیلهای خطی میدهند استپهایی تحلیلهای غیرخطی میدهند شما انتخاب استپ حقیقت حلگر مدل تعیین میکنید حلگر تمام استپهای خطی abaqusstandard تعداد استپهایی حلگر abaqusstandard مراتب بیشتر تعداد استپهایی حلگر abaqusexplicit یک تحلیل میتواند شامل یک استپ بیشتر نوع مسئله استراتژی مدلسازی تعیینکننده تعداد استپها ماژول شما باید خروجیهای مدل تعیین کنید آباکوس نوع خروجی قابل تعریف field output history output ماژول شما میتوانید تنظیمات مرتبط حلگرهای غیرخطی آباکوس تغییر دهید قابلیت مرتبط sequential analysis تکنیک ALE فعال نمایددر آباکوس خلاف فیزیک نیرو تنش سپس کرنش میرسیم محاسبه شتاب گرهها مشتقگیری سرعت سرعت جابجایی جابجایی کرنش کرنش تنش نیرو میرسیم تفاوت تحلیل explicit implicit نحوه محاسبه شتاب گرهها استماژول اینتراکشن interactionدر ماژول شما میتوانید اندرکنشها مانند تماس فیزیک حاکم اندرکنشها مانند اصطکاک بدون اصطکاک بودن قیدهای موجود مسئله صلب بودن برخی پارتها تعریف نمایید تعریف ترک اولیه درز seam جرم نقطه ای ماژول باید شودماژول لود loadدر ماژول شما باید شرایط مرزی بارگذاریها شرایط اولیه نظیر سرعت اولیه دمای اولیه تعریف نماییدماژول مش meshدر ماژول شما باید تمامی پارتهای موجود مجموعه مونتاژی مش بزنید غیر پارتهای صورت analytical rigid احتیاجی مش ندارند علاوه شما باید فرمولاسیون فیزیکی المانهای مربوط حل میکنند تعیین نماییدماژول بهینهسازی optimizationاین ماژول مسایل شامل بهینهسازی قرار میگیرد البته قابلیتهای موجود ماژول گسترده نیست صورت نیاز بهینهسازی مسئله ای حل مدل المان محدود آباکوس روشهای دیگری میشودماژول جاب jobدر ماژول شما باید مدل ایجاد اصطلاحا یک جاب وظیفه آباکوس تعریف کنید سپس شما میتوانید صدور فرمان حل اصطلاحا submit کردن جاب تعریف آباکوس دستور دهید حل آغاز ماژول میتوانید تعیین کنید چه میزان توان سختافزاری سیستم لپ تاپ pc سوپر کامپیوتر شامل RAM cpu درگیر حل مدل شودماژول ویژوالیزیشن visualizationاین ماژول مخصوص مشاهده نتایج بسته تنظیمات مربوط اخذ خروجیها ماژول استپ شما میتوانید نتایج ثبت لحظه تحلیل مشاهده کنید ماژول صورت مستقل مجموعه نرمافزارهای آباکوس نصب همان abauqsviewer استنرمافزار abaquscommandاستفاده ازین نرمافزار اختیاری شما میتوانید مدل ایجاد محیط آباکوس cae ران کنید البته بار کار طریق فایل پسوند inp بهطور کلی اصلیترین مزیت حل مدل طریق نرمافزار هنگام حل مدلهای همراه سابروتین تنها طریق نرمافزار خطاهای نوشتاری دستوری موجود فایل سابروتین شما شما اعمال'})), (783436, (('history', 11.260035152779135), {'url': 'https://fa.wikipedia.org/wiki?curid=5616576', 'title': 'پارسیان زنجان', 'text': 'پارسیان زنجان گروهی مردمان پارسیزبان استان زنجان نواحی شهرستان ابهر شهرستان طارم شهرستان ایجرود زندگی میکنند زبان پارسی میانه گسترش زبان ترکی سراسر استان گویشور داشتهاست امروزه دلیل ترکسازی گسترۀ محدود زبان تاتی بخشی شمال طارم علیا دامنۀ کوه البرز برجای ماندهاست حدود ۸ روستا چرزه باکلور جمال آباد قسمتی آبادی هزارود بندرگاه سیاورود نوکیان قوهیجان تات مردم روستاهای سفید کمر سعید آباد علیا سعید آباد سفلی خوئین شهرستان ایجرود زبان تاتی سخن میگویند مردم دهستان درسجین توابع شهرستان ابهر زبان لری سخن میگویند شامل روستاهای خلیفه حصار شیورین آقچه ارکین درسجین میباشدفهرست روستاها استان زنجانتاتی توجه اینکه زبانهای ایرانی شمال غربی بیشترین نزدیکی زبانهای کردی گورانی زازاکی تالشی گیلکی مازندرانی بلوچی داردنظرات بسیاری ریشه تاتی داده برخی شباهتهای تاتی اوستایی برخی شباهتها پیوندهای تاتی پارتی اشاره داشتهاند برخی تاتی همراه تالشی مازندرانی گیلکی کردیگورانی بازماندههای زبان مادی کهن دانستهاند دیاکونوف اینباره میگویددر زمان حاضر تاتها تالشان گلیکها مازندرانیها زبانهایی سخن میگویند بقایای زبان هندواروپائی آغاز زبان ماد شرقی امتیاز ویژه زبانها کهنگی مهجوری ترکیب اصوات زبان پارسی تفاوت داشته مادی پارتی اوستایی مناسبت داردپیشینهدر نوشتههای مورخان جغرافیدانان اسلامی زبان آذری اشاره شدهاستقدیمترین منبع درباره زبان آذری باستانی قول ابن مقفع ۱۴۲ه\\u200dق۷۵۹م الفهرست نقل گفته ابن مقفع زبان مردم آذربایجان پهلوی الفهلویه منسوب پهله فهله یعنی سرزمینی شامل ری اصفهان همدان ماه نهاوند آذربایجان پهلوی اینجا معنای پارتی ااشکانیان باقیمانده لهجه پارتی زاگرس مرکزی شمالی استمؤلف دیگری زبان آذری باستان نام برده مسعودی د ۳۴۶ه\\u200dق۹۵۷م ۳۱۴ه\\u200dق۹۲۶ تبریز دیدار مؤلف میان زبانهای ایرانی پهلوی دری آذری ذکر ظاهرا نظر مهمترین زبانها گویشهای ایرانی بودهاندتاریخ فراموش شدن زبان آذری باستانتضعیف تدریجی آذری رسوخ ترک زبانان آذربایجان ایران شروع اولین ترک زبانان زمان محمود غزنوی وارد منطقه شدند ولی زمان سلجوقی قبایل ترک شروع مهاجرت گسترده آذربایجان کرده آنجا سکنی گزیدند جمعیت ترکی دوره اتابکان الدنیز آذربایجان ۵۳۱–۶۲۲ هجری همچنان رشد ولی اوج دوره ایلخانان مغول اکثریت سربازان شان ترک بودند آذربایجان مرکز سیاسی بدل ساختند زدوخورد ناآرامی پیوسته مدت ۱۵۰ سال افول ایلحانان صعود صفویان آذربایجان حکمفرما باز موجب جذب عناصر نظامی ترک بیشتری منطقه دوره آذری دوره ترکمانان قرا قویونلو آق قویونلو آذری سرعتی بیشتر قبل منقرض جایی صفویان اصل طایفهای ایرانی زبان بودند ترکی سازی شدند ترکی عنوان زبان بومی اختیار کردندآذری باستانزبان آذری باید دنباله زبان مادی دانست هیچ مدرک تاریخی دست نیست نشان دهد غلبه ترکی زبان دیگری جانشین زبان مادی آذربایجان جز تصور زبان اشکانی سپس تاتی نوبت مرکزهای بزرگ آذربایجان اندازهای رواج یافته اثرهایی آذری وجود آوردهاست چون زبان مادی باستان اثر مستقلی دست نیست جز برخی اصطلاحها نامها واژههای پراکنده بیشتر کتیبههای هخامنشی جا نماندهاست تشخیص دقیقتر آذری خصوصیات تنها مطالعه آثار آذری دوره اسلامی بقایای آذری آذربایجان کنونی امکانپذیر استآذری حمله عربهاسخن گفتن آذری آذربایجان طی نخستین قرنهای اسلامی کتابهای گوناگون روشن قدیمیترین مرجع راستا گفته ابن مقفع متوفی۱۴۲ هجری۷۵۹ میلادی نقل ابن ندیم زبان آذربایجان پهلوی الفهلویه منسوب فهله یعنی سرزمینی دربرگیرنده اصفهان ری همدان ماه نهاوند آذربایجان میشمارد همین قول عبارت حمزه اصفهانی نفل یاقوت معجم البلدان مفاتیح العلوم خوارزمی منعکس استحکمرانی صفوی ابتدا مبتنی حمایت قبایل ترک حکومت پایگاهی گستردهتر یافت همچنان حمایت تأثیر قزلباشان نوبه گسترش ترکی افول آذری حداقل مراکز شهری قرار نگرفت کمک ترکی تدریجا عنوان زبان آذربایجان شناخته نتیجتا لفظ آذری برخی مؤلفین ترک پی آنان شرقشناسان غربی ترکی آذربایجان اطلاق شدذکر واژه آذری ابن مقفع کتاب البلدان یعقوبی یافت نزدیک ۲۷۸ هجری۸۹۱ قمری نوشته مردم آذربایجان مخلوطی ایرانیان آذری جاودانیه قدیم میشمارد نظر میرسد منظورش آذربایجانیهای مسلمان آذربایجانیهای پیرو بابک خرمدین ابن حوقل درگذشته ۳۷۱ هجری ۹۸۱ میلادی نوشتهاست زبان مردم آذربایجان بیشتر مردم ارمنستان ایرانی الفارسیه پیوند میزند عربی میان آنان کار میرود آنان فارسی سخن میگوید کمتر کسی عربی نفهمد…پروفسور پیتر گلدن کتاب جامعترین کتابها درباره تاریخ گروههای مختلف ترک چاپ روند ترکی زبان شدن آذربایجان سه مرحله بخش کردهاستیاقوت حموی میگوید مردم آذربایجان زبانی آذری الاذریه مینامند مفهوم کسی جز آنان نیست رواج آذری همزمان حمله مغول تأیید زکریا بن محمد قزوینی آثار البلاد ۶۷۴ هجری۱۲۷۵ میلادی نوشته میگوید هیچ شهری دستبرد ترکان محفوظ نماندهاست مگر تبریز چنین برمیآید دست کم زمان اباقا کارایی ترکی کنار بودهاستابوعبدالله مقدسی نویسنده اواخر سده چهارم ق ایران هشت اقلیم تقسیم نموده مینویسد زبان مردم هشت اقلیم ایرانی العجمیة جز برخی دری بعضی پیچیده منغلق همه فارسی نامیده میافزاید فارسی آذربایجان حروف فارسی خراسان شبیهاستمردم آذربایجان رواج ترکی زبانی گویشهای مهم ایران بوده فراخور نام آذربایجان آذری خوانده میشدهاست سخن میگفتهاند زبان زبان ری همدان اصفهان یک دست سده دهم گمان بسیار مدتها زبان غالب آذربایجان بودهاستپس حملات عربها گروهی مردم مراغه شهر کوچیده منطقه رودبار الموت رفتند کوچندگان امروز نام مراغیها نامیده میشوند ۷–۸ روستای رودبار الموت سکونت دارند زبان اصلی مادی مراغه آذربایجان حفظ کردهاند امروز زبان ایرانی آذری سخن میگویندحمدالله مستوفی دین مراغیهای الموت آیین مزدکی نامیدهاستفراموش شدن زبان آذری باستانتضعیف تدریجی آذری رسوخ ترکزبانان آذربایجان ایران شروع اولین ترکزبانان زمان محمود غزنوی وارد منطقه شدند ولی زمان سلجوقی قبایل ترک شروع مهاجرت گسترده آذربایجان کرده آنجا سکنی گزیدند جمعیت ترکی دوره اتابکان الدنیز آذربایجان ۵۳۱–۶۲۲ هجری همچنان رشد ولی اوج دوره ایلخانان مغول اکثریت سربازان شان ترک بودند آذربایجان مرکز سیاسی بدل ساختند زدوخورد ناآرامی پیوسته مدت ۱۵۰ سال افول ایلحانان صعود صفویان آذربایجان حکمفرما باز موجب جذب عناصر نظامی ترک بیشتری منطقه دوره آذری دوره ترکمانان قراقویونلو آققویونلو آذری سرعتی بیشتر قبل منقرض جایی صفویان اصل طایفهای ایرانی زبان بودند ترکسازی شدند ترکی عنوان زبان بومی اختیار کردندحکمرانی صفوی ابتدا مبتنی حمایت قبایل ترک حکومت پایگاهی گستردهتر یافت همچنان حمایت تأثیر قزلباشان نوبه گسترش ترکی افول آذری حداقل مراکز شهری قرار نگرفت کمک ترکی تدریجا عنوان زبان آذربایجان شناخته نتیجتا لفظ آذری برخی مؤلفین ترک پی آنان شرقشناسان غربی ترکی آذربایجان اطلاق شددر اثر مهاجرت ترکهای آسیای مرکزی آذربایجان عوامل عموما فاصله سدههای پنجم دهم هجری رخ دادهاست ادامه مهاجرت زبان ترکی کمکم زبان آذری بوته فراموشی سپرده جای گرفتهاستپروفسور پیتر گلدن صفحه ۳۸۶ کتاب جامعترین کتابها درباره تاریخ گروههای مختلف ترک چاپ روند ترکی زبان شدن آذربایجان سه مرحله بخش کردهاستنخست ورود سلجوقیان مهاجرت قبایل اغوز ناحیه آذربایجان آران آناتولی دوم حمله مغولان بیشتر سربازان شان ترکتبار بودند سوم دوران صفویان بسیاری قبایل اغوزترکمان قزلباش آناتولی ایران سرازیر شدنددکتر محمد جواد مشکور درباره آمدن تیرههای ترک آذربایجان مینویسدپیشامدهای متناوب دیگری آذربایجان آماج تهاجمات پیاپی قرار نفوذ اقوام ترک گسترش زبان ترکی سیطره زبان آذری محدود رفته رفته رو کاهش نهاد دوران مغولها بیشتر سربازان آنان ترک بودند آذربایجان تختگاه قرار دادند ترکان جا نفوذ گستردهای یافتند حکومت ترکمانان آق قویونلو قراقویونلو اسکان آذربایجان بیش مایه رونق ترکی تضعیف زبان آذری جنگها عصیانهایی فاصله برافتادن برخاستن صفویان آمد سربازان ترک بیشتری آذربایجان سرازیر وجود قزلباشهای ترک مزید چرایی زبان ترکی سرزمین رونق بخشید جمله کسانی تبریز مراغه پایتخت خویش قرار دادند هلاکوخان ایلخانی بودولادیمیر مینورسکی دانشنامه اسلام فرایند تغییر زبان مردم آذربایجان چنین توضیح میدهددر حدود قرن شش هجری تحت لوای سلجوقیان قبیله غوز ابتدا تعداد اندک سپس تعداد قابل توجهی آذربایجان اشغال مینمایند نتیجه مردمان ایرانیزبان آذربایجان نواحی ماوراء قفقاز تبدیل ترکزبان شدند هرچند ویژگیهای تمایزبخش زبان ترکی آذربایجانی مانند آواهای فارسی نادیده گرفتن تطابق صوتی منشأ غیرترکی جمعیت ترکزبان منعکس میکندریچارد فرای زبان آذری زبانی گسترده زبان اصلی جغرافیای آذربایجان میداند نظر زبان غالب آذربایجان قرن چهاردهم میلادی بهطور تدریجی جایگاهش ترکی آذربایجان دادR N Frye The peoples of Iran in Encyclopædia Iranicaنقل قولThe long and complex history of Azari qv a major Iranian language and the original language of the region and its partial replacement with Azeri Turkish the presentday language of Azerbaijan is surveyed in detail and with a wealth of citations from historical sources elsewhere in the Encyclopaedia see AZERBAIJAN vii Although the original Azari gradually lost its stature as the prevalent language by the end of the 14th century the fact that the region had produced some of the finest Persian writers and poets of classical Persian including Qaṭrān of Tabriz Neẓāmi of Ganja Ḵāqāni of Širvān Homām of Tabriz qv Awḥadi of Marāḡa ZaynalʿĀbedin of Širvān Maḥmud of Šabestar ṢafialDin of Urmia ʿAbdalQāder of Marāḡa etc has induced literary historians to talk of “The School of Azerbaijan” Rypkaltrefgtپروفسور ژان دورینگ شرقشناس موسیقیدان تأیید شهر تبریز قرن ۱۵ میلادی هنوز ترکزبان نشده بودJean Druing The Spirit of Sounds The Unique Art of Ostad Elahi Cornwall Books 2003 pg 172 In this Maqased ol alhan 1418 Maraghi mentions the Turkish and the Shirvani tanbour which had two strings tuned in second which the Kurds and Lors call Farangi and was quite popular among the inhabitants of Tabriz a region which ws not yet Turkish speaking at the timeltrefgtگویشهای کنونیباوجود تضعیف زبان آذری باستانی زمان غلبه مغول گویشهای زبان گونه کامل میان نرفته بلکه هنوز صورت پراکنده بیشتر نام تاتی سخن میگویند گویشها شمال جنوب عبارتاند ازآثار آذریکلمه بوری کربلایی حسین تبریزی خواجه عبدالرحیم اژابادی نقل معنی بیا استدر لهجه هرزندی هرزند آذربایجان مانند لهجه کارنگی آذربایجان قرن بیستم ثبت گردیدند کلمه بیری بوراه معنی آمدن یک ریشه هستندو لکی واژه بوری معنی بیا هنوز کاربرد دارد کیا ص ۱۵ ادامه نمونههایی واژگان آذری اشاره میشودچراغله کرم شبتاب کیا ص ۱۱ زوال انگشت همان ص ۱۴ زیوال شبنم همانجا سودان سار همان ص ۱۶ سور لوچ همانجا شفت ناهموار همان ص ۱۷ شم کفش همان ص ۱۸ نگ تگ کام دهان همان ۱۸ ۳۰ کلاهدیوان قارچ همان ص ۲۱ کنگر جغد همان ص ۳–۲۲ مشکینپر خفاش همان ص ۲۴ مله ساس همانجا انین نیزه همان ص۲۹ تیته مردمک همان ص ۳۱ برز بلندی همان ص ۳۹ کریوه عقبه همانجا سهراب سرخاب همان ص ۴۰ویژگی آوایی صرفی زبان آذریاز آنجا اردبیل چه قبل اسلام چه مرکز آذربایجان تصور نویسندگان اسلامی هنگام صحبت زبان آذری بیشتر زبان شهر نظر داشتهاند چنین پنداشت زبان دوبیتیهای شیخصفی نمودار گویشهای مهم آذری محدودیت دوبیتیها تصحیف تحریف موجب پی بردن ویژگیهای آوایی صرفینحوی دشوار گردد اینهمه بعضی ویژگیهای دست آمده دوبیتیها یقین جملههمسنجی بعضی واژههای آذری سایر زبانهای خانواده ایرانیپائول رودینگ بعضی واژگان زبان آذری کردی سورانی زازاکی مقایسه کردهاستمنابعThe Ancient language of Azerbaijan Paper read before the Phi lological Society on Dec ۴ ۱۹۵۳درTransactions of the Philological Society 1954 P۱۵۸–۱۷۷الفکلماتی اسامیدر قریزبان وفعلی شهرهاآذربایجان وموجود امکنه شماره ۴ سال هشتم واست شمارههای ۲۳ ۳۴ سال نهم نشریه دانشکده ادبیات تبریزب کلماتی زبان فعلی آذربایجان موجود شمارههای ۳ ۴ سال نهم نشریه دانشکده ادبیات تبریزMinorsky V Minorsky V Azarbaijan Encyclopaedia of Islam Edited by P Bearman Th Bianquis CE Bosworth E van Donzel and WP Heinrichs Brill'})), (46, (('history', 22.52007030555827), {'url': 'https://fa.wikipedia.org/wiki?curid=844', 'title': 'اسطورهشناسی', 'text': 'اسطورهشناسی افسانهشناسی دانشیاست بررسی روابط میان افسانهها جایگاهشان دنیای امروز میپردازدبیشتر اسطورهها بازمانده روزگاران باستان گرچه جوامع مدرن اسطورههای خاص دارند تحول اساطیر قوم معرف تحول شکل زندگی دگرگونی ساختارهای اجتماعی تحول اندیشه دانش آنهاست واقع اسطوره نشانگر یک دگرگونی بنیادی پویش بالارونده ذهن بشری اسطورهها روایاتی طبیعت ذهن انسان بدوی ریشه میگیرند برآمده رابطه دوسویه هستندریشه واژه اسطورهاین واژه فارسی برابرنهاد افسانه بهجای بهکار برد جمع شکسته عربی بهگونه اساطیر بهکار میرود ریشههایی زبانهای هندواروپایی دارد زبان سنسکریت Sutra معنی داستان گفتار مذهبی کارکرد آموزشی روحانی دارد بیشتر نوشتههای هندویی بودایی جین بهکار رفتهاست سوترا یونانی Historia معنی جستجو آگاهی فرانسوی Histoire انگلیسی صورت Story معنی حکایت داستان قصه تاریخی History معنی تاریخ گزارش روایت بهکار میرودمهرداد بهار کتاب پژوهشی اساطیر ایران واژهشناسی اسطوره پرداختهاست واژه اسطوره واژهای برگرفته زبان عربی میداند اعتقاد دارد الاسطوره الاسطیره زبان عرب معنای روایت حدیثیاست اصلی ندارد واژه عربی برگرفته اصل یونانی historia معنای استفسار تحقیق اطلاع شرح تاریخ میداند جزو ترکیب یافتهاست واژه histor history معنای داور دیگری پسوند ia اعتقاد دارد واژه history مصدر یونانی iden معنای دیدن خویشاونداست بهار ادامه واژههای لاتینی Vidēre معنای دیدن یونانی idenai معنای دانستن سنسکریت vidyā اوستا vaēdya معنای دانش فارسی نوید معنای خبر خوش مژده بشارت واژه همریشه میداند ریشه هند اروپایی نخستین واژههای خویشاوند vid میداندبه اعتقاد بهار زبانهای اروپایی واژه myth انگلیسی فرانسه myth mythe آلمانی نظر محتوای معنایی برابر واژه اسطوره حالت جمع برابر واژه اساطیر زبان پارسیاست واژه myth برگرفته اصل یونانی mouth معنای سخن افسانه واژه فارسی مست مویه همریشه میداندپیشینه پژوهش حوزه اسطورهشناسیاز دیدگاه تاریخی مهمترین رویکردهای مدرن مطالعات اسطورهشناختی افرادی همچون فروید یونگ لوی برول لوی استروس فرای گروههایی همچون مکتب شوروی حلقه اسطوره آیین پایهگذاری شدهاستنخستین نظریههای انتقادی باب اسطوره طی سده نوزدهم میلادی ارائه گردید سده پژوهشگران اسطورهها بهعنوان نمونههای منسوخ ناکارآمد اندیشه انسانی معرفی مینمودند باور داشتند اسطوره چیزی بیش همتای ابتدایی دانش مدرن نیستاما سده بیستم میلادی بسیاری پژوهشگران اسطورهشناس دیدگاه ناقص دانسته رد کردند اصل امروز اسطوره بهعنوان سویه متضاد مخالف دانش نگاه نمیشود دید اسطورهشناسی مدرن بررسی تفسیر اسطورهها معنای کنار نهادن دانش نیستیونگ تلاش بنیادهای روانشناختی پنهان جهان اسطورهها دریابد باور همه انسانها وابستگی یک سری نیروهای ذاتی ناخودآگاه یکدیگر شریک نامشان کهنالگو نهادلوی استروس عقیده اسطورهها بازتاب الگوهای ذهنی انسان بیشتر پی یافتن ساختارهای ذهنی بهویژه دوگانهای متضاد همچون خوب بد مهربان ستمگر دل اسطورهها بودالیاده باور محوریترین کارکردهای اسطوره بنیان نهادن سرمشقهایی رفتار انسانی نشان نه تنها اسطورهسازی تضاد جهان امروز نیست بلکه انسان مدرن ناچار همچون نیاکانش اسطورههای ویژه میسازد نیمه سده بیستم میلادی بارت مجموعه مقالاتی منتشر فرایند اسطورهسازی جوامع مدرن بررسی نمود دید آنجایی تبیین مقررات اخلاقی وظیفه دانش مدرن نیست انسان همواره نیاز دارد درک یک رسم اخلاقی تجربیات اسطورهایدینی درکشده گذشته مرتبط شودتعریف افسانهافسانه دیدگاههای گوناگون بررسی قرار جامعهشناسان دینشناسان روانشناسان و… یک نوعی افسانهها بیان شناخت خاستگاه تفکر عاطفه بشر آرزوهای آدمی بهره جستهاند انسانهای جوامع کهن پیچیدگیهای جهان بیرونی روایتهای ساده خویش بازگشایی میکردند افسانه ادبیات فلسفه دین همواره پیوندی نزدیک داشتهاست افسانههای ملل مختلف همه اختلافاتی جزئیات دارند ساختار دارای یک سرنمون روایت شبیه میباشندآن دسته کسانیکه چه گذشته چه امروزه پژوهش واکاوی شناخت اسطورهها اشتغال دارند کنون اسطوره تعریف مشخص دقیق پذیرفتنی همگان نیافتهاند بلکه هریک میل اشتیاق وابستگیهای اجتماعی خویش تعریف کردهاند گهگاه تعریف متخصصان اسطوره اشکالاتی دیده علت ایناست اسطوره سر اعتقاد ایمان مینگرند آنان دنبال اندیشه لوی استروس درک اندیشه وحشی باید مثل زندگی نه تنها ساختار بلکه عملکرد جادویی اسطوره جامعه واقع اعجاز ایجاد همبستگی قومی عقیدهای ایمان میآورند همین دلیل اسطوره نهاد زنده بسیار مهمتر نهادهای کهن استمیرچا الیاده دینشناس رومانیایی افسانه چنین تعریف میکندافسانه نقلکننده سرگذشت قدسی مینویاست راوی واقعهایاست زمان نخستین زمان شگرف بدایت همه چیز رخ دادهاست بیان افسانه حکایت چگونه برکت کارهای نمایان برجسته موجودات فراطبیعی واقعیتی چه کل واقعیت تنها جزئی پا عرصه وجود نهادهاست بنابراین افسانه همیشه متضمن روایت یک خلقتاست یعنی میگوید چگونه چیزی پدید آمده هستی آغاز افسانه فقط چیزی براستی داده تمامی پدیدار گشته سخن میگوید شخصیتهای افسانه موجودات فراطبیعیاند تنها دلیل کارهایی زمان سرآغاز همه چیز دادهاند شهرت دارند اساطیر کار خلاق آنان بازمینمایانند قداست فراطبیعی بودن اعمالشان عیان میسازنددر مقابل عده دیگری افسانه صرفا سر انکار مینگرند گروه افسانه الگوهای تاریخی سازوارهای کهنه ازکارافتاده میبینند پیشرفت بشر رده خارج نظر یونگ فروید افسانهشناسی دانشیاست فرافکنی نمادین تجربیات روانی نوع بشر وجود آمدهاستافسانه قصهایاست خصلتی خاص یعنی نقل روایتی خدایان یک چند نقش اساسی دارند افسانهشناسی علمیاست کارش طبقهبندی بررسی مواد مصالح افسانهشناختی حسب روش تحلیل وارسی دقیقی همه علوم تاریخی معمولاستبه عبارت افسانه تلاشی بیان واقعیتهای پیرامونی امور فراطبیعیاست انسان تبیین پدیدههایی علتشان واقف نبوده تعبیرات فراطبیعی آورده زمانیاست هنوز دانش بشری توجیه کننده حوادث پیرامونیاش نیستبه عبارت انسان تلاش ایجاد صلحی روحی میان طبیعت خودش افسانهها خلق کردهاستاز دیدگاه انسان اصطلاح ابتدایی افسانه تاریخاست دیدگاه انسان مدرن افسانه تاریخ چیز متمایز کاملا متفاوتاندبا آنچه دانشمندان افسانهشناس پرداختهاند تعریفی کامل ولی چند وجهی افسانه میرسیم لوی استروس نقل قول ارزش افسانهای داستان حتی خلأ بدترین ترجمهها برگردانها حفظ ذات مفهوم افسانه نه سبک سیاق نه موسیقی کلامی ترکیبی اجزا ایجاد بلکه ارزش افسانه قصهایاست میگوید… رو افسانهها همه تفاوت جزئیات ساختار سرنمونی شبیه دارند'})), (455848, (('history', 22.52007030555827), {'url': 'https://fa.wikipedia.org/wiki?curid=3544266', 'title': 'فهرست مقالات مرتبط با ارمنستان', 'text': 'مقالات دستهبندی الفبایی مرتبط ارمنستان شاملزمینلرزه ۱۲۶۸ کیلیکیه ·1896 Ottoman Bank Takeover ·تظاهرات ۱۹۶۵ ایروان ·زمینلرزه ۱۹۸۸ ارمنستان ·1992 in Armenian football ·1993 in Armenian football ·1993 Summer Offensives ·1994 in Armenian football ·1995 in Armenian football ·199596 in Armenian football ·199697 in Armenian football ·1997 in Armenian football ·1998 in Armenian football ·1999 Armenian parliament shooting ·1999 in Armenian football ·فوتبال ارمنستان ۲۰۰۰ ·32nd Chess OlympiadAam ·Aaron the Illustrious ·آباص یکم ·آبوویان ·Abraham of Armenia ·Acacius of Sebaste ·باشگاه فوتبال هاچن ·Achots ·قتلعام آدانا ·Adjika ·Administration for Western Armenia ·استانهای ارمنستان ·شهرستان آقدام · Aghdznik ·آغستافا ·ایر آرمنیا ·ایر وان ایرلاینز ·جزیره آختامار ·آختالا ·باشگاه فوتبال آختامار ·رود آخوریان ·باشگاه فوتبال آلاشکرت ·آلاوردی ·آلیک ·آغیوویت ·All Armenian Labour Party ·Alma Johansson ·باشگاه فوتبال آلماست ·صومعه آماراس ·آماتونی ·آمبرد ·بنیاد کمکرسانی خاور نزدیک ·دانشگاه آمریکایی ارمنستان ·آناهید · Angl ·آنی ·Anthem of the Armenian SSR ·ارمنیستیزی ·Antzevasiq ·Antzitene ·آپاران · The Apex Theory ·زردآلو ·آرای زیبا ·حمله اعراب ارمنستان ·ناحیه آرابکیر ·باشگاه فوتبال آرابکیر ·باشگاه فوتبال آراگاتس ·استان آراگاتسوتن ·باشگاه فوتبال آرماویر ·آرامو ·Aranean ·آرارات ·آرارات ·استان آرارات ·دشت آرارات ·ارس ·Aravan ·Aravelian · Arba Lijoch ·Archaruni ·Archaruniq ·معماری ارمنی ·آرگیشتی دوم ·آرگیشتی یکم ·ارخالق ·آرماویا ·استان آرماویر ·آرماویر ·نیروهای مسلح ارمنستان ·ارمنستان ·نامهای ارمنستان ·روابط ارمنستان اتحادیه اروپا ·Armenia at the 1994 Winter Olympics ·ارمنستان بازیهای المپیک تابستانی ۱۹۹۶ ·Armenia at the 1998 Winter Olympics ·ارمنستان بازیهای المپیک تابستانی ۲۰۰۰ ·Armenia at the 2002 Winter Olympics ·ارمنستان بازیهای المپیک تابستانی ۲۰۰۴ ·Armenia at the 2006 Winter Olympics ·Armenia at the 2006 Winter Paralympics ·Armenia Davis Cup team ·تیم فدکاپ ارمنستان ·Armenia in the Eurovision Song Contest 2006 ·Armenia in the Eurovision Song Contest 2007 ·Armenia in the Eurovision Song Contest 2008 ·تیم ملی فوتبال ارمنستان ·Armenia national rugby union team ·Armenia Tree Project ·مارتیروس کاووکجیان ·ArmeniaAzerbaijan relations ·فرهنگستان ملی علوم ارمنستان ·نیروی هوایی ارمنستان ·نیروی هوایی ارمنستان ·الفبای ارمنی ·Armenian American Political Action Committee ·Armenian American Wellness Center ·کلیسای حواری ارمنی ·نیروی زمینی ارمنستان ·Armenian Assembly of America ·Armenian battalions ·مرزبانی ارمنستان ·Armenian Brotherhood Church ·گاهشماری ارمنی ·Armenian casualties during World War I ·Armenian casualties of deportations ·کلیسای کاتولیک ارمنی ·Armenian chant ·مسابقات قهرمانی شطرنج ارمنستان ·Armenian College ·حزب کمونیست ارمنستان ·Armenian community of Dhaka ·Armenian Congress of Eastern Armenians ·خیار چنبر ·جام استقلال ارمنستان ·رقص ارمنی ·Armenian Dances ·حزب لیبرال دموکرات ارمنیجماعت ارمنیان پراکنده ·جماعت ارمنیان پراکنده ·Armenian diaspora in the Middle East ·فهرست سفارتخانههای ارمنستان ·Armenian Distance Learning Network ·درام ·پوشاک ارمنی ·Armenian Evangelical Church ·لیگ دسته اول فوتبال ارمنستان ·Armenian First League 2006 ·Armenian First League 2007 ·Armenian General Benevolent Union ·نسلکشی ارمنیها ·نسلکشی ارمنیها ·روز یادآوری نسلکشی ارمنیها ·کاکایی ارمنی ·سرزمین کوهستانی ارمنستان ·فرضیه ارمنستان ·نگارگری ارمنی ·فدایی ارمنی ·پادشاهی ارمنی کیلیکیه ·زبان ارمنی ·Armenian Legion ·ادبیات ارمنی ·Armenian Mesopotamia ·اساطیر ارمنستان ·Armenian National Assembly ·بیداری ملی ارمنی ·کمیته ملی ارامنه آمریکا ·Armenian National Constitution ·Armenian National Council of Karabagh ·Armenian national ice hockey team ·جنبش آزادیبخش ملی ارمنی ·Armenian needlelace ·Armenian nobility ·Armenian notables deported from the Ottoman capital in 1915 ·Armenian Numismatic Society ·بلوط ارمنی ·ابلاست ارمنستان ·انتخابات مجلس ارمنستان ·انتخابات مجلس ارمنستان ·انتخابات ریاستجمهوری ارمنستان ·گذرنامه ارمنستانی ·انجمن میهنپرستانه ارمنیان اروپا ·ارکستر فیلارمونیک ارمنستان ·کدهای پستی ارمنستان ·لیگ برتر فوتبال ارمنستان ·لیگ برتر فوتبال ارمنستان ۲۰۰۵ ·لیگ برتر فوتبال ارمنستان ۲۰۰۶ ·لیگ برتر فوتبال ارمنستان ۲۰۰۷ ·Armenian Professional Society ·ارمنستان ۱ ·ارمنیهای اورشلیم ·مسئله ارمنی ·Armenian quote ·Armenian Research Center ·مقاومت طی نسلکشی ارمنیها ·فدراسیون انقلابی ارمنی ·ترانههای انقلابی ارمنی ·Armenian rock ·لاسرتای صخرهای ارمنی ·روبل ارمنستان ·Armenian School ·ارتش سری ارامنه آزادی ارمنستان ·جمهوری سوسیالیستی ارمنستان شوروی ·Armenian State Institute of Physical Culture ·بورس اوراق بهادار ارمنستان ·سوپر جام فوتبال ارمنستان ·Armenian surnames ·Armenian verbs ·واحدهای داوطلب ارمنی ·Armenian Workers Communist Party ·Armenian Workers Union ·ارمنیهای آمریکا ·ArmenianAssyrian relations ·جنگ ارمنستان–جمهوری آذربایجان ·نبرد آنی ·ArmenianGreek relations ·جنگ پارتی–ارمنی ·مردم ارمنی ·Armenians in Australiaارمنیان بلغارستان ·Armenians in Burma ·Armenians in Cyprus ·ارمنیهای مصر ·ارمنیهای گرجستان ·ارمنیهای آلمان ·ارمنیهای یونان ·Armenians in Hungary ·ارمنیهای هند ·Armenians in Indonesia ·ارمنیهای عراق ·ارامنه کویت ·ارمنیهای لبنان ·ارمنیهای لهستان ·Armenians in Romania ·ارمنیهای روسیه ·Armenians in Singapore ·ارمنیهای سوریه ·Armenians in the Czech Republic ·ارامنه هلند ·ارمنیها امپراتوری عثمانی ·ارمنیهای ترکیه ·Armenians in Turkmenistan ·Armenians in Ukraine ·کشتار ارمنیتاتار ۱۹۰۵–۱۹۰۷ ·روابط ارمنستان ترکیه ·قبچاقها ·ArmeShupria people ·گازپروم آرمنیا ·آرپا ·باشگاه فوتبال آرپا ·سلسله اشکانی ارمنستان ·Arsames I ·Arsames II ·آرشامشاد ·آرتاشات ·آرتاشات ·آرتاوازد یکم ·آرتاوازد دوم ·Artavasdes III of Armenia ·دودمان آرتاشسی ·آرتاشس یکم ·آرتاشس دوم ·آرتاشس سوم ·آرتیک ·Artinis ·جمهوری قرهباغ ·موزه ملی آرتساخ ·Artsruni ·آرتسواشن ·آروچاوانک ·آرزاشکون ·آشوت یکم ·آشوت دوم ·آشوت سوم ·آشتاراک ·آسکران ·درگیری آسکران ·آشوریان ارمنستان ·آتلانتیس یوروپین ایرویز ·Austrian Armenian Cultural Society ·یومارتالیک ·آیران ·آیرارات ·رود آزات ·مجلس ملی جمهوری ارمنستان ·باشگاه فوتبال آزناوورBباگاران ·Bagmasti ·بغراس ·دودمان باگراتونی ·باگرواند ·Bagvarti ·باقلوا ·Baluni ·Bambir ·ورزشگاه بانانتس · Basean ·نبرد چله ·Battle of Alexandropol ·Battle of Arara ·Battle of Artaxata ·نبرد آوارایر ·نبرد باگرواند ·نبرد باشآپاران ·نبرد دیلمقان ·Battle of Kara Killisse ·نبرد قارص ·Battle of Kelbajar ·Battle of Khasdour ·Battle of Nairi ·نبرد اولتو ·جنگ ایران روم ·نبرد سارداراباد ·Battle of Sarıkamış ·نبرد تیگراناکرت ·نبرد وارناکرت ·Battle of Wadi alKhazandar ·Belahuit ·بغنونوراوانک ·بجنی ·بیکیامای ایروان ·مسجد کبود ایروان ·سوپ برش ·بروکاس ·بوزلوق ·رصدخانه اخترفیزیک بیوراکان ·بیورغاوان ·ارمنستان بیزانس ·جنگهای ایران روم شرقی ·Bznuni ·بزنونیکCCalendar of Saints ·ارمنیهای کانادا ·نبرد شوشی ·سوار زرهپوش ·کلیسای جامع آنی ·کلیسای صلیب مقدسآلبانیای قفقاز ·لشکرکشی قفقاز ·سرشماری ارمنستان ·بانک مرکزی ارمنستان ·چامباراک ·Chamchwilde ·چارنتساوان ·شارلوت ملکه قبرس ·Chazinzarians · Cheoreg ·Chorpan Tarkhan ·کلیسای هوهانس مقدس ماستارا ·کلیسای نرسس کبیر مقدس ·کیلیکیه ·سینمای ارمنستان ·ارمنی کلاسیک ·نشان ملی ارمنستان ·Coat of arms of NagornoKarabakh ·Coat of arms of the Armenian SSR ·Cobra ·ارتباطات راه دور ارمنستان ·Confederation of Trade Unions of Armenia ·Conservative Party of Armenia ·کنستانتین یکم ارمنستان ·Constantine II of Armenia ·کنستانتین یکم شاه ارمنستان ·کنستانتین چهارم شاه ارمنستان ·کنستانتین سوم شاه ارمنستان ·کنستانتین چهارم شاه ارمنستان ·قانون اساسی ارمنستان ·Constitutional Rights Union ·کردوئنه ·بیکیامای ایروان ·آشپزی ارمنی ·فرهنگ ارمنی ·Cyrion and CandidusDدادی وانک ·دارالجس ·Daranali ·Dariunq ·داستاکرت ·David I Anhoghin ·David II of Lori ·David of Sasun ·داویت بک ·دبد ·باشگاه فوتبال دبد ·وزیر دفاع ارمنستان ·Defense of Van ·Degiq ·Democratic Party of Armenia ·اولین جمهوری ارمنستان ·Demographics of Armenia ·انکار نسلکشی ارمنیها ·دهل ·Dignity Democracy Motherland ·دیلیجان ·Dimaksean ·لوکاندوس ·Djidjrakatsi ·دلمه ·دوغ ·دودوک ·دوین ·باشگاه فوتبال دوین آرتاشات ·کلیسای حواری ارمنی · Dzophq ·رودخانه زوراگت ·DzoraporEEastern Armenia ·زبان ارمنی شرقی ·Eastern Armenian verb table ·Eastern Christian Monasticism ·واغارشاپات ·Echmiadzin Gospels ·اقتصاد ارمنستان ·Education in Armenia ·Eetch ·ارزنجان ·انتخابات ارمنستان ·Elisabethpol Governorate ·یغیشه وارداپت ·Embassy of Armenia in Ottawa ·سفارت ارمنستان واشینگتن ·Endzaiatsi ·Erato of Armenia ·فرودگاه اربونی ·دژ اربونی ·باشگاه فوتبال اربونی ·فرمانداری ایروان ·خانات ایروان ·Eruandhuni ·یروخان ·Expeditus ·جغرافیای ارمنستانFFauna of Armenia ·باشگاه فوتبال آراکس ·باشگاه فوتبال آرارات ایروان ·باشگاه فوتبال دوین آرتاشات ·باشگاه فوتبال بانانتس ·باشگاه فوتبال بنتونیت ایجوان ·باشگاه فوتبال دینامو ایروان ·باشگاه فوتبال گاندزاسار کاپان ·باشگاه فوتبال کیلیکیا ·باشگاه فوتبال کوتایک ·باشگاه فوتبال ماسیس ·باشگاه فوتبال میکا ·باشگاه فوتبال پیونیک ·باشگاه فوتبال شیراک ·باشگاه فوتبال وانادزور ·باشگاه فوتبال یغوارد ·باشگاه فوتبال ایروان ·باشگاه فوتبال زوارتنوتسایایال ·فدائیان ·منطقه فریدن ·شورای قسطنطنیه ·باشگاه فوتبال آراگاتس ·باشگاه فوتبال قرهباغ ·شهرستان فضولی ·پرچم ارمنستان ·پرچم جمهوری قرهباغ ·Flag of the Armenian SSR ·Fondation Université Française en Arménie ·فدراسیون فوتبال ارمنستان ·روابط خارجی ارمنستان ·روابط خارجی جمهوری آرتساخ ·چهل روز موسی داغ ·Forty Martyrs of Sebaste ·FrancoArmenian relations ·لژیون ارمنی فرانسه ·Fund for Armenian ReliefGGabelian ·گاگیک یکم ·گاگیک دوم ·صومعه گنجسر ·گاردمان ·گارگین خاچاتریان ·Garithaianik ·گارنی ·سمفونی سنگها ·گاتا ·گاوار ·رشتهکوه گقام ·صومعه گغارد ·استان گغارکونیک ·Gentuni ·جغرافیای ارمنستان ·جغرافیای ارمنستان ·جنگ گرجستان ارمنستان ·گتاشن آرماویر ·قاپاما ·کلیسای جامع شوشی ·The GoldenHeaded Fish ·Goltn ·گرانبوی ·گوریس ·گوشاوانک ·Grand Lodge of Armenia ·ارمنستان متحد ·Greeks in Armenia ·گریگور نارکاتسی ·گریگور روشنگر ·گتچاوانک ·گوگارک ·گالوست گلبنکیان ·گیومری ·ورزشگاه شهر گیومریH Hachdeanq ·هادروت ·صومعه هاغارتسین ·هاقپات ·صومعه هاقپات ·Haigazian Armenological Review ·رقص هالای ·حلوا ·هامازگائین ·کشتار حمیدیه ·همشینها ·ورزشگاه جمهوریت وازگن سارگسیان ·Hanzith ·هاریسا ·هاریچاوانک ·HayasaAzzi ·Hayastani Azgayin Scautakan Sharjum Kazmakerputiun ·هایک ·میراث ·هتوم یکم شاه ارمنستان ·هتوم دوم ·دودمان هتومی ·تاریخ ارمنستان ·تاریخ ارمنستان ·تاریخ قرهباغ کوهستانی ·تاریخ قرهباغ کوهستانی ·تاریخ یهودیان ارمنستان ·HittiteHayasa War ·سریر مقدس کیلیکیه ·گویش همشینی ·هنرمند مردمی ارمنستان ·Horizon Weekly ·Horom Citadel ·خاندان حسن جلالیان ·هرازدان ·رود هرازدان ·ورزشگاه هرازدان ·حقوق بشر ارمنستان ·حمصIIce Hockey Federation of Armenia ·ایجوان ·باشگاه فوتبال ایمپالس ·روابط ارمنستان ایران ·ساهاک پارتو ·ایشپوئینی ·اسلام ارمنستانJجبراییل شهر ·James I of Cyprus ·ژانوس قبرس ·جرموک ·جرموک ·ژان دوم قبرس ·هوهان مامیکونیان ·Justice ·تکاوران عدالت نسلکشی ارامنهKکاجاران ·کارواجار ·کمانچه ·کامساراکان ·کلیسای کاناچ ژام ·باشگاه فوتبال آرابکیر ·قانون ·کاپان ·قرهباغ ·قالی قرهباغ ·اسب قرهباغ ·خانات قرهباغ ·Karbelian ·کارین ·باشگاه فوتبال کارین ·Karqayin ·قارص ·Kars Oblast ·رود کاساغ ·باشگاه فوتبال میکا ·Kashkak ·نونه یسائیان ·کلیسای نجات دهنده ترابزون ·ورزشگاه کاساغی مارزیک ·کباب ·صومعه کچاریس ·Kelashin ·Kenuni ·چلیپاسنگ ·Khachkar destruction in Nakhchivan ·Khaz ·Khaldi ·خانات قفقاز ·هیئت اعزامی خناسر ·کلهپاچه ·خواجهلی ·خوجاوند ·صومعه خور ویراپ ·مدال موسس خورناتسی ·Khorkhoruni ·خسرو سوم ارمنستان ·کبه ·ارمنستان بزرگ ·ارمنستان باگراتونی ·Kingdom of Lori ·پادشاهی واسپوراکان ·قتلعام گنجه ·Kiurike I ·Kiurike II ·کوفته ·گوریون ·استان کوتایک ·Kotayk Brewery ·ورزشگاه شهر آبوویان ·قوزان ·باشگاه فوتبال کومایری ·تمدن کورا–آراکس ·KurdishArmenian relations ·جمهوری کردستان سرخLلاچین ·شهرستان لاچین ·گذرگاه لاچین ·لحمعجین ·دریاچه آکنا ·دریاچه آرپی ·دریاچه کاری ·دریاچه لسینگ ·دریاچه سوان ·دریاچه ارومیه ·دریاچه وان ·Landmine situation in Nagorno Karabakh ·Languages of Armenia ·نان لواش ·Law and Unity ·پلیس جمهوری ارمنستان ·Law enforcement in NagornoKarabakh ·شنبه لازاروس ·کمیته آمریکایی آزادیبخش مردم روسیه ·لئو یکم شاه ارمنستان ·لوون سوم ·لئو سوم شاه ارمنستان ·لئو چهارم شاه ارمنستان ·لئو پنجم شاه ارمنستان ·لئو پنجم شاه ارمنستان ·Leontine martyrs ·ورزشگاه گاندزاسار ·لرنامردز ·باشگاه فوتبال لرناین آرتساخ ·ارمنستان کوچک ·LGBT rights in Armenia Gay rights·Liberal Democratic Union of Armenia ·Liberalism in Armenia ·فهرست فرودگاههای ارمنستان ·فهرست شاهان ارمنستان ·List of Armenian Patriarchs of Jerusalem ·فهرست قلعههای ارمنستان ·فهرست شهرها شهرکهای ارمنستان ·فهرست هیئتهای دیپلماتیک ارمنستان ·فهرست باشگاههای فوتبال ارمنستان ·List of kings of Ani ·List of kings of Urartu ·List of monarchs of the Armenian Kingdom of Cilicia ·فهرست روزنامههای ارمنستان ·فهرست حزبهای سیاسی ارمنستان ·List of renamed cities in Armenia ·فهرست آتشفشانهای ارمنستان ·آرارات کوچک ·استان لوری ·باشگاه فوتبال لوری ·باشگاه فوتبال لویسآرارات ·LutipriMMadrid Principles ·ماکاراوانک ·باشگاه فوتبال مالاتیا ·Malkaz ·مامیکونیان ·Manavazian ·Mandakuni ·Manic Depressive Psychosis ·منتو ·کشتار ماراقا ·مارالیک ·مارتاکرت ·Mardakert and Martuni Offensives ·Marie of Armenia ·مارتونی ·مروانیان ·Marxist Party of Armenia ·ارمنستان ساسانی ·Marzpetuni ·ماسیس ·ماتاغ ·ماتناداران ·ماتناکاش ·ارمنستان سدههای میانه ·مغری ·ملتیوس آنتیوک ·Melik ·منوآ ·سرود ملی ارمنستان ·نیروگاه هستهای متسامور ·Metsamor site ·مزه ·Middle Armenian ·Mighty Fatherland ·ورزشگاه میکا ·تاریخ نظامی ارمنستان ·Military history of NagornoKarabakh ·میتانی ·مهرداد ارمنستان ·مژژ دوم گنونی ·Mleh of Armenia ·واراگاوانک ·حمله مغول گرجستان ·موسی خورنی ·مام ارمنستان ·آراگاتس ·کوه آرارات ·موکس ·Mugni Gospels ·مقاومت موسی داغ ·موصاصیر ·موصاصیر ·باشگاه فوتبال موش چارنتساوان ·Mushki ·موسیقی ارمنی ·My Brothers RoadNناگورنو قرهباغ ·استان خودمختار قرهباغ کوهستانی ·همهپرسی قانون اساسی ناگورنوقرهباغ ·ارتش تدافعی جمهوری آرتساخ ·انتخابات ریاستجمهوری جمهوری قرهباغ ·جنگ قرهباغ ·نائیری ·ورزشگاه آلاشکرت ·باشگاه فوتبال نائیری ·ناخارار ·جمهوری خودمختار نخجوان ·خانات نخجوان · Namrun Kalesi ·مجلس ملی جمهوری آرتساخ ·National Association of Girl Guides and Girl Scouts of Armenia ·اتحاد دموکراتیک ملی ·National Foundation of Science and Advanced Technologies ·قهرمان ملی ارمنستان ·National Unity ·نرکین گتاشن ·نرسس چهارم شنورهالی ·New Country ·حزب دوران نوین ·Night Ark ·Niphates ·نور هاچن ·نوراوانک ·نور شیراکان ·Nourie Hadig ·نویمبریان ·پیماننامه نوارساکOOaksenham ·Octoechos ·اودزون ·ارمنی کلاسیک ·Olnut ·عملیات نمسیس ·عملیات حلقه ·Orduniq ·مردم ارمنی ·باگراتیونیها ·دودمان اروندی ·اوشاکان ·اوشین شاه ارمنستان ·Oshin of Korikos ·Ottoman Armenian casualties ·OutiPPahlavuni ·بازیهای پانارمنی ·PanArmenian National Movement ·پاپ ·Pastırma ·فوتیوس اول ·جنبش پاولیکیان ·پاوستوس بوزاند ·پایتاکاران ·Peoples Party of Armenia ·نور شیراکان ·ارمنستان ساسانی ·Peter of Sebaste ·پلو ·نان پیتا ·پلو ·سیاست ارمنستان ·Politics of NagornoKarabakh ·Polyeuctus ·پوراک ·Postal history of Armenia ·گاهشمار تاریخ نوین ارمنستان ·رئیسجمهور ارمنستان ·President of NagornoKarabakh ·نخستوزیر ارمنستان ·Prime Minister of NagornoKarabakh ·Princess Isabella of Armenia ·Principality of Khachen ·ProtoArmenian language ·تعطیلات رسمی ارمنستان ·پیوتر کوتلیارفسکیQQadchberuni ·ناحیه کاناکر زیتون ·Qolian ·قبادلی ·زابل ملکه ارمنستان ·Queen Keran of ArmeniaRحزب لیبرال دموکرات ارمنی ·Raphsonian ·حراج جانها ·به رسمیت شناختن نسلکشی ارمنیها ·اساطیر ارمنستان ·Religion in Armenia ·Remposian ·Renewed Communist Party of Armenia ·حزب جمهوری ·Republic of Mountainous Armenia ·میدان جمهوری ایروان ·حزب جمهوریخواه ارمنستان ·رادامیستوس ·Rise the Euphrates ·رودها دریاچههای ارمنستان ·Roman Catholicism in Armenia ·Roman relations with the Armenians ·ایزو ۹۹۸۵ ·رشتونی ·Rshtuniq ·Ruben I of Armenia ·Ruben II of Armenia ·روبن سوم ·دودمان روبنی ·حزب کشور قانونمند ·RUOR Yerevan ·روسای یکم ·روسای دوم ·Russian 102nd Military Base ·ارمنستان روسیه ·RussianArmenian State University ·دوره اول جنگهای ایران روسیه ·جنگ ایران روس ·جنگ روسیه عثمانیSساغموساوانک ·Sahak Bagratuni ·Saharuni ·Sahl ibnSunbat ·St Astvatzatzin ·سنت بلیز ·کلیسای گایانه قدیس ·St Gevork church ·کلیسای ارمنی باکو ·کلیسای هریپسیمه مقدس واغارشاپات ·مسروب ماشتوتس ·Saint Narses ·Saint Nearchus ·St Stepanos Church Smyrna ·سام یکم ·سامتسخهجاواختی ·جزیره سن لازارو ·ساناهین · Sanatruces I of Armenia ·آرماویر ·یادبود نبرد سارداراباد ·ساردوری یکم ·دلمه برگ مو ·مخزن سد سارسانگ ·ساسون ·Sasun Resistance ·Sasun Uprising ·SassuntsiDavit Tank Regiment ·ساتالا ·باغلاما ·Scouting and Guiding in Armenia ·Selardi ·Selkuniq ·سمبات شاه ارمنستان ·Serart ·Seruantztian ·سوان ·پارک ملی سوان ·سواناوانک ·ShabinKarahisar uprising ·شدادیان ·استان شاهومیان ·شاملوغ ·ذخیرهگاه دولتی شیکاهوغ ·استان شیراک ·فرودگاه شیراک ·ShulaveriShomu culture ·شوشی ·شهرستان شوشا ·استان شوشی ·شوی ·مقاومت وان ·باشگاه فوتبال لرناگورتس واردنیس ·سیسیان ·Siunia Dynasty ·سیواس ·Siwini ·باشگاه فوتبال بنتونیت ایجوان ·باشگاه فوتبال واغارشاپات ·SKIF Yerevan ·سمبات یکم ·سمبات دوم · Smbat III ·حزب سوسیال دموکرات هنچاکیان ·فدراسیون انقلابی ارمنی ·سوفن ·Soviet 76th K Y Voroshilov Division ·Soviet 89th Tamanyan Rifle Division ·Spanduni ·تشیکلات ویژه ·Spelling reform of the Armenian language 19221924 ·ایسپیر ·ورزش ارمنستان ·بلول ·دانشگاه پلیتکنیک ارمنستان ·استپاناکرت ·استپاناوان ·The Story of Zoulvisia ·Sujuk ·کشتار سومقاییت ·Surp Hovhannes Mkrtich ·سیستم آو ا داون ·باشگاه فوتبال گاندزاسار کاپاناستان سیونیک ·Tتبوله · Tachir ·تالین ·TaoKlarjeti ·تارون ·شهرستان ترتر ·تاشیر ·TashirDzoraget ·صومعه تاتو ·استان تاووش ·Tayk ·قانون تهجیر ·تیشبانی ·Terpatuni ·Teruni ·قره کلیسا ·Theispas ·Theodore Edward Dowling ·جنگ مهردادی سوم ·تورورس یکم شاهزاده ارمنستان ·Thoros II of Armenia ·توروس سوم شاه ارمنستان ·سه پاشا ·تیگراناکرت آرتساخ ·Tigranes ·تیگران یکم ·تیگران سوم ·تیگران چهارم ·تیگران دوم ·Tigranes V of Armenia ·تیگران ششم ·گاهشماری رویدادهای تاریخی ارمنستان ·Timeline of Armenian national movement ·تیرداد یکم ·تیرداد سوم ارمنستان ·Tmoriq ·Togarmah ·جنبش تندراکیان ·توپراققلعه ترکیه ·Trade unions in Armenia ·Traditional Armenian orthography ·جمهوری فدرال دموکراتیک قفقاز جنوبی ·جمهوری سوسیالیستی ماورای قفقاز شوروی ·Transport in Armenia ·پیمان الکساندراپول ·Treaty of Batum ·عهدنامه گلستان ·عهدنامه قارص ·عهدنامه مسکو ·پیمان سن استفانو ·معاهده سور ·عهدنامه ترکمانچای ·Trialeti culture ·تساغکادزور ·Tsakhkadzor ski resort ·یادمان نسلکشی ارمنیها ·تسغوک ·باشگاه فوتبال توفاگورتس ·تومانیان ·قهوه ترک ·جنگ ارمنستان–ترکیه ·توروبران ·توشپاUاودیها ·باشگاه فوتبال اولیس ·Union of Communists of Armenia ·Union of Producers and Women ·United Communist Party of Armenia ·United Labour Party ·ارمنستان علیا ·زبان اورارتویی ·اورارتو ·Urdz ·Urfa Resistance ·اوتیکVواهاناوانک ·Vahe ·Vahevuni ·Vahram Pahlavouni ·کلیسای واهراماشن ·Vakıflı ·باشگاه فوتبال وان ایروان ·وان ·وانادزور ·واناند ·اورارتو ·Varajnuni ·وارازدات ·واردنیس ·Vartabed ·وارداوار ·وایک ·استان وایوتسجور ·ودی ·Viceroyalty of the Caucasus ·Visa policy of Argentina ·ووغجی ·VoKee ·رود وروتانWجنگ ارمنستان ایبری ·جنگ ایران روم ·روز جهانی آب ·ما کوههای هستیم ·ارمنستان غربی ·زبان ارمنی غربی ·Western Armenian verb table ·تئوری توطئه نسلکشی سفیدپوستان ·حیات وحش ارمنستان ·ارمنستان ویلسون ·اتحادیه نویسندگان ارمنستانXXerxes of ArmeniaYایزدیان ارمنستان ·یغگنادزور ·صومعه یغیشه آراکیال ·یغوارد ·یرابلور ·باشگاه فوتبال یرازانک ·یرآذ ·ایروان ·Yerevan Brandy Company ·Yerevan Drive ·دریاچه ایروان ·متروی ایروان ·دانشگاه دولتی زبانها علوم اجتماعی بروسوف ایروان ·دانشگاه پزشکی دولتی ایروان ·کنسرواتوار دولتی کومیتاس ایروان ·Yerevan State Pedagogical University ·دانشگاه دولتی ایروان ·برج تلویزیونی ایروان ·باشگاه فوتبال ایروان یونایتد ·باغوحش ایروان ·یروانآویا ·صومعه یریتس مانکانانتس ·یرکیر ·یروانداشات ·یروانداشات ·یرواند یکم ·Yıldız AttemptZZaatar ·ارمنستان زاکاری ·ZakaridMxargrzeli ·کوهستان زانگزور ·زنگیلان ·باشگاه فوتبال زانگزور ·Zaravand ·Zeitun Resistance ·زنون گلاک ·Zeytuntsyan ·Zurna ·زوارتنوتس ·فرودگاه بینالمللی زوارتنوتس'})), (160249, (('history', 22.52007030555827), {'url': 'https://fa.wikipedia.org/wiki?curid=899326', 'title': 'زبان فارسی در کشمیر', 'text': 'دره جامو کشمیر علت شباهت هوا زمین محیط سامان ایران ایران کوچک نامیدهاند بسیاری بناها باغات قالی کشمیر تأثیر هنر ایران مشهود لحاظ نثرنویسی دوره تیموریان کشمیر بسیار غنی استورود زبان ادبیات فارسی دره پهناور جامو کشمیر همزمان گسترش دین اسلام نواحی ربع اول سده هشتم هجری بهطور خاص آغاز ولو سده یکم هجری عدهای مسلمانان ناحیه بسر بردهاند سده مزبور صوفیان بزرگ ایران مانند سید شرف الدین بلبل شاه لهورستانی م ۷۲۷ ه میر سید علی همدانی م ۷۸۶ ه بسیاری همراهان آنان موجب توسعه اسلام زبان فارسی سامان بودهانددر سال ۷۲۵ ه نخستین مسلمان کشمیر صدر الدین عبدالرحمن بلبل شاہ براین سرزمین قدم نہاد سال ۷۴۳ ه شاهان شاهمیری سلطنه قلمرو بدست آوردند ۷۴۳ – ۹۶۲ ه سپس چکها اقتدار گرفتند ۹۶۲ – ۹۹۴ ه ناحیه کشمیر عهد اکبر شاه تیموری جزوی پادشاهی تیموریان مغولان تلقی – دوره تیموریان کشمیر عهد سلاطین کشمیر مینامندبنابر ہزیمت مغولان بدست نادر شاہ افغان جنگ پانی پت سوم افغانان قبضہ کشمیر کردند۔ ١٧٥٧ ١٨١٩ء حکومت کردند۔ مردم کشمیر سخت ظلم آوردند۔ ہمین ری سکھان سال ١٨١٩ ١٨٤٦ء مسلط کشمیر شدند۔ ایام سکھان مردم جامو کشمیر فقط تیرگی استبداد دیدند۔دیگر اضافہ بسال ١٨٤٦ء حکومت انگلیسیان ہند کشمیر بعدد ٧٥ لاک روپیہ نانک شاہی ہمہ مضافات جامو کشمیر لداخ بہ گلاب سنگ دوگرہ کہ مذہبا ہندو بودہ فروختند۔ ازان حکومت دوگران کشمیر استقرار شد۔ سال ١٨٤٦ء ١٩٤٧ء ہمہ ریاست غلام خویش دانستند بطرز ظلم جبر ملکیت مردم تحویل خویش گرفتند۔ مردم حتی کہ زنان کوکان کار اجباری ہم گرفتند۔بہر کیف آزادی ہندوپاک بسال ١٩٤٧ ریاست جامو کشمیر سہ قسمتہا منقسم کہ حالا حکومت ہند حکومت پاکستان حکومت چین است۔ حالا مردم ریاست ہیچ حقوق فراہم نیست کہ بمطابق آرزو تمنائی زندگی بسر کنند۔ ہم سازمان ملل متحدہ یازدہ وضوحی درمورد قبول کردہ مردم ریاست حقوق حاصل شودند مگر ہم مثل خواب حسین کہ تعبیر ندارد۔حوالہ جات 1Bazaz PN Inside Kashmir2Bamzai PNK Cultural history of kashmir vol33Ac Aggarwal Modern history of kashmirپیشینهبعد عصر ده بهویژه برقرار گردیدن دولت گورکانیان هند متحد شدن بخش اساسی کشور گرد یک مرکز سیاسی وضع موجود خیلی تغییر یافت روابط سیاسی میان فرارودهندوستان ایران هند خیلی بهتر گردیده وسعت یافتن روابط اقتصادی فرهنگی ادبی ممالک زمینه مساعدی وجود آمداهل علم ادب چه فرارود ایران چه محلهای دوردست خاک هند پاکستان امکانات بیشتر پیدا نمودند کشمیر مسافرت کرده سرزمین زیبا نزدیک آشنائی پیدا کنندهمانطوری تذکرةالشعرای مطربی مذاکر الاصحاب ملیحای سمرقندی ملاحظه میکنیم دهها شاعران عصرهای شانزدههفده میلادی فرارود هند پاکستان مسافرت کرده آنجا کشمیر گذشتهاند گردش سرزمین میهن برگشتهاند بهطور دائمی آنجا اقامت گزیدهاند تصویر بسیاری زیبائیهای سرزمین موضوع آثار ادبی قرار دادهاند ردیف شاعران کشمیر سفر کرده فرارود غیر شعرای ذکر تذکره نامبرده بالا شاعران ممکن بهشمار آورداظهر بخاری ۱۶۲۱۱۰۳۱ بدیعی سمرقندی عصر هفده فاضل خان منصف درگذشته ۱۷۰۸۱۱۲۰ میرزا علی اکبر بدخشی درگذشته ۱۶۱۶۱۰۲۵ ملا شاه بدخشی درگذشته ۱۶۷۴۱۰۸۲ اسلام خان بدخشی درگذشته ۱۶۷۳۱۰۸۴ اکمل بدخشی درگذشته ۱۶۷۳۱۰۸۴ میرزا جان بیک سامی درگذشته ۱۷۷۱۱۱۸۵ شعرای عصر شانزده میلادی کشمیر بدر الدین عبد السلام کشمیری هند فرارود آمده محیط فعالیتهای وسیع ادبی پرداختهاست شاعر مشهور مولانا یعقوب صرفی کشمیری درگذشته ۱۵۱۵۱۰۶۴ادامهدهنده زبردست سنت ادبی عبد الرحمن جامی کشمیر فرارود ماوراءالنهر آمد آشنایی محافل ادبی علمی تصوفی سرزمین دوباره کشمیر برگشتشمار شاعرانی دوران ایران هند مسافرت کردهاند بسیارند ویژه شاعران چیرهدست عصرهای شانزده هفده میلادی سرزمین دهها نفر همچون عرفی شیرازی درگذشته ۱۶۱۲۱۰۲۱ شاهپور تهرانی درگذشته ۱۶۳۸۱۰۴۸ محمد جان قدسی مشهدی درگذشته ۱۶۴۶۱۰۵۶ میرزا رضا دانش مشهدی درگذشته ۱۶۷۵۱۰۸۶ محمد سلیم تهرانی درگذشته ۱۶۷۴۱۰۸۵ ملا طغرای مشهدی درگذشته ۱۶۷۶۱۰۸۷ امثال ایران هندوستان آنجا کشمیر گذشته بخشی محصول ادبی تصویر زیباییهای کشمیر بخشیدهانداز شاعران پارسی گوی هند پاکستان ساحه تصویر زیباییهای کشمیر طبعآزمایی کردهاند بسیارند اینجا بهطور نمونه ممکن شاعران زیرین یادآوری نمود ملا شیدای فتحپوری درگذشته ۱۶۱۷ه ۱۰۲۶ ابوالفیض فیضی اکبرآبادی درگذشته ۱۶۳۱۱۰۴۶ ملا منیر لاهوری درگذشته ۱۶۴۴ ۱۰۵۴میر محمد زمان راسخ لاهوری درگذشته ۱۶۹۵۱۱۰۷ناصر علی سرهندی درگذشته ۱۶۹۶۱۱۰۸گلشن دهلویدرگذشته ۱۷۲۷۱۱۴۰ آفرین لاهوری درگذشته ۱۷۳۶۱۱۴۸از شاعران پارسیگوی هند پاکستانند تصویر مناظر بینظیر کشمیر اشعار برکنار نماندهانداینگونه آمد رفت شعرای ممالک ذکر کشمیر اگر یک طرف ردیف عاملهای اجتماعی اقتصادی فرهنگی محیط ادبی کشمیر بدرجه خیلی زیاد جنبش آورده جانب تصویر کشمیر مناظر بینظیر طبیعی نظم بیش وسعت دادهاستاگر آثار شعرای عصر شانزده میلادی گاه گاهی تنها ذکر کشمیر زیبائیهای طبیعت مردم برخورد میکنیم عصر شانزده اوصاف کشمیر تصویر مناظر طبیعی خوبرویان قطعه رباعی غزل قصیده مثنوی آثار فراوانی آفریده آثار باارزش ادبیبدیعی ردیف شیواترین اشعار بهترین نمونه ادبیات پارسی عصرهای شانزدههیجده میلادی هند پاکستان بشمار میروندمثلا قصیده غزلهای سروده طالب آملی وصف کشمیر مثنوی کشمیرنامه قدسی مشهدی مثنوی بهار جاوید منیر لاری قصیده مشهور وصف کشمیر سروده عرفی شیرازی قصیده همین موضوع سروده فیضی اکبر آبادی شهر آشوب فصاحت خان کشمیری امثال نه اینگه آثار درجه اول شاعران بلکه آثار ممکن بهترین نمونههای نظم پارسی عصرهای نامبرده بالا بشمار آورددر دوام عصرهای شانزدههیجده میلادی صدها نمایندگان ادب پارسی وجود آورد آثار منظوم بهره معینی ادبیات بجای میگذارند مولانا یعقوب صرفی کشمیری درگذشته ۱۵۹۵۱۰۰۴ شیخ محسن فانی کشمیری درگذشته ۱۷۷۵۱۱۸۹و دهها شاعر مبرز امروز کشمیریان اهل هند پاکستان آثار ادبی فخر میفروشند تربیتیافتگان محیط ادبی ادوار گفته کشمیر هستندبا احول آثار منظوم سروده شعرا وصف کشمیر محصول ادبی شعرای سه عصر ذکر کشمیر بهطور کلی قسمتهای خیلی کم آموخته ادبیات پارسی هند پاکستان استیکی عوامل عمده دادن حالت یک جهت جمعآوری نشدن آثار سروده شعرا وصف کشمیر کتاب علیحده اواخر طرف دسترس نبودن تذکرة الشعرای خاص شاعران کشمیر زمان اخیر پژوهشگران هند پاکستان گرچه تألیف تذکرههایی درباره شاعران دوران یادشده کشمیر همچونحیات الشعراتألیف مین کشمیری تذکرة الشعرای کشمیر تألیف محمد اصلحو امثال باخبر بودند بنابر نایاب بودن همه منابع ادبی مفقود میپنداشتنداز جهت تحقیقات ادبی ابتدای عصر بیستم طرف درباره ادبیات مذکور هند پاکستان نشر گردیدهاند ما تنها بشرح حال یک عده ناچیزی شاعران کشمیر برمیخوریم جمله نگارستان کشمیر تألیف ظهور الحسن بهارستان کشمیر نام اثر بیخبر پارسیسرایان کشمیر تألیف دکتر تیکو ادبیات فارسی پاکستان نام اثر ظهورالدین احمد ایران صغیر تذکره پارسیسرایان کشمیر تألیف عبد الحمید عرفانی امثال عینا همین حالت مشاهده میکنیممثلا اثر آخرین دارای عنوان برجستهای فقط ۳۱ نفر شاعر مشاهده میکنیم ۲۷ نفر پارسیسرایان کشمیر بودهاند عرفانی اثر غنی کشمیری شروع اینچنین معلوم گویا غنی کشمیر شاعری نگذشته اخبار شرح حال شعرا بکلی ناقص بوده درباره جریان زندگی هیچ یک شعرای وارده اثر درک تصور کاملی امکانپذیر نیستعلل عمده دادن حالت اینگونه تألیفات همانطوری پیشتر درباره ادبیات پارسیسرایان کشمیر قید کردهایم همانا نبودن منابع ضروری ادبی بودهاستاشعار سروده شاعران وصف کشمیر اواخر همان وضعیت سابق کسی جمع اشعار مشغول نمیشوداین حالت مسئله تحقیق آثار ادبی پارسیسرایان کشمیر بررسی اشعار سروده اوصاف کشمیر دشواری بزرگی بوجود آورده حالی آموختن تعیین موقع آثار تاریخ ادبیات پارسیسرایان هند پاکستان وظایف مهم روز بشمار میآمداما دانشمندان مبرز پاکستان دکتر سید حسامالدین راشدی دوام سالهای ۱۹۶۶۱۹۶۹ توانست مشکلات موفقیت طرف نماید دکتر راشدی نتیجه تحقیقات دامنهدار نسخه تذکرة الشعرای کشمیر تألیف محمد اصلح کتابخانه پاکستان کتابخانه شخصی دیگری کتابخانه لیاقتپیدا نموداین کشف مؤلف اکتشافات خرد علمی نبودزیرا همان طوری سابقا اشاره کردهایم اصحاب تحقیق سرچشمه گرانبها منابع ناپدیدشده میپنداشتند تذکره محمد اصلح راجع ادبیات پارسیسرایان کشمیر حقیقت یک منبع بی بدل بودما اثر شرح حال نمونه اشعار ۳۰۵ تن شاعران پارسی سرای کشمیر مشاهده میکنیمسید محمد ابن منطقی بیهقی – م ۸۸۹ ه شعرای عهد بابا ویسی شهرت دارد بشیوه مولوی شعر میگفتصاحب تاریخ رشیدی معروف شاعر بودهاستدر دوره مختصر چکها بسیاری شعرا ادبا برخاستند مانند ملانامی محمد امین مستغنی ملا عینی شیخ حمزه م ۹۸۱ ه بابا داود خاکی گنائی م ۹۹۴ ه خواجه حسن قاری خواجه میر بزاز سلطان یوسف شاه چک ۹۸۷ – ۹۸۹ همیر سید علی همدانیمیر سید علی همدانی القاب علیؓ ثانی شاه همدان امیر کبیر حواری کشمیر شهرت دارد دارای آثار زیادی شاعر مجموعه ۴۱ غزل بانضمام نه رباعی کنون سه بار بچاپ رسیدهاستسید علی همدانی فرزندش میر سید علی همدانی م ۸۵۴ ه حدود ۱۳۰۰ سادات ایرانی کشمیر کشانده باعث گسترش زبان ادب فارسی هنر ایرانی ناحیه گردیدهاند سید علی همدانی مدفون ناحیه ختلان کولاب تاجیکستان ده سال کشمیر نواحی گذراندهاست سلطان زین العابدین شاهمیری ۸۲۷ – ۸۷۸ ه پادشاهان مشوقان بزرگ ادب شاعر بوده تخلص قطبرساله عقبات قدوسیه میر سید علی همدانی بنام پادشاه کشمیر سلطان قطب الدین ۷۷۵ – ۷۹۵ ه نوشته چندین مکتوب بنام همان پادشاه نگارش یافتهاست طبیبی عهد قطب الدین نام شهاب الدین شهرت داشته کتاب شفاء الدین الامراض فارسی نوشتهاستمیر سید محمد همدانی مذکور دوران اقامت کشمیر ۷۹۶ – ۸۱۷ ه رسالهای تصوف شرح شمسیه منطق تألیف نمودهاست سید حسین بیهقی عهد سلطنت سلطان زینالعابدین رساله هدایت الاعماء نوشته شامل بیان عقاید دین اسلام بعضی تواریخ کشمیر زبان فارسی دوره یادشده تألیف گردیده چه بسا کتب سانسکریت فارسی برگردانده ولی عده زیاد کتب فارسی دوره منوط تبیین عقاید افکار دین تصوف چه یاد دادن نو مسلمانان کار لازم دوره طلائی تیموریان شبه قاره البته دره جامو کشمیر جزو مهمترین نقاط زبان ادبیات هنر فرهنگ ایران آمد'})), (163617, (('history', 22.52007030555827), {'url': 'https://fa.wikipedia.org/wiki?curid=933427', 'title': 'محمد عبدالله آل آهاری', 'text': 'محمد عبدالله آل آهاری تولد۶ ژانویه ۱۹۶۵ مقالهنویس آمریکایی محقق نویسنده موضوعات اسلامی آمریکا سیاه پوستان ملیگرا اقلیتهای مذهبی اسلامی دنیای اسلامی قدیم جدید فلسفه علوم غیبی ماورائی اسلاماز عبدالله آل آهاری آمریکا نیجریه بوسنی ترکیه کتاب مقالاتی خصوص اسلام منتشر کالج اسلامی آمریکا شیکاگو مدت سه سال فرق اسلامی مانند صوفیان نعمت الهی بکتاشیان تحت شیخ رفیع صنعتی شریف تیجانی نقشبندیه مطالعه نمود حاصل مطالعات سفرهای سراسری آل آهاری مساجد مدارس اسلامی آمریکا منجر تمرکز مطالعاتی حفاظت حراست قطعات نادر ادبیات اسلامی آمریکا تهیه مستنداتی حضور مسلمانان ایالات متحده کانادا گردیدمنابع1 AlAhari Muhammad Abdullah Muhammad Alexander Russel Webb The Minaret JanuaryFebruary 1992512 and a half dozen other articles to be added2 Muhammad Abdullah AlAhari Rudder translated by I Kasumović to Croatian Mogućnosti bilingvalnog metoda u nastavi historijski razvoj islama u Americi Islamska misao 13 156 str 3944 1991 Contains a biographic sketch that documents Muhammed alAharis studies of Islam in America3 httpswebarchiveorgweb20101222191323httpfountainmagazinecomarticlephpARTICLEID5744Svijest contains an articles Muhammed alAhari wrote on Bosnian cuisine Bosnian Coffeehouses and the history of Bosnian immigration to America One of the issues also contains a two page interview documenting Muhammed alAharis conversion to Islam and his documenting of the history of Islam in America5 httpswebarchiveorgweb20141129020533httpreocitiescomHeartlandWoods4623amexemtimesamexemtimes16html6 httpwwwiccgreaterchicagocom The newsletter is available in both print and online versions7 The conference proceedings were also videotaped and include two interviews of Muhammed alAhari that were broadcast on Canton One Television in Sarjevo in 20018 Contains the complete article in English with a summary in Turkish of the article The Use and Misuse of the Name Bektashism The article was expanded and published as the text Coal Painted Gold This also contains a brief biographic sketch of Muhammed alAhari that documents his research on Bektashism and Sufism9 httpwwwbosnjacinetprilogphppid22976 A Bosnian language review of the text 100 Godina Bošnjaka u Americi It includes a list of all contibutors10 httploibookstorewordpresscomcategorybookdiscussiongroup This is one book circle that chose Muhammead Alexander Russell Webbs Islam in America and Other Writings for one of their selections11 Dr Ronald Judy 1993 Disforming the American Canon AfricanArabic slave narratives Page 323 documents Muhammed alAharis translation of Arabic slave narratives and his work on the Bilali Muhammad text The second edition of Allan Austins African Muslims in Antebellum America transatlantic stories and spiritual struggles 1997 includes translations from Muhammed alAhari and thanks Muhammed for locating five manuscripts that were not in the first edition12 Muhammed alAhari Imam Adnan Balihodzic and Shaykh Kamil Avdich 2012 The Outline of Islam Northbrook Illinois Islamic Cultural Center of Greater Chicago Muhammed alAharis introduction is on page 51113 httpswebarchiveorgweb20110209091457httpzgbacacom This webpage contains information about the book promotion for the text The Outline of Islam'})), (345547, (('history', 56.30017576389568), {'url': 'https://fa.wikipedia.org/wiki?curid=2418775', 'title': 'توفیقپاشا', 'text': 'الخدیوی توفیق زاده ۱۵ نوامبر ۱۸۵۲ درگذشته یک سیاستمدار اهل مصر بودتوفیقپاشا محمد خدیو مصر خانواده محمدعلی پاشا توفیقپاشا ۱۲۶۸۱۸۵۲ مق دنیا آمد بزرگترین پسر خدیو اسماعیلپاشا گفتهای پسر کنیزان حرمسرا وجود وارث مسلم حکومت مصر گردید شرایط خاصش حدی آزار برادرانش میتوانستند خارج کشور تحصیل کنند مجبور خانه معلمان سنتی درس بیاموزد طرفی پدرش کاری امور عمومی عهده نمیگذاشت بیتوجه بارها تهدید کرده حکومت فرزند دیگرش واگذار عوامل باعث توفیق نسبتا خجول گوشهگیر ضعیف کینهتوز غمگین بیعلاقه منصب خدیوی بار آید د اسلام چاپ دوم ذیل ماده اطلاع بیشتر باره شخصیت رجوع کنید میلنر ص۱۳۴–۱۳۵ مقاومت اسماعیلپاشا برابر نفوذ تسلط روزافزون فرانسه انگلیس نظام مالی اداری مصر باعث نهایت اعمالنظر قدرت استعماری سلطان عثمانی عبدالحمید دوم حک ۱۲۵۳–۱۳۲۷ ۱۸۷۶–۱۹۰۹ سلطان ناگزیر خلع ۶ رجب ۱۲۹۶ ۲۶ ژوئن بدینترتیب توفیق بهجای پدر خدیوی رسید درینیک ص ۴۴ لوتسکی ص ۲۰۸ هانتر ص ۱۹۷ قبل رسیدن سمت یک بار اسماعیلپاشا اصرار بریتانیا فرانسه توفیق فردی منعطف سلطهپذیر میدانستندوی ۹ ربیعالاول ۱۲۹۷۹ مارس ۱۸۷۹ ریاست هیئت وزرا برگزیده لوتسکی ص۲۰۳ د اسلام همانجا البته بهسبب اختلاف اسماعیلپاشا اروپاییها توفیق مقام برکنار واتیکیوتیس ص ۱۳۸ توفیق آغاز حکومت مشکلات متعددی روبرو طرفی اروپاییها تکاپوی دستاندازی تمامی ذخایر کشور بودند نظارت فرانسه انگلیس سخت محدود کرده طرف ارتش آشفته ناراضی گرفتار اختلافات جبههبندی شدید ترکها چرکسها یکسو افسران مصری بومی متعلق طبقات فرودست اجتماعی سوی افزون زمینداران تاجران دیوانسالاران جدید قدرت بیشتری میخواستند واتیکیوتیس ص ۱۵۶–۱۵۷ پذیرش وزرای اروپایی سلطه مالی اروپاییها مصر تثبیت همان ص۱۳۳ سلطه آنان استقلال سیاسی نسبی مصر رفت هانتر همانجا توفیق ابتدای حکومت شریفپاشا تشکیل دولت دعوت شریفپاشا تدوین قانون اساسی جدید حداقل شرط پذیرش مسئولیت اعلام بدگمانی توفیق ترس یک مجلس قوی باعث پیشنهاد شریف نپذیرد نخستوزیر واتیکیوتیس ص۱۴۲ ۱۶ رمضان ۱۲۹۶۴ سپتامبر ۱۸۷۹ نظارت مالی دوگانه انگلیس فرانسه احیا اول ذیقعده۲۱ سپتامبر همان سال ریاضپاشا سرسپردگان بریتانیا نخستوزیری برگزید لوتسکی ص۲۰۸ ریاضپاشا دست اروپاییها نظارت امور مالی دادن اصلاحات مالی کاملا باز گذاشت واتیکیوتیس همانجا مرکز اصلی مقاومت برابر اروپاییها ارتشی تعداد زیادی افسر مصری آنان رهبران ترک حامیان غربی آنان مخالف بودند توانستند اولین جنبش ملیگرای مصر رهبری سرهنگ احمد عرابی عرابیپاشا تشکیل دهند درینیک همانجا ارتش اولین گام توفیق مجبور وزیر جنگ برکنار توفیق پذیرفت محمود سامی بارودی ملیگرا مشروطهخواه میانهرو مصری وزیر جنگ بعلاوه طی اعلامیهای تأکید آینده تمام افسران اعم ترک چرکس مصری باید یکسان رفتار بارینگ ج ۱ ص۱۸۱ توفیق محض فرونشستن هیجان نظامیان بارودی برکنار انتقام گرفتن رهبران ملیگرا پرداخت لوتسکی ص۲۱۲ قصد شر همه هنگهای انقلابی پادگان قاهره رها صدور فرمانی ۱۳ شوال ۱۲۹۸۹ سپتامبر ۱۸۸۱ کوشید هنگها جمله هنگ عرابیپاشا استانها منتقل همان ص۲۱۳–۲۱۷ همان روز سبب تظاهرات نظامیان برابر کاخ عابدین مجبور خواست یعنی برکناری ریاضپاشا انحلال کابینه بپذیرد رید ص۲۱۷–۲۱۸ شریفپاشا نخستوزیر ابتدا قبول مقام نخستوزیری عنوان نامزد ارتش شورشی خودداری میکرد ولی تحت فشار بریتانیا فرانسه سمت پذیرفت پی اقدامات شریفپاشا نفع بریتانیا فرانسه سبب بیتوجهی انقلابیون اقدام علیه نظامیان انقلابی عرابیپاشا آشکارا خودکامگی توفیق اطرافیانش اشراف ترک چرکس مخالفت برخاست لوتسکی همانجا فشار مردم ملیگرایان نهایتا مجلس اعیان شریفپاشا استعفا بارودی نخستوزیری رسید عرابی وزیر جنگ پی گسترش روزافزون نفوذ مبارزان ملیگرا توفیق شریفپاشا توطئه قتل عرابی طراحی کردند شکست مواجه ۲۳ جمادیالآخرة ۱۲۹۹ ۱۳ مه ۱۸۸۲ ملیگرایان قالب حزب الوطنی فعالیت میکردند اعضای مجلس اعیان جلسهای فرا خواندند خواستار خلع خدیو برچیدن سلسله محمدعلیپاشا شدند مجلس دودلی نشان نمایندگان توفیق حمایت کردند باوجود عرابی قدرت نفوذ زیاد برخوردار واقع فرمانروای مصر محسوب میشد توفیق مجلس غیرقانونی خواند خواستار انحلال کار موفق نشد ۶ رجب ۱۲۹۹ ۲۵ مه ۱۸۸۲ بریتانیا فرانسه رسما توفیق خواستند عرابی موقتا مصر اخراج همان ص۲۱۹–۲۲۱ توفیق سعی ایجاد شورش ناآرامی امکان حضور نیروهای خارجی فراهم هوشیاری عرابی مجبور قاهره ترک اسکندریه فرار آنجا تحت حفاظت ناوگان بریتانیا قرار گرفت کابینهای نظارت مستقیم تشکیل اسکندریه مرکز اتحاد انگلیس خدیو تبدیل بالاخره بریتانیا جنگ آغاز توفیق ۵ شوال ۱۲۹۹۲۲ ژوئیه ۱۸۸۲ مقام عرابی غیرقانونی خواند وزارت جنگ برکنار انگلیسیها عرابی شکست دادند قاهره اشغال کردند توفیق ۱۰ ذیحجة ۱۲۹۹۲۴ سپتامبر ۱۸۸۲ وارد قاهره لوتسکی ص۲۲۳ ۲۲۶ ۲۳۰ ۲۳۴ بدینترتیب مصر ۱۲۹۹۱۸۸۲ مستعمره بریتانیا ربیعالاول دسامبر همان سال سر اولین وود تحت فرمان افسران بریتانیا ارتش مصر تشکیل وجود مصر همچنان جزئی قلمرو عثمانی بهشمار میآمد نظام پرداخت باج خراج سالانه حکومت عثمانی محفوظ بریتانیا آغاز قول داده مصر بزودی تخلیه قول عمل نکرد ۱۳۰۱ ش۱۹۲۲ صورت قدرت اشغالگر موقت اعمال سلطه مصر ادامه همان ص ۲۴۱ دالی ص۲۳۹ ۲۴۰ وضع حقوقی مصر زمان اشغال انگلیسیها تغییر نکرد ولی قدرت واقعی دست سرکنسول بریتانیا لرد کرومر سر اولین بارینگ ۱۳۰۱ ۱۳۲۵ ۱۸۸۳–۱۹۰۷ سمت درینیک ص۴۱ دالی ص۲۴۰ هرچند شورای وزرای مصری ظاهر مسئولیت داشتند عمل مشاوران انگلیسی وزرا منصوب بودند نظر انگلیس باید پیروی میشد توفیق تاج تخت مدیون انگلیسیها میدانست کاملا مطیع آنان نخستوزیری برابر دخالتهای انگلیسیها مقاومت میکرد برکنار میشد دالی ص۲۴۱ ۱۳۰۱۱۸۸۳ اعضای مجلس شورا رأیگیری عمومی غیرمستقیم انتخاب میشدند هیچ نوع قدرت واقعی تصمیمگیری نظارت نداشتند درینیک ص۴۵ وضع اقتصادی مصر دوره آشکارا بریتانیا وابسته بدتر دالی ص۲۳۹ پادشاهی محمدتوفیق پاشا ۱۳۰۱۱۸۸۳ زمان مرگش ۱۳۱۰۱۸۹۲ نفوذ نیروی بریتانیا سرپا نگه داشته مجری اصلاحات اداری موردنظر بریتانیا نظر رهبران جنبش ضد بریتانیایی حاکمی ضعیف عامل انگلیسیها زمان انقلاب عرابی خائن قلمداد میشد نیروی بریتانیا قدرت احیا تحت فرمان رضایت حکومت واتیکیوتیس ص۲۰۰–۲۰۱ مرگ پایان عصر سلطه بریتانیا آغاز دورهای مخالفتهای شدیدتر مصریان استعمار انگلیسیها دالی ص۲۴۱ منابع ژان پیر درینیک خاورمیانه قرن بیستم ترجمة فرنگیس اردلان تهران ۱۳۶۸شEvelyn Baring Modern Egypt London 1908 M W DalyThe British occupation 18821922 in The Cambridge history of Egypt vol 2 ed by M W Daly Cambridge 1998 EI 2 sv Tawf ¦âk ¤Pasha Muh ¤ammad by D Hopwood F Robert Hunter Egypt under the successors of Muhammad Ali in The Cambridge history of Egypt vol 2 Vladimir B Lutskii Modern history of the Arab countries Moscow 1969 Alfred Milner England in Egypt London 1986 Donald Malcolm Reid The Urabi revolution and the British conquest 18791882 in The Cambridge history of Egypt vol 2 P J Vatikiotis The history of modern Egypt Baltimore Maryland 1992'}))]\n"
          ]
        }
      ],
      "source": [
        "results_infomation = search_query(\"history\")\n"
      ]
    }
  ],
  "metadata": {
    "colab": {
      "collapsed_sections": [],
      "provenance": []
    },
    "kernelspec": {
      "display_name": "Python 3.10.6 64-bit",
      "language": "python",
      "name": "python3"
    },
    "language_info": {
      "codemirror_mode": {
        "name": "ipython",
        "version": 3
      },
      "file_extension": ".py",
      "mimetype": "text/x-python",
      "name": "python",
      "nbconvert_exporter": "python",
      "pygments_lexer": "ipython3",
      "version": "3.10.6"
    },
    "name": "SUT - Data Mining Spark Exercise",
    "notebookId": 3958686303135329,
    "toc": {
      "base_numbering": 1,
      "nav_menu": {},
      "number_sections": true,
      "sideBar": true,
      "skip_h1_title": false,
      "title_cell": "Table of Contents",
      "title_sidebar": "Contents",
      "toc_cell": false,
      "toc_position": {},
      "toc_section_display": true,
      "toc_window_display": false
    },
    "vscode": {
      "interpreter": {
        "hash": "916dbcbb3f70747c44a77c7bcd40155683ae19c65e1c03b4aa3499c5328201f1"
      }
    }
  },
  "nbformat": 4,
  "nbformat_minor": 0
}
